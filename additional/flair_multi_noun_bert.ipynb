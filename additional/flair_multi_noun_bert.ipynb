{
  "cells": [
    {
      "cell_type": "code",
      "execution_count": null,
      "metadata": {},
      "outputs": [],
      "source": [
        "# %pip install flair flair[word-embeddings]"
      ]
    },
    {
      "cell_type": "code",
      "execution_count": 1,
      "metadata": {
        "id": "RgnoClCLDuws"
      },
      "outputs": [
        {
          "name": "stderr",
          "output_type": "stream",
          "text": [
            "c:\\Users\\User\\Documents\\Code\\env\\lib\\site-packages\\tqdm\\auto.py:21: TqdmWarning: IProgress not found. Please update jupyter and ipywidgets. See https://ipywidgets.readthedocs.io/en/stable/user_install.html\n",
            "  from .autonotebook import tqdm as notebook_tqdm\n"
          ]
        }
      ],
      "source": [
        "from flair.datasets import UD_INDONESIAN, UD_ENGLISH\n",
        "from flair.embeddings import TransformerWordEmbeddings\n",
        "from flair.models import SequenceTagger\n",
        "from flair.trainers import ModelTrainer\n",
        "from typing import List"
      ]
    },
    {
      "cell_type": "code",
      "execution_count": 2,
      "metadata": {
        "colab": {
          "base_uri": "https://localhost:8080/"
        },
        "id": "dWKEj9WoD8lN",
        "outputId": "2a5387e0-975e-468b-ddcd-09464459fda5"
      },
      "outputs": [
        {
          "name": "stdout",
          "output_type": "stream",
          "text": [
            "2024-12-26 11:42:08,070 Reading data from C:\\Users\\User\\.flair\\datasets\\ud_indonesian\n",
            "2024-12-26 11:42:08,072 Train: C:\\Users\\User\\.flair\\datasets\\ud_indonesian\\id_gsd-ud-train.conllu\n",
            "2024-12-26 11:42:08,072 Dev: C:\\Users\\User\\.flair\\datasets\\ud_indonesian\\id_gsd-ud-dev.conllu\n",
            "2024-12-26 11:42:08,072 Test: C:\\Users\\User\\.flair\\datasets\\ud_indonesian\\id_gsd-ud-test.conllu\n"
          ]
        },
        {
          "data": {
            "text/plain": [
              "<flair.datasets.treebanks.UD_INDONESIAN at 0x1b28823bbe0>"
            ]
          },
          "execution_count": 2,
          "metadata": {},
          "output_type": "execute_result"
        }
      ],
      "source": [
        "corpus_id = UD_INDONESIAN()\n",
        "corpus_id"
      ]
    },
    {
      "cell_type": "code",
      "execution_count": 3,
      "metadata": {
        "colab": {
          "base_uri": "https://localhost:8080/"
        },
        "id": "8H0Hw9E0D91e",
        "outputId": "ace73568-63dd-4f1e-f44c-631d86485ea3"
      },
      "outputs": [
        {
          "name": "stdout",
          "output_type": "stream",
          "text": [
            "2024-12-26 11:42:12,439 Computing label dictionary. Progress:\n"
          ]
        },
        {
          "name": "stderr",
          "output_type": "stream",
          "text": [
            "0it [00:00, ?it/s]\n",
            "4482it [00:00, 30779.98it/s]"
          ]
        },
        {
          "name": "stdout",
          "output_type": "stream",
          "text": [
            "2024-12-26 11:42:12,593 Dictionary created for label 'upos' with 17 values: NOUN (seen 21164 times), PROPN (seen 17934 times), PUNCT (seen 13922 times), VERB (seen 9940 times), ADP (seen 9075 times), PRON (seen 5120 times), ADJ (seen 3798 times), NUM (seen 3478 times), DET (seen 2924 times), CCONJ (seen 2867 times), ADV (seen 2852 times), AUX (seen 1786 times), SCONJ (seen 1653 times), PART (seen 837 times), SYM (seen 132 times), X (seen 117 times), INTJ (seen 3 times)\n",
            "Dictionary with 17 tags: NOUN, PROPN, PUNCT, VERB, ADP, PRON, ADJ, NUM, DET, CCONJ, ADV, AUX, SCONJ, PART, SYM, X, INTJ\n"
          ]
        },
        {
          "name": "stderr",
          "output_type": "stream",
          "text": [
            "\n"
          ]
        }
      ],
      "source": [
        "label_dict = corpus_id.make_label_dictionary(label_type='upos')\n",
        "print(label_dict)"
      ]
    },
    {
      "cell_type": "code",
      "execution_count": 4,
      "metadata": {
        "colab": {
          "base_uri": "https://localhost:8080/",
          "height": 281,
          "referenced_widgets": [
            "008125299a564761bfae4e2c8762e45d",
            "1bc80b720e1b4351bb6120bbbc965fdf",
            "be21cf4aa2394d3fba12efdef3a9a8c9",
            "5085f444f70d460a9dc1d91e3740ca4f",
            "4176080d41514a8cb527601e6358a39b",
            "31e68cb6fdbd4345ab119d32c31694ed",
            "5b6733ddf6fc43bca700b773e305ca61",
            "8af62e48015e4c1a9ecf364d5eff1fe2",
            "5469d499423e4b989ba7b00d83803ee6",
            "be498f296b6b444dafc362046879c886",
            "dc635a711d244bc18b73c88313d2f2de",
            "ea09c41239cc4141bddac9382935e7fe",
            "3a226f800771485f8517f0e1cd17f7a4",
            "5063b6afd9bf454db4786af6afa00260",
            "37671d41298e4e04a2278b7f11245048",
            "45252eaf49774862a360f7a3be8d5db7",
            "1f6e0e155d3b495c9feb6ec5e89406d1",
            "b616278cfc924bda941512852e5abd0c",
            "6e58aa21e2124918b8d6f79951aa1b1a",
            "7aee0a7afca24a3ab8dc69f3d7a2b7e7",
            "b747737655cd47e48811031c507234b8",
            "1be579aa3f5049ea8c1de0d98779465a",
            "288d2498bf4d4642a97812aa710635f0",
            "501910e5680d44b2870db9b42c3ecd6f",
            "9d2c70ee87fa480dbffc14f7065c2769",
            "3437a58e084140fdb3e77787df7702b0",
            "5e9da8db188a49c7a5d7da3d96852393",
            "e9d74a4f2e8b47aa8dc89ae823deea5f",
            "0a34cf1d67ac4f24acda9cb86bd1db10",
            "98e2d0795cc049fdb9bccffcce707c77",
            "340b7ec5050846a68c974b6d89f71dff",
            "79e9990594164efab3098b34554c080f",
            "134feb4e7e1544bab7a771fb22a9913b",
            "9faf39a9c9674649b0bc2f41987a8d4e",
            "fd0d6112699544f78c3c0c39b947c4e6",
            "2e1337c5e708471293af5e35a7f7bbfb",
            "1b9495f3cc9147afb564f52cb947baad",
            "ddbaf109b28349cf984be25f5523818d",
            "b447d2cfecf649a387f8ad9e3c4aa785",
            "10ce360014ee4a71b408e6099f69f2ae",
            "7d923c4c61e04a7998f27dfdf12f2ba8",
            "1deb4dbac4d74dfaa86bc04ea4b1cc36",
            "9454316d95e646579b2ce4bb8ac270ae",
            "05b331bd76c24e17885681bbf2cc2a08",
            "c2b60e8260514d79876a960cb6a16738",
            "388c771001ab42f988e25f687d3803d5",
            "fe74250e9fc349029981c00abb4182b9",
            "574964546fb644bea56c644ebab04c6c",
            "02b9ec553ef242c09b7a64a638eb8210",
            "5248bfe88d0244898447ac665f194d48",
            "36d1ed47ad184e1990098a2816fb9bed",
            "3993f6937c3e44909382ad0c93c43a82",
            "fc52148c98e84df88034589640aefcd8",
            "9c77c5fbb448420abde258398f1d96ac",
            "85ef164601a247378dd7a3b75f2342f9"
          ]
        },
        "id": "wa_owL1OEDKd",
        "outputId": "50873f01-426e-4ace-de44-d06df4b4576b"
      },
      "outputs": [],
      "source": [
        "embeddings = TransformerWordEmbeddings('bert-base-multilingual-cased')"
      ]
    },
    {
      "cell_type": "code",
      "execution_count": 5,
      "metadata": {
        "colab": {
          "base_uri": "https://localhost:8080/"
        },
        "id": "7AWgL0iVEEwe",
        "outputId": "fd474d22-3419-4c3d-aa40-8d51a8d3f15e"
      },
      "outputs": [
        {
          "name": "stdout",
          "output_type": "stream",
          "text": [
            "2024-12-26 11:42:14,427 SequenceTagger predicts: Dictionary with 17 tags: NOUN, PROPN, PUNCT, VERB, ADP, PRON, ADJ, NUM, DET, CCONJ, ADV, AUX, SCONJ, PART, SYM, X, INTJ\n"
          ]
        }
      ],
      "source": [
        "model = SequenceTagger(hidden_size=256,\n",
        "                        embeddings=embeddings,\n",
        "                        tag_dictionary=label_dict,\n",
        "                        tag_type='upos',\n",
        "                        use_crf=True)"
      ]
    },
    {
      "cell_type": "code",
      "execution_count": 6,
      "metadata": {
        "id": "InETCjmnEFpN"
      },
      "outputs": [],
      "source": [
        "trainer = ModelTrainer(model, corpus_id)"
      ]
    },
    {
      "cell_type": "code",
      "execution_count": 7,
      "metadata": {
        "colab": {
          "base_uri": "https://localhost:8080/"
        },
        "id": "_qTZ5XO-EGwe",
        "outputId": "6b536ef0-bd67-4936-b659-69381c8b5490"
      },
      "outputs": [
        {
          "name": "stdout",
          "output_type": "stream",
          "text": [
            "2024-12-26 11:42:16,018 ----------------------------------------------------------------------------------------------------\n",
            "2024-12-26 11:42:16,019 Model: \"SequenceTagger(\n",
            "  (embeddings): TransformerWordEmbeddings(\n",
            "    (model): BertModel(\n",
            "      (embeddings): BertEmbeddings(\n",
            "        (word_embeddings): Embedding(119548, 768, padding_idx=0)\n",
            "        (position_embeddings): Embedding(512, 768)\n",
            "        (token_type_embeddings): Embedding(2, 768)\n",
            "        (LayerNorm): LayerNorm((768,), eps=1e-12, elementwise_affine=True)\n",
            "        (dropout): Dropout(p=0.1, inplace=False)\n",
            "      )\n",
            "      (encoder): BertEncoder(\n",
            "        (layer): ModuleList(\n",
            "          (0-11): 12 x BertLayer(\n",
            "            (attention): BertAttention(\n",
            "              (self): BertSdpaSelfAttention(\n",
            "                (query): Linear(in_features=768, out_features=768, bias=True)\n",
            "                (key): Linear(in_features=768, out_features=768, bias=True)\n",
            "                (value): Linear(in_features=768, out_features=768, bias=True)\n",
            "                (dropout): Dropout(p=0.1, inplace=False)\n",
            "              )\n",
            "              (output): BertSelfOutput(\n",
            "                (dense): Linear(in_features=768, out_features=768, bias=True)\n",
            "                (LayerNorm): LayerNorm((768,), eps=1e-12, elementwise_affine=True)\n",
            "                (dropout): Dropout(p=0.1, inplace=False)\n",
            "              )\n",
            "            )\n",
            "            (intermediate): BertIntermediate(\n",
            "              (dense): Linear(in_features=768, out_features=3072, bias=True)\n",
            "              (intermediate_act_fn): GELUActivation()\n",
            "            )\n",
            "            (output): BertOutput(\n",
            "              (dense): Linear(in_features=3072, out_features=768, bias=True)\n",
            "              (LayerNorm): LayerNorm((768,), eps=1e-12, elementwise_affine=True)\n",
            "              (dropout): Dropout(p=0.1, inplace=False)\n",
            "            )\n",
            "          )\n",
            "        )\n",
            "      )\n",
            "      (pooler): BertPooler(\n",
            "        (dense): Linear(in_features=768, out_features=768, bias=True)\n",
            "        (activation): Tanh()\n",
            "      )\n",
            "    )\n",
            "  )\n",
            "  (word_dropout): WordDropout(p=0.05)\n",
            "  (locked_dropout): LockedDropout(p=0.5)\n",
            "  (embedding2nn): Linear(in_features=768, out_features=768, bias=True)\n",
            "  (rnn): LSTM(768, 256, batch_first=True, bidirectional=True)\n",
            "  (linear): Linear(in_features=512, out_features=19, bias=True)\n",
            "  (loss_function): ViterbiLoss()\n",
            "  (crf): CRF()\n",
            ")\"\n",
            "2024-12-26 11:42:16,020 ----------------------------------------------------------------------------------------------------\n",
            "2024-12-26 11:42:16,021 Corpus: 4482 train + 559 dev + 557 test sentences\n",
            "2024-12-26 11:42:16,022 ----------------------------------------------------------------------------------------------------\n",
            "2024-12-26 11:42:16,022 Train:  4482 sentences\n",
            "2024-12-26 11:42:16,023         (train_with_dev=False, train_with_test=False)\n",
            "2024-12-26 11:42:16,024 ----------------------------------------------------------------------------------------------------\n",
            "2024-12-26 11:42:16,024 Training Params:\n",
            "2024-12-26 11:42:16,025  - learning_rate: \"0.1\" \n",
            "2024-12-26 11:42:16,025  - mini_batch_size: \"32\"\n",
            "2024-12-26 11:42:16,026  - max_epochs: \"20\"\n",
            "2024-12-26 11:42:16,026  - shuffle: \"True\"\n",
            "2024-12-26 11:42:16,027 ----------------------------------------------------------------------------------------------------\n",
            "2024-12-26 11:42:16,027 Plugins:\n",
            "2024-12-26 11:42:16,028  - AnnealOnPlateau | patience: '3', anneal_factor: '0.5', min_learning_rate: '0.0001'\n",
            "2024-12-26 11:42:16,028 ----------------------------------------------------------------------------------------------------\n",
            "2024-12-26 11:42:16,029 Final evaluation on model from best epoch (best-model.pt)\n",
            "2024-12-26 11:42:16,029  - metric: \"('micro avg', 'f1-score')\"\n",
            "2024-12-26 11:42:16,030 ----------------------------------------------------------------------------------------------------\n",
            "2024-12-26 11:42:16,030 Computation:\n",
            "2024-12-26 11:42:16,031  - compute on device: cuda:0\n",
            "2024-12-26 11:42:16,032  - embedding storage: cpu\n",
            "2024-12-26 11:42:16,034 ----------------------------------------------------------------------------------------------------\n",
            "2024-12-26 11:42:16,034 Model training base path: \"..\\resources\\taggers\\bert-id-upos\"\n",
            "2024-12-26 11:42:16,035 ----------------------------------------------------------------------------------------------------\n",
            "2024-12-26 11:42:16,036 ----------------------------------------------------------------------------------------------------\n"
          ]
        },
        {
          "name": "stderr",
          "output_type": "stream",
          "text": [
            "c:\\Users\\User\\Documents\\Code\\env\\lib\\site-packages\\flair\\trainers\\trainer.py:545: FutureWarning: `torch.cuda.amp.GradScaler(args...)` is deprecated. Please use `torch.amp.GradScaler('cuda', args...)` instead.\n",
            "  scaler = torch.cuda.amp.GradScaler(enabled=use_amp and flair.device.type != \"cpu\")\n",
            "c:\\Users\\User\\Documents\\Code\\env\\lib\\site-packages\\transformers\\models\\bert\\modeling_bert.py:440: UserWarning: 1Torch was not compiled with flash attention. (Triggered internally at C:\\actions-runner\\_work\\pytorch\\pytorch\\builder\\windows\\pytorch\\aten\\src\\ATen\\native\\transformers\\cuda\\sdp_utils.cpp:555.)\n",
            "  attn_output = torch.nn.functional.scaled_dot_product_attention(\n"
          ]
        },
        {
          "name": "stdout",
          "output_type": "stream",
          "text": [
            "2024-12-26 11:42:23,123 epoch 1 - iter 14/141 - loss 3.11835751 - time (sec): 7.09 - samples/sec: 1381.29 - lr: 0.100000 - momentum: 0.000000\n",
            "2024-12-26 11:42:29,272 epoch 1 - iter 28/141 - loss 2.79836146 - time (sec): 13.24 - samples/sec: 1490.88 - lr: 0.100000 - momentum: 0.000000\n",
            "2024-12-26 11:42:35,756 epoch 1 - iter 42/141 - loss 2.45592320 - time (sec): 19.72 - samples/sec: 1509.58 - lr: 0.100000 - momentum: 0.000000\n",
            "2024-12-26 11:42:42,450 epoch 1 - iter 56/141 - loss 2.18514510 - time (sec): 26.41 - samples/sec: 1482.92 - lr: 0.100000 - momentum: 0.000000\n",
            "2024-12-26 11:42:48,795 epoch 1 - iter 70/141 - loss 1.97067653 - time (sec): 32.76 - samples/sec: 1493.49 - lr: 0.100000 - momentum: 0.000000\n",
            "2024-12-26 11:42:54,796 epoch 1 - iter 84/141 - loss 1.79687324 - time (sec): 38.76 - samples/sec: 1515.69 - lr: 0.100000 - momentum: 0.000000\n",
            "2024-12-26 11:43:00,875 epoch 1 - iter 98/141 - loss 1.65751395 - time (sec): 44.84 - samples/sec: 1523.66 - lr: 0.100000 - momentum: 0.000000\n",
            "2024-12-26 11:43:06,869 epoch 1 - iter 112/141 - loss 1.53795104 - time (sec): 50.83 - samples/sec: 1537.58 - lr: 0.100000 - momentum: 0.000000\n",
            "2024-12-26 11:43:13,376 epoch 1 - iter 126/141 - loss 1.43906021 - time (sec): 57.34 - samples/sec: 1534.17 - lr: 0.100000 - momentum: 0.000000\n",
            "2024-12-26 11:43:19,369 epoch 1 - iter 140/141 - loss 1.35684280 - time (sec): 63.33 - samples/sec: 1540.58 - lr: 0.100000 - momentum: 0.000000\n",
            "2024-12-26 11:43:19,607 ----------------------------------------------------------------------------------------------------\n",
            "2024-12-26 11:43:19,607 EPOCH 1 done: loss 1.3565 - lr: 0.100000\n"
          ]
        },
        {
          "name": "stderr",
          "output_type": "stream",
          "text": [
            "100%|██████████| 9/9 [00:04<00:00,  1.88it/s]"
          ]
        },
        {
          "name": "stdout",
          "output_type": "stream",
          "text": [
            "2024-12-26 11:43:24,485 DEV : loss 0.4095034599304199 - f1-score (micro avg)  0.8957\n",
            "2024-12-26 11:43:24,508  - 0 epochs without improvement\n",
            "2024-12-26 11:43:24,510 saving best model\n"
          ]
        },
        {
          "name": "stderr",
          "output_type": "stream",
          "text": [
            "\n"
          ]
        },
        {
          "name": "stdout",
          "output_type": "stream",
          "text": [
            "2024-12-26 11:43:25,395 ----------------------------------------------------------------------------------------------------\n",
            "2024-12-26 11:43:31,940 epoch 2 - iter 14/141 - loss 0.57703720 - time (sec): 6.54 - samples/sec: 1592.74 - lr: 0.100000 - momentum: 0.000000\n",
            "2024-12-26 11:43:37,760 epoch 2 - iter 28/141 - loss 0.55506335 - time (sec): 12.36 - samples/sec: 1641.59 - lr: 0.100000 - momentum: 0.000000\n",
            "2024-12-26 11:43:45,039 epoch 2 - iter 42/141 - loss 0.53596278 - time (sec): 19.64 - samples/sec: 1554.67 - lr: 0.100000 - momentum: 0.000000\n",
            "2024-12-26 11:43:51,389 epoch 2 - iter 56/141 - loss 0.52720798 - time (sec): 25.99 - samples/sec: 1548.06 - lr: 0.100000 - momentum: 0.000000\n",
            "2024-12-26 11:43:57,658 epoch 2 - iter 70/141 - loss 0.52118697 - time (sec): 32.26 - samples/sec: 1541.30 - lr: 0.100000 - momentum: 0.000000\n",
            "2024-12-26 11:44:03,109 epoch 2 - iter 84/141 - loss 0.51410493 - time (sec): 37.71 - samples/sec: 1559.76 - lr: 0.100000 - momentum: 0.000000\n",
            "2024-12-26 11:44:08,724 epoch 2 - iter 98/141 - loss 0.50725421 - time (sec): 43.33 - samples/sec: 1577.15 - lr: 0.100000 - momentum: 0.000000\n",
            "2024-12-26 11:44:15,756 epoch 2 - iter 112/141 - loss 0.50329497 - time (sec): 50.36 - samples/sec: 1559.21 - lr: 0.100000 - momentum: 0.000000\n",
            "2024-12-26 11:44:22,835 epoch 2 - iter 126/141 - loss 0.50007373 - time (sec): 57.44 - samples/sec: 1537.31 - lr: 0.100000 - momentum: 0.000000\n",
            "2024-12-26 11:44:28,716 epoch 2 - iter 140/141 - loss 0.49304835 - time (sec): 63.32 - samples/sec: 1540.87 - lr: 0.100000 - momentum: 0.000000\n",
            "2024-12-26 11:44:28,937 ----------------------------------------------------------------------------------------------------\n",
            "2024-12-26 11:44:28,938 EPOCH 2 done: loss 0.4930 - lr: 0.100000\n"
          ]
        },
        {
          "name": "stderr",
          "output_type": "stream",
          "text": [
            "100%|██████████| 9/9 [00:02<00:00,  4.21it/s]\n"
          ]
        },
        {
          "name": "stdout",
          "output_type": "stream",
          "text": [
            "2024-12-26 11:44:31,155 DEV : loss 0.3620067238807678 - f1-score (micro avg)  0.9121\n",
            "2024-12-26 11:44:31,182  - 0 epochs without improvement\n",
            "2024-12-26 11:44:31,183 saving best model\n",
            "2024-12-26 11:44:32,154 ----------------------------------------------------------------------------------------------------\n",
            "2024-12-26 11:44:38,053 epoch 3 - iter 14/141 - loss 0.41719208 - time (sec): 5.90 - samples/sec: 1567.12 - lr: 0.100000 - momentum: 0.000000\n",
            "2024-12-26 11:44:43,714 epoch 3 - iter 28/141 - loss 0.41831850 - time (sec): 11.56 - samples/sec: 1618.88 - lr: 0.100000 - momentum: 0.000000\n",
            "2024-12-26 11:44:49,922 epoch 3 - iter 42/141 - loss 0.41047719 - time (sec): 17.77 - samples/sec: 1610.49 - lr: 0.100000 - momentum: 0.000000\n",
            "2024-12-26 11:44:55,565 epoch 3 - iter 56/141 - loss 0.40581932 - time (sec): 23.41 - samples/sec: 1628.91 - lr: 0.100000 - momentum: 0.000000\n",
            "2024-12-26 11:45:02,870 epoch 3 - iter 70/141 - loss 0.40773769 - time (sec): 30.71 - samples/sec: 1564.33 - lr: 0.100000 - momentum: 0.000000\n",
            "2024-12-26 11:45:08,770 epoch 3 - iter 84/141 - loss 0.40560642 - time (sec): 36.61 - samples/sec: 1576.85 - lr: 0.100000 - momentum: 0.000000\n",
            "2024-12-26 11:45:15,552 epoch 3 - iter 98/141 - loss 0.40329089 - time (sec): 43.40 - samples/sec: 1549.85 - lr: 0.100000 - momentum: 0.000000\n",
            "2024-12-26 11:45:22,309 epoch 3 - iter 112/141 - loss 0.39970750 - time (sec): 50.15 - samples/sec: 1534.99 - lr: 0.100000 - momentum: 0.000000\n",
            "2024-12-26 11:45:29,202 epoch 3 - iter 126/141 - loss 0.39936966 - time (sec): 57.05 - samples/sec: 1532.88 - lr: 0.100000 - momentum: 0.000000\n",
            "2024-12-26 11:45:35,883 epoch 3 - iter 140/141 - loss 0.39789670 - time (sec): 63.73 - samples/sec: 1531.04 - lr: 0.100000 - momentum: 0.000000\n",
            "2024-12-26 11:45:36,107 ----------------------------------------------------------------------------------------------------\n",
            "2024-12-26 11:45:36,108 EPOCH 3 done: loss 0.3979 - lr: 0.100000\n"
          ]
        },
        {
          "name": "stderr",
          "output_type": "stream",
          "text": [
            "100%|██████████| 9/9 [00:02<00:00,  3.34it/s]\n"
          ]
        },
        {
          "name": "stdout",
          "output_type": "stream",
          "text": [
            "2024-12-26 11:45:38,883 DEV : loss 0.3670254349708557 - f1-score (micro avg)  0.9122\n",
            "2024-12-26 11:45:38,909  - 0 epochs without improvement\n",
            "2024-12-26 11:45:38,910 saving best model\n",
            "2024-12-26 11:45:39,929 ----------------------------------------------------------------------------------------------------\n",
            "2024-12-26 11:45:46,316 epoch 4 - iter 14/141 - loss 0.33927096 - time (sec): 6.39 - samples/sec: 1546.31 - lr: 0.100000 - momentum: 0.000000\n",
            "2024-12-26 11:45:52,531 epoch 4 - iter 28/141 - loss 0.35873542 - time (sec): 12.60 - samples/sec: 1532.96 - lr: 0.100000 - momentum: 0.000000\n",
            "2024-12-26 11:45:58,750 epoch 4 - iter 42/141 - loss 0.34801062 - time (sec): 18.82 - samples/sec: 1552.12 - lr: 0.100000 - momentum: 0.000000\n",
            "2024-12-26 11:46:04,944 epoch 4 - iter 56/141 - loss 0.34888951 - time (sec): 25.01 - samples/sec: 1553.89 - lr: 0.100000 - momentum: 0.000000\n",
            "2024-12-26 11:46:11,350 epoch 4 - iter 70/141 - loss 0.34506122 - time (sec): 31.42 - samples/sec: 1558.77 - lr: 0.100000 - momentum: 0.000000\n",
            "2024-12-26 11:46:17,752 epoch 4 - iter 84/141 - loss 0.34124567 - time (sec): 37.82 - samples/sec: 1549.42 - lr: 0.100000 - momentum: 0.000000\n",
            "2024-12-26 11:46:24,132 epoch 4 - iter 98/141 - loss 0.34252139 - time (sec): 44.20 - samples/sec: 1542.97 - lr: 0.100000 - momentum: 0.000000\n",
            "2024-12-26 11:46:30,585 epoch 4 - iter 112/141 - loss 0.33917923 - time (sec): 50.65 - samples/sec: 1539.40 - lr: 0.100000 - momentum: 0.000000\n",
            "2024-12-26 11:46:38,477 epoch 4 - iter 126/141 - loss 0.33947560 - time (sec): 58.55 - samples/sec: 1505.30 - lr: 0.100000 - momentum: 0.000000\n",
            "2024-12-26 11:46:44,542 epoch 4 - iter 140/141 - loss 0.34040578 - time (sec): 64.61 - samples/sec: 1510.13 - lr: 0.100000 - momentum: 0.000000\n",
            "2024-12-26 11:46:44,706 ----------------------------------------------------------------------------------------------------\n",
            "2024-12-26 11:46:44,706 EPOCH 4 done: loss 0.3403 - lr: 0.100000\n"
          ]
        },
        {
          "name": "stderr",
          "output_type": "stream",
          "text": [
            "100%|██████████| 9/9 [00:02<00:00,  4.18it/s]\n"
          ]
        },
        {
          "name": "stdout",
          "output_type": "stream",
          "text": [
            "2024-12-26 11:46:46,947 DEV : loss 0.37020641565322876 - f1-score (micro avg)  0.9131\n",
            "2024-12-26 11:46:46,973  - 0 epochs without improvement\n",
            "2024-12-26 11:46:46,974 saving best model\n",
            "2024-12-26 11:46:48,019 ----------------------------------------------------------------------------------------------------\n",
            "2024-12-26 11:46:54,652 epoch 5 - iter 14/141 - loss 0.31338847 - time (sec): 6.63 - samples/sec: 1465.32 - lr: 0.100000 - momentum: 0.000000\n",
            "2024-12-26 11:47:00,437 epoch 5 - iter 28/141 - loss 0.30462877 - time (sec): 12.42 - samples/sec: 1541.46 - lr: 0.100000 - momentum: 0.000000\n",
            "2024-12-26 11:47:06,577 epoch 5 - iter 42/141 - loss 0.29829384 - time (sec): 18.56 - samples/sec: 1546.56 - lr: 0.100000 - momentum: 0.000000\n",
            "2024-12-26 11:47:13,344 epoch 5 - iter 56/141 - loss 0.29927399 - time (sec): 25.32 - samples/sec: 1536.36 - lr: 0.100000 - momentum: 0.000000\n",
            "2024-12-26 11:47:19,977 epoch 5 - iter 70/141 - loss 0.30322607 - time (sec): 31.96 - samples/sec: 1523.52 - lr: 0.100000 - momentum: 0.000000\n",
            "2024-12-26 11:47:26,716 epoch 5 - iter 84/141 - loss 0.30082263 - time (sec): 38.70 - samples/sec: 1519.09 - lr: 0.100000 - momentum: 0.000000\n",
            "2024-12-26 11:47:32,407 epoch 5 - iter 98/141 - loss 0.29803961 - time (sec): 44.39 - samples/sec: 1543.28 - lr: 0.100000 - momentum: 0.000000\n",
            "2024-12-26 11:47:39,557 epoch 5 - iter 112/141 - loss 0.29746045 - time (sec): 51.54 - samples/sec: 1521.13 - lr: 0.100000 - momentum: 0.000000\n",
            "2024-12-26 11:47:46,260 epoch 5 - iter 126/141 - loss 0.29792178 - time (sec): 58.24 - samples/sec: 1506.72 - lr: 0.100000 - momentum: 0.000000\n",
            "2024-12-26 11:47:52,962 epoch 5 - iter 140/141 - loss 0.29739593 - time (sec): 64.94 - samples/sec: 1502.69 - lr: 0.100000 - momentum: 0.000000\n",
            "2024-12-26 11:47:53,164 ----------------------------------------------------------------------------------------------------\n",
            "2024-12-26 11:47:53,165 EPOCH 5 done: loss 0.2975 - lr: 0.100000\n"
          ]
        },
        {
          "name": "stderr",
          "output_type": "stream",
          "text": [
            "100%|██████████| 9/9 [00:02<00:00,  4.26it/s]\n"
          ]
        },
        {
          "name": "stdout",
          "output_type": "stream",
          "text": [
            "2024-12-26 11:47:55,359 DEV : loss 0.3648667633533478 - f1-score (micro avg)  0.9146\n",
            "2024-12-26 11:47:55,386  - 0 epochs without improvement\n",
            "2024-12-26 11:47:55,388 saving best model\n",
            "2024-12-26 11:47:56,418 ----------------------------------------------------------------------------------------------------\n",
            "2024-12-26 11:48:03,065 epoch 6 - iter 14/141 - loss 0.26126575 - time (sec): 6.65 - samples/sec: 1501.41 - lr: 0.100000 - momentum: 0.000000\n",
            "2024-12-26 11:48:09,678 epoch 6 - iter 28/141 - loss 0.26179872 - time (sec): 13.26 - samples/sec: 1460.31 - lr: 0.100000 - momentum: 0.000000\n",
            "2024-12-26 11:48:16,004 epoch 6 - iter 42/141 - loss 0.26092196 - time (sec): 19.58 - samples/sec: 1471.99 - lr: 0.100000 - momentum: 0.000000\n",
            "2024-12-26 11:48:21,905 epoch 6 - iter 56/141 - loss 0.26589757 - time (sec): 25.49 - samples/sec: 1496.24 - lr: 0.100000 - momentum: 0.000000\n",
            "2024-12-26 11:48:27,950 epoch 6 - iter 70/141 - loss 0.26854960 - time (sec): 31.53 - samples/sec: 1525.64 - lr: 0.100000 - momentum: 0.000000\n",
            "2024-12-26 11:48:35,195 epoch 6 - iter 84/141 - loss 0.27354377 - time (sec): 38.78 - samples/sec: 1500.57 - lr: 0.100000 - momentum: 0.000000\n",
            "2024-12-26 11:48:42,190 epoch 6 - iter 98/141 - loss 0.27234678 - time (sec): 45.77 - samples/sec: 1492.90 - lr: 0.100000 - momentum: 0.000000\n",
            "2024-12-26 11:48:48,535 epoch 6 - iter 112/141 - loss 0.27163749 - time (sec): 52.12 - samples/sec: 1503.69 - lr: 0.100000 - momentum: 0.000000\n",
            "2024-12-26 11:48:55,047 epoch 6 - iter 126/141 - loss 0.27069520 - time (sec): 58.63 - samples/sec: 1502.67 - lr: 0.100000 - momentum: 0.000000\n",
            "2024-12-26 11:49:01,375 epoch 6 - iter 140/141 - loss 0.27172190 - time (sec): 64.96 - samples/sec: 1502.17 - lr: 0.100000 - momentum: 0.000000\n",
            "2024-12-26 11:49:01,645 ----------------------------------------------------------------------------------------------------\n",
            "2024-12-26 11:49:01,646 EPOCH 6 done: loss 0.2717 - lr: 0.100000\n"
          ]
        },
        {
          "name": "stderr",
          "output_type": "stream",
          "text": [
            "100%|██████████| 9/9 [00:02<00:00,  4.25it/s]\n"
          ]
        },
        {
          "name": "stdout",
          "output_type": "stream",
          "text": [
            "2024-12-26 11:49:03,842 DEV : loss 0.37768933176994324 - f1-score (micro avg)  0.9138\n",
            "2024-12-26 11:49:03,869  - 1 epochs without improvement\n",
            "2024-12-26 11:49:03,870 ----------------------------------------------------------------------------------------------------\n",
            "2024-12-26 11:49:10,055 epoch 7 - iter 14/141 - loss 0.23414835 - time (sec): 6.18 - samples/sec: 1553.70 - lr: 0.100000 - momentum: 0.000000\n",
            "2024-12-26 11:49:17,709 epoch 7 - iter 28/141 - loss 0.24519226 - time (sec): 13.84 - samples/sec: 1438.31 - lr: 0.100000 - momentum: 0.000000\n",
            "2024-12-26 11:49:24,159 epoch 7 - iter 42/141 - loss 0.24662816 - time (sec): 20.29 - samples/sec: 1450.54 - lr: 0.100000 - momentum: 0.000000\n",
            "2024-12-26 11:49:30,862 epoch 7 - iter 56/141 - loss 0.24987219 - time (sec): 26.99 - samples/sec: 1444.78 - lr: 0.100000 - momentum: 0.000000\n",
            "2024-12-26 11:49:38,166 epoch 7 - iter 70/141 - loss 0.25143643 - time (sec): 34.29 - samples/sec: 1433.04 - lr: 0.100000 - momentum: 0.000000\n",
            "2024-12-26 11:49:44,379 epoch 7 - iter 84/141 - loss 0.24903619 - time (sec): 40.51 - samples/sec: 1441.10 - lr: 0.100000 - momentum: 0.000000\n",
            "2024-12-26 11:49:51,471 epoch 7 - iter 98/141 - loss 0.24961830 - time (sec): 47.60 - samples/sec: 1443.31 - lr: 0.100000 - momentum: 0.000000\n",
            "2024-12-26 11:49:56,717 epoch 7 - iter 112/141 - loss 0.24943740 - time (sec): 52.84 - samples/sec: 1484.20 - lr: 0.100000 - momentum: 0.000000\n",
            "2024-12-26 11:50:02,410 epoch 7 - iter 126/141 - loss 0.25002262 - time (sec): 58.54 - samples/sec: 1494.80 - lr: 0.100000 - momentum: 0.000000\n",
            "2024-12-26 11:50:09,099 epoch 7 - iter 140/141 - loss 0.24935042 - time (sec): 65.23 - samples/sec: 1495.95 - lr: 0.100000 - momentum: 0.000000\n",
            "2024-12-26 11:50:09,346 ----------------------------------------------------------------------------------------------------\n",
            "2024-12-26 11:50:09,346 EPOCH 7 done: loss 0.2493 - lr: 0.100000\n"
          ]
        },
        {
          "name": "stderr",
          "output_type": "stream",
          "text": [
            "100%|██████████| 9/9 [00:02<00:00,  4.13it/s]\n"
          ]
        },
        {
          "name": "stdout",
          "output_type": "stream",
          "text": [
            "2024-12-26 11:50:11,650 DEV : loss 0.3880316913127899 - f1-score (micro avg)  0.913\n",
            "2024-12-26 11:50:11,685  - 2 epochs without improvement\n",
            "2024-12-26 11:50:11,687 ----------------------------------------------------------------------------------------------------\n",
            "2024-12-26 11:50:18,242 epoch 8 - iter 14/141 - loss 0.21172913 - time (sec): 6.55 - samples/sec: 1527.87 - lr: 0.100000 - momentum: 0.000000\n",
            "2024-12-26 11:50:24,424 epoch 8 - iter 28/141 - loss 0.20968696 - time (sec): 12.73 - samples/sec: 1542.25 - lr: 0.100000 - momentum: 0.000000\n",
            "2024-12-26 11:50:30,569 epoch 8 - iter 42/141 - loss 0.20845688 - time (sec): 18.88 - samples/sec: 1555.41 - lr: 0.100000 - momentum: 0.000000\n",
            "2024-12-26 11:50:36,776 epoch 8 - iter 56/141 - loss 0.21571743 - time (sec): 25.09 - samples/sec: 1554.90 - lr: 0.100000 - momentum: 0.000000\n",
            "2024-12-26 11:50:42,921 epoch 8 - iter 70/141 - loss 0.21456306 - time (sec): 31.23 - samples/sec: 1569.31 - lr: 0.100000 - momentum: 0.000000\n",
            "2024-12-26 11:50:49,599 epoch 8 - iter 84/141 - loss 0.21614784 - time (sec): 37.91 - samples/sec: 1542.79 - lr: 0.100000 - momentum: 0.000000\n",
            "2024-12-26 11:50:55,852 epoch 8 - iter 98/141 - loss 0.21737095 - time (sec): 44.16 - samples/sec: 1542.38 - lr: 0.100000 - momentum: 0.000000\n",
            "2024-12-26 11:51:01,724 epoch 8 - iter 112/141 - loss 0.21780089 - time (sec): 50.03 - samples/sec: 1549.81 - lr: 0.100000 - momentum: 0.000000\n",
            "2024-12-26 11:51:08,463 epoch 8 - iter 126/141 - loss 0.21721052 - time (sec): 56.77 - samples/sec: 1540.47 - lr: 0.100000 - momentum: 0.000000\n",
            "2024-12-26 11:51:16,364 epoch 8 - iter 140/141 - loss 0.21863898 - time (sec): 64.67 - samples/sec: 1508.40 - lr: 0.100000 - momentum: 0.000000\n",
            "2024-12-26 11:51:16,525 ----------------------------------------------------------------------------------------------------\n",
            "2024-12-26 11:51:16,526 EPOCH 8 done: loss 0.2186 - lr: 0.100000\n"
          ]
        },
        {
          "name": "stderr",
          "output_type": "stream",
          "text": [
            "100%|██████████| 9/9 [00:02<00:00,  4.16it/s]\n"
          ]
        },
        {
          "name": "stdout",
          "output_type": "stream",
          "text": [
            "2024-12-26 11:51:18,767 DEV : loss 0.3835984766483307 - f1-score (micro avg)  0.9151\n",
            "2024-12-26 11:51:18,793  - 0 epochs without improvement\n",
            "2024-12-26 11:51:18,794 saving best model\n",
            "2024-12-26 11:51:20,212 ----------------------------------------------------------------------------------------------------\n",
            "2024-12-26 11:51:27,546 epoch 9 - iter 14/141 - loss 0.20605031 - time (sec): 7.33 - samples/sec: 1369.23 - lr: 0.100000 - momentum: 0.000000\n",
            "2024-12-26 11:51:34,213 epoch 9 - iter 28/141 - loss 0.19928731 - time (sec): 14.00 - samples/sec: 1430.51 - lr: 0.100000 - momentum: 0.000000\n",
            "2024-12-26 11:51:41,029 epoch 9 - iter 42/141 - loss 0.20314102 - time (sec): 20.81 - samples/sec: 1405.69 - lr: 0.100000 - momentum: 0.000000\n",
            "2024-12-26 11:51:46,935 epoch 9 - iter 56/141 - loss 0.19671620 - time (sec): 26.72 - samples/sec: 1455.40 - lr: 0.100000 - momentum: 0.000000\n",
            "2024-12-26 11:51:53,421 epoch 9 - iter 70/141 - loss 0.19506960 - time (sec): 33.21 - samples/sec: 1462.70 - lr: 0.100000 - momentum: 0.000000\n",
            "2024-12-26 11:52:00,762 epoch 9 - iter 84/141 - loss 0.19655447 - time (sec): 40.55 - samples/sec: 1442.30 - lr: 0.100000 - momentum: 0.000000\n",
            "2024-12-26 11:52:08,080 epoch 9 - iter 98/141 - loss 0.19587650 - time (sec): 47.87 - samples/sec: 1430.30 - lr: 0.100000 - momentum: 0.000000\n",
            "2024-12-26 11:52:14,490 epoch 9 - iter 112/141 - loss 0.19828279 - time (sec): 54.28 - samples/sec: 1443.03 - lr: 0.100000 - momentum: 0.000000\n",
            "2024-12-26 11:52:20,423 epoch 9 - iter 126/141 - loss 0.19746389 - time (sec): 60.21 - samples/sec: 1456.63 - lr: 0.100000 - momentum: 0.000000\n",
            "2024-12-26 11:52:26,785 epoch 9 - iter 140/141 - loss 0.19784134 - time (sec): 66.57 - samples/sec: 1465.78 - lr: 0.100000 - momentum: 0.000000\n",
            "2024-12-26 11:52:27,034 ----------------------------------------------------------------------------------------------------\n",
            "2024-12-26 11:52:27,035 EPOCH 9 done: loss 0.1978 - lr: 0.100000\n"
          ]
        },
        {
          "name": "stderr",
          "output_type": "stream",
          "text": [
            "100%|██████████| 9/9 [00:02<00:00,  4.28it/s]\n"
          ]
        },
        {
          "name": "stdout",
          "output_type": "stream",
          "text": [
            "2024-12-26 11:52:29,222 DEV : loss 0.40138500928878784 - f1-score (micro avg)  0.913\n",
            "2024-12-26 11:52:29,247  - 1 epochs without improvement\n",
            "2024-12-26 11:52:29,250 ----------------------------------------------------------------------------------------------------\n",
            "2024-12-26 11:52:35,605 epoch 10 - iter 14/141 - loss 0.17730560 - time (sec): 6.35 - samples/sec: 1506.94 - lr: 0.100000 - momentum: 0.000000\n",
            "2024-12-26 11:52:42,050 epoch 10 - iter 28/141 - loss 0.18625912 - time (sec): 12.80 - samples/sec: 1518.92 - lr: 0.100000 - momentum: 0.000000\n",
            "2024-12-26 11:52:48,727 epoch 10 - iter 42/141 - loss 0.18445367 - time (sec): 19.48 - samples/sec: 1502.35 - lr: 0.100000 - momentum: 0.000000\n",
            "2024-12-26 11:52:55,055 epoch 10 - iter 56/141 - loss 0.18168420 - time (sec): 25.80 - samples/sec: 1513.68 - lr: 0.100000 - momentum: 0.000000\n",
            "2024-12-26 11:53:01,528 epoch 10 - iter 70/141 - loss 0.18295180 - time (sec): 32.28 - samples/sec: 1493.07 - lr: 0.100000 - momentum: 0.000000\n",
            "2024-12-26 11:53:07,678 epoch 10 - iter 84/141 - loss 0.18100231 - time (sec): 38.43 - samples/sec: 1510.12 - lr: 0.100000 - momentum: 0.000000\n",
            "2024-12-26 11:53:13,625 epoch 10 - iter 98/141 - loss 0.18108666 - time (sec): 44.37 - samples/sec: 1529.53 - lr: 0.100000 - momentum: 0.000000\n",
            "2024-12-26 11:53:19,677 epoch 10 - iter 112/141 - loss 0.17893799 - time (sec): 50.43 - samples/sec: 1541.23 - lr: 0.100000 - momentum: 0.000000\n",
            "2024-12-26 11:53:26,896 epoch 10 - iter 126/141 - loss 0.17795783 - time (sec): 57.65 - samples/sec: 1519.09 - lr: 0.100000 - momentum: 0.000000\n",
            "2024-12-26 11:53:34,239 epoch 10 - iter 140/141 - loss 0.17762458 - time (sec): 64.99 - samples/sec: 1501.41 - lr: 0.100000 - momentum: 0.000000\n",
            "2024-12-26 11:53:34,501 ----------------------------------------------------------------------------------------------------\n",
            "2024-12-26 11:53:34,501 EPOCH 10 done: loss 0.1777 - lr: 0.100000\n"
          ]
        },
        {
          "name": "stderr",
          "output_type": "stream",
          "text": [
            "100%|██████████| 9/9 [00:02<00:00,  4.13it/s]\n"
          ]
        },
        {
          "name": "stdout",
          "output_type": "stream",
          "text": [
            "2024-12-26 11:53:36,759 DEV : loss 0.40063002705574036 - f1-score (micro avg)  0.9136\n",
            "2024-12-26 11:53:36,784  - 2 epochs without improvement\n",
            "2024-12-26 11:53:36,785 ----------------------------------------------------------------------------------------------------\n",
            "2024-12-26 11:53:42,986 epoch 11 - iter 14/141 - loss 0.15247268 - time (sec): 6.20 - samples/sec: 1590.74 - lr: 0.100000 - momentum: 0.000000\n",
            "2024-12-26 11:53:49,319 epoch 11 - iter 28/141 - loss 0.16057134 - time (sec): 12.53 - samples/sec: 1572.49 - lr: 0.100000 - momentum: 0.000000\n",
            "2024-12-26 11:53:54,983 epoch 11 - iter 42/141 - loss 0.16244964 - time (sec): 18.20 - samples/sec: 1602.74 - lr: 0.100000 - momentum: 0.000000\n",
            "2024-12-26 11:54:01,290 epoch 11 - iter 56/141 - loss 0.16250239 - time (sec): 24.50 - samples/sec: 1586.42 - lr: 0.100000 - momentum: 0.000000\n",
            "2024-12-26 11:54:08,641 epoch 11 - iter 70/141 - loss 0.16207964 - time (sec): 31.85 - samples/sec: 1530.48 - lr: 0.100000 - momentum: 0.000000\n",
            "2024-12-26 11:54:16,736 epoch 11 - iter 84/141 - loss 0.16518542 - time (sec): 39.95 - samples/sec: 1472.57 - lr: 0.100000 - momentum: 0.000000\n",
            "2024-12-26 11:54:23,697 epoch 11 - iter 98/141 - loss 0.16530851 - time (sec): 46.91 - samples/sec: 1454.91 - lr: 0.100000 - momentum: 0.000000\n",
            "2024-12-26 11:54:30,464 epoch 11 - iter 112/141 - loss 0.16492142 - time (sec): 53.68 - samples/sec: 1452.56 - lr: 0.100000 - momentum: 0.000000\n",
            "2024-12-26 11:54:36,783 epoch 11 - iter 126/141 - loss 0.16448100 - time (sec): 60.00 - samples/sec: 1464.68 - lr: 0.100000 - momentum: 0.000000\n",
            "2024-12-26 11:54:43,064 epoch 11 - iter 140/141 - loss 0.16464316 - time (sec): 66.28 - samples/sec: 1471.93 - lr: 0.100000 - momentum: 0.000000\n",
            "2024-12-26 11:54:43,268 ----------------------------------------------------------------------------------------------------\n",
            "2024-12-26 11:54:43,269 EPOCH 11 done: loss 0.1646 - lr: 0.100000\n"
          ]
        },
        {
          "name": "stderr",
          "output_type": "stream",
          "text": [
            "100%|██████████| 9/9 [00:02<00:00,  3.33it/s]\n"
          ]
        },
        {
          "name": "stdout",
          "output_type": "stream",
          "text": [
            "2024-12-26 11:54:46,061 DEV : loss 0.40885472297668457 - f1-score (micro avg)  0.9129\n",
            "2024-12-26 11:54:46,089  - 3 epochs without improvement\n",
            "2024-12-26 11:54:46,092 ----------------------------------------------------------------------------------------------------\n",
            "2024-12-26 11:54:52,070 epoch 12 - iter 14/141 - loss 0.14543765 - time (sec): 5.98 - samples/sec: 1673.11 - lr: 0.100000 - momentum: 0.000000\n",
            "2024-12-26 11:54:58,791 epoch 12 - iter 28/141 - loss 0.14310925 - time (sec): 12.70 - samples/sec: 1572.36 - lr: 0.100000 - momentum: 0.000000\n",
            "2024-12-26 11:55:05,259 epoch 12 - iter 42/141 - loss 0.14333724 - time (sec): 19.17 - samples/sec: 1545.74 - lr: 0.100000 - momentum: 0.000000\n",
            "2024-12-26 11:55:12,091 epoch 12 - iter 56/141 - loss 0.14690792 - time (sec): 26.00 - samples/sec: 1522.39 - lr: 0.100000 - momentum: 0.000000\n",
            "2024-12-26 11:55:18,046 epoch 12 - iter 70/141 - loss 0.14540920 - time (sec): 31.95 - samples/sec: 1544.83 - lr: 0.100000 - momentum: 0.000000\n",
            "2024-12-26 11:55:24,237 epoch 12 - iter 84/141 - loss 0.14605510 - time (sec): 38.14 - samples/sec: 1544.31 - lr: 0.100000 - momentum: 0.000000\n",
            "2024-12-26 11:55:30,867 epoch 12 - iter 98/141 - loss 0.14640211 - time (sec): 44.77 - samples/sec: 1528.67 - lr: 0.100000 - momentum: 0.000000\n",
            "2024-12-26 11:55:37,008 epoch 12 - iter 112/141 - loss 0.14790710 - time (sec): 50.91 - samples/sec: 1529.90 - lr: 0.100000 - momentum: 0.000000\n",
            "2024-12-26 11:55:43,316 epoch 12 - iter 126/141 - loss 0.14768204 - time (sec): 57.22 - samples/sec: 1530.59 - lr: 0.100000 - momentum: 0.000000\n",
            "2024-12-26 11:55:50,536 epoch 12 - iter 140/141 - loss 0.14894810 - time (sec): 64.44 - samples/sec: 1513.63 - lr: 0.100000 - momentum: 0.000000\n",
            "2024-12-26 11:55:50,999 ----------------------------------------------------------------------------------------------------\n",
            "2024-12-26 11:55:51,001 EPOCH 12 done: loss 0.1489 - lr: 0.100000\n"
          ]
        },
        {
          "name": "stderr",
          "output_type": "stream",
          "text": [
            "100%|██████████| 9/9 [00:02<00:00,  4.27it/s]\n"
          ]
        },
        {
          "name": "stdout",
          "output_type": "stream",
          "text": [
            "2024-12-26 11:55:53,195 DEV : loss 0.4239104986190796 - f1-score (micro avg)  0.913\n",
            "2024-12-26 11:55:53,219  - 4 epochs without improvement (above 'patience')-> annealing learning_rate to [0.05]\n",
            "2024-12-26 11:55:53,220 ----------------------------------------------------------------------------------------------------\n",
            "2024-12-26 11:55:59,849 epoch 13 - iter 14/141 - loss 0.13116161 - time (sec): 6.63 - samples/sec: 1509.12 - lr: 0.050000 - momentum: 0.000000\n",
            "2024-12-26 11:56:06,058 epoch 13 - iter 28/141 - loss 0.12261140 - time (sec): 12.84 - samples/sec: 1522.74 - lr: 0.050000 - momentum: 0.000000\n",
            "2024-12-26 11:56:12,807 epoch 13 - iter 42/141 - loss 0.12528482 - time (sec): 19.59 - samples/sec: 1492.30 - lr: 0.050000 - momentum: 0.000000\n",
            "2024-12-26 11:56:19,854 epoch 13 - iter 56/141 - loss 0.12418597 - time (sec): 26.63 - samples/sec: 1477.66 - lr: 0.050000 - momentum: 0.000000\n",
            "2024-12-26 11:56:25,685 epoch 13 - iter 70/141 - loss 0.12005521 - time (sec): 32.46 - samples/sec: 1509.55 - lr: 0.050000 - momentum: 0.000000\n",
            "2024-12-26 11:56:32,032 epoch 13 - iter 84/141 - loss 0.12039830 - time (sec): 38.81 - samples/sec: 1509.86 - lr: 0.050000 - momentum: 0.000000\n",
            "2024-12-26 11:56:38,343 epoch 13 - iter 98/141 - loss 0.11906489 - time (sec): 45.12 - samples/sec: 1523.10 - lr: 0.050000 - momentum: 0.000000\n",
            "2024-12-26 11:56:45,586 epoch 13 - iter 112/141 - loss 0.11863013 - time (sec): 52.36 - samples/sec: 1495.83 - lr: 0.050000 - momentum: 0.000000\n",
            "2024-12-26 11:56:51,338 epoch 13 - iter 126/141 - loss 0.11888693 - time (sec): 58.12 - samples/sec: 1511.99 - lr: 0.050000 - momentum: 0.000000\n",
            "2024-12-26 11:56:57,499 epoch 13 - iter 140/141 - loss 0.11887658 - time (sec): 64.28 - samples/sec: 1517.70 - lr: 0.050000 - momentum: 0.000000\n",
            "2024-12-26 11:56:57,752 ----------------------------------------------------------------------------------------------------\n",
            "2024-12-26 11:56:57,753 EPOCH 13 done: loss 0.1189 - lr: 0.050000\n"
          ]
        },
        {
          "name": "stderr",
          "output_type": "stream",
          "text": [
            "100%|██████████| 9/9 [00:02<00:00,  4.15it/s]\n"
          ]
        },
        {
          "name": "stdout",
          "output_type": "stream",
          "text": [
            "2024-12-26 11:57:00,003 DEV : loss 0.4351210296154022 - f1-score (micro avg)  0.9128\n",
            "2024-12-26 11:57:00,033  - 1 epochs without improvement\n",
            "2024-12-26 11:57:00,035 ----------------------------------------------------------------------------------------------------\n",
            "2024-12-26 11:57:05,919 epoch 14 - iter 14/141 - loss 0.10500538 - time (sec): 5.88 - samples/sec: 1589.22 - lr: 0.050000 - momentum: 0.000000\n",
            "2024-12-26 11:57:13,414 epoch 14 - iter 28/141 - loss 0.10253289 - time (sec): 13.38 - samples/sec: 1448.63 - lr: 0.050000 - momentum: 0.000000\n",
            "2024-12-26 11:57:19,464 epoch 14 - iter 42/141 - loss 0.10488866 - time (sec): 19.43 - samples/sec: 1507.08 - lr: 0.050000 - momentum: 0.000000\n",
            "2024-12-26 11:57:26,340 epoch 14 - iter 56/141 - loss 0.10489731 - time (sec): 26.30 - samples/sec: 1511.00 - lr: 0.050000 - momentum: 0.000000\n",
            "2024-12-26 11:57:32,647 epoch 14 - iter 70/141 - loss 0.10299065 - time (sec): 32.61 - samples/sec: 1515.84 - lr: 0.050000 - momentum: 0.000000\n",
            "2024-12-26 11:57:37,802 epoch 14 - iter 84/141 - loss 0.10235317 - time (sec): 37.77 - samples/sec: 1548.67 - lr: 0.050000 - momentum: 0.000000\n",
            "2024-12-26 11:57:43,774 epoch 14 - iter 98/141 - loss 0.10268276 - time (sec): 43.74 - samples/sec: 1554.31 - lr: 0.050000 - momentum: 0.000000\n",
            "2024-12-26 11:57:50,781 epoch 14 - iter 112/141 - loss 0.10126066 - time (sec): 50.74 - samples/sec: 1542.81 - lr: 0.050000 - momentum: 0.000000\n",
            "2024-12-26 11:57:57,528 epoch 14 - iter 126/141 - loss 0.10126717 - time (sec): 57.49 - samples/sec: 1532.95 - lr: 0.050000 - momentum: 0.000000\n",
            "2024-12-26 11:58:04,002 epoch 14 - iter 140/141 - loss 0.10116117 - time (sec): 63.97 - samples/sec: 1525.43 - lr: 0.050000 - momentum: 0.000000\n",
            "2024-12-26 11:58:04,191 ----------------------------------------------------------------------------------------------------\n",
            "2024-12-26 11:58:04,192 EPOCH 14 done: loss 0.1012 - lr: 0.050000\n"
          ]
        },
        {
          "name": "stderr",
          "output_type": "stream",
          "text": [
            "100%|██████████| 9/9 [00:02<00:00,  4.32it/s]\n"
          ]
        },
        {
          "name": "stdout",
          "output_type": "stream",
          "text": [
            "2024-12-26 11:58:06,358 DEV : loss 0.45520609617233276 - f1-score (micro avg)  0.9121\n",
            "2024-12-26 11:58:06,383  - 2 epochs without improvement\n",
            "2024-12-26 11:58:06,384 ----------------------------------------------------------------------------------------------------\n",
            "2024-12-26 11:58:12,799 epoch 15 - iter 14/141 - loss 0.09311920 - time (sec): 6.41 - samples/sec: 1504.33 - lr: 0.050000 - momentum: 0.000000\n",
            "2024-12-26 11:58:18,944 epoch 15 - iter 28/141 - loss 0.08965538 - time (sec): 12.56 - samples/sec: 1538.75 - lr: 0.050000 - momentum: 0.000000\n",
            "2024-12-26 11:58:25,081 epoch 15 - iter 42/141 - loss 0.09018938 - time (sec): 18.70 - samples/sec: 1572.74 - lr: 0.050000 - momentum: 0.000000\n",
            "2024-12-26 11:58:31,818 epoch 15 - iter 56/141 - loss 0.09158302 - time (sec): 25.43 - samples/sec: 1559.33 - lr: 0.050000 - momentum: 0.000000\n",
            "2024-12-26 11:58:38,657 epoch 15 - iter 70/141 - loss 0.09017572 - time (sec): 32.27 - samples/sec: 1527.43 - lr: 0.050000 - momentum: 0.000000\n",
            "2024-12-26 11:58:44,378 epoch 15 - iter 84/141 - loss 0.09030676 - time (sec): 37.99 - samples/sec: 1556.88 - lr: 0.050000 - momentum: 0.000000\n",
            "2024-12-26 11:58:50,398 epoch 15 - iter 98/141 - loss 0.09010416 - time (sec): 44.01 - samples/sec: 1547.81 - lr: 0.050000 - momentum: 0.000000\n",
            "2024-12-26 11:58:56,603 epoch 15 - iter 112/141 - loss 0.08986658 - time (sec): 50.22 - samples/sec: 1550.70 - lr: 0.050000 - momentum: 0.000000\n",
            "2024-12-26 11:59:04,689 epoch 15 - iter 126/141 - loss 0.09058019 - time (sec): 58.30 - samples/sec: 1513.56 - lr: 0.050000 - momentum: 0.000000\n",
            "2024-12-26 11:59:10,891 epoch 15 - iter 140/141 - loss 0.09114829 - time (sec): 64.51 - samples/sec: 1512.28 - lr: 0.050000 - momentum: 0.000000\n",
            "2024-12-26 11:59:11,122 ----------------------------------------------------------------------------------------------------\n",
            "2024-12-26 11:59:11,123 EPOCH 15 done: loss 0.0911 - lr: 0.050000\n"
          ]
        },
        {
          "name": "stderr",
          "output_type": "stream",
          "text": [
            "100%|██████████| 9/9 [00:02<00:00,  4.08it/s]\n"
          ]
        },
        {
          "name": "stdout",
          "output_type": "stream",
          "text": [
            "2024-12-26 11:59:13,412 DEV : loss 0.4680406153202057 - f1-score (micro avg)  0.912\n",
            "2024-12-26 11:59:13,440  - 3 epochs without improvement\n",
            "2024-12-26 11:59:13,441 ----------------------------------------------------------------------------------------------------\n",
            "2024-12-26 11:59:19,996 epoch 16 - iter 14/141 - loss 0.07412183 - time (sec): 6.55 - samples/sec: 1483.64 - lr: 0.050000 - momentum: 0.000000\n",
            "2024-12-26 11:59:26,930 epoch 16 - iter 28/141 - loss 0.07750463 - time (sec): 13.49 - samples/sec: 1439.71 - lr: 0.050000 - momentum: 0.000000\n",
            "2024-12-26 11:59:32,536 epoch 16 - iter 42/141 - loss 0.08283863 - time (sec): 19.09 - samples/sec: 1517.67 - lr: 0.050000 - momentum: 0.000000\n",
            "2024-12-26 11:59:38,427 epoch 16 - iter 56/141 - loss 0.08369319 - time (sec): 24.98 - samples/sec: 1542.45 - lr: 0.050000 - momentum: 0.000000\n",
            "2024-12-26 11:59:44,827 epoch 16 - iter 70/141 - loss 0.08330544 - time (sec): 31.38 - samples/sec: 1534.00 - lr: 0.050000 - momentum: 0.000000\n",
            "2024-12-26 11:59:52,607 epoch 16 - iter 84/141 - loss 0.08441453 - time (sec): 39.16 - samples/sec: 1497.30 - lr: 0.050000 - momentum: 0.000000\n",
            "2024-12-26 11:59:59,243 epoch 16 - iter 98/141 - loss 0.08366185 - time (sec): 45.80 - samples/sec: 1490.93 - lr: 0.050000 - momentum: 0.000000\n",
            "2024-12-26 12:00:06,316 epoch 16 - iter 112/141 - loss 0.08306750 - time (sec): 52.87 - samples/sec: 1491.31 - lr: 0.050000 - momentum: 0.000000\n",
            "2024-12-26 12:00:11,872 epoch 16 - iter 126/141 - loss 0.08338713 - time (sec): 58.43 - samples/sec: 1505.45 - lr: 0.050000 - momentum: 0.000000\n",
            "2024-12-26 12:00:19,012 epoch 16 - iter 140/141 - loss 0.08346380 - time (sec): 65.57 - samples/sec: 1488.14 - lr: 0.050000 - momentum: 0.000000\n",
            "2024-12-26 12:00:19,159 ----------------------------------------------------------------------------------------------------\n",
            "2024-12-26 12:00:19,160 EPOCH 16 done: loss 0.0834 - lr: 0.050000\n"
          ]
        },
        {
          "name": "stderr",
          "output_type": "stream",
          "text": [
            "100%|██████████| 9/9 [00:02<00:00,  4.37it/s]\n"
          ]
        },
        {
          "name": "stdout",
          "output_type": "stream",
          "text": [
            "2024-12-26 12:00:21,300 DEV : loss 0.47180572152137756 - f1-score (micro avg)  0.9127\n",
            "2024-12-26 12:00:21,329  - 4 epochs without improvement (above 'patience')-> annealing learning_rate to [0.025]\n",
            "2024-12-26 12:00:21,332 ----------------------------------------------------------------------------------------------------\n",
            "2024-12-26 12:00:27,394 epoch 17 - iter 14/141 - loss 0.08036051 - time (sec): 6.06 - samples/sec: 1636.02 - lr: 0.025000 - momentum: 0.000000\n",
            "2024-12-26 12:00:33,321 epoch 17 - iter 28/141 - loss 0.07644412 - time (sec): 11.99 - samples/sec: 1603.68 - lr: 0.025000 - momentum: 0.000000\n",
            "2024-12-26 12:00:39,356 epoch 17 - iter 42/141 - loss 0.07344651 - time (sec): 18.02 - samples/sec: 1596.97 - lr: 0.025000 - momentum: 0.000000\n",
            "2024-12-26 12:00:45,747 epoch 17 - iter 56/141 - loss 0.07399799 - time (sec): 24.41 - samples/sec: 1585.31 - lr: 0.025000 - momentum: 0.000000\n",
            "2024-12-26 12:00:52,102 epoch 17 - iter 70/141 - loss 0.07377417 - time (sec): 30.77 - samples/sec: 1568.82 - lr: 0.025000 - momentum: 0.000000\n",
            "2024-12-26 12:00:59,190 epoch 17 - iter 84/141 - loss 0.07341624 - time (sec): 37.86 - samples/sec: 1543.55 - lr: 0.025000 - momentum: 0.000000\n",
            "2024-12-26 12:01:05,427 epoch 17 - iter 98/141 - loss 0.07330703 - time (sec): 44.09 - samples/sec: 1543.72 - lr: 0.025000 - momentum: 0.000000\n",
            "2024-12-26 12:01:12,078 epoch 17 - iter 112/141 - loss 0.07329230 - time (sec): 50.74 - samples/sec: 1543.41 - lr: 0.025000 - momentum: 0.000000\n",
            "2024-12-26 12:01:19,110 epoch 17 - iter 126/141 - loss 0.07361815 - time (sec): 57.77 - samples/sec: 1521.37 - lr: 0.025000 - momentum: 0.000000\n",
            "2024-12-26 12:01:26,212 epoch 17 - iter 140/141 - loss 0.07272856 - time (sec): 64.88 - samples/sec: 1503.76 - lr: 0.025000 - momentum: 0.000000\n",
            "2024-12-26 12:01:26,418 ----------------------------------------------------------------------------------------------------\n",
            "2024-12-26 12:01:26,419 EPOCH 17 done: loss 0.0727 - lr: 0.025000\n"
          ]
        },
        {
          "name": "stderr",
          "output_type": "stream",
          "text": [
            "100%|██████████| 9/9 [00:02<00:00,  4.35it/s]\n"
          ]
        },
        {
          "name": "stdout",
          "output_type": "stream",
          "text": [
            "2024-12-26 12:01:28,571 DEV : loss 0.4809470474720001 - f1-score (micro avg)  0.9126\n",
            "2024-12-26 12:01:28,597  - 1 epochs without improvement\n",
            "2024-12-26 12:01:28,598 ----------------------------------------------------------------------------------------------------\n",
            "2024-12-26 12:01:34,922 epoch 18 - iter 14/141 - loss 0.06530481 - time (sec): 6.32 - samples/sec: 1560.66 - lr: 0.025000 - momentum: 0.000000\n",
            "2024-12-26 12:01:41,485 epoch 18 - iter 28/141 - loss 0.06661114 - time (sec): 12.89 - samples/sec: 1516.66 - lr: 0.025000 - momentum: 0.000000\n",
            "2024-12-26 12:01:47,517 epoch 18 - iter 42/141 - loss 0.06859669 - time (sec): 18.92 - samples/sec: 1540.48 - lr: 0.025000 - momentum: 0.000000\n",
            "2024-12-26 12:01:53,296 epoch 18 - iter 56/141 - loss 0.06722990 - time (sec): 24.70 - samples/sec: 1563.90 - lr: 0.025000 - momentum: 0.000000\n",
            "2024-12-26 12:01:59,810 epoch 18 - iter 70/141 - loss 0.06722079 - time (sec): 31.21 - samples/sec: 1547.95 - lr: 0.025000 - momentum: 0.000000\n",
            "2024-12-26 12:02:06,920 epoch 18 - iter 84/141 - loss 0.06766576 - time (sec): 38.32 - samples/sec: 1511.36 - lr: 0.025000 - momentum: 0.000000\n",
            "2024-12-26 12:02:13,635 epoch 18 - iter 98/141 - loss 0.06730394 - time (sec): 45.04 - samples/sec: 1502.24 - lr: 0.025000 - momentum: 0.000000\n",
            "2024-12-26 12:02:20,356 epoch 18 - iter 112/141 - loss 0.06715548 - time (sec): 51.76 - samples/sec: 1498.30 - lr: 0.025000 - momentum: 0.000000\n",
            "2024-12-26 12:02:27,218 epoch 18 - iter 126/141 - loss 0.06597168 - time (sec): 58.62 - samples/sec: 1497.09 - lr: 0.025000 - momentum: 0.000000\n",
            "2024-12-26 12:02:33,516 epoch 18 - iter 140/141 - loss 0.06575412 - time (sec): 64.92 - samples/sec: 1502.86 - lr: 0.025000 - momentum: 0.000000\n",
            "2024-12-26 12:02:33,911 ----------------------------------------------------------------------------------------------------\n",
            "2024-12-26 12:02:33,912 EPOCH 18 done: loss 0.0658 - lr: 0.025000\n"
          ]
        },
        {
          "name": "stderr",
          "output_type": "stream",
          "text": [
            "100%|██████████| 9/9 [00:02<00:00,  4.23it/s]\n"
          ]
        },
        {
          "name": "stdout",
          "output_type": "stream",
          "text": [
            "2024-12-26 12:02:36,127 DEV : loss 0.4914863705635071 - f1-score (micro avg)  0.9121\n",
            "2024-12-26 12:02:36,154  - 2 epochs without improvement\n",
            "2024-12-26 12:02:36,155 ----------------------------------------------------------------------------------------------------\n",
            "2024-12-26 12:02:42,184 epoch 19 - iter 14/141 - loss 0.05694822 - time (sec): 6.03 - samples/sec: 1619.46 - lr: 0.025000 - momentum: 0.000000\n",
            "2024-12-26 12:02:49,760 epoch 19 - iter 28/141 - loss 0.05943672 - time (sec): 13.60 - samples/sec: 1467.65 - lr: 0.025000 - momentum: 0.000000\n",
            "2024-12-26 12:02:55,657 epoch 19 - iter 42/141 - loss 0.05863125 - time (sec): 19.50 - samples/sec: 1517.84 - lr: 0.025000 - momentum: 0.000000\n",
            "2024-12-26 12:03:01,330 epoch 19 - iter 56/141 - loss 0.05997760 - time (sec): 25.17 - samples/sec: 1574.21 - lr: 0.025000 - momentum: 0.000000\n",
            "2024-12-26 12:03:07,457 epoch 19 - iter 70/141 - loss 0.06035396 - time (sec): 31.30 - samples/sec: 1570.90 - lr: 0.025000 - momentum: 0.000000\n",
            "2024-12-26 12:03:13,255 epoch 19 - iter 84/141 - loss 0.06080864 - time (sec): 37.10 - samples/sec: 1574.38 - lr: 0.025000 - momentum: 0.000000\n",
            "2024-12-26 12:03:19,972 epoch 19 - iter 98/141 - loss 0.06097253 - time (sec): 43.81 - samples/sec: 1558.17 - lr: 0.025000 - momentum: 0.000000\n",
            "2024-12-26 12:03:26,774 epoch 19 - iter 112/141 - loss 0.06049502 - time (sec): 50.62 - samples/sec: 1540.74 - lr: 0.025000 - momentum: 0.000000\n",
            "2024-12-26 12:03:32,657 epoch 19 - iter 126/141 - loss 0.06014694 - time (sec): 56.50 - samples/sec: 1549.94 - lr: 0.025000 - momentum: 0.000000\n",
            "2024-12-26 12:03:39,712 epoch 19 - iter 140/141 - loss 0.06046482 - time (sec): 63.55 - samples/sec: 1535.18 - lr: 0.025000 - momentum: 0.000000\n",
            "2024-12-26 12:03:39,924 ----------------------------------------------------------------------------------------------------\n",
            "2024-12-26 12:03:39,925 EPOCH 19 done: loss 0.0605 - lr: 0.025000\n"
          ]
        },
        {
          "name": "stderr",
          "output_type": "stream",
          "text": [
            "100%|██████████| 9/9 [00:02<00:00,  4.44it/s]\n"
          ]
        },
        {
          "name": "stdout",
          "output_type": "stream",
          "text": [
            "2024-12-26 12:03:42,038 DEV : loss 0.497707724571228 - f1-score (micro avg)  0.9133\n",
            "2024-12-26 12:03:42,067  - 3 epochs without improvement\n",
            "2024-12-26 12:03:42,069 ----------------------------------------------------------------------------------------------------\n",
            "2024-12-26 12:03:49,461 epoch 20 - iter 14/141 - loss 0.05685687 - time (sec): 7.39 - samples/sec: 1416.29 - lr: 0.025000 - momentum: 0.000000\n",
            "2024-12-26 12:03:54,993 epoch 20 - iter 28/141 - loss 0.05580780 - time (sec): 12.92 - samples/sec: 1546.43 - lr: 0.025000 - momentum: 0.000000\n",
            "2024-12-26 12:04:00,822 epoch 20 - iter 42/141 - loss 0.05629146 - time (sec): 18.75 - samples/sec: 1563.37 - lr: 0.025000 - momentum: 0.000000\n",
            "2024-12-26 12:04:06,994 epoch 20 - iter 56/141 - loss 0.05620067 - time (sec): 24.92 - samples/sec: 1565.68 - lr: 0.025000 - momentum: 0.000000\n",
            "2024-12-26 12:04:12,977 epoch 20 - iter 70/141 - loss 0.05516524 - time (sec): 30.91 - samples/sec: 1568.19 - lr: 0.025000 - momentum: 0.000000\n",
            "2024-12-26 12:04:18,831 epoch 20 - iter 84/141 - loss 0.05598208 - time (sec): 36.76 - samples/sec: 1586.11 - lr: 0.025000 - momentum: 0.000000\n",
            "2024-12-26 12:04:26,427 epoch 20 - iter 98/141 - loss 0.05594323 - time (sec): 44.36 - samples/sec: 1537.60 - lr: 0.025000 - momentum: 0.000000\n",
            "2024-12-26 12:04:32,560 epoch 20 - iter 112/141 - loss 0.05663348 - time (sec): 50.49 - samples/sec: 1544.19 - lr: 0.025000 - momentum: 0.000000\n",
            "2024-12-26 12:04:39,204 epoch 20 - iter 126/141 - loss 0.05661581 - time (sec): 57.13 - samples/sec: 1532.25 - lr: 0.025000 - momentum: 0.000000\n",
            "2024-12-26 12:04:45,613 epoch 20 - iter 140/141 - loss 0.05613935 - time (sec): 63.54 - samples/sec: 1535.06 - lr: 0.025000 - momentum: 0.000000\n",
            "2024-12-26 12:04:45,844 ----------------------------------------------------------------------------------------------------\n",
            "2024-12-26 12:04:45,845 EPOCH 20 done: loss 0.0561 - lr: 0.025000\n"
          ]
        },
        {
          "name": "stderr",
          "output_type": "stream",
          "text": [
            "100%|██████████| 9/9 [00:02<00:00,  3.29it/s]\n"
          ]
        },
        {
          "name": "stdout",
          "output_type": "stream",
          "text": [
            "2024-12-26 12:04:48,667 DEV : loss 0.5092757344245911 - f1-score (micro avg)  0.9125\n",
            "2024-12-26 12:04:48,692  - 4 epochs without improvement (above 'patience')-> annealing learning_rate to [0.0125]\n",
            "2024-12-26 12:04:50,603 ----------------------------------------------------------------------------------------------------\n",
            "2024-12-26 12:04:50,605 Loading model from best epoch ...\n",
            "2024-12-26 12:04:53,565 SequenceTagger predicts: Dictionary with 19 tags: NOUN, PROPN, PUNCT, VERB, ADP, PRON, ADJ, NUM, DET, CCONJ, ADV, AUX, SCONJ, PART, SYM, X, INTJ, <START>, <STOP>\n"
          ]
        },
        {
          "name": "stderr",
          "output_type": "stream",
          "text": [
            "100%|██████████| 9/9 [00:04<00:00,  2.21it/s]"
          ]
        },
        {
          "name": "stdout",
          "output_type": "stream",
          "text": [
            "2024-12-26 12:04:57,852 \n",
            "Results:\n",
            "- F-score (micro) 0.9352\n",
            "- F-score (macro) 0.8765\n",
            "- Accuracy 0.9352\n",
            "\n",
            "By class:\n",
            "              precision    recall  f1-score   support\n",
            "\n",
            "        NOUN     0.8980    0.9141    0.9060      2514\n",
            "       PROPN     0.9448    0.9177    0.9310      2162\n",
            "       PUNCT     0.9988    1.0000    0.9994      1623\n",
            "        VERB     0.9536    0.9316    0.9425      1258\n",
            "         ADP     0.9629    0.9542    0.9585      1114\n",
            "        PRON     0.9781    0.9720    0.9751       644\n",
            "         ADJ     0.7578    0.8463    0.7996       488\n",
            "         NUM     0.9840    0.9635    0.9737       384\n",
            "       CCONJ     0.9917    0.9917    0.9917       362\n",
            "         ADV     0.7781    0.8410    0.8083       346\n",
            "         DET     0.9572    0.9260    0.9414       338\n",
            "         AUX     0.9868    0.9782    0.9825       229\n",
            "       SCONJ     0.8777    0.8505    0.8639       194\n",
            "        PART     0.9255    0.9775    0.9508        89\n",
            "         SYM     1.0000    1.0000    1.0000         6\n",
            "           X     0.0000    0.0000    0.0000         5\n",
            "\n",
            "    accuracy                         0.9352     11756\n",
            "   macro avg     0.8747    0.8790    0.8765     11756\n",
            "weighted avg     0.9363    0.9352    0.9355     11756\n",
            "\n",
            "2024-12-26 12:04:57,852 ----------------------------------------------------------------------------------------------------\n"
          ]
        },
        {
          "name": "stderr",
          "output_type": "stream",
          "text": [
            "\n"
          ]
        },
        {
          "data": {
            "text/plain": [
              "{'test_score': 0.9351820347056822}"
            ]
          },
          "execution_count": 7,
          "metadata": {},
          "output_type": "execute_result"
        }
      ],
      "source": [
        "trainer.train('../resources/taggers/bert-id-upos',\n",
        "              learning_rate=0.1,\n",
        "              mini_batch_size=32,\n",
        "              max_epochs=20)"
      ]
    },
    {
      "cell_type": "code",
      "execution_count": 8,
      "metadata": {
        "colab": {
          "base_uri": "https://localhost:8080/"
        },
        "id": "j9rnsZcVEwLl",
        "outputId": "27485567-2fca-409f-f100-7ac63e6058c4"
      },
      "outputs": [
        {
          "name": "stdout",
          "output_type": "stream",
          "text": [
            "2024-12-26 12:05:24,296 SequenceTagger predicts: Dictionary with 19 tags: NOUN, PROPN, PUNCT, VERB, ADP, PRON, ADJ, NUM, DET, CCONJ, ADV, AUX, SCONJ, PART, SYM, X, INTJ, <START>, <STOP>\n",
            "Sentence[8]: \"gamis pria dewasa premium / jubah pakistan polos\" → [\"gamis\"/NOUN, \"pria\"/NOUN, \"dewasa\"/ADJ, \"premium\"/ADJ, \"/\"/PUNCT, \"jubah\"/NOUN, \"pakistan\"/NOUN, \"polos\"/ADJ]\n"
          ]
        }
      ],
      "source": [
        "from flair.data import Sentence\n",
        "text = 'Gamis Pria Dewasa Premium / Jubah Pakistan Polos'.lower()\n",
        "sentence = Sentence(text)\n",
        "tag_pos = SequenceTagger.load('../resources/taggers/bert-id-upos/best-model.pt')\n",
        "tag_pos.predict(sentence)\n",
        "print(sentence.to_tagged_string())"
      ]
    },
    {
      "cell_type": "code",
      "execution_count": 9,
      "metadata": {
        "colab": {
          "base_uri": "https://localhost:8080/"
        },
        "id": "EFzZmPorExks",
        "outputId": "d067bf5d-9b9d-4c2f-8a1e-ffc684e7583f"
      },
      "outputs": [
        {
          "name": "stdout",
          "output_type": "stream",
          "text": [
            "gamis (NOUN)\n",
            "pria (NOUN)\n",
            "dewasa (ADJ)\n",
            "premium (ADJ)\n",
            "/ (PUNCT)\n",
            "jubah (NOUN)\n",
            "pakistan (NOUN)\n",
            "polos (ADJ)\n"
          ]
        }
      ],
      "source": [
        "for token in sentence:\n",
        "    print(f\"{token.text} ({token.get_label('upos').value})\")"
      ]
    },
    {
      "cell_type": "markdown",
      "metadata": {
        "id": "8DC-9MPzE0SF"
      },
      "source": [
        "# 2nd training"
      ]
    },
    {
      "cell_type": "code",
      "execution_count": 10,
      "metadata": {
        "id": "4-xqGFl9OQ0x"
      },
      "outputs": [],
      "source": [
        "import torch\n",
        "\n",
        "torch.cuda.empty_cache()"
      ]
    },
    {
      "cell_type": "code",
      "execution_count": 2,
      "metadata": {
        "colab": {
          "base_uri": "https://localhost:8080/"
        },
        "id": "ZCWyd4QrESsp",
        "outputId": "24218f18-7ace-400e-8cc7-140600827702"
      },
      "outputs": [
        {
          "name": "stdout",
          "output_type": "stream",
          "text": [
            "2024-12-26 12:06:20,047 Reading data from C:\\Users\\User\\.flair\\datasets\\ud_english\n",
            "2024-12-26 12:06:20,047 Train: C:\\Users\\User\\.flair\\datasets\\ud_english\\en_ewt-ud-train.conllu\n",
            "2024-12-26 12:06:20,048 Dev: C:\\Users\\User\\.flair\\datasets\\ud_english\\en_ewt-ud-dev.conllu\n",
            "2024-12-26 12:06:20,048 Test: C:\\Users\\User\\.flair\\datasets\\ud_english\\en_ewt-ud-test.conllu\n"
          ]
        },
        {
          "data": {
            "text/plain": [
              "<flair.datasets.treebanks.UD_ENGLISH at 0x24a4fcd7cd0>"
            ]
          },
          "execution_count": 2,
          "metadata": {},
          "output_type": "execute_result"
        }
      ],
      "source": [
        "corpus_en = UD_ENGLISH()\n",
        "corpus_en"
      ]
    },
    {
      "cell_type": "code",
      "execution_count": 3,
      "metadata": {
        "colab": {
          "base_uri": "https://localhost:8080/"
        },
        "id": "0KHtwIhGE3p3",
        "outputId": "47c97238-c74e-42ab-e19e-e9928df722ce"
      },
      "outputs": [
        {
          "name": "stdout",
          "output_type": "stream",
          "text": [
            "2024-12-26 12:06:30,346 Computing label dictionary. Progress:\n"
          ]
        },
        {
          "name": "stderr",
          "output_type": "stream",
          "text": [
            "0it [00:00, ?it/s]\n",
            "12544it [00:00, 31260.87it/s]"
          ]
        },
        {
          "name": "stdout",
          "output_type": "stream",
          "text": [
            "2024-12-26 12:06:30,754 Dictionary created for label 'upos' with 17 values: NOUN (seen 34755 times), PUNCT (seen 23596 times), VERB (seen 22577 times), PRON (seen 18677 times), ADP (seen 17739 times), DET (seen 16299 times), ADJ (seen 13186 times), AUX (seen 12815 times), PROPN (seen 12618 times), ADV (seen 10117 times), CCONJ (seen 6687 times), PART (seen 5748 times), NUM (seen 4127 times), SCONJ (seen 3822 times), SYM (seen 722 times), INTJ (seen 695 times), X (seen 399 times)\n",
            "Dictionary with 17 tags: NOUN, PUNCT, VERB, PRON, ADP, DET, ADJ, AUX, PROPN, ADV, CCONJ, PART, NUM, SCONJ, SYM, INTJ, X\n"
          ]
        },
        {
          "name": "stderr",
          "output_type": "stream",
          "text": [
            "\n"
          ]
        }
      ],
      "source": [
        "label_dict = corpus_en.make_label_dictionary(label_type='upos')\n",
        "print(label_dict)"
      ]
    },
    {
      "cell_type": "code",
      "execution_count": 4,
      "metadata": {
        "colab": {
          "base_uri": "https://localhost:8080/"
        },
        "id": "lcXaMxWCE4vJ",
        "outputId": "22c65897-6e7c-4c46-f59e-0450cb483e97"
      },
      "outputs": [
        {
          "name": "stdout",
          "output_type": "stream",
          "text": [
            "2024-12-26 12:06:35,723 SequenceTagger predicts: Dictionary with 19 tags: NOUN, PROPN, PUNCT, VERB, ADP, PRON, ADJ, NUM, DET, CCONJ, ADV, AUX, SCONJ, PART, SYM, X, INTJ, <START>, <STOP>\n"
          ]
        }
      ],
      "source": [
        "model_en = SequenceTagger.load(\"../resources/taggers/bert-id-upos/best-model.pt\")\n",
        "model_en.tag_dictionary = label_dict"
      ]
    },
    {
      "cell_type": "code",
      "execution_count": 5,
      "metadata": {
        "id": "W-c1i6TgFIzN"
      },
      "outputs": [],
      "source": [
        "trainer = ModelTrainer(model_en, corpus_en)"
      ]
    },
    {
      "cell_type": "code",
      "execution_count": 6,
      "metadata": {
        "colab": {
          "base_uri": "https://localhost:8080/"
        },
        "id": "EPnFxZKtFLVB",
        "outputId": "ddae581d-cc3d-43c3-aca6-e4e1faea40b7"
      },
      "outputs": [
        {
          "name": "stdout",
          "output_type": "stream",
          "text": [
            "2024-12-26 12:06:53,389 ----------------------------------------------------------------------------------------------------\n",
            "2024-12-26 12:06:53,391 Model: \"SequenceTagger(\n",
            "  (embeddings): TransformerWordEmbeddings(\n",
            "    (model): BertModel(\n",
            "      (embeddings): BertEmbeddings(\n",
            "        (word_embeddings): Embedding(119548, 768, padding_idx=0)\n",
            "        (position_embeddings): Embedding(512, 768)\n",
            "        (token_type_embeddings): Embedding(2, 768)\n",
            "        (LayerNorm): LayerNorm((768,), eps=1e-12, elementwise_affine=True)\n",
            "        (dropout): Dropout(p=0.1, inplace=False)\n",
            "      )\n",
            "      (encoder): BertEncoder(\n",
            "        (layer): ModuleList(\n",
            "          (0-11): 12 x BertLayer(\n",
            "            (attention): BertAttention(\n",
            "              (self): BertSdpaSelfAttention(\n",
            "                (query): Linear(in_features=768, out_features=768, bias=True)\n",
            "                (key): Linear(in_features=768, out_features=768, bias=True)\n",
            "                (value): Linear(in_features=768, out_features=768, bias=True)\n",
            "                (dropout): Dropout(p=0.1, inplace=False)\n",
            "              )\n",
            "              (output): BertSelfOutput(\n",
            "                (dense): Linear(in_features=768, out_features=768, bias=True)\n",
            "                (LayerNorm): LayerNorm((768,), eps=1e-12, elementwise_affine=True)\n",
            "                (dropout): Dropout(p=0.1, inplace=False)\n",
            "              )\n",
            "            )\n",
            "            (intermediate): BertIntermediate(\n",
            "              (dense): Linear(in_features=768, out_features=3072, bias=True)\n",
            "              (intermediate_act_fn): GELUActivation()\n",
            "            )\n",
            "            (output): BertOutput(\n",
            "              (dense): Linear(in_features=3072, out_features=768, bias=True)\n",
            "              (LayerNorm): LayerNorm((768,), eps=1e-12, elementwise_affine=True)\n",
            "              (dropout): Dropout(p=0.1, inplace=False)\n",
            "            )\n",
            "          )\n",
            "        )\n",
            "      )\n",
            "      (pooler): BertPooler(\n",
            "        (dense): Linear(in_features=768, out_features=768, bias=True)\n",
            "        (activation): Tanh()\n",
            "      )\n",
            "    )\n",
            "  )\n",
            "  (word_dropout): WordDropout(p=0.05)\n",
            "  (locked_dropout): LockedDropout(p=0.5)\n",
            "  (embedding2nn): Linear(in_features=768, out_features=768, bias=True)\n",
            "  (rnn): LSTM(768, 256, batch_first=True, bidirectional=True)\n",
            "  (linear): Linear(in_features=512, out_features=19, bias=True)\n",
            "  (loss_function): ViterbiLoss()\n",
            "  (crf): CRF()\n",
            ")\"\n",
            "2024-12-26 12:06:53,392 ----------------------------------------------------------------------------------------------------\n",
            "2024-12-26 12:06:53,393 Corpus: 12544 train + 2001 dev + 2077 test sentences\n",
            "2024-12-26 12:06:53,393 ----------------------------------------------------------------------------------------------------\n",
            "2024-12-26 12:06:53,394 Train:  12544 sentences\n",
            "2024-12-26 12:06:53,394         (train_with_dev=False, train_with_test=False)\n",
            "2024-12-26 12:06:53,395 ----------------------------------------------------------------------------------------------------\n",
            "2024-12-26 12:06:53,395 Training Params:\n",
            "2024-12-26 12:06:53,395  - learning_rate: \"0.1\" \n",
            "2024-12-26 12:06:53,395  - mini_batch_size: \"32\"\n",
            "2024-12-26 12:06:53,396  - max_epochs: \"20\"\n",
            "2024-12-26 12:06:53,396  - shuffle: \"True\"\n",
            "2024-12-26 12:06:53,397 ----------------------------------------------------------------------------------------------------\n",
            "2024-12-26 12:06:53,397 Plugins:\n",
            "2024-12-26 12:06:53,397  - AnnealOnPlateau | patience: '3', anneal_factor: '0.5', min_learning_rate: '0.0001'\n",
            "2024-12-26 12:06:53,397 ----------------------------------------------------------------------------------------------------\n",
            "2024-12-26 12:06:53,398 Final evaluation on model from best epoch (best-model.pt)\n",
            "2024-12-26 12:06:53,398  - metric: \"('micro avg', 'f1-score')\"\n",
            "2024-12-26 12:06:53,398 ----------------------------------------------------------------------------------------------------\n",
            "2024-12-26 12:06:53,399 Computation:\n",
            "2024-12-26 12:06:53,400  - compute on device: cuda:0\n",
            "2024-12-26 12:06:53,400  - embedding storage: cpu\n",
            "2024-12-26 12:06:53,401 ----------------------------------------------------------------------------------------------------\n",
            "2024-12-26 12:06:53,401 Model training base path: \"..\\resources\\taggers\\bert-multi-upos\"\n",
            "2024-12-26 12:06:53,402 ----------------------------------------------------------------------------------------------------\n",
            "2024-12-26 12:06:53,402 ----------------------------------------------------------------------------------------------------\n"
          ]
        },
        {
          "name": "stderr",
          "output_type": "stream",
          "text": [
            "c:\\Users\\User\\Documents\\Code\\env\\lib\\site-packages\\flair\\trainers\\trainer.py:545: FutureWarning: `torch.cuda.amp.GradScaler(args...)` is deprecated. Please use `torch.amp.GradScaler('cuda', args...)` instead.\n",
            "  scaler = torch.cuda.amp.GradScaler(enabled=use_amp and flair.device.type != \"cpu\")\n",
            "c:\\Users\\User\\Documents\\Code\\env\\lib\\site-packages\\transformers\\models\\bert\\modeling_bert.py:440: UserWarning: 1Torch was not compiled with flash attention. (Triggered internally at C:\\actions-runner\\_work\\pytorch\\pytorch\\builder\\windows\\pytorch\\aten\\src\\ATen\\native\\transformers\\cuda\\sdp_utils.cpp:555.)\n",
            "  attn_output = torch.nn.functional.scaled_dot_product_attention(\n"
          ]
        },
        {
          "name": "stdout",
          "output_type": "stream",
          "text": [
            "2024-12-26 12:07:06,546 epoch 1 - iter 39/392 - loss 0.53860306 - time (sec): 13.14 - samples/sec: 1580.05 - lr: 0.100000 - momentum: 0.000000\n",
            "2024-12-26 12:07:20,169 epoch 1 - iter 78/392 - loss 0.46647293 - time (sec): 26.76 - samples/sec: 1559.81 - lr: 0.100000 - momentum: 0.000000\n",
            "2024-12-26 12:07:33,050 epoch 1 - iter 117/392 - loss 0.43079178 - time (sec): 39.65 - samples/sec: 1551.83 - lr: 0.100000 - momentum: 0.000000\n",
            "2024-12-26 12:07:46,397 epoch 1 - iter 156/392 - loss 0.40107138 - time (sec): 52.99 - samples/sec: 1536.92 - lr: 0.100000 - momentum: 0.000000\n",
            "2024-12-26 12:08:00,534 epoch 1 - iter 195/392 - loss 0.38306637 - time (sec): 67.13 - samples/sec: 1534.96 - lr: 0.100000 - momentum: 0.000000\n",
            "2024-12-26 12:08:14,178 epoch 1 - iter 234/392 - loss 0.36972149 - time (sec): 80.77 - samples/sec: 1521.51 - lr: 0.100000 - momentum: 0.000000\n",
            "2024-12-26 12:08:27,608 epoch 1 - iter 273/392 - loss 0.35900889 - time (sec): 94.20 - samples/sec: 1516.74 - lr: 0.100000 - momentum: 0.000000\n",
            "2024-12-26 12:08:41,574 epoch 1 - iter 312/392 - loss 0.34947531 - time (sec): 108.17 - samples/sec: 1505.30 - lr: 0.100000 - momentum: 0.000000\n",
            "2024-12-26 12:08:55,327 epoch 1 - iter 351/392 - loss 0.33975612 - time (sec): 121.92 - samples/sec: 1506.30 - lr: 0.100000 - momentum: 0.000000\n",
            "2024-12-26 12:09:08,554 epoch 1 - iter 390/392 - loss 0.33018064 - time (sec): 135.15 - samples/sec: 1505.66 - lr: 0.100000 - momentum: 0.000000\n",
            "2024-12-26 12:09:09,214 ----------------------------------------------------------------------------------------------------\n",
            "2024-12-26 12:09:09,215 EPOCH 1 done: loss 0.3300 - lr: 0.100000\n"
          ]
        },
        {
          "name": "stderr",
          "output_type": "stream",
          "text": [
            "100%|██████████| 32/32 [00:09<00:00,  3.42it/s]\n"
          ]
        },
        {
          "name": "stdout",
          "output_type": "stream",
          "text": [
            "2024-12-26 12:09:18,709 DEV : loss 0.17752447724342346 - f1-score (micro avg)  0.9519\n",
            "2024-12-26 12:09:18,767  - 0 epochs without improvement\n",
            "2024-12-26 12:09:18,769 saving best model\n",
            "2024-12-26 12:09:19,636 ----------------------------------------------------------------------------------------------------\n",
            "2024-12-26 12:09:33,039 epoch 2 - iter 39/392 - loss 0.20848126 - time (sec): 13.40 - samples/sec: 1493.31 - lr: 0.100000 - momentum: 0.000000\n",
            "2024-12-26 12:09:46,368 epoch 2 - iter 78/392 - loss 0.21180670 - time (sec): 26.73 - samples/sec: 1510.37 - lr: 0.100000 - momentum: 0.000000\n",
            "2024-12-26 12:09:59,406 epoch 2 - iter 117/392 - loss 0.21383576 - time (sec): 39.77 - samples/sec: 1519.80 - lr: 0.100000 - momentum: 0.000000\n",
            "2024-12-26 12:10:13,092 epoch 2 - iter 156/392 - loss 0.21309425 - time (sec): 53.45 - samples/sec: 1521.06 - lr: 0.100000 - momentum: 0.000000\n",
            "2024-12-26 12:10:27,325 epoch 2 - iter 195/392 - loss 0.21328488 - time (sec): 67.69 - samples/sec: 1503.36 - lr: 0.100000 - momentum: 0.000000\n",
            "2024-12-26 12:10:40,959 epoch 2 - iter 234/392 - loss 0.21168196 - time (sec): 81.32 - samples/sec: 1501.51 - lr: 0.100000 - momentum: 0.000000\n",
            "2024-12-26 12:10:54,057 epoch 2 - iter 273/392 - loss 0.21061447 - time (sec): 94.42 - samples/sec: 1505.76 - lr: 0.100000 - momentum: 0.000000\n",
            "2024-12-26 12:11:06,672 epoch 2 - iter 312/392 - loss 0.20835852 - time (sec): 107.03 - samples/sec: 1517.99 - lr: 0.100000 - momentum: 0.000000\n",
            "2024-12-26 12:11:19,862 epoch 2 - iter 351/392 - loss 0.20712901 - time (sec): 120.22 - samples/sec: 1524.08 - lr: 0.100000 - momentum: 0.000000\n",
            "2024-12-26 12:11:33,548 epoch 2 - iter 390/392 - loss 0.20583310 - time (sec): 133.91 - samples/sec: 1520.17 - lr: 0.100000 - momentum: 0.000000\n",
            "2024-12-26 12:11:34,172 ----------------------------------------------------------------------------------------------------\n",
            "2024-12-26 12:11:34,173 EPOCH 2 done: loss 0.2058 - lr: 0.100000\n"
          ]
        },
        {
          "name": "stderr",
          "output_type": "stream",
          "text": [
            "100%|██████████| 32/32 [00:04<00:00,  6.97it/s]"
          ]
        },
        {
          "name": "stdout",
          "output_type": "stream",
          "text": [
            "2024-12-26 12:11:38,912 DEV : loss 0.1804192066192627 - f1-score (micro avg)  0.9528\n"
          ]
        },
        {
          "name": "stderr",
          "output_type": "stream",
          "text": [
            "\n"
          ]
        },
        {
          "name": "stdout",
          "output_type": "stream",
          "text": [
            "2024-12-26 12:11:38,983  - 0 epochs without improvement\n",
            "2024-12-26 12:11:38,985 saving best model\n",
            "2024-12-26 12:11:40,006 ----------------------------------------------------------------------------------------------------\n",
            "2024-12-26 12:11:53,638 epoch 3 - iter 39/392 - loss 0.17042420 - time (sec): 13.63 - samples/sec: 1471.93 - lr: 0.100000 - momentum: 0.000000\n",
            "2024-12-26 12:12:07,664 epoch 3 - iter 78/392 - loss 0.16992502 - time (sec): 27.66 - samples/sec: 1500.94 - lr: 0.100000 - momentum: 0.000000\n",
            "2024-12-26 12:12:21,585 epoch 3 - iter 117/392 - loss 0.16594944 - time (sec): 41.58 - samples/sec: 1465.45 - lr: 0.100000 - momentum: 0.000000\n",
            "2024-12-26 12:12:35,489 epoch 3 - iter 156/392 - loss 0.16648319 - time (sec): 55.48 - samples/sec: 1468.82 - lr: 0.100000 - momentum: 0.000000\n",
            "2024-12-26 12:12:48,583 epoch 3 - iter 195/392 - loss 0.16680419 - time (sec): 68.57 - samples/sec: 1479.61 - lr: 0.100000 - momentum: 0.000000\n",
            "2024-12-26 12:13:02,125 epoch 3 - iter 234/392 - loss 0.16850317 - time (sec): 82.12 - samples/sec: 1487.04 - lr: 0.100000 - momentum: 0.000000\n",
            "2024-12-26 12:13:15,025 epoch 3 - iter 273/392 - loss 0.16753167 - time (sec): 95.02 - samples/sec: 1503.17 - lr: 0.100000 - momentum: 0.000000\n",
            "2024-12-26 12:13:27,591 epoch 3 - iter 312/392 - loss 0.16656942 - time (sec): 107.58 - samples/sec: 1515.43 - lr: 0.100000 - momentum: 0.000000\n",
            "2024-12-26 12:13:40,542 epoch 3 - iter 351/392 - loss 0.16514447 - time (sec): 120.53 - samples/sec: 1523.24 - lr: 0.100000 - momentum: 0.000000\n",
            "2024-12-26 12:13:53,294 epoch 3 - iter 390/392 - loss 0.16473382 - time (sec): 133.29 - samples/sec: 1527.24 - lr: 0.100000 - momentum: 0.000000\n",
            "2024-12-26 12:13:53,949 ----------------------------------------------------------------------------------------------------\n",
            "2024-12-26 12:13:53,949 EPOCH 3 done: loss 0.1647 - lr: 0.100000\n"
          ]
        },
        {
          "name": "stderr",
          "output_type": "stream",
          "text": [
            "100%|██████████| 32/32 [00:04<00:00,  6.67it/s]\n"
          ]
        },
        {
          "name": "stdout",
          "output_type": "stream",
          "text": [
            "2024-12-26 12:13:58,896 DEV : loss 0.18402643501758575 - f1-score (micro avg)  0.9529\n",
            "2024-12-26 12:13:58,953  - 0 epochs without improvement\n",
            "2024-12-26 12:13:58,955 saving best model\n",
            "2024-12-26 12:14:00,315 ----------------------------------------------------------------------------------------------------\n",
            "2024-12-26 12:14:13,587 epoch 4 - iter 39/392 - loss 0.12967384 - time (sec): 13.27 - samples/sec: 1540.36 - lr: 0.100000 - momentum: 0.000000\n",
            "2024-12-26 12:14:27,421 epoch 4 - iter 78/392 - loss 0.13094457 - time (sec): 27.10 - samples/sec: 1503.04 - lr: 0.100000 - momentum: 0.000000\n",
            "2024-12-26 12:14:40,038 epoch 4 - iter 117/392 - loss 0.13197809 - time (sec): 39.72 - samples/sec: 1544.11 - lr: 0.100000 - momentum: 0.000000\n",
            "2024-12-26 12:14:54,228 epoch 4 - iter 156/392 - loss 0.13480166 - time (sec): 53.91 - samples/sec: 1524.29 - lr: 0.100000 - momentum: 0.000000\n",
            "2024-12-26 12:15:07,709 epoch 4 - iter 195/392 - loss 0.13657583 - time (sec): 67.39 - samples/sec: 1516.64 - lr: 0.100000 - momentum: 0.000000\n",
            "2024-12-26 12:15:20,858 epoch 4 - iter 234/392 - loss 0.13571224 - time (sec): 80.54 - samples/sec: 1519.70 - lr: 0.100000 - momentum: 0.000000\n",
            "2024-12-26 12:15:33,793 epoch 4 - iter 273/392 - loss 0.13573993 - time (sec): 93.48 - samples/sec: 1522.24 - lr: 0.100000 - momentum: 0.000000\n",
            "2024-12-26 12:15:46,744 epoch 4 - iter 312/392 - loss 0.13532565 - time (sec): 106.43 - samples/sec: 1528.83 - lr: 0.100000 - momentum: 0.000000\n",
            "2024-12-26 12:16:00,257 epoch 4 - iter 351/392 - loss 0.13573604 - time (sec): 119.94 - samples/sec: 1526.19 - lr: 0.100000 - momentum: 0.000000\n",
            "2024-12-26 12:16:13,382 epoch 4 - iter 390/392 - loss 0.13603771 - time (sec): 133.07 - samples/sec: 1529.70 - lr: 0.100000 - momentum: 0.000000\n",
            "2024-12-26 12:16:13,981 ----------------------------------------------------------------------------------------------------\n",
            "2024-12-26 12:16:13,982 EPOCH 4 done: loss 0.1360 - lr: 0.100000\n"
          ]
        },
        {
          "name": "stderr",
          "output_type": "stream",
          "text": [
            "100%|██████████| 32/32 [00:04<00:00,  7.03it/s]\n"
          ]
        },
        {
          "name": "stdout",
          "output_type": "stream",
          "text": [
            "2024-12-26 12:16:18,685 DEV : loss 0.1892516314983368 - f1-score (micro avg)  0.9535\n",
            "2024-12-26 12:16:18,745  - 0 epochs without improvement\n",
            "2024-12-26 12:16:18,747 saving best model\n",
            "2024-12-26 12:16:20,113 ----------------------------------------------------------------------------------------------------\n",
            "2024-12-26 12:16:33,231 epoch 5 - iter 39/392 - loss 0.11078591 - time (sec): 13.12 - samples/sec: 1555.64 - lr: 0.100000 - momentum: 0.000000\n",
            "2024-12-26 12:16:46,630 epoch 5 - iter 78/392 - loss 0.11296874 - time (sec): 26.52 - samples/sec: 1526.26 - lr: 0.100000 - momentum: 0.000000\n",
            "2024-12-26 12:17:00,059 epoch 5 - iter 117/392 - loss 0.11510087 - time (sec): 39.95 - samples/sec: 1515.98 - lr: 0.100000 - momentum: 0.000000\n",
            "2024-12-26 12:17:14,570 epoch 5 - iter 156/392 - loss 0.11571581 - time (sec): 54.46 - samples/sec: 1487.52 - lr: 0.100000 - momentum: 0.000000\n",
            "2024-12-26 12:17:27,428 epoch 5 - iter 195/392 - loss 0.11440287 - time (sec): 67.31 - samples/sec: 1503.90 - lr: 0.100000 - momentum: 0.000000\n",
            "2024-12-26 12:17:40,781 epoch 5 - iter 234/392 - loss 0.11411408 - time (sec): 80.67 - samples/sec: 1505.75 - lr: 0.100000 - momentum: 0.000000\n",
            "2024-12-26 12:17:53,920 epoch 5 - iter 273/392 - loss 0.11418627 - time (sec): 93.81 - samples/sec: 1517.48 - lr: 0.100000 - momentum: 0.000000\n",
            "2024-12-26 12:18:06,049 epoch 5 - iter 312/392 - loss 0.11411649 - time (sec): 105.94 - samples/sec: 1529.83 - lr: 0.100000 - momentum: 0.000000\n",
            "2024-12-26 12:18:19,615 epoch 5 - iter 351/392 - loss 0.11412304 - time (sec): 119.50 - samples/sec: 1532.33 - lr: 0.100000 - momentum: 0.000000\n",
            "2024-12-26 12:18:32,759 epoch 5 - iter 390/392 - loss 0.11415597 - time (sec): 132.65 - samples/sec: 1533.53 - lr: 0.100000 - momentum: 0.000000\n",
            "2024-12-26 12:18:33,486 ----------------------------------------------------------------------------------------------------\n",
            "2024-12-26 12:18:33,487 EPOCH 5 done: loss 0.1142 - lr: 0.100000\n"
          ]
        },
        {
          "name": "stderr",
          "output_type": "stream",
          "text": [
            "100%|██████████| 32/32 [00:04<00:00,  7.13it/s]\n"
          ]
        },
        {
          "name": "stdout",
          "output_type": "stream",
          "text": [
            "2024-12-26 12:18:38,122 DEV : loss 0.19358712434768677 - f1-score (micro avg)  0.9537\n",
            "2024-12-26 12:18:38,181  - 0 epochs without improvement\n",
            "2024-12-26 12:18:38,183 saving best model\n",
            "2024-12-26 12:18:39,532 ----------------------------------------------------------------------------------------------------\n",
            "2024-12-26 12:18:52,160 epoch 6 - iter 39/392 - loss 0.09574511 - time (sec): 12.63 - samples/sec: 1568.67 - lr: 0.100000 - momentum: 0.000000\n",
            "2024-12-26 12:19:05,098 epoch 6 - iter 78/392 - loss 0.09865125 - time (sec): 25.56 - samples/sec: 1547.77 - lr: 0.100000 - momentum: 0.000000\n",
            "2024-12-26 12:19:18,395 epoch 6 - iter 117/392 - loss 0.09609707 - time (sec): 38.86 - samples/sec: 1540.22 - lr: 0.100000 - momentum: 0.000000\n",
            "2024-12-26 12:19:31,609 epoch 6 - iter 156/392 - loss 0.09531682 - time (sec): 52.07 - samples/sec: 1542.40 - lr: 0.100000 - momentum: 0.000000\n",
            "2024-12-26 12:19:44,662 epoch 6 - iter 195/392 - loss 0.09697599 - time (sec): 65.13 - samples/sec: 1544.82 - lr: 0.100000 - momentum: 0.000000\n",
            "2024-12-26 12:19:58,216 epoch 6 - iter 234/392 - loss 0.09708515 - time (sec): 78.68 - samples/sec: 1546.53 - lr: 0.100000 - momentum: 0.000000\n",
            "2024-12-26 12:20:11,487 epoch 6 - iter 273/392 - loss 0.09703579 - time (sec): 91.95 - samples/sec: 1545.24 - lr: 0.100000 - momentum: 0.000000\n",
            "2024-12-26 12:20:24,892 epoch 6 - iter 312/392 - loss 0.09758719 - time (sec): 105.36 - samples/sec: 1542.21 - lr: 0.100000 - momentum: 0.000000\n",
            "2024-12-26 12:20:38,554 epoch 6 - iter 351/392 - loss 0.09922622 - time (sec): 119.02 - samples/sec: 1532.10 - lr: 0.100000 - momentum: 0.000000\n",
            "2024-12-26 12:20:51,825 epoch 6 - iter 390/392 - loss 0.09977292 - time (sec): 132.29 - samples/sec: 1538.76 - lr: 0.100000 - momentum: 0.000000\n",
            "2024-12-26 12:20:52,604 ----------------------------------------------------------------------------------------------------\n",
            "2024-12-26 12:20:52,605 EPOCH 6 done: loss 0.1000 - lr: 0.100000\n"
          ]
        },
        {
          "name": "stderr",
          "output_type": "stream",
          "text": [
            "100%|██████████| 32/32 [00:04<00:00,  7.08it/s]\n"
          ]
        },
        {
          "name": "stdout",
          "output_type": "stream",
          "text": [
            "2024-12-26 12:20:57,282 DEV : loss 0.19802191853523254 - f1-score (micro avg)  0.9524\n",
            "2024-12-26 12:20:57,341  - 1 epochs without improvement\n",
            "2024-12-26 12:20:57,342 ----------------------------------------------------------------------------------------------------\n",
            "2024-12-26 12:21:10,396 epoch 7 - iter 39/392 - loss 0.08300530 - time (sec): 13.05 - samples/sec: 1593.26 - lr: 0.100000 - momentum: 0.000000\n",
            "2024-12-26 12:21:23,473 epoch 7 - iter 78/392 - loss 0.08378769 - time (sec): 26.13 - samples/sec: 1576.79 - lr: 0.100000 - momentum: 0.000000\n",
            "2024-12-26 12:21:36,954 epoch 7 - iter 117/392 - loss 0.09601089 - time (sec): 39.61 - samples/sec: 1569.79 - lr: 0.100000 - momentum: 0.000000\n",
            "2024-12-26 12:21:50,451 epoch 7 - iter 156/392 - loss 0.09423206 - time (sec): 53.11 - samples/sec: 1553.34 - lr: 0.100000 - momentum: 0.000000\n",
            "2024-12-26 12:22:15,202 epoch 7 - iter 195/392 - loss 0.09164217 - time (sec): 77.86 - samples/sec: 1310.20 - lr: 0.100000 - momentum: 0.000000\n",
            "2024-12-26 12:22:33,922 epoch 7 - iter 234/392 - loss 0.08979813 - time (sec): 96.58 - samples/sec: 1260.13 - lr: 0.100000 - momentum: 0.000000\n",
            "2024-12-26 12:22:54,702 epoch 7 - iter 273/392 - loss 0.08872162 - time (sec): 117.36 - samples/sec: 1210.62 - lr: 0.100000 - momentum: 0.000000\n",
            "2024-12-26 12:23:13,576 epoch 7 - iter 312/392 - loss 0.08868573 - time (sec): 136.23 - samples/sec: 1191.11 - lr: 0.100000 - momentum: 0.000000\n",
            "2024-12-26 12:23:34,805 epoch 7 - iter 351/392 - loss 0.09044337 - time (sec): 157.46 - samples/sec: 1159.04 - lr: 0.100000 - momentum: 0.000000\n",
            "2024-12-26 12:23:53,406 epoch 7 - iter 390/392 - loss 0.09011493 - time (sec): 176.06 - samples/sec: 1155.87 - lr: 0.100000 - momentum: 0.000000\n",
            "2024-12-26 12:23:54,106 ----------------------------------------------------------------------------------------------------\n",
            "2024-12-26 12:23:54,107 EPOCH 7 done: loss 0.0901 - lr: 0.100000\n"
          ]
        },
        {
          "name": "stderr",
          "output_type": "stream",
          "text": [
            "100%|██████████| 32/32 [00:06<00:00,  5.32it/s]\n"
          ]
        },
        {
          "name": "stdout",
          "output_type": "stream",
          "text": [
            "2024-12-26 12:24:00,281 DEV : loss 0.2053806483745575 - f1-score (micro avg)  0.953\n",
            "2024-12-26 12:24:00,338  - 2 epochs without improvement\n",
            "2024-12-26 12:24:00,340 ----------------------------------------------------------------------------------------------------\n",
            "2024-12-26 12:24:13,090 epoch 8 - iter 39/392 - loss 0.08081137 - time (sec): 12.75 - samples/sec: 1588.89 - lr: 0.100000 - momentum: 0.000000\n",
            "2024-12-26 12:24:26,508 epoch 8 - iter 78/392 - loss 0.07333407 - time (sec): 26.17 - samples/sec: 1562.73 - lr: 0.100000 - momentum: 0.000000\n",
            "2024-12-26 12:24:40,427 epoch 8 - iter 117/392 - loss 0.07733936 - time (sec): 40.09 - samples/sec: 1513.19 - lr: 0.100000 - momentum: 0.000000\n",
            "2024-12-26 12:24:53,827 epoch 8 - iter 156/392 - loss 0.07513340 - time (sec): 53.49 - samples/sec: 1513.54 - lr: 0.100000 - momentum: 0.000000\n",
            "2024-12-26 12:25:06,907 epoch 8 - iter 195/392 - loss 0.07597523 - time (sec): 66.57 - samples/sec: 1517.09 - lr: 0.100000 - momentum: 0.000000\n",
            "2024-12-26 12:25:20,079 epoch 8 - iter 234/392 - loss 0.07710905 - time (sec): 79.74 - samples/sec: 1528.50 - lr: 0.100000 - momentum: 0.000000\n",
            "2024-12-26 12:25:33,381 epoch 8 - iter 273/392 - loss 0.07654370 - time (sec): 93.04 - samples/sec: 1523.46 - lr: 0.100000 - momentum: 0.000000\n",
            "2024-12-26 12:25:46,796 epoch 8 - iter 312/392 - loss 0.07579991 - time (sec): 106.45 - samples/sec: 1527.53 - lr: 0.100000 - momentum: 0.000000\n",
            "2024-12-26 12:25:59,963 epoch 8 - iter 351/392 - loss 0.07622907 - time (sec): 119.62 - samples/sec: 1531.63 - lr: 0.100000 - momentum: 0.000000\n",
            "2024-12-26 12:26:13,198 epoch 8 - iter 390/392 - loss 0.07540530 - time (sec): 132.86 - samples/sec: 1532.62 - lr: 0.100000 - momentum: 0.000000\n",
            "2024-12-26 12:26:13,861 ----------------------------------------------------------------------------------------------------\n",
            "2024-12-26 12:26:13,861 EPOCH 8 done: loss 0.0753 - lr: 0.100000\n"
          ]
        },
        {
          "name": "stderr",
          "output_type": "stream",
          "text": [
            "100%|██████████| 32/32 [00:04<00:00,  6.98it/s]\n"
          ]
        },
        {
          "name": "stdout",
          "output_type": "stream",
          "text": [
            "2024-12-26 12:26:18,599 DEV : loss 0.2056199163198471 - f1-score (micro avg)  0.9531\n",
            "2024-12-26 12:26:18,659  - 3 epochs without improvement\n",
            "2024-12-26 12:26:18,660 ----------------------------------------------------------------------------------------------------\n",
            "2024-12-26 12:26:31,552 epoch 9 - iter 39/392 - loss 0.06366010 - time (sec): 12.89 - samples/sec: 1590.72 - lr: 0.100000 - momentum: 0.000000\n",
            "2024-12-26 12:26:44,895 epoch 9 - iter 78/392 - loss 0.06177547 - time (sec): 26.23 - samples/sec: 1570.08 - lr: 0.100000 - momentum: 0.000000\n",
            "2024-12-26 12:26:57,591 epoch 9 - iter 117/392 - loss 0.06365907 - time (sec): 38.93 - samples/sec: 1566.10 - lr: 0.100000 - momentum: 0.000000\n",
            "2024-12-26 12:27:10,222 epoch 9 - iter 156/392 - loss 0.06459295 - time (sec): 51.56 - samples/sec: 1580.13 - lr: 0.100000 - momentum: 0.000000\n",
            "2024-12-26 12:27:22,866 epoch 9 - iter 195/392 - loss 0.06485943 - time (sec): 64.20 - samples/sec: 1580.31 - lr: 0.100000 - momentum: 0.000000\n",
            "2024-12-26 12:27:35,940 epoch 9 - iter 234/392 - loss 0.06561656 - time (sec): 77.28 - samples/sec: 1581.25 - lr: 0.100000 - momentum: 0.000000\n",
            "2024-12-26 12:27:49,073 epoch 9 - iter 273/392 - loss 0.06591964 - time (sec): 90.41 - samples/sec: 1572.65 - lr: 0.100000 - momentum: 0.000000\n",
            "2024-12-26 12:28:02,974 epoch 9 - iter 312/392 - loss 0.06641573 - time (sec): 104.31 - samples/sec: 1559.49 - lr: 0.100000 - momentum: 0.000000\n",
            "2024-12-26 12:28:16,581 epoch 9 - iter 351/392 - loss 0.06822870 - time (sec): 117.92 - samples/sec: 1553.08 - lr: 0.100000 - momentum: 0.000000\n",
            "2024-12-26 12:28:29,701 epoch 9 - iter 390/392 - loss 0.06806411 - time (sec): 131.04 - samples/sec: 1554.06 - lr: 0.100000 - momentum: 0.000000\n",
            "2024-12-26 12:28:30,307 ----------------------------------------------------------------------------------------------------\n",
            "2024-12-26 12:28:30,308 EPOCH 9 done: loss 0.0681 - lr: 0.100000\n"
          ]
        },
        {
          "name": "stderr",
          "output_type": "stream",
          "text": [
            "100%|██████████| 32/32 [00:04<00:00,  7.03it/s]"
          ]
        },
        {
          "name": "stdout",
          "output_type": "stream",
          "text": [
            "2024-12-26 12:28:35,009 DEV : loss 0.21115589141845703 - f1-score (micro avg)  0.9522\n"
          ]
        },
        {
          "name": "stderr",
          "output_type": "stream",
          "text": [
            "\n"
          ]
        },
        {
          "name": "stdout",
          "output_type": "stream",
          "text": [
            "2024-12-26 12:28:35,070  - 4 epochs without improvement (above 'patience')-> annealing learning_rate to [0.05]\n",
            "2024-12-26 12:28:35,072 ----------------------------------------------------------------------------------------------------\n",
            "2024-12-26 12:28:47,208 epoch 10 - iter 39/392 - loss 0.04593731 - time (sec): 12.13 - samples/sec: 1607.51 - lr: 0.050000 - momentum: 0.000000\n",
            "2024-12-26 12:29:00,254 epoch 10 - iter 78/392 - loss 0.04336496 - time (sec): 25.18 - samples/sec: 1571.16 - lr: 0.050000 - momentum: 0.000000\n",
            "2024-12-26 12:29:13,795 epoch 10 - iter 117/392 - loss 0.04287243 - time (sec): 38.72 - samples/sec: 1554.60 - lr: 0.050000 - momentum: 0.000000\n",
            "2024-12-26 12:29:27,352 epoch 10 - iter 156/392 - loss 0.04309591 - time (sec): 52.28 - samples/sec: 1555.95 - lr: 0.050000 - momentum: 0.000000\n",
            "2024-12-26 12:29:40,519 epoch 10 - iter 195/392 - loss 0.04308807 - time (sec): 65.45 - samples/sec: 1558.54 - lr: 0.050000 - momentum: 0.000000\n",
            "2024-12-26 12:29:54,513 epoch 10 - iter 234/392 - loss 0.04323905 - time (sec): 79.44 - samples/sec: 1532.18 - lr: 0.050000 - momentum: 0.000000\n",
            "2024-12-26 12:30:07,889 epoch 10 - iter 273/392 - loss 0.04313834 - time (sec): 92.82 - samples/sec: 1531.10 - lr: 0.050000 - momentum: 0.000000\n",
            "2024-12-26 12:30:20,930 epoch 10 - iter 312/392 - loss 0.04204717 - time (sec): 105.86 - samples/sec: 1540.25 - lr: 0.050000 - momentum: 0.000000\n",
            "2024-12-26 12:30:34,419 epoch 10 - iter 351/392 - loss 0.04188648 - time (sec): 119.35 - samples/sec: 1537.14 - lr: 0.050000 - momentum: 0.000000\n",
            "2024-12-26 12:30:47,691 epoch 10 - iter 390/392 - loss 0.04213625 - time (sec): 132.62 - samples/sec: 1533.75 - lr: 0.050000 - momentum: 0.000000\n",
            "2024-12-26 12:30:48,396 ----------------------------------------------------------------------------------------------------\n",
            "2024-12-26 12:30:48,397 EPOCH 10 done: loss 0.0422 - lr: 0.050000\n"
          ]
        },
        {
          "name": "stderr",
          "output_type": "stream",
          "text": [
            "100%|██████████| 32/32 [00:04<00:00,  6.86it/s]\n"
          ]
        },
        {
          "name": "stdout",
          "output_type": "stream",
          "text": [
            "2024-12-26 12:30:53,217 DEV : loss 0.21596267819404602 - f1-score (micro avg)  0.9526\n",
            "2024-12-26 12:30:53,280  - 1 epochs without improvement\n",
            "2024-12-26 12:30:53,281 ----------------------------------------------------------------------------------------------------\n",
            "2024-12-26 12:31:06,609 epoch 11 - iter 39/392 - loss 0.03581638 - time (sec): 13.33 - samples/sec: 1573.26 - lr: 0.050000 - momentum: 0.000000\n",
            "2024-12-26 12:31:19,462 epoch 11 - iter 78/392 - loss 0.03409237 - time (sec): 26.18 - samples/sec: 1577.09 - lr: 0.050000 - momentum: 0.000000\n",
            "2024-12-26 12:31:33,361 epoch 11 - iter 117/392 - loss 0.03357443 - time (sec): 40.08 - samples/sec: 1539.65 - lr: 0.050000 - momentum: 0.000000\n",
            "2024-12-26 12:31:46,722 epoch 11 - iter 156/392 - loss 0.03278704 - time (sec): 53.44 - samples/sec: 1532.61 - lr: 0.050000 - momentum: 0.000000\n",
            "2024-12-26 12:31:59,933 epoch 11 - iter 195/392 - loss 0.03326306 - time (sec): 66.65 - samples/sec: 1533.90 - lr: 0.050000 - momentum: 0.000000\n",
            "2024-12-26 12:32:12,929 epoch 11 - iter 234/392 - loss 0.03365065 - time (sec): 79.65 - samples/sec: 1538.47 - lr: 0.050000 - momentum: 0.000000\n",
            "2024-12-26 12:32:26,256 epoch 11 - iter 273/392 - loss 0.03362446 - time (sec): 92.97 - samples/sec: 1538.70 - lr: 0.050000 - momentum: 0.000000\n",
            "2024-12-26 12:32:38,969 epoch 11 - iter 312/392 - loss 0.03383320 - time (sec): 105.69 - samples/sec: 1545.17 - lr: 0.050000 - momentum: 0.000000\n",
            "2024-12-26 12:32:52,829 epoch 11 - iter 351/392 - loss 0.03359790 - time (sec): 119.55 - samples/sec: 1534.36 - lr: 0.050000 - momentum: 0.000000\n",
            "2024-12-26 12:33:05,459 epoch 11 - iter 390/392 - loss 0.03348206 - time (sec): 132.18 - samples/sec: 1538.95 - lr: 0.050000 - momentum: 0.000000\n",
            "2024-12-26 12:33:06,186 ----------------------------------------------------------------------------------------------------\n",
            "2024-12-26 12:33:06,187 EPOCH 11 done: loss 0.0335 - lr: 0.050000\n"
          ]
        },
        {
          "name": "stderr",
          "output_type": "stream",
          "text": [
            "100%|██████████| 32/32 [00:04<00:00,  7.07it/s]\n"
          ]
        },
        {
          "name": "stdout",
          "output_type": "stream",
          "text": [
            "2024-12-26 12:33:10,855 DEV : loss 0.224622443318367 - f1-score (micro avg)  0.9519\n",
            "2024-12-26 12:33:10,916  - 2 epochs without improvement\n",
            "2024-12-26 12:33:10,918 ----------------------------------------------------------------------------------------------------\n",
            "2024-12-26 12:33:23,807 epoch 12 - iter 39/392 - loss 0.02334700 - time (sec): 12.89 - samples/sec: 1518.00 - lr: 0.050000 - momentum: 0.000000\n",
            "2024-12-26 12:33:36,621 epoch 12 - iter 78/392 - loss 0.02781798 - time (sec): 25.70 - samples/sec: 1552.50 - lr: 0.050000 - momentum: 0.000000\n",
            "2024-12-26 12:33:49,875 epoch 12 - iter 117/392 - loss 0.03046994 - time (sec): 38.96 - samples/sec: 1558.83 - lr: 0.050000 - momentum: 0.000000\n",
            "2024-12-26 12:34:02,459 epoch 12 - iter 156/392 - loss 0.02911641 - time (sec): 51.54 - samples/sec: 1568.20 - lr: 0.050000 - momentum: 0.000000\n",
            "2024-12-26 12:34:16,030 epoch 12 - iter 195/392 - loss 0.02851136 - time (sec): 65.11 - samples/sec: 1554.31 - lr: 0.050000 - momentum: 0.000000\n",
            "2024-12-26 12:34:29,143 epoch 12 - iter 234/392 - loss 0.02865199 - time (sec): 78.22 - samples/sec: 1544.72 - lr: 0.050000 - momentum: 0.000000\n",
            "2024-12-26 12:34:43,627 epoch 12 - iter 273/392 - loss 0.02854712 - time (sec): 92.71 - samples/sec: 1532.97 - lr: 0.050000 - momentum: 0.000000\n",
            "2024-12-26 12:34:56,916 epoch 12 - iter 312/392 - loss 0.02883794 - time (sec): 106.00 - samples/sec: 1530.85 - lr: 0.050000 - momentum: 0.000000\n",
            "2024-12-26 12:35:10,174 epoch 12 - iter 351/392 - loss 0.02900150 - time (sec): 119.25 - samples/sec: 1529.62 - lr: 0.050000 - momentum: 0.000000\n",
            "2024-12-26 12:35:23,463 epoch 12 - iter 390/392 - loss 0.02914422 - time (sec): 132.54 - samples/sec: 1534.12 - lr: 0.050000 - momentum: 0.000000\n",
            "2024-12-26 12:35:24,176 ----------------------------------------------------------------------------------------------------\n",
            "2024-12-26 12:35:24,177 EPOCH 12 done: loss 0.0291 - lr: 0.050000\n"
          ]
        },
        {
          "name": "stderr",
          "output_type": "stream",
          "text": [
            "100%|██████████| 32/32 [00:04<00:00,  6.87it/s]"
          ]
        },
        {
          "name": "stdout",
          "output_type": "stream",
          "text": [
            "2024-12-26 12:35:28,984 DEV : loss 0.23539836704730988 - f1-score (micro avg)  0.9514\n"
          ]
        },
        {
          "name": "stderr",
          "output_type": "stream",
          "text": [
            "\n"
          ]
        },
        {
          "name": "stdout",
          "output_type": "stream",
          "text": [
            "2024-12-26 12:35:29,044  - 3 epochs without improvement\n",
            "2024-12-26 12:35:29,046 ----------------------------------------------------------------------------------------------------\n",
            "2024-12-26 12:35:42,676 epoch 13 - iter 39/392 - loss 0.02597412 - time (sec): 13.63 - samples/sec: 1557.61 - lr: 0.050000 - momentum: 0.000000\n",
            "2024-12-26 12:35:56,607 epoch 13 - iter 78/392 - loss 0.02617892 - time (sec): 27.56 - samples/sec: 1525.58 - lr: 0.050000 - momentum: 0.000000\n",
            "2024-12-26 12:36:10,214 epoch 13 - iter 117/392 - loss 0.02508424 - time (sec): 41.17 - samples/sec: 1513.45 - lr: 0.050000 - momentum: 0.000000\n",
            "2024-12-26 12:36:23,555 epoch 13 - iter 156/392 - loss 0.02551306 - time (sec): 54.51 - samples/sec: 1503.63 - lr: 0.050000 - momentum: 0.000000\n",
            "2024-12-26 12:36:36,710 epoch 13 - iter 195/392 - loss 0.02528382 - time (sec): 67.66 - samples/sec: 1508.26 - lr: 0.050000 - momentum: 0.000000\n",
            "2024-12-26 12:36:49,504 epoch 13 - iter 234/392 - loss 0.02562212 - time (sec): 80.46 - samples/sec: 1516.37 - lr: 0.050000 - momentum: 0.000000\n",
            "2024-12-26 12:37:02,575 epoch 13 - iter 273/392 - loss 0.02569906 - time (sec): 93.53 - samples/sec: 1525.36 - lr: 0.050000 - momentum: 0.000000\n",
            "2024-12-26 12:37:15,920 epoch 13 - iter 312/392 - loss 0.02633795 - time (sec): 106.87 - samples/sec: 1520.77 - lr: 0.050000 - momentum: 0.000000\n",
            "2024-12-26 12:37:28,801 epoch 13 - iter 351/392 - loss 0.02640520 - time (sec): 119.76 - samples/sec: 1528.01 - lr: 0.050000 - momentum: 0.000000\n",
            "2024-12-26 12:37:42,028 epoch 13 - iter 390/392 - loss 0.02661591 - time (sec): 132.98 - samples/sec: 1529.34 - lr: 0.050000 - momentum: 0.000000\n",
            "2024-12-26 12:37:42,785 ----------------------------------------------------------------------------------------------------\n",
            "2024-12-26 12:37:42,786 EPOCH 13 done: loss 0.0266 - lr: 0.050000\n"
          ]
        },
        {
          "name": "stderr",
          "output_type": "stream",
          "text": [
            "100%|██████████| 32/32 [00:04<00:00,  7.14it/s]\n"
          ]
        },
        {
          "name": "stdout",
          "output_type": "stream",
          "text": [
            "2024-12-26 12:37:47,416 DEV : loss 0.24144381284713745 - f1-score (micro avg)  0.9517\n",
            "2024-12-26 12:37:47,474  - 4 epochs without improvement (above 'patience')-> annealing learning_rate to [0.025]\n",
            "2024-12-26 12:37:47,475 ----------------------------------------------------------------------------------------------------\n",
            "2024-12-26 12:37:59,917 epoch 14 - iter 39/392 - loss 0.02103628 - time (sec): 12.44 - samples/sec: 1655.65 - lr: 0.025000 - momentum: 0.000000\n",
            "2024-12-26 12:38:13,556 epoch 14 - iter 78/392 - loss 0.02247607 - time (sec): 26.08 - samples/sec: 1567.85 - lr: 0.025000 - momentum: 0.000000\n",
            "2024-12-26 12:38:26,164 epoch 14 - iter 117/392 - loss 0.02178348 - time (sec): 38.69 - samples/sec: 1579.31 - lr: 0.025000 - momentum: 0.000000\n",
            "2024-12-26 12:38:39,360 epoch 14 - iter 156/392 - loss 0.02095361 - time (sec): 51.88 - samples/sec: 1558.99 - lr: 0.025000 - momentum: 0.000000\n",
            "2024-12-26 12:38:52,825 epoch 14 - iter 195/392 - loss 0.02080928 - time (sec): 65.35 - samples/sec: 1552.29 - lr: 0.025000 - momentum: 0.000000\n",
            "2024-12-26 12:39:05,541 epoch 14 - iter 234/392 - loss 0.02060950 - time (sec): 78.07 - samples/sec: 1560.95 - lr: 0.025000 - momentum: 0.000000\n",
            "2024-12-26 12:39:19,072 epoch 14 - iter 273/392 - loss 0.01986666 - time (sec): 91.59 - samples/sec: 1551.68 - lr: 0.025000 - momentum: 0.000000\n",
            "2024-12-26 12:39:32,410 epoch 14 - iter 312/392 - loss 0.01952836 - time (sec): 104.93 - samples/sec: 1549.43 - lr: 0.025000 - momentum: 0.000000\n",
            "2024-12-26 12:39:45,758 epoch 14 - iter 351/392 - loss 0.01952824 - time (sec): 118.28 - samples/sec: 1545.08 - lr: 0.025000 - momentum: 0.000000\n",
            "2024-12-26 12:39:59,886 epoch 14 - iter 390/392 - loss 0.01942248 - time (sec): 132.41 - samples/sec: 1537.13 - lr: 0.025000 - momentum: 0.000000\n",
            "2024-12-26 12:40:00,415 ----------------------------------------------------------------------------------------------------\n",
            "2024-12-26 12:40:00,416 EPOCH 14 done: loss 0.0195 - lr: 0.025000\n"
          ]
        },
        {
          "name": "stderr",
          "output_type": "stream",
          "text": [
            "100%|██████████| 32/32 [00:04<00:00,  7.02it/s]\n"
          ]
        },
        {
          "name": "stdout",
          "output_type": "stream",
          "text": [
            "2024-12-26 12:40:05,133 DEV : loss 0.24441304802894592 - f1-score (micro avg)  0.9524\n",
            "2024-12-26 12:40:05,189  - 1 epochs without improvement\n",
            "2024-12-26 12:40:05,190 ----------------------------------------------------------------------------------------------------\n",
            "2024-12-26 12:40:17,787 epoch 15 - iter 39/392 - loss 0.01486233 - time (sec): 12.60 - samples/sec: 1586.19 - lr: 0.025000 - momentum: 0.000000\n",
            "2024-12-26 12:40:31,298 epoch 15 - iter 78/392 - loss 0.01417414 - time (sec): 26.11 - samples/sec: 1564.00 - lr: 0.025000 - momentum: 0.000000\n",
            "2024-12-26 12:40:44,968 epoch 15 - iter 117/392 - loss 0.01516859 - time (sec): 39.78 - samples/sec: 1553.52 - lr: 0.025000 - momentum: 0.000000\n",
            "2024-12-26 12:40:57,843 epoch 15 - iter 156/392 - loss 0.01557181 - time (sec): 52.65 - samples/sec: 1561.91 - lr: 0.025000 - momentum: 0.000000\n",
            "2024-12-26 12:41:10,022 epoch 15 - iter 195/392 - loss 0.01498495 - time (sec): 64.83 - samples/sec: 1576.69 - lr: 0.025000 - momentum: 0.000000\n",
            "2024-12-26 12:41:23,272 epoch 15 - iter 234/392 - loss 0.01512894 - time (sec): 78.08 - samples/sec: 1576.96 - lr: 0.025000 - momentum: 0.000000\n",
            "2024-12-26 12:41:36,729 epoch 15 - iter 273/392 - loss 0.01505266 - time (sec): 91.54 - samples/sec: 1560.22 - lr: 0.025000 - momentum: 0.000000\n",
            "2024-12-26 12:41:49,586 epoch 15 - iter 312/392 - loss 0.01526053 - time (sec): 104.39 - samples/sec: 1565.98 - lr: 0.025000 - momentum: 0.000000\n",
            "2024-12-26 12:42:04,044 epoch 15 - iter 351/392 - loss 0.01568444 - time (sec): 118.85 - samples/sec: 1547.22 - lr: 0.025000 - momentum: 0.000000\n",
            "2024-12-26 12:42:17,154 epoch 15 - iter 390/392 - loss 0.01560875 - time (sec): 131.96 - samples/sec: 1542.15 - lr: 0.025000 - momentum: 0.000000\n",
            "2024-12-26 12:42:17,794 ----------------------------------------------------------------------------------------------------\n",
            "2024-12-26 12:42:17,795 EPOCH 15 done: loss 0.0156 - lr: 0.025000\n"
          ]
        },
        {
          "name": "stderr",
          "output_type": "stream",
          "text": [
            "100%|██████████| 32/32 [00:04<00:00,  7.02it/s]\n"
          ]
        },
        {
          "name": "stdout",
          "output_type": "stream",
          "text": [
            "2024-12-26 12:42:22,507 DEV : loss 0.2537279725074768 - f1-score (micro avg)  0.9521\n",
            "2024-12-26 12:42:22,567  - 2 epochs without improvement\n",
            "2024-12-26 12:42:22,568 ----------------------------------------------------------------------------------------------------\n",
            "2024-12-26 12:42:35,584 epoch 16 - iter 39/392 - loss 0.01375858 - time (sec): 13.01 - samples/sec: 1516.26 - lr: 0.025000 - momentum: 0.000000\n",
            "2024-12-26 12:42:48,819 epoch 16 - iter 78/392 - loss 0.01464530 - time (sec): 26.25 - samples/sec: 1531.35 - lr: 0.025000 - momentum: 0.000000\n",
            "2024-12-26 12:43:01,427 epoch 16 - iter 117/392 - loss 0.01434979 - time (sec): 38.86 - samples/sec: 1557.61 - lr: 0.025000 - momentum: 0.000000\n",
            "2024-12-26 12:43:15,097 epoch 16 - iter 156/392 - loss 0.01481496 - time (sec): 52.53 - samples/sec: 1541.17 - lr: 0.025000 - momentum: 0.000000\n",
            "2024-12-26 12:43:29,128 epoch 16 - iter 195/392 - loss 0.01489365 - time (sec): 66.56 - samples/sec: 1530.48 - lr: 0.025000 - momentum: 0.000000\n",
            "2024-12-26 12:43:42,220 epoch 16 - iter 234/392 - loss 0.01519938 - time (sec): 79.65 - samples/sec: 1526.29 - lr: 0.025000 - momentum: 0.000000\n",
            "2024-12-26 12:43:55,690 epoch 16 - iter 273/392 - loss 0.01478523 - time (sec): 93.12 - samples/sec: 1525.04 - lr: 0.025000 - momentum: 0.000000\n",
            "2024-12-26 12:44:08,967 epoch 16 - iter 312/392 - loss 0.01453436 - time (sec): 106.40 - samples/sec: 1528.93 - lr: 0.025000 - momentum: 0.000000\n",
            "2024-12-26 12:44:22,231 epoch 16 - iter 351/392 - loss 0.01462852 - time (sec): 119.66 - samples/sec: 1528.11 - lr: 0.025000 - momentum: 0.000000\n",
            "2024-12-26 12:44:35,244 epoch 16 - iter 390/392 - loss 0.01465642 - time (sec): 132.67 - samples/sec: 1533.76 - lr: 0.025000 - momentum: 0.000000\n",
            "2024-12-26 12:44:35,913 ----------------------------------------------------------------------------------------------------\n",
            "2024-12-26 12:44:35,913 EPOCH 16 done: loss 0.0146 - lr: 0.025000\n"
          ]
        },
        {
          "name": "stderr",
          "output_type": "stream",
          "text": [
            "100%|██████████| 32/32 [00:06<00:00,  5.23it/s]\n"
          ]
        },
        {
          "name": "stdout",
          "output_type": "stream",
          "text": [
            "2024-12-26 12:44:42,183 DEV : loss 0.2607502043247223 - f1-score (micro avg)  0.9521\n",
            "2024-12-26 12:44:42,245  - 3 epochs without improvement\n",
            "2024-12-26 12:44:42,246 ----------------------------------------------------------------------------------------------------\n",
            "2024-12-26 12:44:54,932 epoch 17 - iter 39/392 - loss 0.01261066 - time (sec): 12.68 - samples/sec: 1602.51 - lr: 0.025000 - momentum: 0.000000\n",
            "2024-12-26 12:45:08,326 epoch 17 - iter 78/392 - loss 0.01250403 - time (sec): 26.08 - samples/sec: 1543.94 - lr: 0.025000 - momentum: 0.000000\n",
            "2024-12-26 12:45:22,159 epoch 17 - iter 117/392 - loss 0.01299582 - time (sec): 39.91 - samples/sec: 1521.84 - lr: 0.025000 - momentum: 0.000000\n",
            "2024-12-26 12:45:35,758 epoch 17 - iter 156/392 - loss 0.01271657 - time (sec): 53.51 - samples/sec: 1528.44 - lr: 0.025000 - momentum: 0.000000\n",
            "2024-12-26 12:45:48,838 epoch 17 - iter 195/392 - loss 0.01254652 - time (sec): 66.59 - samples/sec: 1525.71 - lr: 0.025000 - momentum: 0.000000\n",
            "2024-12-26 12:46:02,523 epoch 17 - iter 234/392 - loss 0.01252888 - time (sec): 80.28 - samples/sec: 1520.45 - lr: 0.025000 - momentum: 0.000000\n",
            "2024-12-26 12:46:15,476 epoch 17 - iter 273/392 - loss 0.01259857 - time (sec): 93.23 - samples/sec: 1520.12 - lr: 0.025000 - momentum: 0.000000\n",
            "2024-12-26 12:46:28,637 epoch 17 - iter 312/392 - loss 0.01275045 - time (sec): 106.39 - samples/sec: 1528.21 - lr: 0.025000 - momentum: 0.000000\n",
            "2024-12-26 12:46:42,047 epoch 17 - iter 351/392 - loss 0.01293462 - time (sec): 119.80 - samples/sec: 1531.19 - lr: 0.025000 - momentum: 0.000000\n",
            "2024-12-26 12:46:54,842 epoch 17 - iter 390/392 - loss 0.01300496 - time (sec): 132.59 - samples/sec: 1534.81 - lr: 0.025000 - momentum: 0.000000\n",
            "2024-12-26 12:46:55,492 ----------------------------------------------------------------------------------------------------\n",
            "2024-12-26 12:46:55,492 EPOCH 17 done: loss 0.0129 - lr: 0.025000\n"
          ]
        },
        {
          "name": "stderr",
          "output_type": "stream",
          "text": [
            "100%|██████████| 32/32 [00:04<00:00,  6.93it/s]"
          ]
        },
        {
          "name": "stdout",
          "output_type": "stream",
          "text": [
            "2024-12-26 12:47:00,263 DEV : loss 0.2715950012207031 - f1-score (micro avg)  0.9507\n"
          ]
        },
        {
          "name": "stderr",
          "output_type": "stream",
          "text": [
            "\n"
          ]
        },
        {
          "name": "stdout",
          "output_type": "stream",
          "text": [
            "2024-12-26 12:47:00,322  - 4 epochs without improvement (above 'patience')-> annealing learning_rate to [0.0125]\n",
            "2024-12-26 12:47:00,323 ----------------------------------------------------------------------------------------------------\n",
            "2024-12-26 12:47:13,432 epoch 18 - iter 39/392 - loss 0.01104725 - time (sec): 13.11 - samples/sec: 1573.10 - lr: 0.012500 - momentum: 0.000000\n",
            "2024-12-26 12:47:26,076 epoch 18 - iter 78/392 - loss 0.01162443 - time (sec): 25.75 - samples/sec: 1587.47 - lr: 0.012500 - momentum: 0.000000\n",
            "2024-12-26 12:47:39,360 epoch 18 - iter 117/392 - loss 0.01111914 - time (sec): 39.04 - samples/sec: 1582.95 - lr: 0.012500 - momentum: 0.000000\n",
            "2024-12-26 12:47:52,437 epoch 18 - iter 156/392 - loss 0.01106839 - time (sec): 52.11 - samples/sec: 1572.37 - lr: 0.012500 - momentum: 0.000000\n",
            "2024-12-26 12:48:05,392 epoch 18 - iter 195/392 - loss 0.01083844 - time (sec): 65.07 - samples/sec: 1573.53 - lr: 0.012500 - momentum: 0.000000\n",
            "2024-12-26 12:48:18,509 epoch 18 - iter 234/392 - loss 0.01086617 - time (sec): 78.18 - samples/sec: 1565.51 - lr: 0.012500 - momentum: 0.000000\n",
            "2024-12-26 12:48:30,851 epoch 18 - iter 273/392 - loss 0.01115143 - time (sec): 90.53 - samples/sec: 1578.05 - lr: 0.012500 - momentum: 0.000000\n",
            "2024-12-26 12:48:43,674 epoch 18 - iter 312/392 - loss 0.01111985 - time (sec): 103.35 - samples/sec: 1578.14 - lr: 0.012500 - momentum: 0.000000\n",
            "2024-12-26 12:48:58,049 epoch 18 - iter 351/392 - loss 0.01119081 - time (sec): 117.72 - samples/sec: 1555.85 - lr: 0.012500 - momentum: 0.000000\n",
            "2024-12-26 12:49:11,249 epoch 18 - iter 390/392 - loss 0.01096386 - time (sec): 130.92 - samples/sec: 1555.60 - lr: 0.012500 - momentum: 0.000000\n",
            "2024-12-26 12:49:11,774 ----------------------------------------------------------------------------------------------------\n",
            "2024-12-26 12:49:11,775 EPOCH 18 done: loss 0.0110 - lr: 0.012500\n"
          ]
        },
        {
          "name": "stderr",
          "output_type": "stream",
          "text": [
            "100%|██████████| 32/32 [00:04<00:00,  7.08it/s]\n"
          ]
        },
        {
          "name": "stdout",
          "output_type": "stream",
          "text": [
            "2024-12-26 12:49:16,442 DEV : loss 0.27419209480285645 - f1-score (micro avg)  0.9509\n",
            "2024-12-26 12:49:16,500  - 1 epochs without improvement\n",
            "2024-12-26 12:49:16,501 ----------------------------------------------------------------------------------------------------\n",
            "2024-12-26 12:49:29,285 epoch 19 - iter 39/392 - loss 0.00923112 - time (sec): 12.78 - samples/sec: 1600.67 - lr: 0.012500 - momentum: 0.000000\n",
            "2024-12-26 12:49:42,748 epoch 19 - iter 78/392 - loss 0.00947641 - time (sec): 26.25 - samples/sec: 1551.98 - lr: 0.012500 - momentum: 0.000000\n",
            "2024-12-26 12:49:55,603 epoch 19 - iter 117/392 - loss 0.00938319 - time (sec): 39.10 - samples/sec: 1550.65 - lr: 0.012500 - momentum: 0.000000\n",
            "2024-12-26 12:50:08,225 epoch 19 - iter 156/392 - loss 0.01033503 - time (sec): 51.72 - samples/sec: 1552.45 - lr: 0.012500 - momentum: 0.000000\n",
            "2024-12-26 12:50:21,108 epoch 19 - iter 195/392 - loss 0.00979155 - time (sec): 64.61 - samples/sec: 1552.93 - lr: 0.012500 - momentum: 0.000000\n",
            "2024-12-26 12:50:35,462 epoch 19 - iter 234/392 - loss 0.00986830 - time (sec): 78.96 - samples/sec: 1538.03 - lr: 0.012500 - momentum: 0.000000\n",
            "2024-12-26 12:50:49,147 epoch 19 - iter 273/392 - loss 0.00972146 - time (sec): 92.64 - samples/sec: 1533.07 - lr: 0.012500 - momentum: 0.000000\n",
            "2024-12-26 12:51:03,842 epoch 19 - iter 312/392 - loss 0.00980601 - time (sec): 107.34 - samples/sec: 1513.92 - lr: 0.012500 - momentum: 0.000000\n",
            "2024-12-26 12:51:17,539 epoch 19 - iter 351/392 - loss 0.00998287 - time (sec): 121.04 - samples/sec: 1515.44 - lr: 0.012500 - momentum: 0.000000\n",
            "2024-12-26 12:51:30,527 epoch 19 - iter 390/392 - loss 0.00976706 - time (sec): 134.02 - samples/sec: 1517.62 - lr: 0.012500 - momentum: 0.000000\n",
            "2024-12-26 12:51:31,284 ----------------------------------------------------------------------------------------------------\n",
            "2024-12-26 12:51:31,285 EPOCH 19 done: loss 0.0097 - lr: 0.012500\n"
          ]
        },
        {
          "name": "stderr",
          "output_type": "stream",
          "text": [
            "100%|██████████| 32/32 [00:04<00:00,  6.88it/s]\n"
          ]
        },
        {
          "name": "stdout",
          "output_type": "stream",
          "text": [
            "2024-12-26 12:51:36,095 DEV : loss 0.2801811695098877 - f1-score (micro avg)  0.9508\n",
            "2024-12-26 12:51:36,155  - 2 epochs without improvement\n",
            "2024-12-26 12:51:36,156 ----------------------------------------------------------------------------------------------------\n",
            "2024-12-26 12:51:55,987 epoch 20 - iter 39/392 - loss 0.00997742 - time (sec): 19.83 - samples/sec: 1053.82 - lr: 0.012500 - momentum: 0.000000\n",
            "2024-12-26 12:52:14,950 epoch 20 - iter 78/392 - loss 0.00990289 - time (sec): 38.79 - samples/sec: 1075.83 - lr: 0.012500 - momentum: 0.000000\n",
            "2024-12-26 12:52:27,491 epoch 20 - iter 117/392 - loss 0.00954296 - time (sec): 51.33 - samples/sec: 1207.46 - lr: 0.012500 - momentum: 0.000000\n",
            "2024-12-26 12:52:40,944 epoch 20 - iter 156/392 - loss 0.00918231 - time (sec): 64.79 - samples/sec: 1279.39 - lr: 0.012500 - momentum: 0.000000\n",
            "2024-12-26 12:52:54,179 epoch 20 - iter 195/392 - loss 0.00882641 - time (sec): 78.02 - samples/sec: 1325.33 - lr: 0.012500 - momentum: 0.000000\n",
            "2024-12-26 12:53:07,273 epoch 20 - iter 234/392 - loss 0.00870524 - time (sec): 91.11 - samples/sec: 1353.92 - lr: 0.012500 - momentum: 0.000000\n",
            "2024-12-26 12:53:20,581 epoch 20 - iter 273/392 - loss 0.00858755 - time (sec): 104.42 - samples/sec: 1372.59 - lr: 0.012500 - momentum: 0.000000\n",
            "2024-12-26 12:53:34,019 epoch 20 - iter 312/392 - loss 0.00883448 - time (sec): 117.86 - samples/sec: 1387.92 - lr: 0.012500 - momentum: 0.000000\n",
            "2024-12-26 12:53:46,454 epoch 20 - iter 351/392 - loss 0.00868818 - time (sec): 130.30 - samples/sec: 1406.00 - lr: 0.012500 - momentum: 0.000000\n",
            "2024-12-26 12:53:59,735 epoch 20 - iter 390/392 - loss 0.00864878 - time (sec): 143.58 - samples/sec: 1416.77 - lr: 0.012500 - momentum: 0.000000\n",
            "2024-12-26 12:54:00,393 ----------------------------------------------------------------------------------------------------\n",
            "2024-12-26 12:54:00,394 EPOCH 20 done: loss 0.0087 - lr: 0.012500\n"
          ]
        },
        {
          "name": "stderr",
          "output_type": "stream",
          "text": [
            "100%|██████████| 32/32 [00:04<00:00,  6.98it/s]\n"
          ]
        },
        {
          "name": "stdout",
          "output_type": "stream",
          "text": [
            "2024-12-26 12:54:05,125 DEV : loss 0.28542354702949524 - f1-score (micro avg)  0.9512\n",
            "2024-12-26 12:54:05,183  - 3 epochs without improvement\n",
            "2024-12-26 12:54:06,421 ----------------------------------------------------------------------------------------------------\n",
            "2024-12-26 12:54:06,423 Loading model from best epoch ...\n",
            "2024-12-26 12:54:10,830 SequenceTagger predicts: Dictionary with 19 tags: NOUN, PROPN, PUNCT, VERB, ADP, PRON, ADJ, NUM, DET, CCONJ, ADV, AUX, SCONJ, PART, SYM, X, INTJ, <START>, <STOP>\n"
          ]
        },
        {
          "name": "stderr",
          "output_type": "stream",
          "text": [
            "100%|██████████| 33/33 [00:08<00:00,  3.75it/s]\n"
          ]
        },
        {
          "name": "stdout",
          "output_type": "stream",
          "text": [
            "2024-12-26 12:54:19,906 \n",
            "Results:\n",
            "- F-score (micro) 0.9577\n",
            "- F-score (macro) 0.9218\n",
            "- Accuracy 0.9577\n",
            "\n",
            "By class:\n",
            "              precision    recall  f1-score   support\n",
            "\n",
            "        NOUN     0.9400    0.9275    0.9337      4123\n",
            "       PUNCT     0.9837    0.9942    0.9889      3096\n",
            "        VERB     0.9550    0.9689    0.9619      2605\n",
            "        PRON     0.9949    0.9931    0.9940      2165\n",
            "       PROPN     0.8836    0.8921    0.8878      2076\n",
            "         ADP     0.9751    0.9655    0.9703      2030\n",
            "         DET     0.9937    0.9931    0.9934      1896\n",
            "         ADJ     0.9305    0.9175    0.9239      1794\n",
            "         AUX     0.9922    0.9909    0.9916      1543\n",
            "         ADV     0.9392    0.9400    0.9396      1183\n",
            "       CCONJ     0.9959    0.9891    0.9925       736\n",
            "        PART     0.9832    0.9923    0.9877       649\n",
            "         NUM     0.9661    0.9465    0.9562       542\n",
            "       SCONJ     0.9577    0.9427    0.9501       384\n",
            "        INTJ     0.7315    0.9008    0.8074       121\n",
            "         SYM     0.8250    0.9083    0.8646       109\n",
            "           X     0.5882    0.4762    0.5263        42\n",
            "\n",
            "    accuracy                         0.9577     25094\n",
            "   macro avg     0.9197    0.9258    0.9218     25094\n",
            "weighted avg     0.9579    0.9577    0.9577     25094\n",
            "\n",
            "2024-12-26 12:54:19,907 ----------------------------------------------------------------------------------------------------\n"
          ]
        },
        {
          "data": {
            "text/plain": [
              "{'test_score': 0.9577189766478043}"
            ]
          },
          "execution_count": 6,
          "metadata": {},
          "output_type": "execute_result"
        }
      ],
      "source": [
        "trainer.train('../resources/taggers/bert-multi-upos',\n",
        "              learning_rate=0.1,\n",
        "              mini_batch_size=32,\n",
        "              max_epochs=20)"
      ]
    },
    {
      "cell_type": "code",
      "execution_count": null,
      "metadata": {
        "colab": {
          "base_uri": "https://localhost:8080/"
        },
        "id": "xRGqdg1ZFQ8W",
        "outputId": "9758c98f-fbd2-4d11-dffd-d2e093094017"
      },
      "outputs": [
        {
          "name": "stdout",
          "output_type": "stream",
          "text": [
            "2024-12-25 06:18:25,711 SequenceTagger predicts: Dictionary with 19 tags: NOUN, PROPN, PUNCT, VERB, ADP, PRON, ADJ, NUM, DET, CCONJ, ADV, AUX, SCONJ, PART, SYM, X, INTJ, <START>, <STOP>\n",
            "Sentence[18]: \"gamis pria dewasa premium / jubah pakistan polos | premium adult men's robe / plain pakistani robe\" → [\"gamis\"/PROPN, \"pria\"/NOUN, \"dewasa\"/NOUN, \"premium\"/NOUN, \"/\"/SYM, \"jubah\"/PROPN, \"pakistan\"/PROPN, \"polos\"/PROPN, \"|\"/PUNCT, \"premium\"/NOUN, \"adult\"/ADJ, \"men\"/NOUN, \"'s\"/PART, \"robe\"/NOUN, \"/\"/SYM, \"plain\"/ADJ, \"pakistani\"/ADJ, \"robe\"/NOUN]\n"
          ]
        }
      ],
      "source": [
        "from flair.data import Sentence\n",
        "text = \"Gamis Pria Dewasa Premium / Jubah Pakistan Polos | Premium Adult Men's Robe / Plain Pakistani Robe\".lower()\n",
        "sentence = Sentence(text)\n",
        "tag_pos = SequenceTagger.load('resources/taggers/multiCorpus-upos-en/best-model.pt')\n",
        "tag_pos.predict(sentence)\n",
        "print(sentence.to_tagged_string())"
      ]
    },
    {
      "cell_type": "code",
      "execution_count": null,
      "metadata": {
        "colab": {
          "base_uri": "https://localhost:8080/"
        },
        "id": "0tNaV1ddFSCy",
        "outputId": "f7949d28-5143-4f08-94e8-86366bc91ce4"
      },
      "outputs": [
        {
          "name": "stdout",
          "output_type": "stream",
          "text": [
            "gamis (PROPN)\n",
            "pria (NOUN)\n",
            "dewasa (NOUN)\n",
            "premium (NOUN)\n",
            "/ (SYM)\n",
            "jubah (PROPN)\n",
            "pakistan (PROPN)\n",
            "polos (PROPN)\n",
            "| (PUNCT)\n",
            "premium (NOUN)\n",
            "adult (ADJ)\n",
            "men (NOUN)\n",
            "'s (PART)\n",
            "robe (NOUN)\n",
            "/ (SYM)\n",
            "plain (ADJ)\n",
            "pakistani (ADJ)\n",
            "robe (NOUN)\n"
          ]
        }
      ],
      "source": [
        "for token in sentence:\n",
        "    print(f\"{token.text} ({token.get_label('upos').value})\")"
      ]
    },
    {
      "cell_type": "code",
      "execution_count": null,
      "metadata": {
        "id": "QnH_YfLKgRok"
      },
      "outputs": [],
      "source": [
        "import pandas as pd\n",
        "import regex as re\n",
        "import matplotlib.pyplot as plt\n",
        "from sklearn.cluster import KMeans\n",
        "from sklearn.metrics import silhouette_score\n",
        "from sklearn.feature_extraction.text import TfidfVectorizer"
      ]
    },
    {
      "cell_type": "code",
      "execution_count": null,
      "metadata": {
        "colab": {
          "base_uri": "https://localhost:8080/",
          "height": 206
        },
        "id": "EZGxAUROhh2t",
        "outputId": "3549011b-cb9e-4d28-ae17-d89dceaed9c0"
      },
      "outputs": [
        {
          "data": {
            "application/vnd.google.colaboratory.intrinsic+json": {
              "summary": "{\n  \"name\": \"df\",\n  \"rows\": 8061,\n  \"fields\": [\n    {\n      \"column\": \"name\",\n      \"properties\": {\n        \"dtype\": \"string\",\n        \"num_unique_values\": 8061,\n        \"samples\": [\n          \"Buku Resep Variasi Olahan Jus Buah berwarna\",\n          \"danko waterheater 30liter / water heater 30 liter\",\n          \"YAMAMAX PRO YX-35/YX35 Mesin Potong/Pemotong Rumput 4 Tak HEAVY DUTY\"\n        ],\n        \"semantic_type\": \"\",\n        \"description\": \"\"\n      }\n    },\n    {\n      \"column\": \"name_length\",\n      \"properties\": {\n        \"dtype\": \"number\",\n        \"std\": 19,\n        \"min\": 0,\n        \"max\": 254,\n        \"num_unique_values\": 139,\n        \"samples\": [\n          124,\n          3,\n          45\n        ],\n        \"semantic_type\": \"\",\n        \"description\": \"\"\n      }\n    }\n  ]\n}",
              "type": "dataframe",
              "variable_name": "df"
            },
            "text/html": [
              "\n",
              "  <div id=\"df-db349c18-c507-4d90-b022-f4217ec08411\" class=\"colab-df-container\">\n",
              "    <div>\n",
              "<style scoped>\n",
              "    .dataframe tbody tr th:only-of-type {\n",
              "        vertical-align: middle;\n",
              "    }\n",
              "\n",
              "    .dataframe tbody tr th {\n",
              "        vertical-align: top;\n",
              "    }\n",
              "\n",
              "    .dataframe thead th {\n",
              "        text-align: right;\n",
              "    }\n",
              "</style>\n",
              "<table border=\"1\" class=\"dataframe\">\n",
              "  <thead>\n",
              "    <tr style=\"text-align: right;\">\n",
              "      <th></th>\n",
              "      <th>name</th>\n",
              "      <th>name_length</th>\n",
              "    </tr>\n",
              "  </thead>\n",
              "  <tbody>\n",
              "    <tr>\n",
              "      <th>0</th>\n",
              "      <td>Gamis Pria Dewasa Premium / Jubah Pakistan Polos</td>\n",
              "      <td>38</td>\n",
              "    </tr>\n",
              "    <tr>\n",
              "      <th>1</th>\n",
              "      <td>Buket Bunga Mawar Flanel / Bunga wisuda / Bung...</td>\n",
              "      <td>11</td>\n",
              "    </tr>\n",
              "    <tr>\n",
              "      <th>2</th>\n",
              "      <td>Mika Sen Depan Supra Fit New Kaca Lampu Sein D...</td>\n",
              "      <td>10</td>\n",
              "    </tr>\n",
              "    <tr>\n",
              "      <th>3</th>\n",
              "      <td>Blazer wanita jumbo big size stik balik / plus...</td>\n",
              "      <td>24</td>\n",
              "    </tr>\n",
              "    <tr>\n",
              "      <th>4</th>\n",
              "      <td>Buku Ilmu Sosial Budaya Dasar Perspektif Baru ...</td>\n",
              "      <td>69</td>\n",
              "    </tr>\n",
              "  </tbody>\n",
              "</table>\n",
              "</div>\n",
              "    <div class=\"colab-df-buttons\">\n",
              "\n",
              "  <div class=\"colab-df-container\">\n",
              "    <button class=\"colab-df-convert\" onclick=\"convertToInteractive('df-db349c18-c507-4d90-b022-f4217ec08411')\"\n",
              "            title=\"Convert this dataframe to an interactive table.\"\n",
              "            style=\"display:none;\">\n",
              "\n",
              "  <svg xmlns=\"http://www.w3.org/2000/svg\" height=\"24px\" viewBox=\"0 -960 960 960\">\n",
              "    <path d=\"M120-120v-720h720v720H120Zm60-500h600v-160H180v160Zm220 220h160v-160H400v160Zm0 220h160v-160H400v160ZM180-400h160v-160H180v160Zm440 0h160v-160H620v160ZM180-180h160v-160H180v160Zm440 0h160v-160H620v160Z\"/>\n",
              "  </svg>\n",
              "    </button>\n",
              "\n",
              "  <style>\n",
              "    .colab-df-container {\n",
              "      display:flex;\n",
              "      gap: 12px;\n",
              "    }\n",
              "\n",
              "    .colab-df-convert {\n",
              "      background-color: #E8F0FE;\n",
              "      border: none;\n",
              "      border-radius: 50%;\n",
              "      cursor: pointer;\n",
              "      display: none;\n",
              "      fill: #1967D2;\n",
              "      height: 32px;\n",
              "      padding: 0 0 0 0;\n",
              "      width: 32px;\n",
              "    }\n",
              "\n",
              "    .colab-df-convert:hover {\n",
              "      background-color: #E2EBFA;\n",
              "      box-shadow: 0px 1px 2px rgba(60, 64, 67, 0.3), 0px 1px 3px 1px rgba(60, 64, 67, 0.15);\n",
              "      fill: #174EA6;\n",
              "    }\n",
              "\n",
              "    .colab-df-buttons div {\n",
              "      margin-bottom: 4px;\n",
              "    }\n",
              "\n",
              "    [theme=dark] .colab-df-convert {\n",
              "      background-color: #3B4455;\n",
              "      fill: #D2E3FC;\n",
              "    }\n",
              "\n",
              "    [theme=dark] .colab-df-convert:hover {\n",
              "      background-color: #434B5C;\n",
              "      box-shadow: 0px 1px 3px 1px rgba(0, 0, 0, 0.15);\n",
              "      filter: drop-shadow(0px 1px 2px rgba(0, 0, 0, 0.3));\n",
              "      fill: #FFFFFF;\n",
              "    }\n",
              "  </style>\n",
              "\n",
              "    <script>\n",
              "      const buttonEl =\n",
              "        document.querySelector('#df-db349c18-c507-4d90-b022-f4217ec08411 button.colab-df-convert');\n",
              "      buttonEl.style.display =\n",
              "        google.colab.kernel.accessAllowed ? 'block' : 'none';\n",
              "\n",
              "      async function convertToInteractive(key) {\n",
              "        const element = document.querySelector('#df-db349c18-c507-4d90-b022-f4217ec08411');\n",
              "        const dataTable =\n",
              "          await google.colab.kernel.invokeFunction('convertToInteractive',\n",
              "                                                    [key], {});\n",
              "        if (!dataTable) return;\n",
              "\n",
              "        const docLinkHtml = 'Like what you see? Visit the ' +\n",
              "          '<a target=\"_blank\" href=https://colab.research.google.com/notebooks/data_table.ipynb>data table notebook</a>'\n",
              "          + ' to learn more about interactive tables.';\n",
              "        element.innerHTML = '';\n",
              "        dataTable['output_type'] = 'display_data';\n",
              "        await google.colab.output.renderOutput(dataTable, element);\n",
              "        const docLink = document.createElement('div');\n",
              "        docLink.innerHTML = docLinkHtml;\n",
              "        element.appendChild(docLink);\n",
              "      }\n",
              "    </script>\n",
              "  </div>\n",
              "\n",
              "\n",
              "<div id=\"df-fdbdf4d0-150d-43ff-a641-4e13a10bce0e\">\n",
              "  <button class=\"colab-df-quickchart\" onclick=\"quickchart('df-fdbdf4d0-150d-43ff-a641-4e13a10bce0e')\"\n",
              "            title=\"Suggest charts\"\n",
              "            style=\"display:none;\">\n",
              "\n",
              "<svg xmlns=\"http://www.w3.org/2000/svg\" height=\"24px\"viewBox=\"0 0 24 24\"\n",
              "     width=\"24px\">\n",
              "    <g>\n",
              "        <path d=\"M19 3H5c-1.1 0-2 .9-2 2v14c0 1.1.9 2 2 2h14c1.1 0 2-.9 2-2V5c0-1.1-.9-2-2-2zM9 17H7v-7h2v7zm4 0h-2V7h2v10zm4 0h-2v-4h2v4z\"/>\n",
              "    </g>\n",
              "</svg>\n",
              "  </button>\n",
              "\n",
              "<style>\n",
              "  .colab-df-quickchart {\n",
              "      --bg-color: #E8F0FE;\n",
              "      --fill-color: #1967D2;\n",
              "      --hover-bg-color: #E2EBFA;\n",
              "      --hover-fill-color: #174EA6;\n",
              "      --disabled-fill-color: #AAA;\n",
              "      --disabled-bg-color: #DDD;\n",
              "  }\n",
              "\n",
              "  [theme=dark] .colab-df-quickchart {\n",
              "      --bg-color: #3B4455;\n",
              "      --fill-color: #D2E3FC;\n",
              "      --hover-bg-color: #434B5C;\n",
              "      --hover-fill-color: #FFFFFF;\n",
              "      --disabled-bg-color: #3B4455;\n",
              "      --disabled-fill-color: #666;\n",
              "  }\n",
              "\n",
              "  .colab-df-quickchart {\n",
              "    background-color: var(--bg-color);\n",
              "    border: none;\n",
              "    border-radius: 50%;\n",
              "    cursor: pointer;\n",
              "    display: none;\n",
              "    fill: var(--fill-color);\n",
              "    height: 32px;\n",
              "    padding: 0;\n",
              "    width: 32px;\n",
              "  }\n",
              "\n",
              "  .colab-df-quickchart:hover {\n",
              "    background-color: var(--hover-bg-color);\n",
              "    box-shadow: 0 1px 2px rgba(60, 64, 67, 0.3), 0 1px 3px 1px rgba(60, 64, 67, 0.15);\n",
              "    fill: var(--button-hover-fill-color);\n",
              "  }\n",
              "\n",
              "  .colab-df-quickchart-complete:disabled,\n",
              "  .colab-df-quickchart-complete:disabled:hover {\n",
              "    background-color: var(--disabled-bg-color);\n",
              "    fill: var(--disabled-fill-color);\n",
              "    box-shadow: none;\n",
              "  }\n",
              "\n",
              "  .colab-df-spinner {\n",
              "    border: 2px solid var(--fill-color);\n",
              "    border-color: transparent;\n",
              "    border-bottom-color: var(--fill-color);\n",
              "    animation:\n",
              "      spin 1s steps(1) infinite;\n",
              "  }\n",
              "\n",
              "  @keyframes spin {\n",
              "    0% {\n",
              "      border-color: transparent;\n",
              "      border-bottom-color: var(--fill-color);\n",
              "      border-left-color: var(--fill-color);\n",
              "    }\n",
              "    20% {\n",
              "      border-color: transparent;\n",
              "      border-left-color: var(--fill-color);\n",
              "      border-top-color: var(--fill-color);\n",
              "    }\n",
              "    30% {\n",
              "      border-color: transparent;\n",
              "      border-left-color: var(--fill-color);\n",
              "      border-top-color: var(--fill-color);\n",
              "      border-right-color: var(--fill-color);\n",
              "    }\n",
              "    40% {\n",
              "      border-color: transparent;\n",
              "      border-right-color: var(--fill-color);\n",
              "      border-top-color: var(--fill-color);\n",
              "    }\n",
              "    60% {\n",
              "      border-color: transparent;\n",
              "      border-right-color: var(--fill-color);\n",
              "    }\n",
              "    80% {\n",
              "      border-color: transparent;\n",
              "      border-right-color: var(--fill-color);\n",
              "      border-bottom-color: var(--fill-color);\n",
              "    }\n",
              "    90% {\n",
              "      border-color: transparent;\n",
              "      border-bottom-color: var(--fill-color);\n",
              "    }\n",
              "  }\n",
              "</style>\n",
              "\n",
              "  <script>\n",
              "    async function quickchart(key) {\n",
              "      const quickchartButtonEl =\n",
              "        document.querySelector('#' + key + ' button');\n",
              "      quickchartButtonEl.disabled = true;  // To prevent multiple clicks.\n",
              "      quickchartButtonEl.classList.add('colab-df-spinner');\n",
              "      try {\n",
              "        const charts = await google.colab.kernel.invokeFunction(\n",
              "            'suggestCharts', [key], {});\n",
              "      } catch (error) {\n",
              "        console.error('Error during call to suggestCharts:', error);\n",
              "      }\n",
              "      quickchartButtonEl.classList.remove('colab-df-spinner');\n",
              "      quickchartButtonEl.classList.add('colab-df-quickchart-complete');\n",
              "    }\n",
              "    (() => {\n",
              "      let quickchartButtonEl =\n",
              "        document.querySelector('#df-fdbdf4d0-150d-43ff-a641-4e13a10bce0e button');\n",
              "      quickchartButtonEl.style.display =\n",
              "        google.colab.kernel.accessAllowed ? 'block' : 'none';\n",
              "    })();\n",
              "  </script>\n",
              "</div>\n",
              "\n",
              "    </div>\n",
              "  </div>\n"
            ],
            "text/plain": [
              "                                                name  name_length\n",
              "0   Gamis Pria Dewasa Premium / Jubah Pakistan Polos           38\n",
              "1  Buket Bunga Mawar Flanel / Bunga wisuda / Bung...           11\n",
              "2  Mika Sen Depan Supra Fit New Kaca Lampu Sein D...           10\n",
              "3  Blazer wanita jumbo big size stik balik / plus...           24\n",
              "4  Buku Ilmu Sosial Budaya Dasar Perspektif Baru ...           69"
            ]
          },
          "execution_count": 24,
          "metadata": {},
          "output_type": "execute_result"
        }
      ],
      "source": [
        "df = pd.read_csv('/content/clean_dataset.csv')\n",
        "df = df[['name', 'name_length']]\n",
        "df.head()"
      ]
    },
    {
      "cell_type": "code",
      "execution_count": null,
      "metadata": {
        "colab": {
          "base_uri": "https://localhost:8080/"
        },
        "id": "8ebuVbW7hmFp",
        "outputId": "b43a9fd3-7a82-49ab-c73e-f812287346e2"
      },
      "outputs": [
        {
          "name": "stdout",
          "output_type": "stream",
          "text": [
            "2024-12-25 08:03:39,728 SequenceTagger predicts: Dictionary with 19 tags: NOUN, PROPN, PUNCT, VERB, ADP, PRON, ADJ, NUM, DET, CCONJ, ADV, AUX, SCONJ, PART, SYM, X, INTJ, <START>, <STOP>\n"
          ]
        }
      ],
      "source": [
        "tag_pos = SequenceTagger.load('/content/resources/taggers/multiCorpus-upos/best-model.pt')\n",
        "def extract_noun_custom(text):\n",
        "    try:\n",
        "        tokens = re.split(r'[^\\w]+', text.lower())\n",
        "        cleaned_text = ' '.join(filter(None, tokens))\n",
        "\n",
        "        sentence = Sentence(cleaned_text)\n",
        "        tag_pos.predict(sentence)\n",
        "\n",
        "        filtered_words = []\n",
        "        seen = set()\n",
        "        for token in sentence:\n",
        "            if token.get_label('upos').value in ['NOUN'] and token.text not in seen:\n",
        "                filtered_words.append(token.text)\n",
        "                seen.add(token.text)\n",
        "        return ' '.join(filtered_words)\n",
        "    except Exception as e:\n",
        "        print(f\"Error processing text: {text}. Exception: {e}\")\n",
        "        return ''\n",
        "\n",
        "df['bert_id_noun'] = df['name'].apply(extract_noun_custom)"
      ]
    },
    {
      "cell_type": "code",
      "execution_count": null,
      "metadata": {
        "colab": {
          "base_uri": "https://localhost:8080/"
        },
        "id": "7qUUEUk8htDz",
        "outputId": "a96dc45a-7250-4693-abf5-020425ffac1a"
      },
      "outputs": [
        {
          "name": "stdout",
          "output_type": "stream",
          "text": [
            "2024-12-25 08:05:57,334 SequenceTagger predicts: Dictionary with 19 tags: NOUN, PROPN, PUNCT, VERB, ADP, PRON, ADJ, NUM, DET, CCONJ, ADV, AUX, SCONJ, PART, SYM, X, INTJ, <START>, <STOP>\n"
          ]
        }
      ],
      "source": [
        "tag_pos = SequenceTagger.load('/content/resources/taggers/multiCorpus-upos-en/best-model.pt')\n",
        "def extract_noun_custom(text):\n",
        "    try:\n",
        "        tokens = re.split(r'[^\\w]+', text.lower())\n",
        "        cleaned_text = ' '.join(filter(None, tokens))\n",
        "\n",
        "        sentence = Sentence(cleaned_text)\n",
        "        tag_pos.predict(sentence)\n",
        "\n",
        "        filtered_words = []\n",
        "        seen = set()\n",
        "        for token in sentence:\n",
        "            if token.get_label('upos').value in ['NOUN'] and token.text not in seen:\n",
        "                filtered_words.append(token.text)\n",
        "                seen.add(token.text)\n",
        "        return ' '.join(filtered_words)\n",
        "    except Exception as e:\n",
        "        print(f\"Error processing text: {text}. Exception: {e}\")\n",
        "        return ''\n",
        "\n",
        "df['bert_multi_noun'] = df['name'].apply(extract_noun_custom)"
      ]
    },
    {
      "cell_type": "code",
      "execution_count": null,
      "metadata": {
        "id": "XU42-GYZh08I"
      },
      "outputs": [],
      "source": [
        "bert_id = TfidfVectorizer(max_df=0.95, min_df=40, stop_words='english')\n",
        "X_bert_id = bert_id.fit_transform(df['bert_id_noun'])\n",
        "bert_multi = TfidfVectorizer(max_df=0.95, min_df=40, stop_words='english')\n",
        "X_bert_multi = bert_multi.fit_transform(df['bert_multi_noun'])"
      ]
    },
    {
      "cell_type": "markdown",
      "metadata": {
        "id": "m2FCCXmKiA3q"
      },
      "source": [
        "# BERT ID"
      ]
    },
    {
      "cell_type": "code",
      "execution_count": null,
      "metadata": {
        "colab": {
          "base_uri": "https://localhost:8080/",
          "height": 876
        },
        "id": "K4w0bjDbh_oC",
        "outputId": "ee6d1c1c-c1da-4ac7-b881-cf0c14c48e94"
      },
      "outputs": [
        {
          "name": "stdout",
          "output_type": "stream",
          "text": [
            "K=502, Silhouette Score=0.6530155426621399\n",
            "K=503, Silhouette Score=0.6535720468743481\n",
            "K=504, Silhouette Score=0.6538452267298123\n",
            "K=505, Silhouette Score=0.6540891639760177\n",
            "K=506, Silhouette Score=0.6541848368123809\n",
            "K=507, Silhouette Score=0.6543510678618522\n",
            "K=508, Silhouette Score=0.6546272144394584\n",
            "K=509, Silhouette Score=0.6548916878636702\n",
            "K=510, Silhouette Score=0.6549459404675977\n",
            "K=511, Silhouette Score=0.6552906730450127\n",
            "K=512, Silhouette Score=0.6556254236528963\n",
            "K=513, Silhouette Score=0.6558591124682226\n",
            "K=514, Silhouette Score=0.6560303191294887\n",
            "K=515, Silhouette Score=0.6561284723665415\n",
            "K=516, Silhouette Score=0.6564640836355765\n",
            "K=517, Silhouette Score=0.65645639916159\n",
            "K=518, Silhouette Score=0.6567737205528367\n",
            "K=519, Silhouette Score=0.6569256748302374\n"
          ]
        },
        {
          "data": {
            "image/png": "[encoded data removed]",
            "text/plain": [
              "<Figure size 1000x600 with 1 Axes>"
            ]
          },
          "metadata": {},
          "output_type": "display_data"
        }
      ],
      "source": [
        "# Inisialisasi daftar untuk menyimpan skor silhouette untuk setiap nilai K\n",
        "silhouette_scores = []\n",
        "k_range = range(502, 520)  # Menyesuaikan rentang K untuk demonstrasi\n",
        "\n",
        "# Menghitung skor silhouette untuk setiap nilai K\n",
        "for k in k_range:\n",
        "    # Membuat model KMeans dengan jumlah kluster sebanyak K\n",
        "    kmeans = KMeans(n_clusters=k, random_state=42)\n",
        "\n",
        "    # Menerapkan klustering dan mendapatkan label kluster\n",
        "    labels = kmeans.fit_predict(X_bert_id)\n",
        "\n",
        "    # Menghitung skor silhouette untuk mengevaluasi kualitas klustering\n",
        "    score = silhouette_score(X_bert_id, labels)\n",
        "\n",
        "    # Menyimpan skor ke dalam daftar\n",
        "    silhouette_scores.append(score)\n",
        "    print(f\"K={k}, Silhouette Score={score}\")\n",
        "\n",
        "# Menampilkan grafik skor silhouette untuk setiap nilai K\n",
        "plt.figure(figsize=(10, 6))\n",
        "plt.plot(k_range, silhouette_scores, marker='o', linestyle='-')\n",
        "plt.xlabel(\"Jumlah Kluster (K)\")\n",
        "plt.ylabel(\"Skor Silhouette\")\n",
        "plt.title(\"Skor Silhouette untuk Berbagai Nilai K\")\n",
        "plt.xticks(k_range)\n",
        "plt.grid()\n",
        "plt.show()"
      ]
    },
    {
      "cell_type": "code",
      "execution_count": null,
      "metadata": {
        "colab": {
          "base_uri": "https://localhost:8080/",
          "height": 876
        },
        "id": "PhsrAElfiH8g",
        "outputId": "e767a346-c67b-4b50-e98f-dd3aa416309f"
      },
      "outputs": [
        {
          "name": "stdout",
          "output_type": "stream",
          "text": [
            "K=1002, Silhouette Score=0.7238735206898302\n",
            "K=1003, Silhouette Score=0.72386110877137\n",
            "K=1004, Silhouette Score=0.7239607544671525\n",
            "K=1005, Silhouette Score=0.7240433533277119\n",
            "K=1006, Silhouette Score=0.7241994977151642\n",
            "K=1007, Silhouette Score=0.7242354474063898\n",
            "K=1008, Silhouette Score=0.724190138964091\n",
            "K=1009, Silhouette Score=0.7243036668392262\n",
            "K=1010, Silhouette Score=0.7244188333182857\n",
            "K=1011, Silhouette Score=0.7245028588659477\n",
            "K=1012, Silhouette Score=0.7245438148884874\n",
            "K=1013, Silhouette Score=0.7246027541596467\n",
            "K=1014, Silhouette Score=0.7246491353229664\n",
            "K=1015, Silhouette Score=0.7247305128185199\n",
            "K=1016, Silhouette Score=0.7249166262835565\n",
            "K=1017, Silhouette Score=0.7251565654759861\n",
            "K=1018, Silhouette Score=0.7252038594997436\n",
            "K=1019, Silhouette Score=0.7254451684960009\n"
          ]
        },
        {
          "data": {
            "image/png": "[encoded data removed]",
            "text/plain": [
              "<Figure size 1000x600 with 1 Axes>"
            ]
          },
          "metadata": {},
          "output_type": "display_data"
        }
      ],
      "source": [
        "# Inisialisasi daftar untuk menyimpan skor silhouette untuk setiap nilai K\n",
        "silhouette_scores = []\n",
        "k_range = range(1002, 1020)  # Menyesuaikan rentang K untuk demonstrasi\n",
        "\n",
        "# Menghitung skor silhouette untuk setiap nilai K\n",
        "for k in k_range:\n",
        "    # Membuat model KMeans dengan jumlah kluster sebanyak K\n",
        "    kmeans = KMeans(n_clusters=k, random_state=42)\n",
        "\n",
        "    # Menerapkan klustering dan mendapatkan label kluster\n",
        "    labels = kmeans.fit_predict(X_bert_id)\n",
        "\n",
        "    # Menghitung skor silhouette untuk mengevaluasi kualitas klustering\n",
        "    score = silhouette_score(X_bert_id, labels)\n",
        "\n",
        "    # Menyimpan skor ke dalam daftar\n",
        "    silhouette_scores.append(score)\n",
        "    print(f\"K={k}, Silhouette Score={score}\")\n",
        "\n",
        "# Menampilkan grafik skor silhouette untuk setiap nilai K\n",
        "plt.figure(figsize=(10, 6))\n",
        "plt.plot(k_range, silhouette_scores, marker='o', linestyle='-')\n",
        "plt.xlabel(\"Jumlah Kluster (K)\")\n",
        "plt.ylabel(\"Skor Silhouette\")\n",
        "plt.title(\"Skor Silhouette untuk Berbagai Nilai K\")\n",
        "plt.xticks(k_range)\n",
        "plt.grid()\n",
        "plt.show()"
      ]
    },
    {
      "cell_type": "markdown",
      "metadata": {
        "id": "GwWyUwX8iCGB"
      },
      "source": [
        "# BERT MULTI"
      ]
    },
    {
      "cell_type": "code",
      "execution_count": null,
      "metadata": {
        "colab": {
          "base_uri": "https://localhost:8080/",
          "height": 876
        },
        "id": "b0f1yi85iC3C",
        "outputId": "6cf2a3d1-2ee9-404a-a41e-1569d9415be5"
      },
      "outputs": [
        {
          "name": "stdout",
          "output_type": "stream",
          "text": [
            "K=2, Silhouette Score=0.17689595944095585\n",
            "K=3, Silhouette Score=0.1784791534145438\n",
            "K=4, Silhouette Score=0.18850966360352375\n",
            "K=5, Silhouette Score=0.19167791429146316\n",
            "K=6, Silhouette Score=0.19708396505254205\n",
            "K=7, Silhouette Score=0.19982597180176095\n",
            "K=8, Silhouette Score=0.24384479583565982\n",
            "K=9, Silhouette Score=0.24514969153671712\n",
            "K=10, Silhouette Score=0.2518417945077532\n",
            "K=11, Silhouette Score=0.2561920138481406\n",
            "K=12, Silhouette Score=0.2600574921112988\n",
            "K=13, Silhouette Score=0.26577252664465506\n",
            "K=14, Silhouette Score=0.2691623923731885\n",
            "K=15, Silhouette Score=0.27770945688771637\n",
            "K=16, Silhouette Score=0.28118975460337386\n",
            "K=17, Silhouette Score=0.2856570911613565\n",
            "K=18, Silhouette Score=0.28869627451852664\n",
            "K=19, Silhouette Score=0.29201137998207877\n"
          ]
        },
        {
          "data": {
            "image/png": "[encoded data removed]",
            "text/plain": [
              "<Figure size 1000x600 with 1 Axes>"
            ]
          },
          "metadata": {},
          "output_type": "display_data"
        }
      ],
      "source": [
        "# Inisialisasi daftar untuk menyimpan skor silhouette untuk setiap nilai K\n",
        "silhouette_scores = []\n",
        "k_range = range(2, 20)  # Menyesuaikan rentang K untuk demonstrasi\n",
        "\n",
        "# Menghitung skor silhouette untuk setiap nilai K\n",
        "for k in k_range:\n",
        "    # Membuat model KMeans dengan jumlah kluster sebanyak K\n",
        "    kmeans = KMeans(n_clusters=k, random_state=42)\n",
        "\n",
        "    # Menerapkan klustering dan mendapatkan label kluster\n",
        "    labels = kmeans.fit_predict(X_bert_multi)\n",
        "\n",
        "    # Menghitung skor silhouette untuk mengevaluasi kualitas klustering\n",
        "    score = silhouette_score(X_bert_multi, labels)\n",
        "\n",
        "    # Menyimpan skor ke dalam daftar\n",
        "    silhouette_scores.append(score)\n",
        "    print(f\"K={k}, Silhouette Score={score}\")\n",
        "\n",
        "# Menampilkan grafik skor silhouette untuk setiap nilai K\n",
        "plt.figure(figsize=(10, 6))\n",
        "plt.plot(k_range, silhouette_scores, marker='o', linestyle='-')\n",
        "plt.xlabel(\"Jumlah Kluster (K)\")\n",
        "plt.ylabel(\"Skor Silhouette\")\n",
        "plt.title(\"Skor Silhouette untuk Berbagai Nilai K\")\n",
        "plt.xticks(k_range)\n",
        "plt.grid()\n",
        "plt.show()"
      ]
    },
    {
      "cell_type": "code",
      "execution_count": null,
      "metadata": {
        "colab": {
          "base_uri": "https://localhost:8080/",
          "height": 876
        },
        "id": "p6Mwd87RiLtP",
        "outputId": "5c9fb5ac-d150-4448-f557-286bbb32fbab"
      },
      "outputs": [
        {
          "name": "stdout",
          "output_type": "stream",
          "text": [
            "K=1002, Silhouette Score=0.7465316160751765\n",
            "K=1003, Silhouette Score=0.7465787823709558\n",
            "K=1004, Silhouette Score=0.7466558730705147\n",
            "K=1005, Silhouette Score=0.7467196492225878\n",
            "K=1006, Silhouette Score=0.7467956780900178\n",
            "K=1007, Silhouette Score=0.7468204515031103\n",
            "K=1008, Silhouette Score=0.7469176041320228\n",
            "K=1009, Silhouette Score=0.7469921981774068\n",
            "K=1010, Silhouette Score=0.7470966488913354\n",
            "K=1011, Silhouette Score=0.7470881695621957\n",
            "K=1012, Silhouette Score=0.7471824294713406\n",
            "K=1013, Silhouette Score=0.74708448266179\n",
            "K=1014, Silhouette Score=0.7471753429914292\n",
            "K=1015, Silhouette Score=0.7472265107426429\n",
            "K=1016, Silhouette Score=0.7472884286971232\n",
            "K=1017, Silhouette Score=0.7474049778544922\n",
            "K=1018, Silhouette Score=0.7474382145577776\n",
            "K=1019, Silhouette Score=0.7473928943541711\n"
          ]
        },
        {
          "data": {
            "image/png": "[encoded data removed]",
            "text/plain": [
              "<Figure size 1000x600 with 1 Axes>"
            ]
          },
          "metadata": {},
          "output_type": "display_data"
        }
      ],
      "source": [
        "# Inisialisasi daftar untuk menyimpan skor silhouette untuk setiap nilai K\n",
        "silhouette_scores = []\n",
        "k_range = range(1002, 1020)  # Menyesuaikan rentang K untuk demonstrasi\n",
        "\n",
        "# Menghitung skor silhouette untuk setiap nilai K\n",
        "for k in k_range:\n",
        "    # Membuat model KMeans dengan jumlah kluster sebanyak K\n",
        "    kmeans = KMeans(n_clusters=k, random_state=42)\n",
        "\n",
        "    # Menerapkan klustering dan mendapatkan label kluster\n",
        "    labels = kmeans.fit_predict(X_bert_multi)\n",
        "\n",
        "    # Menghitung skor silhouette untuk mengevaluasi kualitas klustering\n",
        "    score = silhouette_score(X_bert_multi, labels)\n",
        "\n",
        "    # Menyimpan skor ke dalam daftar\n",
        "    silhouette_scores.append(score)\n",
        "    print(f\"K={k}, Silhouette Score={score}\")\n",
        "\n",
        "# Menampilkan grafik skor silhouette untuk setiap nilai K\n",
        "plt.figure(figsize=(10, 6))\n",
        "plt.plot(k_range, silhouette_scores, marker='o', linestyle='-')\n",
        "plt.xlabel(\"Jumlah Kluster (K)\")\n",
        "plt.ylabel(\"Skor Silhouette\")\n",
        "plt.title(\"Skor Silhouette untuk Berbagai Nilai K\")\n",
        "plt.xticks(k_range)\n",
        "plt.grid()\n",
        "plt.show()"
      ]
    },
    {
      "cell_type": "code",
      "execution_count": null,
      "metadata": {
        "colab": {
          "base_uri": "https://localhost:8080/",
          "height": 876
        },
        "id": "s5Z55n4k3-Lc",
        "outputId": "72833bb0-a8c0-4e52-dfde-8e62813d0350"
      },
      "outputs": [
        {
          "name": "stdout",
          "output_type": "stream",
          "text": [
            "K=1002, Silhouette Score=0.7465316160751765\n",
            "K=1003, Silhouette Score=0.7465787823709558\n",
            "K=1004, Silhouette Score=0.7466558730705147\n",
            "K=1005, Silhouette Score=0.7467196492225878\n",
            "K=1006, Silhouette Score=0.7467956780900178\n",
            "K=1007, Silhouette Score=0.7468204515031103\n",
            "K=1008, Silhouette Score=0.7469176041320228\n",
            "K=1009, Silhouette Score=0.7469921981774068\n",
            "K=1010, Silhouette Score=0.7470966488913354\n",
            "K=1011, Silhouette Score=0.7470881695621957\n",
            "K=1012, Silhouette Score=0.7471824294713406\n",
            "K=1013, Silhouette Score=0.74708448266179\n",
            "K=1014, Silhouette Score=0.7471753429914292\n",
            "K=1015, Silhouette Score=0.7472265107426429\n",
            "K=1016, Silhouette Score=0.7472884286971232\n",
            "K=1017, Silhouette Score=0.7474049778544922\n",
            "K=1018, Silhouette Score=0.7474382145577776\n",
            "K=1019, Silhouette Score=0.7473928943541711\n"
          ]
        },
        {
          "data": {
            "image/png": "[encoded data removed]",
            "text/plain": [
              "<Figure size 1000x600 with 1 Axes>"
            ]
          },
          "metadata": {},
          "output_type": "display_data"
        }
      ],
      "source": [
        "inertia_values = []\n",
        "cluster_range = range(1002, 1020)\n",
        "\n",
        "for n_clusters in cluster_range:\n",
        "    kmeans = KMeans(n_clusters=n_clusters, random_state=42)\n",
        "    labels = kmeans.fit_predict(X_bert_multi)\n",
        "    inertia_values.append(kmeans.inertia_)\n",
        "    sil_score = silhouette_score(X_bert_multi, labels)\n",
        "    print(f\"K={n_clusters}, Silhouette Score={sil_score}\")\n",
        "\n",
        "plt.figure(figsize=(10, 6))\n",
        "plt.plot(cluster_range, inertia_values, marker='o', linestyle='-')\n",
        "plt.xlabel('Number of Clusters')\n",
        "plt.ylabel('Inertia')\n",
        "plt.title('Elbow Method For Optimal k')\n",
        "plt.xticks(cluster_range)\n",
        "plt.grid()\n",
        "plt.show()"
      ]
    }
  ],
  "metadata": {
    "accelerator": "GPU",
    "colab": {
      "gpuType": "T4",
      "provenance": []
    },
    "kernelspec": {
      "display_name": "env",
      "language": "python",
      "name": "python3"
    },
    "language_info": {
      "codemirror_mode": {
        "name": "ipython",
        "version": 3
      },
      "file_extension": ".py",
      "mimetype": "text/x-python",
      "name": "python",
      "nbconvert_exporter": "python",
      "pygments_lexer": "ipython3",
      "version": "3.10.5"
    },
    "widgets": {
      "application/vnd.jupyter.widget-state+json": {
        "008125299a564761bfae4e2c8762e45d": {
          "model_module": "@jupyter-widgets/controls",
          "model_module_version": "1.5.0",
          "model_name": "HBoxModel",
          "state": {
            "_dom_classes": [],
            "_model_module": "@jupyter-widgets/controls",
            "_model_module_version": "1.5.0",
            "_model_name": "HBoxModel",
            "_view_count": null,
            "_view_module": "@jupyter-widgets/controls",
            "_view_module_version": "1.5.0",
            "_view_name": "HBoxView",
            "box_style": "",
            "children": [
              "IPY_MODEL_1bc80b720e1b4351bb6120bbbc965fdf",
              "IPY_MODEL_be21cf4aa2394d3fba12efdef3a9a8c9",
              "IPY_MODEL_5085f444f70d460a9dc1d91e3740ca4f"
            ],
            "layout": "IPY_MODEL_4176080d41514a8cb527601e6358a39b"
          }
        },
        "02b9ec553ef242c09b7a64a638eb8210": {
          "model_module": "@jupyter-widgets/base",
          "model_module_version": "1.2.0",
          "model_name": "LayoutModel",
          "state": {
            "_model_module": "@jupyter-widgets/base",
            "_model_module_version": "1.2.0",
            "_model_name": "LayoutModel",
            "_view_count": null,
            "_view_module": "@jupyter-widgets/base",
            "_view_module_version": "1.2.0",
            "_view_name": "LayoutView",
            "align_content": null,
            "align_items": null,
            "align_self": null,
            "border": null,
            "bottom": null,
            "display": null,
            "flex": null,
            "flex_flow": null,
            "grid_area": null,
            "grid_auto_columns": null,
            "grid_auto_flow": null,
            "grid_auto_rows": null,
            "grid_column": null,
            "grid_gap": null,
            "grid_row": null,
            "grid_template_areas": null,
            "grid_template_columns": null,
            "grid_template_rows": null,
            "height": null,
            "justify_content": null,
            "justify_items": null,
            "left": null,
            "margin": null,
            "max_height": null,
            "max_width": null,
            "min_height": null,
            "min_width": null,
            "object_fit": null,
            "object_position": null,
            "order": null,
            "overflow": null,
            "overflow_x": null,
            "overflow_y": null,
            "padding": null,
            "right": null,
            "top": null,
            "visibility": null,
            "width": null
          }
        },
        "05b331bd76c24e17885681bbf2cc2a08": {
          "model_module": "@jupyter-widgets/controls",
          "model_module_version": "1.5.0",
          "model_name": "DescriptionStyleModel",
          "state": {
            "_model_module": "@jupyter-widgets/controls",
            "_model_module_version": "1.5.0",
            "_model_name": "DescriptionStyleModel",
            "_view_count": null,
            "_view_module": "@jupyter-widgets/base",
            "_view_module_version": "1.2.0",
            "_view_name": "StyleView",
            "description_width": ""
          }
        },
        "0a34cf1d67ac4f24acda9cb86bd1db10": {
          "model_module": "@jupyter-widgets/controls",
          "model_module_version": "1.5.0",
          "model_name": "DescriptionStyleModel",
          "state": {
            "_model_module": "@jupyter-widgets/controls",
            "_model_module_version": "1.5.0",
            "_model_name": "DescriptionStyleModel",
            "_view_count": null,
            "_view_module": "@jupyter-widgets/base",
            "_view_module_version": "1.2.0",
            "_view_name": "StyleView",
            "description_width": ""
          }
        },
        "10ce360014ee4a71b408e6099f69f2ae": {
          "model_module": "@jupyter-widgets/controls",
          "model_module_version": "1.5.0",
          "model_name": "DescriptionStyleModel",
          "state": {
            "_model_module": "@jupyter-widgets/controls",
            "_model_module_version": "1.5.0",
            "_model_name": "DescriptionStyleModel",
            "_view_count": null,
            "_view_module": "@jupyter-widgets/base",
            "_view_module_version": "1.2.0",
            "_view_name": "StyleView",
            "description_width": ""
          }
        },
        "134feb4e7e1544bab7a771fb22a9913b": {
          "model_module": "@jupyter-widgets/controls",
          "model_module_version": "1.5.0",
          "model_name": "DescriptionStyleModel",
          "state": {
            "_model_module": "@jupyter-widgets/controls",
            "_model_module_version": "1.5.0",
            "_model_name": "DescriptionStyleModel",
            "_view_count": null,
            "_view_module": "@jupyter-widgets/base",
            "_view_module_version": "1.2.0",
            "_view_name": "StyleView",
            "description_width": ""
          }
        },
        "1b9495f3cc9147afb564f52cb947baad": {
          "model_module": "@jupyter-widgets/controls",
          "model_module_version": "1.5.0",
          "model_name": "HTMLModel",
          "state": {
            "_dom_classes": [],
            "_model_module": "@jupyter-widgets/controls",
            "_model_module_version": "1.5.0",
            "_model_name": "HTMLModel",
            "_view_count": null,
            "_view_module": "@jupyter-widgets/controls",
            "_view_module_version": "1.5.0",
            "_view_name": "HTMLView",
            "description": "",
            "description_tooltip": null,
            "layout": "IPY_MODEL_9454316d95e646579b2ce4bb8ac270ae",
            "placeholder": "​",
            "style": "IPY_MODEL_05b331bd76c24e17885681bbf2cc2a08",
            "value": " 1.96M/1.96M [00:00&lt;00:00, 2.29MB/s]"
          }
        },
        "1bc80b720e1b4351bb6120bbbc965fdf": {
          "model_module": "@jupyter-widgets/controls",
          "model_module_version": "1.5.0",
          "model_name": "HTMLModel",
          "state": {
            "_dom_classes": [],
            "_model_module": "@jupyter-widgets/controls",
            "_model_module_version": "1.5.0",
            "_model_name": "HTMLModel",
            "_view_count": null,
            "_view_module": "@jupyter-widgets/controls",
            "_view_module_version": "1.5.0",
            "_view_name": "HTMLView",
            "description": "",
            "description_tooltip": null,
            "layout": "IPY_MODEL_31e68cb6fdbd4345ab119d32c31694ed",
            "placeholder": "​",
            "style": "IPY_MODEL_5b6733ddf6fc43bca700b773e305ca61",
            "value": "tokenizer_config.json: 100%"
          }
        },
        "1be579aa3f5049ea8c1de0d98779465a": {
          "model_module": "@jupyter-widgets/controls",
          "model_module_version": "1.5.0",
          "model_name": "DescriptionStyleModel",
          "state": {
            "_model_module": "@jupyter-widgets/controls",
            "_model_module_version": "1.5.0",
            "_model_name": "DescriptionStyleModel",
            "_view_count": null,
            "_view_module": "@jupyter-widgets/base",
            "_view_module_version": "1.2.0",
            "_view_name": "StyleView",
            "description_width": ""
          }
        },
        "1deb4dbac4d74dfaa86bc04ea4b1cc36": {
          "model_module": "@jupyter-widgets/controls",
          "model_module_version": "1.5.0",
          "model_name": "ProgressStyleModel",
          "state": {
            "_model_module": "@jupyter-widgets/controls",
            "_model_module_version": "1.5.0",
            "_model_name": "ProgressStyleModel",
            "_view_count": null,
            "_view_module": "@jupyter-widgets/base",
            "_view_module_version": "1.2.0",
            "_view_name": "StyleView",
            "bar_color": null,
            "description_width": ""
          }
        },
        "1f6e0e155d3b495c9feb6ec5e89406d1": {
          "model_module": "@jupyter-widgets/base",
          "model_module_version": "1.2.0",
          "model_name": "LayoutModel",
          "state": {
            "_model_module": "@jupyter-widgets/base",
            "_model_module_version": "1.2.0",
            "_model_name": "LayoutModel",
            "_view_count": null,
            "_view_module": "@jupyter-widgets/base",
            "_view_module_version": "1.2.0",
            "_view_name": "LayoutView",
            "align_content": null,
            "align_items": null,
            "align_self": null,
            "border": null,
            "bottom": null,
            "display": null,
            "flex": null,
            "flex_flow": null,
            "grid_area": null,
            "grid_auto_columns": null,
            "grid_auto_flow": null,
            "grid_auto_rows": null,
            "grid_column": null,
            "grid_gap": null,
            "grid_row": null,
            "grid_template_areas": null,
            "grid_template_columns": null,
            "grid_template_rows": null,
            "height": null,
            "justify_content": null,
            "justify_items": null,
            "left": null,
            "margin": null,
            "max_height": null,
            "max_width": null,
            "min_height": null,
            "min_width": null,
            "object_fit": null,
            "object_position": null,
            "order": null,
            "overflow": null,
            "overflow_x": null,
            "overflow_y": null,
            "padding": null,
            "right": null,
            "top": null,
            "visibility": null,
            "width": null
          }
        },
        "288d2498bf4d4642a97812aa710635f0": {
          "model_module": "@jupyter-widgets/controls",
          "model_module_version": "1.5.0",
          "model_name": "HBoxModel",
          "state": {
            "_dom_classes": [],
            "_model_module": "@jupyter-widgets/controls",
            "_model_module_version": "1.5.0",
            "_model_name": "HBoxModel",
            "_view_count": null,
            "_view_module": "@jupyter-widgets/controls",
            "_view_module_version": "1.5.0",
            "_view_name": "HBoxView",
            "box_style": "",
            "children": [
              "IPY_MODEL_501910e5680d44b2870db9b42c3ecd6f",
              "IPY_MODEL_9d2c70ee87fa480dbffc14f7065c2769",
              "IPY_MODEL_3437a58e084140fdb3e77787df7702b0"
            ],
            "layout": "IPY_MODEL_5e9da8db188a49c7a5d7da3d96852393"
          }
        },
        "2e1337c5e708471293af5e35a7f7bbfb": {
          "model_module": "@jupyter-widgets/controls",
          "model_module_version": "1.5.0",
          "model_name": "FloatProgressModel",
          "state": {
            "_dom_classes": [],
            "_model_module": "@jupyter-widgets/controls",
            "_model_module_version": "1.5.0",
            "_model_name": "FloatProgressModel",
            "_view_count": null,
            "_view_module": "@jupyter-widgets/controls",
            "_view_module_version": "1.5.0",
            "_view_name": "ProgressView",
            "bar_style": "success",
            "description": "",
            "description_tooltip": null,
            "layout": "IPY_MODEL_7d923c4c61e04a7998f27dfdf12f2ba8",
            "max": 1961828,
            "min": 0,
            "orientation": "horizontal",
            "style": "IPY_MODEL_1deb4dbac4d74dfaa86bc04ea4b1cc36",
            "value": 1961828
          }
        },
        "31e68cb6fdbd4345ab119d32c31694ed": {
          "model_module": "@jupyter-widgets/base",
          "model_module_version": "1.2.0",
          "model_name": "LayoutModel",
          "state": {
            "_model_module": "@jupyter-widgets/base",
            "_model_module_version": "1.2.0",
            "_model_name": "LayoutModel",
            "_view_count": null,
            "_view_module": "@jupyter-widgets/base",
            "_view_module_version": "1.2.0",
            "_view_name": "LayoutView",
            "align_content": null,
            "align_items": null,
            "align_self": null,
            "border": null,
            "bottom": null,
            "display": null,
            "flex": null,
            "flex_flow": null,
            "grid_area": null,
            "grid_auto_columns": null,
            "grid_auto_flow": null,
            "grid_auto_rows": null,
            "grid_column": null,
            "grid_gap": null,
            "grid_row": null,
            "grid_template_areas": null,
            "grid_template_columns": null,
            "grid_template_rows": null,
            "height": null,
            "justify_content": null,
            "justify_items": null,
            "left": null,
            "margin": null,
            "max_height": null,
            "max_width": null,
            "min_height": null,
            "min_width": null,
            "object_fit": null,
            "object_position": null,
            "order": null,
            "overflow": null,
            "overflow_x": null,
            "overflow_y": null,
            "padding": null,
            "right": null,
            "top": null,
            "visibility": null,
            "width": null
          }
        },
        "340b7ec5050846a68c974b6d89f71dff": {
          "model_module": "@jupyter-widgets/controls",
          "model_module_version": "1.5.0",
          "model_name": "ProgressStyleModel",
          "state": {
            "_model_module": "@jupyter-widgets/controls",
            "_model_module_version": "1.5.0",
            "_model_name": "ProgressStyleModel",
            "_view_count": null,
            "_view_module": "@jupyter-widgets/base",
            "_view_module_version": "1.2.0",
            "_view_name": "StyleView",
            "bar_color": null,
            "description_width": ""
          }
        },
        "3437a58e084140fdb3e77787df7702b0": {
          "model_module": "@jupyter-widgets/controls",
          "model_module_version": "1.5.0",
          "model_name": "HTMLModel",
          "state": {
            "_dom_classes": [],
            "_model_module": "@jupyter-widgets/controls",
            "_model_module_version": "1.5.0",
            "_model_name": "HTMLModel",
            "_view_count": null,
            "_view_module": "@jupyter-widgets/controls",
            "_view_module_version": "1.5.0",
            "_view_name": "HTMLView",
            "description": "",
            "description_tooltip": null,
            "layout": "IPY_MODEL_79e9990594164efab3098b34554c080f",
            "placeholder": "​",
            "style": "IPY_MODEL_134feb4e7e1544bab7a771fb22a9913b",
            "value": " 996k/996k [00:00&lt;00:00, 1.53MB/s]"
          }
        },
        "36d1ed47ad184e1990098a2816fb9bed": {
          "model_module": "@jupyter-widgets/controls",
          "model_module_version": "1.5.0",
          "model_name": "DescriptionStyleModel",
          "state": {
            "_model_module": "@jupyter-widgets/controls",
            "_model_module_version": "1.5.0",
            "_model_name": "DescriptionStyleModel",
            "_view_count": null,
            "_view_module": "@jupyter-widgets/base",
            "_view_module_version": "1.2.0",
            "_view_name": "StyleView",
            "description_width": ""
          }
        },
        "37671d41298e4e04a2278b7f11245048": {
          "model_module": "@jupyter-widgets/controls",
          "model_module_version": "1.5.0",
          "model_name": "HTMLModel",
          "state": {
            "_dom_classes": [],
            "_model_module": "@jupyter-widgets/controls",
            "_model_module_version": "1.5.0",
            "_model_name": "HTMLModel",
            "_view_count": null,
            "_view_module": "@jupyter-widgets/controls",
            "_view_module_version": "1.5.0",
            "_view_name": "HTMLView",
            "description": "",
            "description_tooltip": null,
            "layout": "IPY_MODEL_b747737655cd47e48811031c507234b8",
            "placeholder": "​",
            "style": "IPY_MODEL_1be579aa3f5049ea8c1de0d98779465a",
            "value": " 625/625 [00:00&lt;00:00, 26.5kB/s]"
          }
        },
        "388c771001ab42f988e25f687d3803d5": {
          "model_module": "@jupyter-widgets/controls",
          "model_module_version": "1.5.0",
          "model_name": "HTMLModel",
          "state": {
            "_dom_classes": [],
            "_model_module": "@jupyter-widgets/controls",
            "_model_module_version": "1.5.0",
            "_model_name": "HTMLModel",
            "_view_count": null,
            "_view_module": "@jupyter-widgets/controls",
            "_view_module_version": "1.5.0",
            "_view_name": "HTMLView",
            "description": "",
            "description_tooltip": null,
            "layout": "IPY_MODEL_5248bfe88d0244898447ac665f194d48",
            "placeholder": "​",
            "style": "IPY_MODEL_36d1ed47ad184e1990098a2816fb9bed",
            "value": "model.safetensors: 100%"
          }
        },
        "3993f6937c3e44909382ad0c93c43a82": {
          "model_module": "@jupyter-widgets/base",
          "model_module_version": "1.2.0",
          "model_name": "LayoutModel",
          "state": {
            "_model_module": "@jupyter-widgets/base",
            "_model_module_version": "1.2.0",
            "_model_name": "LayoutModel",
            "_view_count": null,
            "_view_module": "@jupyter-widgets/base",
            "_view_module_version": "1.2.0",
            "_view_name": "LayoutView",
            "align_content": null,
            "align_items": null,
            "align_self": null,
            "border": null,
            "bottom": null,
            "display": null,
            "flex": null,
            "flex_flow": null,
            "grid_area": null,
            "grid_auto_columns": null,
            "grid_auto_flow": null,
            "grid_auto_rows": null,
            "grid_column": null,
            "grid_gap": null,
            "grid_row": null,
            "grid_template_areas": null,
            "grid_template_columns": null,
            "grid_template_rows": null,
            "height": null,
            "justify_content": null,
            "justify_items": null,
            "left": null,
            "margin": null,
            "max_height": null,
            "max_width": null,
            "min_height": null,
            "min_width": null,
            "object_fit": null,
            "object_position": null,
            "order": null,
            "overflow": null,
            "overflow_x": null,
            "overflow_y": null,
            "padding": null,
            "right": null,
            "top": null,
            "visibility": null,
            "width": null
          }
        },
        "3a226f800771485f8517f0e1cd17f7a4": {
          "model_module": "@jupyter-widgets/controls",
          "model_module_version": "1.5.0",
          "model_name": "HTMLModel",
          "state": {
            "_dom_classes": [],
            "_model_module": "@jupyter-widgets/controls",
            "_model_module_version": "1.5.0",
            "_model_name": "HTMLModel",
            "_view_count": null,
            "_view_module": "@jupyter-widgets/controls",
            "_view_module_version": "1.5.0",
            "_view_name": "HTMLView",
            "description": "",
            "description_tooltip": null,
            "layout": "IPY_MODEL_1f6e0e155d3b495c9feb6ec5e89406d1",
            "placeholder": "​",
            "style": "IPY_MODEL_b616278cfc924bda941512852e5abd0c",
            "value": "config.json: 100%"
          }
        },
        "4176080d41514a8cb527601e6358a39b": {
          "model_module": "@jupyter-widgets/base",
          "model_module_version": "1.2.0",
          "model_name": "LayoutModel",
          "state": {
            "_model_module": "@jupyter-widgets/base",
            "_model_module_version": "1.2.0",
            "_model_name": "LayoutModel",
            "_view_count": null,
            "_view_module": "@jupyter-widgets/base",
            "_view_module_version": "1.2.0",
            "_view_name": "LayoutView",
            "align_content": null,
            "align_items": null,
            "align_self": null,
            "border": null,
            "bottom": null,
            "display": null,
            "flex": null,
            "flex_flow": null,
            "grid_area": null,
            "grid_auto_columns": null,
            "grid_auto_flow": null,
            "grid_auto_rows": null,
            "grid_column": null,
            "grid_gap": null,
            "grid_row": null,
            "grid_template_areas": null,
            "grid_template_columns": null,
            "grid_template_rows": null,
            "height": null,
            "justify_content": null,
            "justify_items": null,
            "left": null,
            "margin": null,
            "max_height": null,
            "max_width": null,
            "min_height": null,
            "min_width": null,
            "object_fit": null,
            "object_position": null,
            "order": null,
            "overflow": null,
            "overflow_x": null,
            "overflow_y": null,
            "padding": null,
            "right": null,
            "top": null,
            "visibility": null,
            "width": null
          }
        },
        "45252eaf49774862a360f7a3be8d5db7": {
          "model_module": "@jupyter-widgets/base",
          "model_module_version": "1.2.0",
          "model_name": "LayoutModel",
          "state": {
            "_model_module": "@jupyter-widgets/base",
            "_model_module_version": "1.2.0",
            "_model_name": "LayoutModel",
            "_view_count": null,
            "_view_module": "@jupyter-widgets/base",
            "_view_module_version": "1.2.0",
            "_view_name": "LayoutView",
            "align_content": null,
            "align_items": null,
            "align_self": null,
            "border": null,
            "bottom": null,
            "display": null,
            "flex": null,
            "flex_flow": null,
            "grid_area": null,
            "grid_auto_columns": null,
            "grid_auto_flow": null,
            "grid_auto_rows": null,
            "grid_column": null,
            "grid_gap": null,
            "grid_row": null,
            "grid_template_areas": null,
            "grid_template_columns": null,
            "grid_template_rows": null,
            "height": null,
            "justify_content": null,
            "justify_items": null,
            "left": null,
            "margin": null,
            "max_height": null,
            "max_width": null,
            "min_height": null,
            "min_width": null,
            "object_fit": null,
            "object_position": null,
            "order": null,
            "overflow": null,
            "overflow_x": null,
            "overflow_y": null,
            "padding": null,
            "right": null,
            "top": null,
            "visibility": null,
            "width": null
          }
        },
        "501910e5680d44b2870db9b42c3ecd6f": {
          "model_module": "@jupyter-widgets/controls",
          "model_module_version": "1.5.0",
          "model_name": "HTMLModel",
          "state": {
            "_dom_classes": [],
            "_model_module": "@jupyter-widgets/controls",
            "_model_module_version": "1.5.0",
            "_model_name": "HTMLModel",
            "_view_count": null,
            "_view_module": "@jupyter-widgets/controls",
            "_view_module_version": "1.5.0",
            "_view_name": "HTMLView",
            "description": "",
            "description_tooltip": null,
            "layout": "IPY_MODEL_e9d74a4f2e8b47aa8dc89ae823deea5f",
            "placeholder": "​",
            "style": "IPY_MODEL_0a34cf1d67ac4f24acda9cb86bd1db10",
            "value": "vocab.txt: 100%"
          }
        },
        "5063b6afd9bf454db4786af6afa00260": {
          "model_module": "@jupyter-widgets/controls",
          "model_module_version": "1.5.0",
          "model_name": "FloatProgressModel",
          "state": {
            "_dom_classes": [],
            "_model_module": "@jupyter-widgets/controls",
            "_model_module_version": "1.5.0",
            "_model_name": "FloatProgressModel",
            "_view_count": null,
            "_view_module": "@jupyter-widgets/controls",
            "_view_module_version": "1.5.0",
            "_view_name": "ProgressView",
            "bar_style": "success",
            "description": "",
            "description_tooltip": null,
            "layout": "IPY_MODEL_6e58aa21e2124918b8d6f79951aa1b1a",
            "max": 625,
            "min": 0,
            "orientation": "horizontal",
            "style": "IPY_MODEL_7aee0a7afca24a3ab8dc69f3d7a2b7e7",
            "value": 625
          }
        },
        "5085f444f70d460a9dc1d91e3740ca4f": {
          "model_module": "@jupyter-widgets/controls",
          "model_module_version": "1.5.0",
          "model_name": "HTMLModel",
          "state": {
            "_dom_classes": [],
            "_model_module": "@jupyter-widgets/controls",
            "_model_module_version": "1.5.0",
            "_model_name": "HTMLModel",
            "_view_count": null,
            "_view_module": "@jupyter-widgets/controls",
            "_view_module_version": "1.5.0",
            "_view_name": "HTMLView",
            "description": "",
            "description_tooltip": null,
            "layout": "IPY_MODEL_be498f296b6b444dafc362046879c886",
            "placeholder": "​",
            "style": "IPY_MODEL_dc635a711d244bc18b73c88313d2f2de",
            "value": " 49.0/49.0 [00:00&lt;00:00, 2.19kB/s]"
          }
        },
        "5248bfe88d0244898447ac665f194d48": {
          "model_module": "@jupyter-widgets/base",
          "model_module_version": "1.2.0",
          "model_name": "LayoutModel",
          "state": {
            "_model_module": "@jupyter-widgets/base",
            "_model_module_version": "1.2.0",
            "_model_name": "LayoutModel",
            "_view_count": null,
            "_view_module": "@jupyter-widgets/base",
            "_view_module_version": "1.2.0",
            "_view_name": "LayoutView",
            "align_content": null,
            "align_items": null,
            "align_self": null,
            "border": null,
            "bottom": null,
            "display": null,
            "flex": null,
            "flex_flow": null,
            "grid_area": null,
            "grid_auto_columns": null,
            "grid_auto_flow": null,
            "grid_auto_rows": null,
            "grid_column": null,
            "grid_gap": null,
            "grid_row": null,
            "grid_template_areas": null,
            "grid_template_columns": null,
            "grid_template_rows": null,
            "height": null,
            "justify_content": null,
            "justify_items": null,
            "left": null,
            "margin": null,
            "max_height": null,
            "max_width": null,
            "min_height": null,
            "min_width": null,
            "object_fit": null,
            "object_position": null,
            "order": null,
            "overflow": null,
            "overflow_x": null,
            "overflow_y": null,
            "padding": null,
            "right": null,
            "top": null,
            "visibility": null,
            "width": null
          }
        },
        "5469d499423e4b989ba7b00d83803ee6": {
          "model_module": "@jupyter-widgets/controls",
          "model_module_version": "1.5.0",
          "model_name": "ProgressStyleModel",
          "state": {
            "_model_module": "@jupyter-widgets/controls",
            "_model_module_version": "1.5.0",
            "_model_name": "ProgressStyleModel",
            "_view_count": null,
            "_view_module": "@jupyter-widgets/base",
            "_view_module_version": "1.2.0",
            "_view_name": "StyleView",
            "bar_color": null,
            "description_width": ""
          }
        },
        "574964546fb644bea56c644ebab04c6c": {
          "model_module": "@jupyter-widgets/controls",
          "model_module_version": "1.5.0",
          "model_name": "HTMLModel",
          "state": {
            "_dom_classes": [],
            "_model_module": "@jupyter-widgets/controls",
            "_model_module_version": "1.5.0",
            "_model_name": "HTMLModel",
            "_view_count": null,
            "_view_module": "@jupyter-widgets/controls",
            "_view_module_version": "1.5.0",
            "_view_name": "HTMLView",
            "description": "",
            "description_tooltip": null,
            "layout": "IPY_MODEL_9c77c5fbb448420abde258398f1d96ac",
            "placeholder": "​",
            "style": "IPY_MODEL_85ef164601a247378dd7a3b75f2342f9",
            "value": " 714M/714M [00:03&lt;00:00, 202MB/s]"
          }
        },
        "5b6733ddf6fc43bca700b773e305ca61": {
          "model_module": "@jupyter-widgets/controls",
          "model_module_version": "1.5.0",
          "model_name": "DescriptionStyleModel",
          "state": {
            "_model_module": "@jupyter-widgets/controls",
            "_model_module_version": "1.5.0",
            "_model_name": "DescriptionStyleModel",
            "_view_count": null,
            "_view_module": "@jupyter-widgets/base",
            "_view_module_version": "1.2.0",
            "_view_name": "StyleView",
            "description_width": ""
          }
        },
        "5e9da8db188a49c7a5d7da3d96852393": {
          "model_module": "@jupyter-widgets/base",
          "model_module_version": "1.2.0",
          "model_name": "LayoutModel",
          "state": {
            "_model_module": "@jupyter-widgets/base",
            "_model_module_version": "1.2.0",
            "_model_name": "LayoutModel",
            "_view_count": null,
            "_view_module": "@jupyter-widgets/base",
            "_view_module_version": "1.2.0",
            "_view_name": "LayoutView",
            "align_content": null,
            "align_items": null,
            "align_self": null,
            "border": null,
            "bottom": null,
            "display": null,
            "flex": null,
            "flex_flow": null,
            "grid_area": null,
            "grid_auto_columns": null,
            "grid_auto_flow": null,
            "grid_auto_rows": null,
            "grid_column": null,
            "grid_gap": null,
            "grid_row": null,
            "grid_template_areas": null,
            "grid_template_columns": null,
            "grid_template_rows": null,
            "height": null,
            "justify_content": null,
            "justify_items": null,
            "left": null,
            "margin": null,
            "max_height": null,
            "max_width": null,
            "min_height": null,
            "min_width": null,
            "object_fit": null,
            "object_position": null,
            "order": null,
            "overflow": null,
            "overflow_x": null,
            "overflow_y": null,
            "padding": null,
            "right": null,
            "top": null,
            "visibility": null,
            "width": null
          }
        },
        "6e58aa21e2124918b8d6f79951aa1b1a": {
          "model_module": "@jupyter-widgets/base",
          "model_module_version": "1.2.0",
          "model_name": "LayoutModel",
          "state": {
            "_model_module": "@jupyter-widgets/base",
            "_model_module_version": "1.2.0",
            "_model_name": "LayoutModel",
            "_view_count": null,
            "_view_module": "@jupyter-widgets/base",
            "_view_module_version": "1.2.0",
            "_view_name": "LayoutView",
            "align_content": null,
            "align_items": null,
            "align_self": null,
            "border": null,
            "bottom": null,
            "display": null,
            "flex": null,
            "flex_flow": null,
            "grid_area": null,
            "grid_auto_columns": null,
            "grid_auto_flow": null,
            "grid_auto_rows": null,
            "grid_column": null,
            "grid_gap": null,
            "grid_row": null,
            "grid_template_areas": null,
            "grid_template_columns": null,
            "grid_template_rows": null,
            "height": null,
            "justify_content": null,
            "justify_items": null,
            "left": null,
            "margin": null,
            "max_height": null,
            "max_width": null,
            "min_height": null,
            "min_width": null,
            "object_fit": null,
            "object_position": null,
            "order": null,
            "overflow": null,
            "overflow_x": null,
            "overflow_y": null,
            "padding": null,
            "right": null,
            "top": null,
            "visibility": null,
            "width": null
          }
        },
        "79e9990594164efab3098b34554c080f": {
          "model_module": "@jupyter-widgets/base",
          "model_module_version": "1.2.0",
          "model_name": "LayoutModel",
          "state": {
            "_model_module": "@jupyter-widgets/base",
            "_model_module_version": "1.2.0",
            "_model_name": "LayoutModel",
            "_view_count": null,
            "_view_module": "@jupyter-widgets/base",
            "_view_module_version": "1.2.0",
            "_view_name": "LayoutView",
            "align_content": null,
            "align_items": null,
            "align_self": null,
            "border": null,
            "bottom": null,
            "display": null,
            "flex": null,
            "flex_flow": null,
            "grid_area": null,
            "grid_auto_columns": null,
            "grid_auto_flow": null,
            "grid_auto_rows": null,
            "grid_column": null,
            "grid_gap": null,
            "grid_row": null,
            "grid_template_areas": null,
            "grid_template_columns": null,
            "grid_template_rows": null,
            "height": null,
            "justify_content": null,
            "justify_items": null,
            "left": null,
            "margin": null,
            "max_height": null,
            "max_width": null,
            "min_height": null,
            "min_width": null,
            "object_fit": null,
            "object_position": null,
            "order": null,
            "overflow": null,
            "overflow_x": null,
            "overflow_y": null,
            "padding": null,
            "right": null,
            "top": null,
            "visibility": null,
            "width": null
          }
        },
        "7aee0a7afca24a3ab8dc69f3d7a2b7e7": {
          "model_module": "@jupyter-widgets/controls",
          "model_module_version": "1.5.0",
          "model_name": "ProgressStyleModel",
          "state": {
            "_model_module": "@jupyter-widgets/controls",
            "_model_module_version": "1.5.0",
            "_model_name": "ProgressStyleModel",
            "_view_count": null,
            "_view_module": "@jupyter-widgets/base",
            "_view_module_version": "1.2.0",
            "_view_name": "StyleView",
            "bar_color": null,
            "description_width": ""
          }
        },
        "7d923c4c61e04a7998f27dfdf12f2ba8": {
          "model_module": "@jupyter-widgets/base",
          "model_module_version": "1.2.0",
          "model_name": "LayoutModel",
          "state": {
            "_model_module": "@jupyter-widgets/base",
            "_model_module_version": "1.2.0",
            "_model_name": "LayoutModel",
            "_view_count": null,
            "_view_module": "@jupyter-widgets/base",
            "_view_module_version": "1.2.0",
            "_view_name": "LayoutView",
            "align_content": null,
            "align_items": null,
            "align_self": null,
            "border": null,
            "bottom": null,
            "display": null,
            "flex": null,
            "flex_flow": null,
            "grid_area": null,
            "grid_auto_columns": null,
            "grid_auto_flow": null,
            "grid_auto_rows": null,
            "grid_column": null,
            "grid_gap": null,
            "grid_row": null,
            "grid_template_areas": null,
            "grid_template_columns": null,
            "grid_template_rows": null,
            "height": null,
            "justify_content": null,
            "justify_items": null,
            "left": null,
            "margin": null,
            "max_height": null,
            "max_width": null,
            "min_height": null,
            "min_width": null,
            "object_fit": null,
            "object_position": null,
            "order": null,
            "overflow": null,
            "overflow_x": null,
            "overflow_y": null,
            "padding": null,
            "right": null,
            "top": null,
            "visibility": null,
            "width": null
          }
        },
        "85ef164601a247378dd7a3b75f2342f9": {
          "model_module": "@jupyter-widgets/controls",
          "model_module_version": "1.5.0",
          "model_name": "DescriptionStyleModel",
          "state": {
            "_model_module": "@jupyter-widgets/controls",
            "_model_module_version": "1.5.0",
            "_model_name": "DescriptionStyleModel",
            "_view_count": null,
            "_view_module": "@jupyter-widgets/base",
            "_view_module_version": "1.2.0",
            "_view_name": "StyleView",
            "description_width": ""
          }
        },
        "8af62e48015e4c1a9ecf364d5eff1fe2": {
          "model_module": "@jupyter-widgets/base",
          "model_module_version": "1.2.0",
          "model_name": "LayoutModel",
          "state": {
            "_model_module": "@jupyter-widgets/base",
            "_model_module_version": "1.2.0",
            "_model_name": "LayoutModel",
            "_view_count": null,
            "_view_module": "@jupyter-widgets/base",
            "_view_module_version": "1.2.0",
            "_view_name": "LayoutView",
            "align_content": null,
            "align_items": null,
            "align_self": null,
            "border": null,
            "bottom": null,
            "display": null,
            "flex": null,
            "flex_flow": null,
            "grid_area": null,
            "grid_auto_columns": null,
            "grid_auto_flow": null,
            "grid_auto_rows": null,
            "grid_column": null,
            "grid_gap": null,
            "grid_row": null,
            "grid_template_areas": null,
            "grid_template_columns": null,
            "grid_template_rows": null,
            "height": null,
            "justify_content": null,
            "justify_items": null,
            "left": null,
            "margin": null,
            "max_height": null,
            "max_width": null,
            "min_height": null,
            "min_width": null,
            "object_fit": null,
            "object_position": null,
            "order": null,
            "overflow": null,
            "overflow_x": null,
            "overflow_y": null,
            "padding": null,
            "right": null,
            "top": null,
            "visibility": null,
            "width": null
          }
        },
        "9454316d95e646579b2ce4bb8ac270ae": {
          "model_module": "@jupyter-widgets/base",
          "model_module_version": "1.2.0",
          "model_name": "LayoutModel",
          "state": {
            "_model_module": "@jupyter-widgets/base",
            "_model_module_version": "1.2.0",
            "_model_name": "LayoutModel",
            "_view_count": null,
            "_view_module": "@jupyter-widgets/base",
            "_view_module_version": "1.2.0",
            "_view_name": "LayoutView",
            "align_content": null,
            "align_items": null,
            "align_self": null,
            "border": null,
            "bottom": null,
            "display": null,
            "flex": null,
            "flex_flow": null,
            "grid_area": null,
            "grid_auto_columns": null,
            "grid_auto_flow": null,
            "grid_auto_rows": null,
            "grid_column": null,
            "grid_gap": null,
            "grid_row": null,
            "grid_template_areas": null,
            "grid_template_columns": null,
            "grid_template_rows": null,
            "height": null,
            "justify_content": null,
            "justify_items": null,
            "left": null,
            "margin": null,
            "max_height": null,
            "max_width": null,
            "min_height": null,
            "min_width": null,
            "object_fit": null,
            "object_position": null,
            "order": null,
            "overflow": null,
            "overflow_x": null,
            "overflow_y": null,
            "padding": null,
            "right": null,
            "top": null,
            "visibility": null,
            "width": null
          }
        },
        "98e2d0795cc049fdb9bccffcce707c77": {
          "model_module": "@jupyter-widgets/base",
          "model_module_version": "1.2.0",
          "model_name": "LayoutModel",
          "state": {
            "_model_module": "@jupyter-widgets/base",
            "_model_module_version": "1.2.0",
            "_model_name": "LayoutModel",
            "_view_count": null,
            "_view_module": "@jupyter-widgets/base",
            "_view_module_version": "1.2.0",
            "_view_name": "LayoutView",
            "align_content": null,
            "align_items": null,
            "align_self": null,
            "border": null,
            "bottom": null,
            "display": null,
            "flex": null,
            "flex_flow": null,
            "grid_area": null,
            "grid_auto_columns": null,
            "grid_auto_flow": null,
            "grid_auto_rows": null,
            "grid_column": null,
            "grid_gap": null,
            "grid_row": null,
            "grid_template_areas": null,
            "grid_template_columns": null,
            "grid_template_rows": null,
            "height": null,
            "justify_content": null,
            "justify_items": null,
            "left": null,
            "margin": null,
            "max_height": null,
            "max_width": null,
            "min_height": null,
            "min_width": null,
            "object_fit": null,
            "object_position": null,
            "order": null,
            "overflow": null,
            "overflow_x": null,
            "overflow_y": null,
            "padding": null,
            "right": null,
            "top": null,
            "visibility": null,
            "width": null
          }
        },
        "9c77c5fbb448420abde258398f1d96ac": {
          "model_module": "@jupyter-widgets/base",
          "model_module_version": "1.2.0",
          "model_name": "LayoutModel",
          "state": {
            "_model_module": "@jupyter-widgets/base",
            "_model_module_version": "1.2.0",
            "_model_name": "LayoutModel",
            "_view_count": null,
            "_view_module": "@jupyter-widgets/base",
            "_view_module_version": "1.2.0",
            "_view_name": "LayoutView",
            "align_content": null,
            "align_items": null,
            "align_self": null,
            "border": null,
            "bottom": null,
            "display": null,
            "flex": null,
            "flex_flow": null,
            "grid_area": null,
            "grid_auto_columns": null,
            "grid_auto_flow": null,
            "grid_auto_rows": null,
            "grid_column": null,
            "grid_gap": null,
            "grid_row": null,
            "grid_template_areas": null,
            "grid_template_columns": null,
            "grid_template_rows": null,
            "height": null,
            "justify_content": null,
            "justify_items": null,
            "left": null,
            "margin": null,
            "max_height": null,
            "max_width": null,
            "min_height": null,
            "min_width": null,
            "object_fit": null,
            "object_position": null,
            "order": null,
            "overflow": null,
            "overflow_x": null,
            "overflow_y": null,
            "padding": null,
            "right": null,
            "top": null,
            "visibility": null,
            "width": null
          }
        },
        "9d2c70ee87fa480dbffc14f7065c2769": {
          "model_module": "@jupyter-widgets/controls",
          "model_module_version": "1.5.0",
          "model_name": "FloatProgressModel",
          "state": {
            "_dom_classes": [],
            "_model_module": "@jupyter-widgets/controls",
            "_model_module_version": "1.5.0",
            "_model_name": "FloatProgressModel",
            "_view_count": null,
            "_view_module": "@jupyter-widgets/controls",
            "_view_module_version": "1.5.0",
            "_view_name": "ProgressView",
            "bar_style": "success",
            "description": "",
            "description_tooltip": null,
            "layout": "IPY_MODEL_98e2d0795cc049fdb9bccffcce707c77",
            "max": 995526,
            "min": 0,
            "orientation": "horizontal",
            "style": "IPY_MODEL_340b7ec5050846a68c974b6d89f71dff",
            "value": 995526
          }
        },
        "9faf39a9c9674649b0bc2f41987a8d4e": {
          "model_module": "@jupyter-widgets/controls",
          "model_module_version": "1.5.0",
          "model_name": "HBoxModel",
          "state": {
            "_dom_classes": [],
            "_model_module": "@jupyter-widgets/controls",
            "_model_module_version": "1.5.0",
            "_model_name": "HBoxModel",
            "_view_count": null,
            "_view_module": "@jupyter-widgets/controls",
            "_view_module_version": "1.5.0",
            "_view_name": "HBoxView",
            "box_style": "",
            "children": [
              "IPY_MODEL_fd0d6112699544f78c3c0c39b947c4e6",
              "IPY_MODEL_2e1337c5e708471293af5e35a7f7bbfb",
              "IPY_MODEL_1b9495f3cc9147afb564f52cb947baad"
            ],
            "layout": "IPY_MODEL_ddbaf109b28349cf984be25f5523818d"
          }
        },
        "b447d2cfecf649a387f8ad9e3c4aa785": {
          "model_module": "@jupyter-widgets/base",
          "model_module_version": "1.2.0",
          "model_name": "LayoutModel",
          "state": {
            "_model_module": "@jupyter-widgets/base",
            "_model_module_version": "1.2.0",
            "_model_name": "LayoutModel",
            "_view_count": null,
            "_view_module": "@jupyter-widgets/base",
            "_view_module_version": "1.2.0",
            "_view_name": "LayoutView",
            "align_content": null,
            "align_items": null,
            "align_self": null,
            "border": null,
            "bottom": null,
            "display": null,
            "flex": null,
            "flex_flow": null,
            "grid_area": null,
            "grid_auto_columns": null,
            "grid_auto_flow": null,
            "grid_auto_rows": null,
            "grid_column": null,
            "grid_gap": null,
            "grid_row": null,
            "grid_template_areas": null,
            "grid_template_columns": null,
            "grid_template_rows": null,
            "height": null,
            "justify_content": null,
            "justify_items": null,
            "left": null,
            "margin": null,
            "max_height": null,
            "max_width": null,
            "min_height": null,
            "min_width": null,
            "object_fit": null,
            "object_position": null,
            "order": null,
            "overflow": null,
            "overflow_x": null,
            "overflow_y": null,
            "padding": null,
            "right": null,
            "top": null,
            "visibility": null,
            "width": null
          }
        },
        "b616278cfc924bda941512852e5abd0c": {
          "model_module": "@jupyter-widgets/controls",
          "model_module_version": "1.5.0",
          "model_name": "DescriptionStyleModel",
          "state": {
            "_model_module": "@jupyter-widgets/controls",
            "_model_module_version": "1.5.0",
            "_model_name": "DescriptionStyleModel",
            "_view_count": null,
            "_view_module": "@jupyter-widgets/base",
            "_view_module_version": "1.2.0",
            "_view_name": "StyleView",
            "description_width": ""
          }
        },
        "b747737655cd47e48811031c507234b8": {
          "model_module": "@jupyter-widgets/base",
          "model_module_version": "1.2.0",
          "model_name": "LayoutModel",
          "state": {
            "_model_module": "@jupyter-widgets/base",
            "_model_module_version": "1.2.0",
            "_model_name": "LayoutModel",
            "_view_count": null,
            "_view_module": "@jupyter-widgets/base",
            "_view_module_version": "1.2.0",
            "_view_name": "LayoutView",
            "align_content": null,
            "align_items": null,
            "align_self": null,
            "border": null,
            "bottom": null,
            "display": null,
            "flex": null,
            "flex_flow": null,
            "grid_area": null,
            "grid_auto_columns": null,
            "grid_auto_flow": null,
            "grid_auto_rows": null,
            "grid_column": null,
            "grid_gap": null,
            "grid_row": null,
            "grid_template_areas": null,
            "grid_template_columns": null,
            "grid_template_rows": null,
            "height": null,
            "justify_content": null,
            "justify_items": null,
            "left": null,
            "margin": null,
            "max_height": null,
            "max_width": null,
            "min_height": null,
            "min_width": null,
            "object_fit": null,
            "object_position": null,
            "order": null,
            "overflow": null,
            "overflow_x": null,
            "overflow_y": null,
            "padding": null,
            "right": null,
            "top": null,
            "visibility": null,
            "width": null
          }
        },
        "be21cf4aa2394d3fba12efdef3a9a8c9": {
          "model_module": "@jupyter-widgets/controls",
          "model_module_version": "1.5.0",
          "model_name": "FloatProgressModel",
          "state": {
            "_dom_classes": [],
            "_model_module": "@jupyter-widgets/controls",
            "_model_module_version": "1.5.0",
            "_model_name": "FloatProgressModel",
            "_view_count": null,
            "_view_module": "@jupyter-widgets/controls",
            "_view_module_version": "1.5.0",
            "_view_name": "ProgressView",
            "bar_style": "success",
            "description": "",
            "description_tooltip": null,
            "layout": "IPY_MODEL_8af62e48015e4c1a9ecf364d5eff1fe2",
            "max": 49,
            "min": 0,
            "orientation": "horizontal",
            "style": "IPY_MODEL_5469d499423e4b989ba7b00d83803ee6",
            "value": 49
          }
        },
        "be498f296b6b444dafc362046879c886": {
          "model_module": "@jupyter-widgets/base",
          "model_module_version": "1.2.0",
          "model_name": "LayoutModel",
          "state": {
            "_model_module": "@jupyter-widgets/base",
            "_model_module_version": "1.2.0",
            "_model_name": "LayoutModel",
            "_view_count": null,
            "_view_module": "@jupyter-widgets/base",
            "_view_module_version": "1.2.0",
            "_view_name": "LayoutView",
            "align_content": null,
            "align_items": null,
            "align_self": null,
            "border": null,
            "bottom": null,
            "display": null,
            "flex": null,
            "flex_flow": null,
            "grid_area": null,
            "grid_auto_columns": null,
            "grid_auto_flow": null,
            "grid_auto_rows": null,
            "grid_column": null,
            "grid_gap": null,
            "grid_row": null,
            "grid_template_areas": null,
            "grid_template_columns": null,
            "grid_template_rows": null,
            "height": null,
            "justify_content": null,
            "justify_items": null,
            "left": null,
            "margin": null,
            "max_height": null,
            "max_width": null,
            "min_height": null,
            "min_width": null,
            "object_fit": null,
            "object_position": null,
            "order": null,
            "overflow": null,
            "overflow_x": null,
            "overflow_y": null,
            "padding": null,
            "right": null,
            "top": null,
            "visibility": null,
            "width": null
          }
        },
        "c2b60e8260514d79876a960cb6a16738": {
          "model_module": "@jupyter-widgets/controls",
          "model_module_version": "1.5.0",
          "model_name": "HBoxModel",
          "state": {
            "_dom_classes": [],
            "_model_module": "@jupyter-widgets/controls",
            "_model_module_version": "1.5.0",
            "_model_name": "HBoxModel",
            "_view_count": null,
            "_view_module": "@jupyter-widgets/controls",
            "_view_module_version": "1.5.0",
            "_view_name": "HBoxView",
            "box_style": "",
            "children": [
              "IPY_MODEL_388c771001ab42f988e25f687d3803d5",
              "IPY_MODEL_fe74250e9fc349029981c00abb4182b9",
              "IPY_MODEL_574964546fb644bea56c644ebab04c6c"
            ],
            "layout": "IPY_MODEL_02b9ec553ef242c09b7a64a638eb8210"
          }
        },
        "dc635a711d244bc18b73c88313d2f2de": {
          "model_module": "@jupyter-widgets/controls",
          "model_module_version": "1.5.0",
          "model_name": "DescriptionStyleModel",
          "state": {
            "_model_module": "@jupyter-widgets/controls",
            "_model_module_version": "1.5.0",
            "_model_name": "DescriptionStyleModel",
            "_view_count": null,
            "_view_module": "@jupyter-widgets/base",
            "_view_module_version": "1.2.0",
            "_view_name": "StyleView",
            "description_width": ""
          }
        },
        "ddbaf109b28349cf984be25f5523818d": {
          "model_module": "@jupyter-widgets/base",
          "model_module_version": "1.2.0",
          "model_name": "LayoutModel",
          "state": {
            "_model_module": "@jupyter-widgets/base",
            "_model_module_version": "1.2.0",
            "_model_name": "LayoutModel",
            "_view_count": null,
            "_view_module": "@jupyter-widgets/base",
            "_view_module_version": "1.2.0",
            "_view_name": "LayoutView",
            "align_content": null,
            "align_items": null,
            "align_self": null,
            "border": null,
            "bottom": null,
            "display": null,
            "flex": null,
            "flex_flow": null,
            "grid_area": null,
            "grid_auto_columns": null,
            "grid_auto_flow": null,
            "grid_auto_rows": null,
            "grid_column": null,
            "grid_gap": null,
            "grid_row": null,
            "grid_template_areas": null,
            "grid_template_columns": null,
            "grid_template_rows": null,
            "height": null,
            "justify_content": null,
            "justify_items": null,
            "left": null,
            "margin": null,
            "max_height": null,
            "max_width": null,
            "min_height": null,
            "min_width": null,
            "object_fit": null,
            "object_position": null,
            "order": null,
            "overflow": null,
            "overflow_x": null,
            "overflow_y": null,
            "padding": null,
            "right": null,
            "top": null,
            "visibility": null,
            "width": null
          }
        },
        "e9d74a4f2e8b47aa8dc89ae823deea5f": {
          "model_module": "@jupyter-widgets/base",
          "model_module_version": "1.2.0",
          "model_name": "LayoutModel",
          "state": {
            "_model_module": "@jupyter-widgets/base",
            "_model_module_version": "1.2.0",
            "_model_name": "LayoutModel",
            "_view_count": null,
            "_view_module": "@jupyter-widgets/base",
            "_view_module_version": "1.2.0",
            "_view_name": "LayoutView",
            "align_content": null,
            "align_items": null,
            "align_self": null,
            "border": null,
            "bottom": null,
            "display": null,
            "flex": null,
            "flex_flow": null,
            "grid_area": null,
            "grid_auto_columns": null,
            "grid_auto_flow": null,
            "grid_auto_rows": null,
            "grid_column": null,
            "grid_gap": null,
            "grid_row": null,
            "grid_template_areas": null,
            "grid_template_columns": null,
            "grid_template_rows": null,
            "height": null,
            "justify_content": null,
            "justify_items": null,
            "left": null,
            "margin": null,
            "max_height": null,
            "max_width": null,
            "min_height": null,
            "min_width": null,
            "object_fit": null,
            "object_position": null,
            "order": null,
            "overflow": null,
            "overflow_x": null,
            "overflow_y": null,
            "padding": null,
            "right": null,
            "top": null,
            "visibility": null,
            "width": null
          }
        },
        "ea09c41239cc4141bddac9382935e7fe": {
          "model_module": "@jupyter-widgets/controls",
          "model_module_version": "1.5.0",
          "model_name": "HBoxModel",
          "state": {
            "_dom_classes": [],
            "_model_module": "@jupyter-widgets/controls",
            "_model_module_version": "1.5.0",
            "_model_name": "HBoxModel",
            "_view_count": null,
            "_view_module": "@jupyter-widgets/controls",
            "_view_module_version": "1.5.0",
            "_view_name": "HBoxView",
            "box_style": "",
            "children": [
              "IPY_MODEL_3a226f800771485f8517f0e1cd17f7a4",
              "IPY_MODEL_5063b6afd9bf454db4786af6afa00260",
              "IPY_MODEL_37671d41298e4e04a2278b7f11245048"
            ],
            "layout": "IPY_MODEL_45252eaf49774862a360f7a3be8d5db7"
          }
        },
        "fc52148c98e84df88034589640aefcd8": {
          "model_module": "@jupyter-widgets/controls",
          "model_module_version": "1.5.0",
          "model_name": "ProgressStyleModel",
          "state": {
            "_model_module": "@jupyter-widgets/controls",
            "_model_module_version": "1.5.0",
            "_model_name": "ProgressStyleModel",
            "_view_count": null,
            "_view_module": "@jupyter-widgets/base",
            "_view_module_version": "1.2.0",
            "_view_name": "StyleView",
            "bar_color": null,
            "description_width": ""
          }
        },
        "fd0d6112699544f78c3c0c39b947c4e6": {
          "model_module": "@jupyter-widgets/controls",
          "model_module_version": "1.5.0",
          "model_name": "HTMLModel",
          "state": {
            "_dom_classes": [],
            "_model_module": "@jupyter-widgets/controls",
            "_model_module_version": "1.5.0",
            "_model_name": "HTMLModel",
            "_view_count": null,
            "_view_module": "@jupyter-widgets/controls",
            "_view_module_version": "1.5.0",
            "_view_name": "HTMLView",
            "description": "",
            "description_tooltip": null,
            "layout": "IPY_MODEL_b447d2cfecf649a387f8ad9e3c4aa785",
            "placeholder": "​",
            "style": "IPY_MODEL_10ce360014ee4a71b408e6099f69f2ae",
            "value": "tokenizer.json: 100%"
          }
        },
        "fe74250e9fc349029981c00abb4182b9": {
          "model_module": "@jupyter-widgets/controls",
          "model_module_version": "1.5.0",
          "model_name": "FloatProgressModel",
          "state": {
            "_dom_classes": [],
            "_model_module": "@jupyter-widgets/controls",
            "_model_module_version": "1.5.0",
            "_model_name": "FloatProgressModel",
            "_view_count": null,
            "_view_module": "@jupyter-widgets/controls",
            "_view_module_version": "1.5.0",
            "_view_name": "ProgressView",
            "bar_style": "success",
            "description": "",
            "description_tooltip": null,
            "layout": "IPY_MODEL_3993f6937c3e44909382ad0c93c43a82",
            "max": 714290682,
            "min": 0,
            "orientation": "horizontal",
            "style": "IPY_MODEL_fc52148c98e84df88034589640aefcd8",
            "value": 714290682
          }
        }
      }
    }
  },
  "nbformat": 4,
  "nbformat_minor": 0
}
