{
 "cells": [
  {
   "cell_type": "code",
   "execution_count": 1,
   "metadata": {},
   "outputs": [
    {
     "name": "stderr",
     "output_type": "stream",
     "text": [
      "c:\\Users\\User\\Documents\\Code\\env\\lib\\site-packages\\tqdm\\auto.py:21: TqdmWarning: IProgress not found. Please update jupyter and ipywidgets. See https://ipywidgets.readthedocs.io/en/stable/user_install.html\n",
      "  from .autonotebook import tqdm as notebook_tqdm\n"
     ]
    }
   ],
   "source": [
    "from flair.datasets import UD_INDONESIAN, UD_ENGLISH\n",
    "from flair.embeddings import TransformerWordEmbeddings, TokenEmbeddings, WordEmbeddings, StackedEmbeddings\n",
    "from flair.models import SequenceTagger\n",
    "from flair.trainers import ModelTrainer\n",
    "from typing import List"
   ]
  },
  {
   "cell_type": "code",
   "execution_count": 2,
   "metadata": {},
   "outputs": [
    {
     "name": "stdout",
     "output_type": "stream",
     "text": [
      "2024-12-23 18:45:29,941 Reading data from C:\\Users\\User\\.flair\\datasets\\ud_indonesian\n",
      "2024-12-23 18:45:29,942 Train: C:\\Users\\User\\.flair\\datasets\\ud_indonesian\\id_gsd-ud-train.conllu\n",
      "2024-12-23 18:45:29,943 Dev: C:\\Users\\User\\.flair\\datasets\\ud_indonesian\\id_gsd-ud-dev.conllu\n",
      "2024-12-23 18:45:29,943 Test: C:\\Users\\User\\.flair\\datasets\\ud_indonesian\\id_gsd-ud-test.conllu\n"
     ]
    },
    {
     "data": {
      "text/plain": [
       "<flair.datasets.treebanks.UD_INDONESIAN at 0x1d9b7f7e080>"
      ]
     },
     "execution_count": 2,
     "metadata": {},
     "output_type": "execute_result"
    }
   ],
   "source": [
    "corpus_id = UD_INDONESIAN()\n",
    "corpus_id\n",
    "# corpus_en = UD_ENGLISH()\n",
    "# corpus_en"
   ]
  },
  {
   "cell_type": "code",
   "execution_count": 3,
   "metadata": {},
   "outputs": [
    {
     "name": "stdout",
     "output_type": "stream",
     "text": [
      "2024-12-23 18:45:34,168 Computing label dictionary. Progress:\n"
     ]
    },
    {
     "name": "stderr",
     "output_type": "stream",
     "text": [
      "0it [00:00, ?it/s]\n",
      "4482it [00:00, 26316.53it/s]"
     ]
    },
    {
     "name": "stdout",
     "output_type": "stream",
     "text": [
      "2024-12-23 18:45:34,352 Dictionary created for label 'upos' with 17 values: NOUN (seen 21164 times), PROPN (seen 17934 times), PUNCT (seen 13922 times), VERB (seen 9940 times), ADP (seen 9075 times), PRON (seen 5120 times), ADJ (seen 3798 times), NUM (seen 3478 times), DET (seen 2924 times), CCONJ (seen 2867 times), ADV (seen 2852 times), AUX (seen 1786 times), SCONJ (seen 1653 times), PART (seen 837 times), SYM (seen 132 times), X (seen 117 times), INTJ (seen 3 times)\n",
      "Dictionary with 17 tags: NOUN, PROPN, PUNCT, VERB, ADP, PRON, ADJ, NUM, DET, CCONJ, ADV, AUX, SCONJ, PART, SYM, X, INTJ\n"
     ]
    },
    {
     "name": "stderr",
     "output_type": "stream",
     "text": [
      "\n"
     ]
    }
   ],
   "source": [
    "label_dict = corpus_id.make_label_dictionary(label_type='upos')\n",
    "print(label_dict)"
   ]
  },
  {
   "cell_type": "code",
   "execution_count": 4,
   "metadata": {},
   "outputs": [],
   "source": [
    "# label_dict = corpus_en.make_label_dictionary(label_type='upos')\n",
    "# print(label_dict)"
   ]
  },
  {
   "cell_type": "code",
   "execution_count": 5,
   "metadata": {},
   "outputs": [],
   "source": [
    "embeddings = TransformerWordEmbeddings('bert-base-multilingual-cased')"
   ]
  },
  {
   "cell_type": "code",
   "execution_count": 6,
   "metadata": {},
   "outputs": [
    {
     "name": "stdout",
     "output_type": "stream",
     "text": [
      "2024-12-23 18:45:36,237 SequenceTagger predicts: Dictionary with 17 tags: NOUN, PROPN, PUNCT, VERB, ADP, PRON, ADJ, NUM, DET, CCONJ, ADV, AUX, SCONJ, PART, SYM, X, INTJ\n"
     ]
    }
   ],
   "source": [
    "model = SequenceTagger(hidden_size=256,\n",
    "                        embeddings=embeddings,\n",
    "                        tag_dictionary=label_dict,\n",
    "                        tag_type='upos', \n",
    "                        use_crf=True)"
   ]
  },
  {
   "cell_type": "code",
   "execution_count": 7,
   "metadata": {},
   "outputs": [],
   "source": [
    "trainer = ModelTrainer(model, corpus_id)"
   ]
  },
  {
   "cell_type": "code",
   "execution_count": 8,
   "metadata": {},
   "outputs": [
    {
     "name": "stdout",
     "output_type": "stream",
     "text": [
      "2024-12-23 18:45:52,632 ----------------------------------------------------------------------------------------------------\n",
      "2024-12-23 18:45:52,634 Model: \"SequenceTagger(\n",
      "  (embeddings): TransformerWordEmbeddings(\n",
      "    (model): BertModel(\n",
      "      (embeddings): BertEmbeddings(\n",
      "        (word_embeddings): Embedding(119548, 768, padding_idx=0)\n",
      "        (position_embeddings): Embedding(512, 768)\n",
      "        (token_type_embeddings): Embedding(2, 768)\n",
      "        (LayerNorm): LayerNorm((768,), eps=1e-12, elementwise_affine=True)\n",
      "        (dropout): Dropout(p=0.1, inplace=False)\n",
      "      )\n",
      "      (encoder): BertEncoder(\n",
      "        (layer): ModuleList(\n",
      "          (0-11): 12 x BertLayer(\n",
      "            (attention): BertAttention(\n",
      "              (self): BertSdpaSelfAttention(\n",
      "                (query): Linear(in_features=768, out_features=768, bias=True)\n",
      "                (key): Linear(in_features=768, out_features=768, bias=True)\n",
      "                (value): Linear(in_features=768, out_features=768, bias=True)\n",
      "                (dropout): Dropout(p=0.1, inplace=False)\n",
      "              )\n",
      "              (output): BertSelfOutput(\n",
      "                (dense): Linear(in_features=768, out_features=768, bias=True)\n",
      "                (LayerNorm): LayerNorm((768,), eps=1e-12, elementwise_affine=True)\n",
      "                (dropout): Dropout(p=0.1, inplace=False)\n",
      "              )\n",
      "            )\n",
      "            (intermediate): BertIntermediate(\n",
      "              (dense): Linear(in_features=768, out_features=3072, bias=True)\n",
      "              (intermediate_act_fn): GELUActivation()\n",
      "            )\n",
      "            (output): BertOutput(\n",
      "              (dense): Linear(in_features=3072, out_features=768, bias=True)\n",
      "              (LayerNorm): LayerNorm((768,), eps=1e-12, elementwise_affine=True)\n",
      "              (dropout): Dropout(p=0.1, inplace=False)\n",
      "            )\n",
      "          )\n",
      "        )\n",
      "      )\n",
      "      (pooler): BertPooler(\n",
      "        (dense): Linear(in_features=768, out_features=768, bias=True)\n",
      "        (activation): Tanh()\n",
      "      )\n",
      "    )\n",
      "  )\n",
      "  (word_dropout): WordDropout(p=0.05)\n",
      "  (locked_dropout): LockedDropout(p=0.5)\n",
      "  (embedding2nn): Linear(in_features=768, out_features=768, bias=True)\n",
      "  (rnn): LSTM(768, 256, batch_first=True, bidirectional=True)\n",
      "  (linear): Linear(in_features=512, out_features=19, bias=True)\n",
      "  (loss_function): ViterbiLoss()\n",
      "  (crf): CRF()\n",
      ")\"\n",
      "2024-12-23 18:45:52,635 ----------------------------------------------------------------------------------------------------\n",
      "2024-12-23 18:45:52,636 Corpus: 4482 train + 559 dev + 557 test sentences\n",
      "2024-12-23 18:45:52,637 ----------------------------------------------------------------------------------------------------\n",
      "2024-12-23 18:45:52,637 Train:  4482 sentences\n",
      "2024-12-23 18:45:52,638         (train_with_dev=False, train_with_test=False)\n",
      "2024-12-23 18:45:52,638 ----------------------------------------------------------------------------------------------------\n",
      "2024-12-23 18:45:52,640 Training Params:\n",
      "2024-12-23 18:45:52,640  - learning_rate: \"0.1\" \n",
      "2024-12-23 18:45:52,641  - mini_batch_size: \"16\"\n",
      "2024-12-23 18:45:52,642  - max_epochs: \"20\"\n",
      "2024-12-23 18:45:52,642  - shuffle: \"True\"\n",
      "2024-12-23 18:45:52,643 ----------------------------------------------------------------------------------------------------\n",
      "2024-12-23 18:45:52,644 Plugins:\n",
      "2024-12-23 18:45:52,644  - AnnealOnPlateau | patience: '3', anneal_factor: '0.5', min_learning_rate: '0.0001'\n",
      "2024-12-23 18:45:52,645 ----------------------------------------------------------------------------------------------------\n",
      "2024-12-23 18:45:52,646 Final evaluation on model from best epoch (best-model.pt)\n",
      "2024-12-23 18:45:52,646  - metric: \"('micro avg', 'f1-score')\"\n",
      "2024-12-23 18:45:52,646 ----------------------------------------------------------------------------------------------------\n",
      "2024-12-23 18:45:52,647 Computation:\n",
      "2024-12-23 18:45:52,648  - compute on device: cuda:0\n",
      "2024-12-23 18:45:52,648  - embedding storage: cpu\n",
      "2024-12-23 18:45:52,649 ----------------------------------------------------------------------------------------------------\n",
      "2024-12-23 18:45:52,649 Model training base path: \"resources\\taggers\\multiCorpus-upos\"\n",
      "2024-12-23 18:45:52,650 ----------------------------------------------------------------------------------------------------\n",
      "2024-12-23 18:45:52,650 ----------------------------------------------------------------------------------------------------\n"
     ]
    },
    {
     "name": "stderr",
     "output_type": "stream",
     "text": [
      "c:\\Users\\User\\Documents\\Code\\env\\lib\\site-packages\\flair\\trainers\\trainer.py:545: FutureWarning: `torch.cuda.amp.GradScaler(args...)` is deprecated. Please use `torch.amp.GradScaler('cuda', args...)` instead.\n",
      "  scaler = torch.cuda.amp.GradScaler(enabled=use_amp and flair.device.type != \"cpu\")\n",
      "c:\\Users\\User\\Documents\\Code\\env\\lib\\site-packages\\transformers\\models\\bert\\modeling_bert.py:440: UserWarning: 1Torch was not compiled with flash attention. (Triggered internally at C:\\actions-runner\\_work\\pytorch\\pytorch\\builder\\windows\\pytorch\\aten\\src\\ATen\\native\\transformers\\cuda\\sdp_utils.cpp:555.)\n",
      "  attn_output = torch.nn.functional.scaled_dot_product_attention(\n"
     ]
    },
    {
     "name": "stdout",
     "output_type": "stream",
     "text": [
      "2024-12-23 18:46:00,526 epoch 1 - iter 28/281 - loss 2.82487267 - time (sec): 7.88 - samples/sec: 1244.70 - lr: 0.100000 - momentum: 0.000000\n",
      "2024-12-23 18:46:06,337 epoch 1 - iter 56/281 - loss 2.35888927 - time (sec): 13.69 - samples/sec: 1433.95 - lr: 0.100000 - momentum: 0.000000\n",
      "2024-12-23 18:46:11,947 epoch 1 - iter 84/281 - loss 2.04051329 - time (sec): 19.30 - samples/sec: 1513.44 - lr: 0.100000 - momentum: 0.000000\n",
      "2024-12-23 18:46:18,009 epoch 1 - iter 112/281 - loss 1.80348999 - time (sec): 25.36 - samples/sec: 1526.01 - lr: 0.100000 - momentum: 0.000000\n",
      "2024-12-23 18:46:24,039 epoch 1 - iter 140/281 - loss 1.61693416 - time (sec): 31.39 - samples/sec: 1543.46 - lr: 0.100000 - momentum: 0.000000\n",
      "2024-12-23 18:46:29,627 epoch 1 - iter 168/281 - loss 1.47138748 - time (sec): 36.98 - samples/sec: 1561.96 - lr: 0.100000 - momentum: 0.000000\n",
      "2024-12-23 18:46:36,292 epoch 1 - iter 196/281 - loss 1.35533056 - time (sec): 43.64 - samples/sec: 1551.91 - lr: 0.100000 - momentum: 0.000000\n",
      "2024-12-23 18:46:42,337 epoch 1 - iter 224/281 - loss 1.26025396 - time (sec): 49.69 - samples/sec: 1563.05 - lr: 0.100000 - momentum: 0.000000\n",
      "2024-12-23 18:46:48,376 epoch 1 - iter 252/281 - loss 1.18284803 - time (sec): 55.73 - samples/sec: 1569.92 - lr: 0.100000 - momentum: 0.000000\n",
      "2024-12-23 18:46:54,888 epoch 1 - iter 280/281 - loss 1.11671690 - time (sec): 62.24 - samples/sec: 1567.60 - lr: 0.100000 - momentum: 0.000000\n",
      "2024-12-23 18:46:54,992 ----------------------------------------------------------------------------------------------------\n",
      "2024-12-23 18:46:54,993 EPOCH 1 done: loss 1.1165 - lr: 0.100000\n"
     ]
    },
    {
     "name": "stderr",
     "output_type": "stream",
     "text": [
      "100%|██████████| 9/9 [00:04<00:00,  1.90it/s]"
     ]
    },
    {
     "name": "stdout",
     "output_type": "stream",
     "text": [
      "2024-12-23 18:46:59,810 DEV : loss 0.3792981505393982 - f1-score (micro avg)  0.8995\n",
      "2024-12-23 18:46:59,840  - 0 epochs without improvement\n",
      "2024-12-23 18:46:59,842 saving best model\n"
     ]
    },
    {
     "name": "stderr",
     "output_type": "stream",
     "text": [
      "\n"
     ]
    },
    {
     "name": "stdout",
     "output_type": "stream",
     "text": [
      "2024-12-23 18:47:01,707 ----------------------------------------------------------------------------------------------------\n",
      "2024-12-23 18:47:08,486 epoch 2 - iter 28/281 - loss 0.51220191 - time (sec): 6.78 - samples/sec: 1479.82 - lr: 0.100000 - momentum: 0.000000\n",
      "2024-12-23 18:47:14,921 epoch 2 - iter 56/281 - loss 0.50189710 - time (sec): 13.21 - samples/sec: 1511.35 - lr: 0.100000 - momentum: 0.000000\n",
      "2024-12-23 18:47:21,254 epoch 2 - iter 84/281 - loss 0.49197759 - time (sec): 19.54 - samples/sec: 1509.30 - lr: 0.100000 - momentum: 0.000000\n",
      "2024-12-23 18:47:27,961 epoch 2 - iter 112/281 - loss 0.49030169 - time (sec): 26.25 - samples/sec: 1508.45 - lr: 0.100000 - momentum: 0.000000\n",
      "2024-12-23 18:47:34,568 epoch 2 - iter 140/281 - loss 0.49094701 - time (sec): 32.86 - samples/sec: 1506.97 - lr: 0.100000 - momentum: 0.000000\n",
      "2024-12-23 18:47:40,562 epoch 2 - iter 168/281 - loss 0.48143312 - time (sec): 38.85 - samples/sec: 1521.71 - lr: 0.100000 - momentum: 0.000000\n",
      "2024-12-23 18:47:46,609 epoch 2 - iter 196/281 - loss 0.47581014 - time (sec): 44.90 - samples/sec: 1525.43 - lr: 0.100000 - momentum: 0.000000\n",
      "2024-12-23 18:47:52,974 epoch 2 - iter 224/281 - loss 0.46716722 - time (sec): 51.27 - samples/sec: 1532.23 - lr: 0.100000 - momentum: 0.000000\n",
      "2024-12-23 18:47:58,959 epoch 2 - iter 252/281 - loss 0.46123771 - time (sec): 57.25 - samples/sec: 1542.86 - lr: 0.100000 - momentum: 0.000000\n",
      "2024-12-23 18:48:04,265 epoch 2 - iter 280/281 - loss 0.45582182 - time (sec): 62.56 - samples/sec: 1559.58 - lr: 0.100000 - momentum: 0.000000\n",
      "2024-12-23 18:48:04,392 ----------------------------------------------------------------------------------------------------\n",
      "2024-12-23 18:48:04,393 EPOCH 2 done: loss 0.4561 - lr: 0.100000\n"
     ]
    },
    {
     "name": "stderr",
     "output_type": "stream",
     "text": [
      "100%|██████████| 9/9 [00:02<00:00,  4.34it/s]\n"
     ]
    },
    {
     "name": "stdout",
     "output_type": "stream",
     "text": [
      "2024-12-23 18:48:06,546 DEV : loss 0.33944830298423767 - f1-score (micro avg)  0.9101\n",
      "2024-12-23 18:48:06,571  - 0 epochs without improvement\n",
      "2024-12-23 18:48:06,572 saving best model\n",
      "2024-12-23 18:48:07,708 ----------------------------------------------------------------------------------------------------\n",
      "2024-12-23 18:48:13,986 epoch 3 - iter 28/281 - loss 0.37408366 - time (sec): 6.27 - samples/sec: 1610.47 - lr: 0.100000 - momentum: 0.000000\n",
      "2024-12-23 18:48:19,990 epoch 3 - iter 56/281 - loss 0.38187771 - time (sec): 12.28 - samples/sec: 1591.82 - lr: 0.100000 - momentum: 0.000000\n",
      "2024-12-23 18:48:26,671 epoch 3 - iter 84/281 - loss 0.37458479 - time (sec): 18.96 - samples/sec: 1551.59 - lr: 0.100000 - momentum: 0.000000\n",
      "2024-12-23 18:48:32,914 epoch 3 - iter 112/281 - loss 0.37541753 - time (sec): 25.20 - samples/sec: 1542.21 - lr: 0.100000 - momentum: 0.000000\n",
      "2024-12-23 18:48:39,667 epoch 3 - iter 140/281 - loss 0.37907189 - time (sec): 31.96 - samples/sec: 1535.86 - lr: 0.100000 - momentum: 0.000000\n",
      "2024-12-23 18:48:45,510 epoch 3 - iter 168/281 - loss 0.37462426 - time (sec): 37.80 - samples/sec: 1544.46 - lr: 0.100000 - momentum: 0.000000\n",
      "2024-12-23 18:48:51,576 epoch 3 - iter 196/281 - loss 0.37187655 - time (sec): 43.86 - samples/sec: 1554.52 - lr: 0.100000 - momentum: 0.000000\n",
      "2024-12-23 18:48:58,315 epoch 3 - iter 224/281 - loss 0.36966429 - time (sec): 50.60 - samples/sec: 1547.09 - lr: 0.100000 - momentum: 0.000000\n",
      "2024-12-23 18:49:04,611 epoch 3 - iter 252/281 - loss 0.37080014 - time (sec): 56.90 - samples/sec: 1546.87 - lr: 0.100000 - momentum: 0.000000\n",
      "2024-12-23 18:49:11,743 epoch 3 - iter 280/281 - loss 0.36746284 - time (sec): 64.03 - samples/sec: 1523.50 - lr: 0.100000 - momentum: 0.000000\n",
      "2024-12-23 18:49:11,893 ----------------------------------------------------------------------------------------------------\n",
      "2024-12-23 18:49:11,895 EPOCH 3 done: loss 0.3674 - lr: 0.100000\n"
     ]
    },
    {
     "name": "stderr",
     "output_type": "stream",
     "text": [
      "100%|██████████| 9/9 [00:03<00:00,  2.46it/s]\n"
     ]
    },
    {
     "name": "stdout",
     "output_type": "stream",
     "text": [
      "2024-12-23 18:49:15,653 DEV : loss 0.34251922369003296 - f1-score (micro avg)  0.9107\n",
      "2024-12-23 18:49:15,684  - 0 epochs without improvement\n",
      "2024-12-23 18:49:15,686 saving best model\n",
      "2024-12-23 18:49:17,677 ----------------------------------------------------------------------------------------------------\n",
      "2024-12-23 18:49:26,547 epoch 4 - iter 28/281 - loss 0.34616961 - time (sec): 8.87 - samples/sec: 1065.55 - lr: 0.100000 - momentum: 0.000000\n",
      "2024-12-23 18:49:32,969 epoch 4 - iter 56/281 - loss 0.32695220 - time (sec): 15.29 - samples/sec: 1256.55 - lr: 0.100000 - momentum: 0.000000\n",
      "2024-12-23 18:49:40,040 epoch 4 - iter 84/281 - loss 0.32434813 - time (sec): 22.36 - samples/sec: 1286.79 - lr: 0.100000 - momentum: 0.000000\n",
      "2024-12-23 18:49:50,226 epoch 4 - iter 112/281 - loss 0.32337566 - time (sec): 32.55 - samples/sec: 1182.91 - lr: 0.100000 - momentum: 0.000000\n",
      "2024-12-23 18:49:59,241 epoch 4 - iter 140/281 - loss 0.32109212 - time (sec): 41.56 - samples/sec: 1165.92 - lr: 0.100000 - momentum: 0.000000\n",
      "2024-12-23 18:50:08,043 epoch 4 - iter 168/281 - loss 0.32164821 - time (sec): 50.36 - samples/sec: 1155.07 - lr: 0.100000 - momentum: 0.000000\n",
      "2024-12-23 18:50:18,717 epoch 4 - iter 196/281 - loss 0.32208953 - time (sec): 61.04 - samples/sec: 1123.07 - lr: 0.100000 - momentum: 0.000000\n",
      "2024-12-23 18:50:28,925 epoch 4 - iter 224/281 - loss 0.32291223 - time (sec): 71.25 - samples/sec: 1099.59 - lr: 0.100000 - momentum: 0.000000\n",
      "2024-12-23 18:50:38,558 epoch 4 - iter 252/281 - loss 0.32159218 - time (sec): 80.88 - samples/sec: 1083.38 - lr: 0.100000 - momentum: 0.000000\n",
      "2024-12-23 18:50:48,803 epoch 4 - iter 280/281 - loss 0.32295939 - time (sec): 91.12 - samples/sec: 1070.68 - lr: 0.100000 - momentum: 0.000000\n",
      "2024-12-23 18:50:49,013 ----------------------------------------------------------------------------------------------------\n",
      "2024-12-23 18:50:49,014 EPOCH 4 done: loss 0.3229 - lr: 0.100000\n"
     ]
    },
    {
     "name": "stderr",
     "output_type": "stream",
     "text": [
      "100%|██████████| 9/9 [00:02<00:00,  3.26it/s]"
     ]
    },
    {
     "name": "stdout",
     "output_type": "stream",
     "text": [
      "2024-12-23 18:50:51,869 DEV : loss 0.3419160544872284 - f1-score (micro avg)  0.912\n",
      "2024-12-23 18:50:51,897  - 0 epochs without improvement\n",
      "2024-12-23 18:50:51,900 saving best model\n"
     ]
    },
    {
     "name": "stderr",
     "output_type": "stream",
     "text": [
      "\n"
     ]
    },
    {
     "name": "stdout",
     "output_type": "stream",
     "text": [
      "2024-12-23 18:50:53,606 ----------------------------------------------------------------------------------------------------\n",
      "2024-12-23 18:51:03,534 epoch 5 - iter 28/281 - loss 0.28088933 - time (sec): 9.92 - samples/sec: 975.06 - lr: 0.100000 - momentum: 0.000000\n",
      "2024-12-23 18:51:14,252 epoch 5 - iter 56/281 - loss 0.29115073 - time (sec): 20.64 - samples/sec: 975.72 - lr: 0.100000 - momentum: 0.000000\n",
      "2024-12-23 18:51:24,803 epoch 5 - iter 84/281 - loss 0.29034629 - time (sec): 31.19 - samples/sec: 961.60 - lr: 0.100000 - momentum: 0.000000\n",
      "2024-12-23 18:51:33,784 epoch 5 - iter 112/281 - loss 0.28956341 - time (sec): 40.17 - samples/sec: 977.30 - lr: 0.100000 - momentum: 0.000000\n",
      "2024-12-23 18:51:42,601 epoch 5 - iter 140/281 - loss 0.29350954 - time (sec): 48.99 - samples/sec: 993.37 - lr: 0.100000 - momentum: 0.000000\n",
      "2024-12-23 18:51:52,418 epoch 5 - iter 168/281 - loss 0.29447617 - time (sec): 58.81 - samples/sec: 1001.89 - lr: 0.100000 - momentum: 0.000000\n",
      "2024-12-23 18:52:02,664 epoch 5 - iter 196/281 - loss 0.29554860 - time (sec): 69.05 - samples/sec: 995.63 - lr: 0.100000 - momentum: 0.000000\n",
      "2024-12-23 18:52:12,089 epoch 5 - iter 224/281 - loss 0.29428765 - time (sec): 78.48 - samples/sec: 996.17 - lr: 0.100000 - momentum: 0.000000\n",
      "2024-12-23 18:52:20,996 epoch 5 - iter 252/281 - loss 0.29155316 - time (sec): 87.39 - samples/sec: 1006.91 - lr: 0.100000 - momentum: 0.000000\n",
      "2024-12-23 18:52:29,625 epoch 5 - iter 280/281 - loss 0.29011227 - time (sec): 96.02 - samples/sec: 1015.94 - lr: 0.100000 - momentum: 0.000000\n",
      "2024-12-23 18:52:29,799 ----------------------------------------------------------------------------------------------------\n",
      "2024-12-23 18:52:29,800 EPOCH 5 done: loss 0.2900 - lr: 0.100000\n"
     ]
    },
    {
     "name": "stderr",
     "output_type": "stream",
     "text": [
      "100%|██████████| 9/9 [00:02<00:00,  3.63it/s]"
     ]
    },
    {
     "name": "stdout",
     "output_type": "stream",
     "text": [
      "2024-12-23 18:52:32,375 DEV : loss 0.3419650197029114 - f1-score (micro avg)  0.9121\n",
      "2024-12-23 18:52:32,400  - 0 epochs without improvement\n",
      "2024-12-23 18:52:32,402 saving best model\n"
     ]
    },
    {
     "name": "stderr",
     "output_type": "stream",
     "text": [
      "\n"
     ]
    },
    {
     "name": "stdout",
     "output_type": "stream",
     "text": [
      "2024-12-23 18:52:34,016 ----------------------------------------------------------------------------------------------------\n",
      "2024-12-23 18:52:42,168 epoch 6 - iter 28/281 - loss 0.26275381 - time (sec): 8.15 - samples/sec: 1137.90 - lr: 0.100000 - momentum: 0.000000\n",
      "2024-12-23 18:52:51,364 epoch 6 - iter 56/281 - loss 0.25310143 - time (sec): 17.35 - samples/sec: 1109.42 - lr: 0.100000 - momentum: 0.000000\n",
      "2024-12-23 18:53:00,161 epoch 6 - iter 84/281 - loss 0.25690434 - time (sec): 26.14 - samples/sec: 1109.25 - lr: 0.100000 - momentum: 0.000000\n",
      "2024-12-23 18:53:09,068 epoch 6 - iter 112/281 - loss 0.25837466 - time (sec): 35.05 - samples/sec: 1106.82 - lr: 0.100000 - momentum: 0.000000\n",
      "2024-12-23 18:53:20,044 epoch 6 - iter 140/281 - loss 0.26136190 - time (sec): 46.03 - samples/sec: 1063.14 - lr: 0.100000 - momentum: 0.000000\n",
      "2024-12-23 18:53:29,926 epoch 6 - iter 168/281 - loss 0.26133656 - time (sec): 55.91 - samples/sec: 1050.53 - lr: 0.100000 - momentum: 0.000000\n",
      "2024-12-23 18:53:38,615 epoch 6 - iter 196/281 - loss 0.25886692 - time (sec): 64.60 - samples/sec: 1059.72 - lr: 0.100000 - momentum: 0.000000\n",
      "2024-12-23 18:53:48,638 epoch 6 - iter 224/281 - loss 0.25973514 - time (sec): 74.62 - samples/sec: 1046.23 - lr: 0.100000 - momentum: 0.000000\n",
      "2024-12-23 18:53:59,075 epoch 6 - iter 252/281 - loss 0.26304768 - time (sec): 85.06 - samples/sec: 1030.11 - lr: 0.100000 - momentum: 0.000000\n",
      "2024-12-23 18:54:10,322 epoch 6 - iter 280/281 - loss 0.26505162 - time (sec): 96.30 - samples/sec: 1012.97 - lr: 0.100000 - momentum: 0.000000\n",
      "2024-12-23 18:54:10,707 ----------------------------------------------------------------------------------------------------\n",
      "2024-12-23 18:54:10,707 EPOCH 6 done: loss 0.2651 - lr: 0.100000\n"
     ]
    },
    {
     "name": "stderr",
     "output_type": "stream",
     "text": [
      "100%|██████████| 9/9 [00:02<00:00,  3.59it/s]\n"
     ]
    },
    {
     "name": "stdout",
     "output_type": "stream",
     "text": [
      "2024-12-23 18:54:13,302 DEV : loss 0.35364437103271484 - f1-score (micro avg)  0.9098\n",
      "2024-12-23 18:54:13,327  - 1 epochs without improvement\n",
      "2024-12-23 18:54:13,328 ----------------------------------------------------------------------------------------------------\n",
      "2024-12-23 18:54:24,004 epoch 7 - iter 28/281 - loss 0.24139076 - time (sec): 10.67 - samples/sec: 972.62 - lr: 0.100000 - momentum: 0.000000\n",
      "2024-12-23 18:54:32,407 epoch 7 - iter 56/281 - loss 0.22851272 - time (sec): 19.08 - samples/sec: 1040.50 - lr: 0.100000 - momentum: 0.000000\n",
      "2024-12-23 18:54:42,337 epoch 7 - iter 84/281 - loss 0.22559047 - time (sec): 29.01 - samples/sec: 1016.84 - lr: 0.100000 - momentum: 0.000000\n",
      "2024-12-23 18:54:51,833 epoch 7 - iter 112/281 - loss 0.23153534 - time (sec): 38.50 - samples/sec: 1005.64 - lr: 0.100000 - momentum: 0.000000\n",
      "2024-12-23 18:55:01,074 epoch 7 - iter 140/281 - loss 0.23316978 - time (sec): 47.74 - samples/sec: 1008.31 - lr: 0.100000 - momentum: 0.000000\n",
      "2024-12-23 18:55:09,732 epoch 7 - iter 168/281 - loss 0.23474240 - time (sec): 56.40 - samples/sec: 1029.22 - lr: 0.100000 - momentum: 0.000000\n",
      "2024-12-23 18:55:19,734 epoch 7 - iter 196/281 - loss 0.23560572 - time (sec): 66.40 - samples/sec: 1020.53 - lr: 0.100000 - momentum: 0.000000\n",
      "2024-12-23 18:55:29,068 epoch 7 - iter 224/281 - loss 0.23645656 - time (sec): 75.74 - samples/sec: 1024.47 - lr: 0.100000 - momentum: 0.000000\n",
      "2024-12-23 18:55:38,329 epoch 7 - iter 252/281 - loss 0.23815810 - time (sec): 85.00 - samples/sec: 1029.42 - lr: 0.100000 - momentum: 0.000000\n",
      "2024-12-23 18:55:47,281 epoch 7 - iter 280/281 - loss 0.23873731 - time (sec): 93.95 - samples/sec: 1038.43 - lr: 0.100000 - momentum: 0.000000\n",
      "2024-12-23 18:55:47,441 ----------------------------------------------------------------------------------------------------\n",
      "2024-12-23 18:55:47,442 EPOCH 7 done: loss 0.2388 - lr: 0.100000\n"
     ]
    },
    {
     "name": "stderr",
     "output_type": "stream",
     "text": [
      "100%|██████████| 9/9 [00:02<00:00,  3.47it/s]\n"
     ]
    },
    {
     "name": "stdout",
     "output_type": "stream",
     "text": [
      "2024-12-23 18:55:50,129 DEV : loss 0.34790846705436707 - f1-score (micro avg)  0.9124\n",
      "2024-12-23 18:55:50,156  - 0 epochs without improvement\n",
      "2024-12-23 18:55:50,159 saving best model\n",
      "2024-12-23 18:55:51,717 ----------------------------------------------------------------------------------------------------\n",
      "2024-12-23 18:56:01,864 epoch 8 - iter 28/281 - loss 0.21646034 - time (sec): 10.14 - samples/sec: 998.13 - lr: 0.100000 - momentum: 0.000000\n",
      "2024-12-23 18:56:11,199 epoch 8 - iter 56/281 - loss 0.21273879 - time (sec): 19.48 - samples/sec: 1021.79 - lr: 0.100000 - momentum: 0.000000\n",
      "2024-12-23 18:56:21,452 epoch 8 - iter 84/281 - loss 0.20833321 - time (sec): 29.73 - samples/sec: 1004.34 - lr: 0.100000 - momentum: 0.000000\n",
      "2024-12-23 18:56:31,897 epoch 8 - iter 112/281 - loss 0.20997198 - time (sec): 40.18 - samples/sec: 989.82 - lr: 0.100000 - momentum: 0.000000\n",
      "2024-12-23 18:56:40,352 epoch 8 - iter 140/281 - loss 0.21085972 - time (sec): 48.63 - samples/sec: 1016.78 - lr: 0.100000 - momentum: 0.000000\n",
      "2024-12-23 18:56:49,478 epoch 8 - iter 168/281 - loss 0.21007859 - time (sec): 57.76 - samples/sec: 1022.51 - lr: 0.100000 - momentum: 0.000000\n",
      "2024-12-23 18:56:57,810 epoch 8 - iter 196/281 - loss 0.21138456 - time (sec): 66.09 - samples/sec: 1040.58 - lr: 0.100000 - momentum: 0.000000\n",
      "2024-12-23 18:57:07,385 epoch 8 - iter 224/281 - loss 0.21324780 - time (sec): 75.66 - samples/sec: 1031.72 - lr: 0.100000 - momentum: 0.000000\n",
      "2024-12-23 18:57:18,833 epoch 8 - iter 252/281 - loss 0.21343515 - time (sec): 87.11 - samples/sec: 1008.73 - lr: 0.100000 - momentum: 0.000000\n",
      "2024-12-23 18:57:28,764 epoch 8 - iter 280/281 - loss 0.21472734 - time (sec): 97.04 - samples/sec: 1005.11 - lr: 0.100000 - momentum: 0.000000\n",
      "2024-12-23 18:57:28,989 ----------------------------------------------------------------------------------------------------\n",
      "2024-12-23 18:57:28,990 EPOCH 8 done: loss 0.2148 - lr: 0.100000\n"
     ]
    },
    {
     "name": "stderr",
     "output_type": "stream",
     "text": [
      "100%|██████████| 9/9 [00:02<00:00,  3.35it/s]"
     ]
    },
    {
     "name": "stdout",
     "output_type": "stream",
     "text": [
      "2024-12-23 18:57:31,765 DEV : loss 0.3621520400047302 - f1-score (micro avg)  0.9096\n",
      "2024-12-23 18:57:31,790  - 1 epochs without improvement\n",
      "2024-12-23 18:57:31,792 ----------------------------------------------------------------------------------------------------\n"
     ]
    },
    {
     "name": "stderr",
     "output_type": "stream",
     "text": [
      "\n"
     ]
    },
    {
     "name": "stdout",
     "output_type": "stream",
     "text": [
      "2024-12-23 18:57:40,695 epoch 9 - iter 28/281 - loss 0.17446019 - time (sec): 8.90 - samples/sec: 1088.82 - lr: 0.100000 - momentum: 0.000000\n",
      "2024-12-23 18:57:49,447 epoch 9 - iter 56/281 - loss 0.19350584 - time (sec): 17.65 - samples/sec: 1112.63 - lr: 0.100000 - momentum: 0.000000\n",
      "2024-12-23 18:57:58,539 epoch 9 - iter 84/281 - loss 0.20036355 - time (sec): 26.75 - samples/sec: 1114.81 - lr: 0.100000 - momentum: 0.000000\n",
      "2024-12-23 18:58:07,079 epoch 9 - iter 112/281 - loss 0.19855091 - time (sec): 35.29 - samples/sec: 1124.66 - lr: 0.100000 - momentum: 0.000000\n",
      "2024-12-23 18:58:16,501 epoch 9 - iter 140/281 - loss 0.19619075 - time (sec): 44.71 - samples/sec: 1107.14 - lr: 0.100000 - momentum: 0.000000\n",
      "2024-12-23 18:58:24,546 epoch 9 - iter 168/281 - loss 0.19497800 - time (sec): 52.75 - samples/sec: 1114.54 - lr: 0.100000 - momentum: 0.000000\n",
      "2024-12-23 18:58:32,743 epoch 9 - iter 196/281 - loss 0.19489354 - time (sec): 60.95 - samples/sec: 1120.88 - lr: 0.100000 - momentum: 0.000000\n",
      "2024-12-23 18:58:41,881 epoch 9 - iter 224/281 - loss 0.19575839 - time (sec): 70.09 - samples/sec: 1114.79 - lr: 0.100000 - momentum: 0.000000\n",
      "2024-12-23 18:58:49,975 epoch 9 - iter 252/281 - loss 0.19854011 - time (sec): 78.18 - samples/sec: 1118.52 - lr: 0.100000 - momentum: 0.000000\n",
      "2024-12-23 18:58:58,231 epoch 9 - iter 280/281 - loss 0.19848033 - time (sec): 86.44 - samples/sec: 1128.74 - lr: 0.100000 - momentum: 0.000000\n",
      "2024-12-23 18:58:58,365 ----------------------------------------------------------------------------------------------------\n",
      "2024-12-23 18:58:58,366 EPOCH 9 done: loss 0.1985 - lr: 0.100000\n"
     ]
    },
    {
     "name": "stderr",
     "output_type": "stream",
     "text": [
      "100%|██████████| 9/9 [00:02<00:00,  3.64it/s]\n"
     ]
    },
    {
     "name": "stdout",
     "output_type": "stream",
     "text": [
      "2024-12-23 18:59:00,925 DEV : loss 0.366615891456604 - f1-score (micro avg)  0.9111\n",
      "2024-12-23 18:59:00,955  - 2 epochs without improvement\n",
      "2024-12-23 18:59:00,956 ----------------------------------------------------------------------------------------------------\n",
      "2024-12-23 18:59:07,946 epoch 10 - iter 28/281 - loss 0.18008864 - time (sec): 6.99 - samples/sec: 1333.81 - lr: 0.100000 - momentum: 0.000000\n",
      "2024-12-23 18:59:16,108 epoch 10 - iter 56/281 - loss 0.17520558 - time (sec): 15.15 - samples/sec: 1268.62 - lr: 0.100000 - momentum: 0.000000\n",
      "2024-12-23 18:59:25,664 epoch 10 - iter 84/281 - loss 0.17257819 - time (sec): 24.71 - samples/sec: 1181.01 - lr: 0.100000 - momentum: 0.000000\n",
      "2024-12-23 18:59:33,778 epoch 10 - iter 112/281 - loss 0.18989180 - time (sec): 32.82 - samples/sec: 1182.68 - lr: 0.100000 - momentum: 0.000000\n",
      "2024-12-23 18:59:43,616 epoch 10 - iter 140/281 - loss 0.18963519 - time (sec): 42.66 - samples/sec: 1152.47 - lr: 0.100000 - momentum: 0.000000\n",
      "2024-12-23 18:59:53,096 epoch 10 - iter 168/281 - loss 0.18737307 - time (sec): 52.14 - samples/sec: 1122.48 - lr: 0.100000 - momentum: 0.000000\n",
      "2024-12-23 19:00:00,585 epoch 10 - iter 196/281 - loss 0.18837708 - time (sec): 59.63 - samples/sec: 1138.51 - lr: 0.100000 - momentum: 0.000000\n",
      "2024-12-23 19:00:11,432 epoch 10 - iter 224/281 - loss 0.18902216 - time (sec): 70.47 - samples/sec: 1109.89 - lr: 0.100000 - momentum: 0.000000\n",
      "2024-12-23 19:00:21,122 epoch 10 - iter 252/281 - loss 0.18797056 - time (sec): 80.16 - samples/sec: 1097.45 - lr: 0.100000 - momentum: 0.000000\n",
      "2024-12-23 19:00:29,621 epoch 10 - iter 280/281 - loss 0.18696577 - time (sec): 88.66 - samples/sec: 1100.37 - lr: 0.100000 - momentum: 0.000000\n",
      "2024-12-23 19:00:29,816 ----------------------------------------------------------------------------------------------------\n",
      "2024-12-23 19:00:29,817 EPOCH 10 done: loss 0.1870 - lr: 0.100000\n"
     ]
    },
    {
     "name": "stderr",
     "output_type": "stream",
     "text": [
      "100%|██████████| 9/9 [00:02<00:00,  3.51it/s]\n"
     ]
    },
    {
     "name": "stdout",
     "output_type": "stream",
     "text": [
      "2024-12-23 19:00:32,483 DEV : loss 0.3667866587638855 - f1-score (micro avg)  0.9119\n",
      "2024-12-23 19:00:32,509  - 3 epochs without improvement\n",
      "2024-12-23 19:00:32,511 ----------------------------------------------------------------------------------------------------\n",
      "2024-12-23 19:00:43,236 epoch 11 - iter 28/281 - loss 0.16309397 - time (sec): 10.72 - samples/sec: 949.17 - lr: 0.100000 - momentum: 0.000000\n",
      "2024-12-23 19:00:53,150 epoch 11 - iter 56/281 - loss 0.17034113 - time (sec): 20.64 - samples/sec: 972.18 - lr: 0.100000 - momentum: 0.000000\n",
      "2024-12-23 19:01:02,396 epoch 11 - iter 84/281 - loss 0.16875188 - time (sec): 29.88 - samples/sec: 996.04 - lr: 0.100000 - momentum: 0.000000\n",
      "2024-12-23 19:01:11,647 epoch 11 - iter 112/281 - loss 0.16872911 - time (sec): 39.13 - samples/sec: 1007.40 - lr: 0.100000 - momentum: 0.000000\n",
      "2024-12-23 19:01:19,712 epoch 11 - iter 140/281 - loss 0.16740842 - time (sec): 47.20 - samples/sec: 1043.26 - lr: 0.100000 - momentum: 0.000000\n",
      "2024-12-23 19:01:27,704 epoch 11 - iter 168/281 - loss 0.16734092 - time (sec): 55.19 - samples/sec: 1056.79 - lr: 0.100000 - momentum: 0.000000\n",
      "2024-12-23 19:01:35,977 epoch 11 - iter 196/281 - loss 0.16653453 - time (sec): 63.47 - samples/sec: 1072.48 - lr: 0.100000 - momentum: 0.000000\n",
      "2024-12-23 19:01:45,442 epoch 11 - iter 224/281 - loss 0.16663802 - time (sec): 72.93 - samples/sec: 1071.61 - lr: 0.100000 - momentum: 0.000000\n",
      "2024-12-23 19:01:54,195 epoch 11 - iter 252/281 - loss 0.16662329 - time (sec): 81.68 - samples/sec: 1078.02 - lr: 0.100000 - momentum: 0.000000\n",
      "2024-12-23 19:02:02,852 epoch 11 - iter 280/281 - loss 0.16700979 - time (sec): 90.34 - samples/sec: 1079.99 - lr: 0.100000 - momentum: 0.000000\n",
      "2024-12-23 19:02:03,036 ----------------------------------------------------------------------------------------------------\n",
      "2024-12-23 19:02:03,038 EPOCH 11 done: loss 0.1670 - lr: 0.100000\n"
     ]
    },
    {
     "name": "stderr",
     "output_type": "stream",
     "text": [
      "100%|██████████| 9/9 [00:02<00:00,  3.59it/s]\n"
     ]
    },
    {
     "name": "stdout",
     "output_type": "stream",
     "text": [
      "2024-12-23 19:02:05,633 DEV : loss 0.3749266564846039 - f1-score (micro avg)  0.9106\n",
      "2024-12-23 19:02:05,659  - 4 epochs without improvement (above 'patience')-> annealing learning_rate to [0.05]\n",
      "2024-12-23 19:02:05,661 ----------------------------------------------------------------------------------------------------\n",
      "2024-12-23 19:02:14,993 epoch 12 - iter 28/281 - loss 0.13232626 - time (sec): 9.33 - samples/sec: 1010.73 - lr: 0.050000 - momentum: 0.000000\n",
      "2024-12-23 19:02:23,819 epoch 12 - iter 56/281 - loss 0.13185795 - time (sec): 18.16 - samples/sec: 1052.49 - lr: 0.050000 - momentum: 0.000000\n",
      "2024-12-23 19:02:35,325 epoch 12 - iter 84/281 - loss 0.13004680 - time (sec): 29.66 - samples/sec: 973.94 - lr: 0.050000 - momentum: 0.000000\n",
      "2024-12-23 19:02:46,251 epoch 12 - iter 112/281 - loss 0.12976926 - time (sec): 40.59 - samples/sec: 959.03 - lr: 0.050000 - momentum: 0.000000\n",
      "2024-12-23 19:02:54,117 epoch 12 - iter 140/281 - loss 0.12782707 - time (sec): 48.45 - samples/sec: 995.67 - lr: 0.050000 - momentum: 0.000000\n",
      "2024-12-23 19:03:03,473 epoch 12 - iter 168/281 - loss 0.12782697 - time (sec): 57.81 - samples/sec: 1005.69 - lr: 0.050000 - momentum: 0.000000\n",
      "2024-12-23 19:03:12,599 epoch 12 - iter 196/281 - loss 0.12758990 - time (sec): 66.94 - samples/sec: 1014.55 - lr: 0.050000 - momentum: 0.000000\n",
      "2024-12-23 19:03:20,590 epoch 12 - iter 224/281 - loss 0.12788608 - time (sec): 74.93 - samples/sec: 1035.41 - lr: 0.050000 - momentum: 0.000000\n",
      "2024-12-23 19:03:29,204 epoch 12 - iter 252/281 - loss 0.12662465 - time (sec): 83.54 - samples/sec: 1053.43 - lr: 0.050000 - momentum: 0.000000\n",
      "2024-12-23 19:03:39,256 epoch 12 - iter 280/281 - loss 0.12520309 - time (sec): 93.59 - samples/sec: 1042.46 - lr: 0.050000 - momentum: 0.000000\n",
      "2024-12-23 19:03:39,433 ----------------------------------------------------------------------------------------------------\n",
      "2024-12-23 19:03:39,434 EPOCH 12 done: loss 0.1252 - lr: 0.050000\n"
     ]
    },
    {
     "name": "stderr",
     "output_type": "stream",
     "text": [
      "100%|██████████| 9/9 [00:02<00:00,  3.36it/s]\n"
     ]
    },
    {
     "name": "stdout",
     "output_type": "stream",
     "text": [
      "2024-12-23 19:03:42,207 DEV : loss 0.3851345479488373 - f1-score (micro avg)  0.9112\n",
      "2024-12-23 19:03:42,238  - 1 epochs without improvement\n",
      "2024-12-23 19:03:42,240 ----------------------------------------------------------------------------------------------------\n",
      "2024-12-23 19:03:50,560 epoch 13 - iter 28/281 - loss 0.09424636 - time (sec): 8.32 - samples/sec: 1161.92 - lr: 0.050000 - momentum: 0.000000\n",
      "2024-12-23 19:03:58,619 epoch 13 - iter 56/281 - loss 0.09891057 - time (sec): 16.38 - samples/sec: 1199.28 - lr: 0.050000 - momentum: 0.000000\n",
      "2024-12-23 19:04:07,233 epoch 13 - iter 84/281 - loss 0.10303877 - time (sec): 24.99 - samples/sec: 1166.50 - lr: 0.050000 - momentum: 0.000000\n",
      "2024-12-23 19:04:15,351 epoch 13 - iter 112/281 - loss 0.10580619 - time (sec): 33.11 - samples/sec: 1169.50 - lr: 0.050000 - momentum: 0.000000\n",
      "2024-12-23 19:04:24,935 epoch 13 - iter 140/281 - loss 0.10757561 - time (sec): 42.69 - samples/sec: 1146.63 - lr: 0.050000 - momentum: 0.000000\n",
      "2024-12-23 19:04:34,094 epoch 13 - iter 168/281 - loss 0.10602385 - time (sec): 51.85 - samples/sec: 1132.60 - lr: 0.050000 - momentum: 0.000000\n",
      "2024-12-23 19:04:43,365 epoch 13 - iter 196/281 - loss 0.10582731 - time (sec): 61.12 - samples/sec: 1111.46 - lr: 0.050000 - momentum: 0.000000\n",
      "2024-12-23 19:04:52,847 epoch 13 - iter 224/281 - loss 0.10504401 - time (sec): 70.60 - samples/sec: 1099.88 - lr: 0.050000 - momentum: 0.000000\n",
      "2024-12-23 19:05:00,983 epoch 13 - iter 252/281 - loss 0.10630530 - time (sec): 78.74 - samples/sec: 1109.47 - lr: 0.050000 - momentum: 0.000000\n",
      "2024-12-23 19:05:09,881 epoch 13 - iter 280/281 - loss 0.10708612 - time (sec): 87.64 - samples/sec: 1113.15 - lr: 0.050000 - momentum: 0.000000\n",
      "2024-12-23 19:05:10,069 ----------------------------------------------------------------------------------------------------\n",
      "2024-12-23 19:05:10,070 EPOCH 13 done: loss 0.1071 - lr: 0.050000\n"
     ]
    },
    {
     "name": "stderr",
     "output_type": "stream",
     "text": [
      "100%|██████████| 9/9 [00:02<00:00,  3.61it/s]\n"
     ]
    },
    {
     "name": "stdout",
     "output_type": "stream",
     "text": [
      "2024-12-23 19:05:12,656 DEV : loss 0.4016702473163605 - f1-score (micro avg)  0.9098\n",
      "2024-12-23 19:05:12,682  - 2 epochs without improvement\n",
      "2024-12-23 19:05:12,684 ----------------------------------------------------------------------------------------------------\n",
      "2024-12-23 19:05:22,855 epoch 14 - iter 28/281 - loss 0.10024603 - time (sec): 10.17 - samples/sec: 947.86 - lr: 0.050000 - momentum: 0.000000\n",
      "2024-12-23 19:05:33,042 epoch 14 - iter 56/281 - loss 0.09286747 - time (sec): 20.36 - samples/sec: 933.49 - lr: 0.050000 - momentum: 0.000000\n",
      "2024-12-23 19:05:41,269 epoch 14 - iter 84/281 - loss 0.09470341 - time (sec): 28.58 - samples/sec: 997.24 - lr: 0.050000 - momentum: 0.000000\n",
      "2024-12-23 19:05:50,736 epoch 14 - iter 112/281 - loss 0.09448352 - time (sec): 38.05 - samples/sec: 1013.36 - lr: 0.050000 - momentum: 0.000000\n",
      "2024-12-23 19:05:59,345 epoch 14 - iter 140/281 - loss 0.09269713 - time (sec): 46.66 - samples/sec: 1049.95 - lr: 0.050000 - momentum: 0.000000\n",
      "2024-12-23 19:06:09,392 epoch 14 - iter 168/281 - loss 0.09284328 - time (sec): 56.71 - samples/sec: 1037.86 - lr: 0.050000 - momentum: 0.000000\n",
      "2024-12-23 19:06:18,239 epoch 14 - iter 196/281 - loss 0.09364179 - time (sec): 65.55 - samples/sec: 1041.38 - lr: 0.050000 - momentum: 0.000000\n",
      "2024-12-23 19:06:29,805 epoch 14 - iter 224/281 - loss 0.09408577 - time (sec): 77.12 - samples/sec: 1013.81 - lr: 0.050000 - momentum: 0.000000\n",
      "2024-12-23 19:06:38,302 epoch 14 - iter 252/281 - loss 0.09432467 - time (sec): 85.62 - samples/sec: 1029.00 - lr: 0.050000 - momentum: 0.000000\n",
      "2024-12-23 19:06:46,278 epoch 14 - iter 280/281 - loss 0.09416571 - time (sec): 93.59 - samples/sec: 1042.21 - lr: 0.050000 - momentum: 0.000000\n",
      "2024-12-23 19:06:46,607 ----------------------------------------------------------------------------------------------------\n",
      "2024-12-23 19:06:46,608 EPOCH 14 done: loss 0.0942 - lr: 0.050000\n"
     ]
    },
    {
     "name": "stderr",
     "output_type": "stream",
     "text": [
      "100%|██████████| 9/9 [00:02<00:00,  3.59it/s]\n"
     ]
    },
    {
     "name": "stdout",
     "output_type": "stream",
     "text": [
      "2024-12-23 19:06:49,208 DEV : loss 0.41190198063850403 - f1-score (micro avg)  0.9105\n",
      "2024-12-23 19:06:49,237  - 3 epochs without improvement\n",
      "2024-12-23 19:06:49,238 ----------------------------------------------------------------------------------------------------\n",
      "2024-12-23 19:06:58,685 epoch 15 - iter 28/281 - loss 0.07865939 - time (sec): 9.45 - samples/sec: 987.62 - lr: 0.050000 - momentum: 0.000000\n",
      "2024-12-23 19:07:08,123 epoch 15 - iter 56/281 - loss 0.08000083 - time (sec): 18.88 - samples/sec: 1016.11 - lr: 0.050000 - momentum: 0.000000\n",
      "2024-12-23 19:07:16,318 epoch 15 - iter 84/281 - loss 0.07912051 - time (sec): 27.08 - samples/sec: 1055.11 - lr: 0.050000 - momentum: 0.000000\n",
      "2024-12-23 19:07:24,116 epoch 15 - iter 112/281 - loss 0.07937527 - time (sec): 34.88 - samples/sec: 1093.69 - lr: 0.050000 - momentum: 0.000000\n",
      "2024-12-23 19:07:33,439 epoch 15 - iter 140/281 - loss 0.07903986 - time (sec): 44.20 - samples/sec: 1088.42 - lr: 0.050000 - momentum: 0.000000\n",
      "2024-12-23 19:07:44,202 epoch 15 - iter 168/281 - loss 0.07991202 - time (sec): 54.96 - samples/sec: 1054.18 - lr: 0.050000 - momentum: 0.000000\n",
      "2024-12-23 19:07:54,510 epoch 15 - iter 196/281 - loss 0.08073231 - time (sec): 65.27 - samples/sec: 1041.99 - lr: 0.050000 - momentum: 0.000000\n",
      "2024-12-23 19:08:03,367 epoch 15 - iter 224/281 - loss 0.08192323 - time (sec): 74.13 - samples/sec: 1046.63 - lr: 0.050000 - momentum: 0.000000\n",
      "2024-12-23 19:08:13,654 epoch 15 - iter 252/281 - loss 0.08269670 - time (sec): 84.42 - samples/sec: 1037.87 - lr: 0.050000 - momentum: 0.000000\n",
      "2024-12-23 19:08:23,580 epoch 15 - iter 280/281 - loss 0.08338190 - time (sec): 94.34 - samples/sec: 1034.24 - lr: 0.050000 - momentum: 0.000000\n",
      "2024-12-23 19:08:23,815 ----------------------------------------------------------------------------------------------------\n",
      "2024-12-23 19:08:23,816 EPOCH 15 done: loss 0.0834 - lr: 0.050000\n"
     ]
    },
    {
     "name": "stderr",
     "output_type": "stream",
     "text": [
      "100%|██████████| 9/9 [00:02<00:00,  3.99it/s]\n"
     ]
    },
    {
     "name": "stdout",
     "output_type": "stream",
     "text": [
      "2024-12-23 19:08:26,164 DEV : loss 0.4177086651325226 - f1-score (micro avg)  0.9103\n",
      "2024-12-23 19:08:26,191  - 4 epochs without improvement (above 'patience')-> annealing learning_rate to [0.025]\n",
      "2024-12-23 19:08:26,193 ----------------------------------------------------------------------------------------------------\n",
      "2024-12-23 19:08:34,251 epoch 16 - iter 28/281 - loss 0.05927109 - time (sec): 8.06 - samples/sec: 1185.06 - lr: 0.025000 - momentum: 0.000000\n",
      "2024-12-23 19:08:42,669 epoch 16 - iter 56/281 - loss 0.05991932 - time (sec): 16.47 - samples/sec: 1167.15 - lr: 0.025000 - momentum: 0.000000\n",
      "2024-12-23 19:08:52,432 epoch 16 - iter 84/281 - loss 0.06372335 - time (sec): 26.24 - samples/sec: 1107.65 - lr: 0.025000 - momentum: 0.000000\n",
      "2024-12-23 19:09:01,286 epoch 16 - iter 112/281 - loss 0.06512810 - time (sec): 35.09 - samples/sec: 1108.93 - lr: 0.025000 - momentum: 0.000000\n",
      "2024-12-23 19:09:10,451 epoch 16 - iter 140/281 - loss 0.06313753 - time (sec): 44.26 - samples/sec: 1105.60 - lr: 0.025000 - momentum: 0.000000\n",
      "2024-12-23 19:09:19,859 epoch 16 - iter 168/281 - loss 0.06398871 - time (sec): 53.66 - samples/sec: 1098.04 - lr: 0.025000 - momentum: 0.000000\n",
      "2024-12-23 19:09:29,206 epoch 16 - iter 196/281 - loss 0.06644200 - time (sec): 63.01 - samples/sec: 1101.48 - lr: 0.025000 - momentum: 0.000000\n",
      "2024-12-23 19:09:37,777 epoch 16 - iter 224/281 - loss 0.06652398 - time (sec): 71.58 - samples/sec: 1098.44 - lr: 0.025000 - momentum: 0.000000\n",
      "2024-12-23 19:09:45,822 epoch 16 - iter 252/281 - loss 0.06584901 - time (sec): 79.63 - samples/sec: 1106.87 - lr: 0.025000 - momentum: 0.000000\n",
      "2024-12-23 19:09:53,483 epoch 16 - iter 280/281 - loss 0.06558711 - time (sec): 87.29 - samples/sec: 1117.77 - lr: 0.025000 - momentum: 0.000000\n",
      "2024-12-23 19:09:53,612 ----------------------------------------------------------------------------------------------------\n",
      "2024-12-23 19:09:53,613 EPOCH 16 done: loss 0.0656 - lr: 0.025000\n"
     ]
    },
    {
     "name": "stderr",
     "output_type": "stream",
     "text": [
      "100%|██████████| 9/9 [00:02<00:00,  3.70it/s]\n"
     ]
    },
    {
     "name": "stdout",
     "output_type": "stream",
     "text": [
      "2024-12-23 19:09:56,140 DEV : loss 0.4213690161705017 - f1-score (micro avg)  0.9118\n",
      "2024-12-23 19:09:56,168  - 1 epochs without improvement\n",
      "2024-12-23 19:09:56,169 ----------------------------------------------------------------------------------------------------\n",
      "2024-12-23 19:10:04,820 epoch 17 - iter 28/281 - loss 0.06574972 - time (sec): 8.65 - samples/sec: 1125.05 - lr: 0.025000 - momentum: 0.000000\n",
      "2024-12-23 19:10:13,054 epoch 17 - iter 56/281 - loss 0.06153885 - time (sec): 16.88 - samples/sec: 1155.67 - lr: 0.025000 - momentum: 0.000000\n",
      "2024-12-23 19:10:20,717 epoch 17 - iter 84/281 - loss 0.05964922 - time (sec): 24.55 - samples/sec: 1192.63 - lr: 0.025000 - momentum: 0.000000\n",
      "2024-12-23 19:10:29,491 epoch 17 - iter 112/281 - loss 0.05876178 - time (sec): 33.32 - samples/sec: 1175.83 - lr: 0.025000 - momentum: 0.000000\n",
      "2024-12-23 19:10:39,133 epoch 17 - iter 140/281 - loss 0.05980552 - time (sec): 42.96 - samples/sec: 1143.86 - lr: 0.025000 - momentum: 0.000000\n",
      "2024-12-23 19:10:46,604 epoch 17 - iter 168/281 - loss 0.06010399 - time (sec): 50.43 - samples/sec: 1163.67 - lr: 0.025000 - momentum: 0.000000\n",
      "2024-12-23 19:10:54,581 epoch 17 - iter 196/281 - loss 0.05889556 - time (sec): 58.41 - samples/sec: 1166.11 - lr: 0.025000 - momentum: 0.000000\n",
      "2024-12-23 19:11:04,189 epoch 17 - iter 224/281 - loss 0.05899100 - time (sec): 68.02 - samples/sec: 1147.19 - lr: 0.025000 - momentum: 0.000000\n",
      "2024-12-23 19:11:12,703 epoch 17 - iter 252/281 - loss 0.05943679 - time (sec): 76.53 - samples/sec: 1147.85 - lr: 0.025000 - momentum: 0.000000\n",
      "2024-12-23 19:11:20,586 epoch 17 - iter 280/281 - loss 0.05983642 - time (sec): 84.41 - samples/sec: 1155.96 - lr: 0.025000 - momentum: 0.000000\n",
      "2024-12-23 19:11:20,784 ----------------------------------------------------------------------------------------------------\n",
      "2024-12-23 19:11:20,785 EPOCH 17 done: loss 0.0599 - lr: 0.025000\n"
     ]
    },
    {
     "name": "stderr",
     "output_type": "stream",
     "text": [
      "100%|██████████| 9/9 [00:02<00:00,  3.63it/s]\n"
     ]
    },
    {
     "name": "stdout",
     "output_type": "stream",
     "text": [
      "2024-12-23 19:11:23,359 DEV : loss 0.44016367197036743 - f1-score (micro avg)  0.9089\n",
      "2024-12-23 19:11:23,384  - 2 epochs without improvement\n",
      "2024-12-23 19:11:23,385 ----------------------------------------------------------------------------------------------------\n",
      "2024-12-23 19:11:32,194 epoch 18 - iter 28/281 - loss 0.04965894 - time (sec): 8.81 - samples/sec: 1133.09 - lr: 0.025000 - momentum: 0.000000\n",
      "2024-12-23 19:11:40,883 epoch 18 - iter 56/281 - loss 0.05065364 - time (sec): 17.50 - samples/sec: 1123.09 - lr: 0.025000 - momentum: 0.000000\n",
      "2024-12-23 19:11:50,685 epoch 18 - iter 84/281 - loss 0.05256434 - time (sec): 27.30 - samples/sec: 1086.97 - lr: 0.025000 - momentum: 0.000000\n",
      "2024-12-23 19:12:00,697 epoch 18 - iter 112/281 - loss 0.05236960 - time (sec): 37.31 - samples/sec: 1055.67 - lr: 0.025000 - momentum: 0.000000\n",
      "2024-12-23 19:12:10,095 epoch 18 - iter 140/281 - loss 0.05332740 - time (sec): 46.71 - samples/sec: 1048.12 - lr: 0.025000 - momentum: 0.000000\n",
      "2024-12-23 19:12:19,126 epoch 18 - iter 168/281 - loss 0.05428229 - time (sec): 55.74 - samples/sec: 1050.43 - lr: 0.025000 - momentum: 0.000000\n",
      "2024-12-23 19:12:28,196 epoch 18 - iter 196/281 - loss 0.05406995 - time (sec): 64.81 - samples/sec: 1060.85 - lr: 0.025000 - momentum: 0.000000\n",
      "2024-12-23 19:12:35,916 epoch 18 - iter 224/281 - loss 0.05489665 - time (sec): 72.53 - samples/sec: 1076.71 - lr: 0.025000 - momentum: 0.000000\n",
      "2024-12-23 19:12:43,986 epoch 18 - iter 252/281 - loss 0.05411585 - time (sec): 80.60 - samples/sec: 1087.33 - lr: 0.025000 - momentum: 0.000000\n",
      "2024-12-23 19:12:52,684 epoch 18 - iter 280/281 - loss 0.05416011 - time (sec): 89.30 - samples/sec: 1092.35 - lr: 0.025000 - momentum: 0.000000\n",
      "2024-12-23 19:12:52,830 ----------------------------------------------------------------------------------------------------\n",
      "2024-12-23 19:12:52,831 EPOCH 18 done: loss 0.0541 - lr: 0.025000\n"
     ]
    },
    {
     "name": "stderr",
     "output_type": "stream",
     "text": [
      "100%|██████████| 9/9 [00:02<00:00,  3.41it/s]\n"
     ]
    },
    {
     "name": "stdout",
     "output_type": "stream",
     "text": [
      "2024-12-23 19:12:55,564 DEV : loss 0.446561723947525 - f1-score (micro avg)  0.9094\n",
      "2024-12-23 19:12:55,590  - 3 epochs without improvement\n",
      "2024-12-23 19:12:55,591 ----------------------------------------------------------------------------------------------------\n",
      "2024-12-23 19:13:03,691 epoch 19 - iter 28/281 - loss 0.04521994 - time (sec): 8.10 - samples/sec: 1206.95 - lr: 0.025000 - momentum: 0.000000\n",
      "2024-12-23 19:13:11,741 epoch 19 - iter 56/281 - loss 0.04927237 - time (sec): 16.15 - samples/sec: 1180.99 - lr: 0.025000 - momentum: 0.000000\n",
      "2024-12-23 19:13:22,100 epoch 19 - iter 84/281 - loss 0.04895321 - time (sec): 26.51 - samples/sec: 1101.44 - lr: 0.025000 - momentum: 0.000000\n",
      "2024-12-23 19:13:33,782 epoch 19 - iter 112/281 - loss 0.04896965 - time (sec): 38.19 - samples/sec: 1026.64 - lr: 0.025000 - momentum: 0.000000\n",
      "2024-12-23 19:13:44,952 epoch 19 - iter 140/281 - loss 0.04865198 - time (sec): 49.36 - samples/sec: 992.32 - lr: 0.025000 - momentum: 0.000000\n",
      "2024-12-23 19:13:57,802 epoch 19 - iter 168/281 - loss 0.04885167 - time (sec): 62.21 - samples/sec: 948.86 - lr: 0.025000 - momentum: 0.000000\n",
      "2024-12-23 19:14:08,872 epoch 19 - iter 196/281 - loss 0.04860354 - time (sec): 73.28 - samples/sec: 932.24 - lr: 0.025000 - momentum: 0.000000\n",
      "2024-12-23 19:14:16,606 epoch 19 - iter 224/281 - loss 0.04881380 - time (sec): 81.01 - samples/sec: 963.83 - lr: 0.025000 - momentum: 0.000000\n",
      "2024-12-23 19:14:25,309 epoch 19 - iter 252/281 - loss 0.04846607 - time (sec): 89.72 - samples/sec: 980.38 - lr: 0.025000 - momentum: 0.000000\n",
      "2024-12-23 19:14:33,651 epoch 19 - iter 280/281 - loss 0.04878822 - time (sec): 98.06 - samples/sec: 994.93 - lr: 0.025000 - momentum: 0.000000\n",
      "2024-12-23 19:14:33,964 ----------------------------------------------------------------------------------------------------\n",
      "2024-12-23 19:14:33,965 EPOCH 19 done: loss 0.0488 - lr: 0.025000\n"
     ]
    },
    {
     "name": "stderr",
     "output_type": "stream",
     "text": [
      "100%|██████████| 9/9 [00:02<00:00,  3.21it/s]"
     ]
    },
    {
     "name": "stdout",
     "output_type": "stream",
     "text": [
      "2024-12-23 19:14:36,861 DEV : loss 0.45974767208099365 - f1-score (micro avg)  0.9095\n",
      "2024-12-23 19:14:36,905  - 4 epochs without improvement (above 'patience')-> annealing learning_rate to [0.0125]\n",
      "2024-12-23 19:14:36,906 ----------------------------------------------------------------------------------------------------\n"
     ]
    },
    {
     "name": "stderr",
     "output_type": "stream",
     "text": [
      "\n"
     ]
    },
    {
     "name": "stdout",
     "output_type": "stream",
     "text": [
      "2024-12-23 19:14:45,355 epoch 20 - iter 28/281 - loss 0.03690175 - time (sec): 8.45 - samples/sec: 1113.54 - lr: 0.012500 - momentum: 0.000000\n",
      "2024-12-23 19:14:55,138 epoch 20 - iter 56/281 - loss 0.03814528 - time (sec): 18.23 - samples/sec: 1072.13 - lr: 0.012500 - momentum: 0.000000\n",
      "2024-12-23 19:15:03,373 epoch 20 - iter 84/281 - loss 0.03897262 - time (sec): 26.47 - samples/sec: 1105.24 - lr: 0.012500 - momentum: 0.000000\n",
      "2024-12-23 19:15:12,692 epoch 20 - iter 112/281 - loss 0.04015159 - time (sec): 35.78 - samples/sec: 1078.71 - lr: 0.012500 - momentum: 0.000000\n",
      "2024-12-23 19:15:22,396 epoch 20 - iter 140/281 - loss 0.04040309 - time (sec): 45.49 - samples/sec: 1067.96 - lr: 0.012500 - momentum: 0.000000\n",
      "2024-12-23 19:15:31,380 epoch 20 - iter 168/281 - loss 0.04169077 - time (sec): 54.47 - samples/sec: 1077.34 - lr: 0.012500 - momentum: 0.000000\n",
      "2024-12-23 19:15:39,096 epoch 20 - iter 196/281 - loss 0.04117255 - time (sec): 62.19 - samples/sec: 1093.33 - lr: 0.012500 - momentum: 0.000000\n",
      "2024-12-23 19:15:48,145 epoch 20 - iter 224/281 - loss 0.04124915 - time (sec): 71.24 - samples/sec: 1090.64 - lr: 0.012500 - momentum: 0.000000\n",
      "2024-12-23 19:15:57,568 epoch 20 - iter 252/281 - loss 0.04147516 - time (sec): 80.66 - samples/sec: 1086.57 - lr: 0.012500 - momentum: 0.000000\n",
      "2024-12-23 19:16:06,024 epoch 20 - iter 280/281 - loss 0.04163786 - time (sec): 89.12 - samples/sec: 1094.70 - lr: 0.012500 - momentum: 0.000000\n",
      "2024-12-23 19:16:06,226 ----------------------------------------------------------------------------------------------------\n",
      "2024-12-23 19:16:06,228 EPOCH 20 done: loss 0.0416 - lr: 0.012500\n"
     ]
    },
    {
     "name": "stderr",
     "output_type": "stream",
     "text": [
      "100%|██████████| 9/9 [00:03<00:00,  2.82it/s]"
     ]
    },
    {
     "name": "stdout",
     "output_type": "stream",
     "text": [
      "2024-12-23 19:16:09,511 DEV : loss 0.46406957507133484 - f1-score (micro avg)  0.9097\n",
      "2024-12-23 19:16:09,539  - 1 epochs without improvement\n"
     ]
    },
    {
     "name": "stderr",
     "output_type": "stream",
     "text": [
      "\n"
     ]
    },
    {
     "name": "stdout",
     "output_type": "stream",
     "text": [
      "2024-12-23 19:16:10,998 ----------------------------------------------------------------------------------------------------\n",
      "2024-12-23 19:16:11,000 Loading model from best epoch ...\n",
      "2024-12-23 19:16:15,601 SequenceTagger predicts: Dictionary with 19 tags: NOUN, PROPN, PUNCT, VERB, ADP, PRON, ADJ, NUM, DET, CCONJ, ADV, AUX, SCONJ, PART, SYM, X, INTJ, <START>, <STOP>\n"
     ]
    },
    {
     "name": "stderr",
     "output_type": "stream",
     "text": [
      "100%|██████████| 9/9 [00:05<00:00,  1.59it/s]"
     ]
    },
    {
     "name": "stdout",
     "output_type": "stream",
     "text": [
      "2024-12-23 19:16:21,607 \n",
      "Results:\n",
      "- F-score (micro) 0.927\n",
      "- F-score (macro) 0.8584\n",
      "- Accuracy 0.927\n",
      "\n",
      "By class:\n",
      "              precision    recall  f1-score   support\n",
      "\n",
      "        NOUN     0.9277    0.8632    0.8943      2514\n",
      "       PROPN     0.8642    0.9773    0.9173      2162\n",
      "       PUNCT     0.9988    1.0000    0.9994      1623\n",
      "        VERB     0.9565    0.9261    0.9410      1258\n",
      "         ADP     0.8980    0.9722    0.9336      1114\n",
      "        PRON     0.9802    0.9239    0.9512       644\n",
      "         ADJ     0.8860    0.7643    0.8207       488\n",
      "         NUM     0.9946    0.9661    0.9802       384\n",
      "       CCONJ     0.9917    0.9917    0.9917       362\n",
      "         DET     0.8864    0.9467    0.9156       338\n",
      "         ADV     0.8786    0.7948    0.8346       346\n",
      "         AUX     0.9778    0.9607    0.9692       229\n",
      "       SCONJ     0.8696    0.7216    0.7887       194\n",
      "        PART     0.9239    0.9551    0.9392        89\n",
      "         SYM     0.7500    1.0000    0.8571         6\n",
      "           X     0.0000    0.0000    0.0000         5\n",
      "\n",
      "    accuracy                         0.9270     11756\n",
      "   macro avg     0.8615    0.8602    0.8584     11756\n",
      "weighted avg     0.9283    0.9270    0.9261     11756\n",
      "\n",
      "2024-12-23 19:16:21,608 ----------------------------------------------------------------------------------------------------\n"
     ]
    },
    {
     "name": "stderr",
     "output_type": "stream",
     "text": [
      "\n"
     ]
    },
    {
     "data": {
      "text/plain": [
       "{'test_score': 0.9270159918339571}"
      ]
     },
     "execution_count": 8,
     "metadata": {},
     "output_type": "execute_result"
    }
   ],
   "source": [
    "trainer.train('resources/taggers/multiCorpus-upos',\n",
    "              learning_rate=0.1,\n",
    "              mini_batch_size=16,\n",
    "              max_epochs=20)"
   ]
  },
  {
   "cell_type": "markdown",
   "metadata": {},
   "source": [
    "# Test Inference"
   ]
  },
  {
   "cell_type": "code",
   "execution_count": 9,
   "metadata": {},
   "outputs": [
    {
     "name": "stdout",
     "output_type": "stream",
     "text": [
      "2024-12-23 19:18:29,531 SequenceTagger predicts: Dictionary with 19 tags: NOUN, PROPN, PUNCT, VERB, ADP, PRON, ADJ, NUM, DET, CCONJ, ADV, AUX, SCONJ, PART, SYM, X, INTJ, <START>, <STOP>\n",
      "Sentence[8]: \"gamis pria dewasa premium / jubah pakistan polos\" → [\"gamis\"/ADP, \"pria\"/NOUN, \"dewasa\"/ADJ, \"premium\"/NOUN, \"/\"/PUNCT, \"jubah\"/NOUN, \"pakistan\"/NOUN, \"polos\"/ADJ]\n"
     ]
    }
   ],
   "source": [
    "from flair.data import Sentence\n",
    "text = 'Gamis Pria Dewasa Premium / Jubah Pakistan Polos'.lower()\n",
    "sentence = Sentence(text)\n",
    "tag_pos = SequenceTagger.load('resources/taggers/multiCorpus-upos/best-model.pt')\n",
    "tag_pos.predict(sentence)\n",
    "print(sentence.to_tagged_string())"
   ]
  },
  {
   "cell_type": "code",
   "execution_count": 10,
   "metadata": {},
   "outputs": [
    {
     "name": "stdout",
     "output_type": "stream",
     "text": [
      "gamis (ADP)\n",
      "pria (NOUN)\n",
      "dewasa (ADJ)\n",
      "premium (NOUN)\n",
      "/ (PUNCT)\n",
      "jubah (NOUN)\n",
      "pakistan (NOUN)\n",
      "polos (ADJ)\n"
     ]
    }
   ],
   "source": [
    "for token in sentence:\n",
    "    print(f\"{token.text} ({token.get_label('upos').value})\")"
   ]
  },
  {
   "cell_type": "code",
   "execution_count": null,
   "metadata": {},
   "outputs": [],
   "source": [
    "# Filter tokens with label NOUN or PROPN\n",
    "filtered_words = [token.text for token in sentence if token.get_label('upos').value in ['NOUN', 'PROPN']]\n",
    "\n",
    "# Join the filtered words into a single string or keep them as a list\n",
    "filtered_sentence = ' '.join(filtered_words)\n",
    "\n",
    "print(\"Filtered Words:\", filtered_words)\n",
    "print(\"Filtered Sentence:\", filtered_sentence)"
   ]
  }
 ],
 "metadata": {
  "kernelspec": {
   "display_name": "env",
   "language": "python",
   "name": "python3"
  },
  "language_info": {
   "codemirror_mode": {
    "name": "ipython",
    "version": 3
   },
   "file_extension": ".py",
   "mimetype": "text/x-python",
   "name": "python",
   "nbconvert_exporter": "python",
   "pygments_lexer": "ipython3",
   "version": "3.10.5"
  }
 },
 "nbformat": 4,
 "nbformat_minor": 2
}
