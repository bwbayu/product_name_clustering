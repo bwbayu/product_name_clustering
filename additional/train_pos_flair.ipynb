{
 "cells": [
  {
   "cell_type": "code",
   "execution_count": null,
   "metadata": {},
   "outputs": [],
   "source": [
    "# %pip install flair flair[word-embeddings]"
   ]
  },
  {
   "cell_type": "code",
   "execution_count": 1,
   "metadata": {},
   "outputs": [
    {
     "name": "stderr",
     "output_type": "stream",
     "text": [
      "c:\\Users\\User\\Documents\\Code\\env\\lib\\site-packages\\tqdm\\auto.py:21: TqdmWarning: IProgress not found. Please update jupyter and ipywidgets. See https://ipywidgets.readthedocs.io/en/stable/user_install.html\n",
      "  from .autonotebook import tqdm as notebook_tqdm\n"
     ]
    }
   ],
   "source": [
    "from flair.datasets import UD_INDONESIAN, UD_ENGLISH\n",
    "from flair.embeddings import TransformerWordEmbeddings, TokenEmbeddings, WordEmbeddings, StackedEmbeddings\n",
    "from flair.models import SequenceTagger\n",
    "from flair.trainers import ModelTrainer\n",
    "from typing import List"
   ]
  },
  {
   "cell_type": "code",
   "execution_count": 2,
   "metadata": {},
   "outputs": [
    {
     "name": "stdout",
     "output_type": "stream",
     "text": [
      "2024-12-23 17:43:51,903 Reading data from C:\\Users\\User\\.flair\\datasets\\ud_indonesian\n",
      "2024-12-23 17:43:51,904 Train: C:\\Users\\User\\.flair\\datasets\\ud_indonesian\\id_gsd-ud-train.conllu\n",
      "2024-12-23 17:43:51,905 Dev: C:\\Users\\User\\.flair\\datasets\\ud_indonesian\\id_gsd-ud-dev.conllu\n",
      "2024-12-23 17:43:51,906 Test: C:\\Users\\User\\.flair\\datasets\\ud_indonesian\\id_gsd-ud-test.conllu\n"
     ]
    },
    {
     "data": {
      "text/plain": [
       "<flair.datasets.treebanks.UD_INDONESIAN at 0x15010850d90>"
      ]
     },
     "execution_count": 2,
     "metadata": {},
     "output_type": "execute_result"
    }
   ],
   "source": [
    "corpus = UD_INDONESIAN()\n",
    "corpus"
   ]
  },
  {
   "cell_type": "code",
   "execution_count": 3,
   "metadata": {},
   "outputs": [],
   "source": [
    "label_type = 'upos'"
   ]
  },
  {
   "cell_type": "code",
   "execution_count": 4,
   "metadata": {},
   "outputs": [
    {
     "name": "stdout",
     "output_type": "stream",
     "text": [
      "2024-12-23 17:43:56,131 Computing label dictionary. Progress:\n"
     ]
    },
    {
     "name": "stderr",
     "output_type": "stream",
     "text": [
      "0it [00:00, ?it/s]\n",
      "4482it [00:00, 29310.63it/s]"
     ]
    },
    {
     "name": "stdout",
     "output_type": "stream",
     "text": [
      "2024-12-23 17:43:56,295 Dictionary created for label 'upos' with 17 values: NOUN (seen 21164 times), PROPN (seen 17934 times), PUNCT (seen 13922 times), VERB (seen 9940 times), ADP (seen 9075 times), PRON (seen 5120 times), ADJ (seen 3798 times), NUM (seen 3478 times), DET (seen 2924 times), CCONJ (seen 2867 times), ADV (seen 2852 times), AUX (seen 1786 times), SCONJ (seen 1653 times), PART (seen 837 times), SYM (seen 132 times), X (seen 117 times), INTJ (seen 3 times)\n",
      "Dictionary with 17 tags: NOUN, PROPN, PUNCT, VERB, ADP, PRON, ADJ, NUM, DET, CCONJ, ADV, AUX, SCONJ, PART, SYM, X, INTJ\n"
     ]
    },
    {
     "name": "stderr",
     "output_type": "stream",
     "text": [
      "\n"
     ]
    }
   ],
   "source": [
    "label_dict = corpus.make_label_dictionary(label_type=label_type)\n",
    "print(label_dict)"
   ]
  },
  {
   "cell_type": "code",
   "execution_count": 5,
   "metadata": {},
   "outputs": [],
   "source": [
    "embedding_types: List[TokenEmbeddings] = [\n",
    "    WordEmbeddings('id-crawl'),\n",
    "    WordEmbeddings('id'),\n",
    "    #BertEmbeddings('bert-base-multilingual-cased')\n",
    "    #WordEmbeddings('glove'),\n",
    "]"
   ]
  },
  {
   "cell_type": "code",
   "execution_count": 6,
   "metadata": {},
   "outputs": [],
   "source": [
    "embeddings: StackedEmbeddings = StackedEmbeddings(embeddings=embedding_types)"
   ]
  },
  {
   "cell_type": "code",
   "execution_count": 7,
   "metadata": {},
   "outputs": [],
   "source": [
    "# embeddings = TransformerWordEmbeddings('bert-base-multilingual-cased')"
   ]
  },
  {
   "cell_type": "code",
   "execution_count": 8,
   "metadata": {},
   "outputs": [
    {
     "name": "stdout",
     "output_type": "stream",
     "text": [
      "2024-12-23 17:44:05,559 SequenceTagger predicts: Dictionary with 17 tags: NOUN, PROPN, PUNCT, VERB, ADP, PRON, ADJ, NUM, DET, CCONJ, ADV, AUX, SCONJ, PART, SYM, X, INTJ\n"
     ]
    }
   ],
   "source": [
    "model = SequenceTagger(hidden_size=256,\n",
    "                        embeddings=embeddings,\n",
    "                        tag_dictionary=label_dict,\n",
    "                        tag_type=label_type, \n",
    "                        use_crf=True)"
   ]
  },
  {
   "cell_type": "code",
   "execution_count": 9,
   "metadata": {},
   "outputs": [],
   "source": [
    "trainer = ModelTrainer(model, corpus)"
   ]
  },
  {
   "cell_type": "code",
   "execution_count": 10,
   "metadata": {},
   "outputs": [
    {
     "name": "stdout",
     "output_type": "stream",
     "text": [
      "2024-12-23 17:44:07,879 ----------------------------------------------------------------------------------------------------\n",
      "2024-12-23 17:44:07,881 Model: \"SequenceTagger(\n",
      "  (embeddings): StackedEmbeddings(\n",
      "    (list_embedding_0): WordEmbeddings(\n",
      "      'id-crawl'\n",
      "      (embedding): Embedding(1000000, 300)\n",
      "    )\n",
      "    (list_embedding_1): WordEmbeddings(\n",
      "      'id'\n",
      "      (embedding): Embedding(300686, 300)\n",
      "    )\n",
      "  )\n",
      "  (word_dropout): WordDropout(p=0.05)\n",
      "  (locked_dropout): LockedDropout(p=0.5)\n",
      "  (embedding2nn): Linear(in_features=600, out_features=600, bias=True)\n",
      "  (rnn): LSTM(600, 256, batch_first=True, bidirectional=True)\n",
      "  (linear): Linear(in_features=512, out_features=19, bias=True)\n",
      "  (loss_function): ViterbiLoss()\n",
      "  (crf): CRF()\n",
      ")\"\n",
      "2024-12-23 17:44:07,882 ----------------------------------------------------------------------------------------------------\n",
      "2024-12-23 17:44:07,883 Corpus: 4482 train + 559 dev + 557 test sentences\n",
      "2024-12-23 17:44:07,884 ----------------------------------------------------------------------------------------------------\n",
      "2024-12-23 17:44:07,884 Train:  4482 sentences\n",
      "2024-12-23 17:44:07,885         (train_with_dev=False, train_with_test=False)\n",
      "2024-12-23 17:44:07,885 ----------------------------------------------------------------------------------------------------\n",
      "2024-12-23 17:44:07,886 Training Params:\n",
      "2024-12-23 17:44:07,886  - learning_rate: \"0.1\" \n",
      "2024-12-23 17:44:07,887  - mini_batch_size: \"32\"\n",
      "2024-12-23 17:44:07,887  - max_epochs: \"20\"\n",
      "2024-12-23 17:44:07,888  - shuffle: \"True\"\n",
      "2024-12-23 17:44:07,889 ----------------------------------------------------------------------------------------------------\n",
      "2024-12-23 17:44:07,890 Plugins:\n",
      "2024-12-23 17:44:07,890  - AnnealOnPlateau | patience: '3', anneal_factor: '0.5', min_learning_rate: '0.0001'\n",
      "2024-12-23 17:44:07,891 ----------------------------------------------------------------------------------------------------\n",
      "2024-12-23 17:44:07,892 Final evaluation on model from best epoch (best-model.pt)\n",
      "2024-12-23 17:44:07,892  - metric: \"('micro avg', 'f1-score')\"\n",
      "2024-12-23 17:44:07,894 ----------------------------------------------------------------------------------------------------\n",
      "2024-12-23 17:44:07,895 Computation:\n",
      "2024-12-23 17:44:07,896  - compute on device: cuda:0\n",
      "2024-12-23 17:44:07,896  - embedding storage: cpu\n",
      "2024-12-23 17:44:07,897 ----------------------------------------------------------------------------------------------------\n",
      "2024-12-23 17:44:07,897 Model training base path: \"resources\\taggers\\stacked-upos\"\n",
      "2024-12-23 17:44:07,898 ----------------------------------------------------------------------------------------------------\n",
      "2024-12-23 17:44:07,898 ----------------------------------------------------------------------------------------------------\n"
     ]
    },
    {
     "name": "stderr",
     "output_type": "stream",
     "text": [
      "c:\\Users\\User\\Documents\\Code\\env\\lib\\site-packages\\flair\\trainers\\trainer.py:107: UserWarning: There should be no best model saved at epoch 1 except there is a model from previous trainings in your training folder. All previous best models will be deleted.\n",
      "  warnings.warn(\n",
      "c:\\Users\\User\\Documents\\Code\\env\\lib\\site-packages\\flair\\trainers\\trainer.py:545: FutureWarning: `torch.cuda.amp.GradScaler(args...)` is deprecated. Please use `torch.amp.GradScaler('cuda', args...)` instead.\n",
      "  scaler = torch.cuda.amp.GradScaler(enabled=use_amp and flair.device.type != \"cpu\")\n"
     ]
    },
    {
     "name": "stdout",
     "output_type": "stream",
     "text": [
      "2024-12-23 17:44:10,148 epoch 1 - iter 14/141 - loss 2.64716517 - time (sec): 2.25 - samples/sec: 4452.60 - lr: 0.100000 - momentum: 0.000000\n",
      "2024-12-23 17:44:11,630 epoch 1 - iter 28/141 - loss 2.30928158 - time (sec): 3.73 - samples/sec: 5277.42 - lr: 0.100000 - momentum: 0.000000\n",
      "2024-12-23 17:44:13,794 epoch 1 - iter 42/141 - loss 2.07896870 - time (sec): 5.89 - samples/sec: 4964.19 - lr: 0.100000 - momentum: 0.000000\n",
      "2024-12-23 17:44:15,349 epoch 1 - iter 56/141 - loss 1.89530098 - time (sec): 7.45 - samples/sec: 5231.82 - lr: 0.100000 - momentum: 0.000000\n",
      "2024-12-23 17:44:16,836 epoch 1 - iter 70/141 - loss 1.76634675 - time (sec): 8.94 - samples/sec: 5445.43 - lr: 0.100000 - momentum: 0.000000\n",
      "2024-12-23 17:44:18,213 epoch 1 - iter 84/141 - loss 1.65741303 - time (sec): 10.31 - samples/sec: 5661.68 - lr: 0.100000 - momentum: 0.000000\n",
      "2024-12-23 17:44:19,767 epoch 1 - iter 98/141 - loss 1.56680621 - time (sec): 11.87 - samples/sec: 5762.97 - lr: 0.100000 - momentum: 0.000000\n",
      "2024-12-23 17:44:21,148 epoch 1 - iter 112/141 - loss 1.49084756 - time (sec): 13.25 - samples/sec: 5881.62 - lr: 0.100000 - momentum: 0.000000\n",
      "2024-12-23 17:44:22,797 epoch 1 - iter 126/141 - loss 1.41828728 - time (sec): 14.90 - samples/sec: 5906.63 - lr: 0.100000 - momentum: 0.000000\n",
      "2024-12-23 17:44:24,352 epoch 1 - iter 140/141 - loss 1.36203505 - time (sec): 16.45 - samples/sec: 5929.78 - lr: 0.100000 - momentum: 0.000000\n",
      "2024-12-23 17:44:24,378 ----------------------------------------------------------------------------------------------------\n",
      "2024-12-23 17:44:24,378 EPOCH 1 done: loss 1.3619 - lr: 0.100000\n"
     ]
    },
    {
     "name": "stderr",
     "output_type": "stream",
     "text": [
      "100%|██████████| 9/9 [00:02<00:00,  3.60it/s]"
     ]
    },
    {
     "name": "stdout",
     "output_type": "stream",
     "text": [
      "2024-12-23 17:44:26,971 DEV : loss 0.5826798677444458 - f1-score (micro avg)  0.8158\n",
      "2024-12-23 17:44:27,001  - 0 epochs without improvement\n",
      "2024-12-23 17:44:27,003 saving best model\n"
     ]
    },
    {
     "name": "stderr",
     "output_type": "stream",
     "text": [
      "\n"
     ]
    },
    {
     "name": "stdout",
     "output_type": "stream",
     "text": [
      "2024-12-23 17:44:29,579 ----------------------------------------------------------------------------------------------------\n",
      "2024-12-23 17:44:31,451 epoch 2 - iter 14/141 - loss 0.77086809 - time (sec): 1.87 - samples/sec: 5633.03 - lr: 0.100000 - momentum: 0.000000\n",
      "2024-12-23 17:44:32,852 epoch 2 - iter 28/141 - loss 0.74887907 - time (sec): 3.27 - samples/sec: 6185.56 - lr: 0.100000 - momentum: 0.000000\n",
      "2024-12-23 17:44:34,390 epoch 2 - iter 42/141 - loss 0.74604701 - time (sec): 4.81 - samples/sec: 6222.01 - lr: 0.100000 - momentum: 0.000000\n",
      "2024-12-23 17:44:35,787 epoch 2 - iter 56/141 - loss 0.73356235 - time (sec): 6.21 - samples/sec: 6350.87 - lr: 0.100000 - momentum: 0.000000\n",
      "2024-12-23 17:44:37,221 epoch 2 - iter 70/141 - loss 0.71669292 - time (sec): 7.64 - samples/sec: 6423.63 - lr: 0.100000 - momentum: 0.000000\n",
      "2024-12-23 17:44:38,704 epoch 2 - iter 84/141 - loss 0.70474575 - time (sec): 9.12 - samples/sec: 6492.81 - lr: 0.100000 - momentum: 0.000000\n",
      "2024-12-23 17:44:40,021 epoch 2 - iter 98/141 - loss 0.69327518 - time (sec): 10.44 - samples/sec: 6589.01 - lr: 0.100000 - momentum: 0.000000\n",
      "2024-12-23 17:44:41,256 epoch 2 - iter 112/141 - loss 0.67998990 - time (sec): 11.68 - samples/sec: 6684.89 - lr: 0.100000 - momentum: 0.000000\n",
      "2024-12-23 17:44:42,483 epoch 2 - iter 126/141 - loss 0.67258683 - time (sec): 12.90 - samples/sec: 6772.08 - lr: 0.100000 - momentum: 0.000000\n",
      "2024-12-23 17:44:43,936 epoch 2 - iter 140/141 - loss 0.66159415 - time (sec): 14.36 - samples/sec: 6796.45 - lr: 0.100000 - momentum: 0.000000\n",
      "2024-12-23 17:44:43,956 ----------------------------------------------------------------------------------------------------\n",
      "2024-12-23 17:44:43,957 EPOCH 2 done: loss 0.6615 - lr: 0.100000\n"
     ]
    },
    {
     "name": "stderr",
     "output_type": "stream",
     "text": [
      "100%|██████████| 9/9 [00:02<00:00,  3.59it/s]"
     ]
    },
    {
     "name": "stdout",
     "output_type": "stream",
     "text": [
      "2024-12-23 17:44:46,547 DEV : loss 0.3744272291660309 - f1-score (micro avg)  0.8771\n",
      "2024-12-23 17:44:46,580  - 0 epochs without improvement\n",
      "2024-12-23 17:44:46,582 saving best model\n"
     ]
    },
    {
     "name": "stderr",
     "output_type": "stream",
     "text": [
      "\n"
     ]
    },
    {
     "name": "stdout",
     "output_type": "stream",
     "text": [
      "2024-12-23 17:44:49,310 ----------------------------------------------------------------------------------------------------\n",
      "2024-12-23 17:44:50,960 epoch 3 - iter 14/141 - loss 0.56310737 - time (sec): 1.65 - samples/sec: 5952.05 - lr: 0.100000 - momentum: 0.000000\n",
      "2024-12-23 17:44:52,316 epoch 3 - iter 28/141 - loss 0.55856199 - time (sec): 3.00 - samples/sec: 6533.88 - lr: 0.100000 - momentum: 0.000000\n",
      "2024-12-23 17:44:53,787 epoch 3 - iter 42/141 - loss 0.56069986 - time (sec): 4.48 - samples/sec: 6644.67 - lr: 0.100000 - momentum: 0.000000\n",
      "2024-12-23 17:44:55,049 epoch 3 - iter 56/141 - loss 0.55091987 - time (sec): 5.74 - samples/sec: 6833.47 - lr: 0.100000 - momentum: 0.000000\n",
      "2024-12-23 17:44:56,533 epoch 3 - iter 70/141 - loss 0.54565251 - time (sec): 7.22 - samples/sec: 6767.58 - lr: 0.100000 - momentum: 0.000000\n",
      "2024-12-23 17:44:57,915 epoch 3 - iter 84/141 - loss 0.54197399 - time (sec): 8.60 - samples/sec: 6814.24 - lr: 0.100000 - momentum: 0.000000\n",
      "2024-12-23 17:44:59,405 epoch 3 - iter 98/141 - loss 0.53819654 - time (sec): 10.09 - samples/sec: 6762.25 - lr: 0.100000 - momentum: 0.000000\n",
      "2024-12-23 17:45:00,709 epoch 3 - iter 112/141 - loss 0.53538357 - time (sec): 11.40 - samples/sec: 6815.09 - lr: 0.100000 - momentum: 0.000000\n",
      "2024-12-23 17:45:02,156 epoch 3 - iter 126/141 - loss 0.53260689 - time (sec): 12.84 - samples/sec: 6811.43 - lr: 0.100000 - momentum: 0.000000\n",
      "2024-12-23 17:45:03,616 epoch 3 - iter 140/141 - loss 0.53047149 - time (sec): 14.30 - samples/sec: 6818.59 - lr: 0.100000 - momentum: 0.000000\n",
      "2024-12-23 17:45:03,657 ----------------------------------------------------------------------------------------------------\n",
      "2024-12-23 17:45:03,658 EPOCH 3 done: loss 0.5305 - lr: 0.100000\n"
     ]
    },
    {
     "name": "stderr",
     "output_type": "stream",
     "text": [
      "100%|██████████| 9/9 [00:02<00:00,  3.47it/s]"
     ]
    },
    {
     "name": "stdout",
     "output_type": "stream",
     "text": [
      "2024-12-23 17:45:06,329 DEV : loss 0.3108203113079071 - f1-score (micro avg)  0.901\n",
      "2024-12-23 17:45:06,367  - 0 epochs without improvement\n",
      "2024-12-23 17:45:06,369 saving best model\n"
     ]
    },
    {
     "name": "stderr",
     "output_type": "stream",
     "text": [
      "\n"
     ]
    },
    {
     "name": "stdout",
     "output_type": "stream",
     "text": [
      "2024-12-23 17:45:08,989 ----------------------------------------------------------------------------------------------------\n",
      "2024-12-23 17:45:10,654 epoch 4 - iter 14/141 - loss 0.48324146 - time (sec): 1.66 - samples/sec: 5887.37 - lr: 0.100000 - momentum: 0.000000\n",
      "2024-12-23 17:45:12,140 epoch 4 - iter 28/141 - loss 0.48448517 - time (sec): 3.15 - samples/sec: 6396.45 - lr: 0.100000 - momentum: 0.000000\n",
      "2024-12-23 17:45:13,545 epoch 4 - iter 42/141 - loss 0.48497740 - time (sec): 4.56 - samples/sec: 6615.58 - lr: 0.100000 - momentum: 0.000000\n",
      "2024-12-23 17:45:14,949 epoch 4 - iter 56/141 - loss 0.48665558 - time (sec): 5.96 - samples/sec: 6662.38 - lr: 0.100000 - momentum: 0.000000\n",
      "2024-12-23 17:45:16,339 epoch 4 - iter 70/141 - loss 0.48049410 - time (sec): 7.35 - samples/sec: 6699.82 - lr: 0.100000 - momentum: 0.000000\n",
      "2024-12-23 17:45:17,677 epoch 4 - iter 84/141 - loss 0.47875628 - time (sec): 8.69 - samples/sec: 6759.88 - lr: 0.100000 - momentum: 0.000000\n",
      "2024-12-23 17:45:19,284 epoch 4 - iter 98/141 - loss 0.47625663 - time (sec): 10.29 - samples/sec: 6670.99 - lr: 0.100000 - momentum: 0.000000\n",
      "2024-12-23 17:45:20,760 epoch 4 - iter 112/141 - loss 0.47568368 - time (sec): 11.77 - samples/sec: 6636.60 - lr: 0.100000 - momentum: 0.000000\n",
      "2024-12-23 17:45:22,236 epoch 4 - iter 126/141 - loss 0.47506712 - time (sec): 13.25 - samples/sec: 6681.93 - lr: 0.100000 - momentum: 0.000000\n",
      "2024-12-23 17:45:23,523 epoch 4 - iter 140/141 - loss 0.47336881 - time (sec): 14.53 - samples/sec: 6710.39 - lr: 0.100000 - momentum: 0.000000\n",
      "2024-12-23 17:45:23,565 ----------------------------------------------------------------------------------------------------\n",
      "2024-12-23 17:45:23,566 EPOCH 4 done: loss 0.4732 - lr: 0.100000\n"
     ]
    },
    {
     "name": "stderr",
     "output_type": "stream",
     "text": [
      "100%|██████████| 9/9 [00:02<00:00,  3.55it/s]"
     ]
    },
    {
     "name": "stdout",
     "output_type": "stream",
     "text": [
      "2024-12-23 17:45:26,188 DEV : loss 0.2926679253578186 - f1-score (micro avg)  0.9051\n",
      "2024-12-23 17:45:26,219  - 0 epochs without improvement\n",
      "2024-12-23 17:45:26,221 saving best model\n"
     ]
    },
    {
     "name": "stderr",
     "output_type": "stream",
     "text": [
      "\n"
     ]
    },
    {
     "name": "stdout",
     "output_type": "stream",
     "text": [
      "2024-12-23 17:45:28,923 ----------------------------------------------------------------------------------------------------\n",
      "2024-12-23 17:45:30,462 epoch 5 - iter 14/141 - loss 0.44505809 - time (sec): 1.54 - samples/sec: 6086.25 - lr: 0.100000 - momentum: 0.000000\n",
      "2024-12-23 17:45:31,960 epoch 5 - iter 28/141 - loss 0.45407984 - time (sec): 3.04 - samples/sec: 6574.68 - lr: 0.100000 - momentum: 0.000000\n",
      "2024-12-23 17:45:33,124 epoch 5 - iter 42/141 - loss 0.45224500 - time (sec): 4.20 - samples/sec: 6980.18 - lr: 0.100000 - momentum: 0.000000\n",
      "2024-12-23 17:45:34,436 epoch 5 - iter 56/141 - loss 0.45132837 - time (sec): 5.51 - samples/sec: 7049.47 - lr: 0.100000 - momentum: 0.000000\n",
      "2024-12-23 17:45:35,874 epoch 5 - iter 70/141 - loss 0.45099365 - time (sec): 6.95 - samples/sec: 6998.87 - lr: 0.100000 - momentum: 0.000000\n",
      "2024-12-23 17:45:37,253 epoch 5 - iter 84/141 - loss 0.45054284 - time (sec): 8.33 - samples/sec: 7017.82 - lr: 0.100000 - momentum: 0.000000\n",
      "2024-12-23 17:45:38,691 epoch 5 - iter 98/141 - loss 0.45110206 - time (sec): 9.77 - samples/sec: 7035.55 - lr: 0.100000 - momentum: 0.000000\n",
      "2024-12-23 17:45:40,089 epoch 5 - iter 112/141 - loss 0.44851037 - time (sec): 11.16 - samples/sec: 7006.06 - lr: 0.100000 - momentum: 0.000000\n",
      "2024-12-23 17:45:41,433 epoch 5 - iter 126/141 - loss 0.44921609 - time (sec): 12.51 - samples/sec: 7036.89 - lr: 0.100000 - momentum: 0.000000\n",
      "2024-12-23 17:45:42,761 epoch 5 - iter 140/141 - loss 0.44681935 - time (sec): 13.84 - samples/sec: 7051.29 - lr: 0.100000 - momentum: 0.000000\n",
      "2024-12-23 17:45:42,784 ----------------------------------------------------------------------------------------------------\n",
      "2024-12-23 17:45:42,785 EPOCH 5 done: loss 0.4468 - lr: 0.100000\n"
     ]
    },
    {
     "name": "stderr",
     "output_type": "stream",
     "text": [
      "100%|██████████| 9/9 [00:02<00:00,  3.53it/s]"
     ]
    },
    {
     "name": "stdout",
     "output_type": "stream",
     "text": [
      "2024-12-23 17:45:45,416 DEV : loss 0.2628646790981293 - f1-score (micro avg)  0.915\n",
      "2024-12-23 17:45:45,446  - 0 epochs without improvement\n",
      "2024-12-23 17:45:45,448 saving best model\n"
     ]
    },
    {
     "name": "stderr",
     "output_type": "stream",
     "text": [
      "\n"
     ]
    },
    {
     "name": "stdout",
     "output_type": "stream",
     "text": [
      "2024-12-23 17:45:49,432 ----------------------------------------------------------------------------------------------------\n",
      "2024-12-23 17:45:51,261 epoch 6 - iter 14/141 - loss 0.42127352 - time (sec): 1.83 - samples/sec: 5646.31 - lr: 0.100000 - momentum: 0.000000\n",
      "2024-12-23 17:45:52,638 epoch 6 - iter 28/141 - loss 0.43006444 - time (sec): 3.20 - samples/sec: 6160.27 - lr: 0.100000 - momentum: 0.000000\n",
      "2024-12-23 17:45:54,159 epoch 6 - iter 42/141 - loss 0.43629903 - time (sec): 4.73 - samples/sec: 6316.02 - lr: 0.100000 - momentum: 0.000000\n",
      "2024-12-23 17:45:55,627 epoch 6 - iter 56/141 - loss 0.42724457 - time (sec): 6.19 - samples/sec: 6431.25 - lr: 0.100000 - momentum: 0.000000\n",
      "2024-12-23 17:45:57,072 epoch 6 - iter 70/141 - loss 0.42676049 - time (sec): 7.64 - samples/sec: 6510.06 - lr: 0.100000 - momentum: 0.000000\n",
      "2024-12-23 17:45:58,391 epoch 6 - iter 84/141 - loss 0.42453307 - time (sec): 8.96 - samples/sec: 6590.23 - lr: 0.100000 - momentum: 0.000000\n",
      "2024-12-23 17:45:59,810 epoch 6 - iter 98/141 - loss 0.42703066 - time (sec): 10.38 - samples/sec: 6605.83 - lr: 0.100000 - momentum: 0.000000\n",
      "2024-12-23 17:46:01,244 epoch 6 - iter 112/141 - loss 0.42832165 - time (sec): 11.81 - samples/sec: 6621.73 - lr: 0.100000 - momentum: 0.000000\n",
      "2024-12-23 17:46:02,477 epoch 6 - iter 126/141 - loss 0.42424869 - time (sec): 13.04 - samples/sec: 6711.00 - lr: 0.100000 - momentum: 0.000000\n",
      "2024-12-23 17:46:03,869 epoch 6 - iter 140/141 - loss 0.42403868 - time (sec): 14.43 - samples/sec: 6756.11 - lr: 0.100000 - momentum: 0.000000\n",
      "2024-12-23 17:46:03,913 ----------------------------------------------------------------------------------------------------\n",
      "2024-12-23 17:46:03,914 EPOCH 6 done: loss 0.4243 - lr: 0.100000\n"
     ]
    },
    {
     "name": "stderr",
     "output_type": "stream",
     "text": [
      "100%|██████████| 9/9 [00:03<00:00,  2.58it/s]"
     ]
    },
    {
     "name": "stdout",
     "output_type": "stream",
     "text": [
      "2024-12-23 17:46:07,492 DEV : loss 0.2545723617076874 - f1-score (micro avg)  0.9144\n",
      "2024-12-23 17:46:07,526  - 1 epochs without improvement\n",
      "2024-12-23 17:46:07,528 ----------------------------------------------------------------------------------------------------\n"
     ]
    },
    {
     "name": "stderr",
     "output_type": "stream",
     "text": [
      "\n"
     ]
    },
    {
     "name": "stdout",
     "output_type": "stream",
     "text": [
      "2024-12-23 17:46:09,072 epoch 7 - iter 14/141 - loss 0.39925218 - time (sec): 1.54 - samples/sec: 6382.07 - lr: 0.100000 - momentum: 0.000000\n",
      "2024-12-23 17:46:10,412 epoch 7 - iter 28/141 - loss 0.39858762 - time (sec): 2.88 - samples/sec: 6783.46 - lr: 0.100000 - momentum: 0.000000\n",
      "2024-12-23 17:46:11,647 epoch 7 - iter 42/141 - loss 0.41392420 - time (sec): 4.12 - samples/sec: 6992.73 - lr: 0.100000 - momentum: 0.000000\n",
      "2024-12-23 17:46:13,170 epoch 7 - iter 56/141 - loss 0.41508146 - time (sec): 5.64 - samples/sec: 6926.34 - lr: 0.100000 - momentum: 0.000000\n",
      "2024-12-23 17:46:14,625 epoch 7 - iter 70/141 - loss 0.41240578 - time (sec): 7.10 - samples/sec: 6912.29 - lr: 0.100000 - momentum: 0.000000\n",
      "2024-12-23 17:46:15,960 epoch 7 - iter 84/141 - loss 0.41234942 - time (sec): 8.43 - samples/sec: 6978.56 - lr: 0.100000 - momentum: 0.000000\n",
      "2024-12-23 17:46:17,475 epoch 7 - iter 98/141 - loss 0.41517505 - time (sec): 9.95 - samples/sec: 6914.61 - lr: 0.100000 - momentum: 0.000000\n",
      "2024-12-23 17:46:18,826 epoch 7 - iter 112/141 - loss 0.41348167 - time (sec): 11.30 - samples/sec: 6951.24 - lr: 0.100000 - momentum: 0.000000\n",
      "2024-12-23 17:46:20,471 epoch 7 - iter 126/141 - loss 0.41259748 - time (sec): 12.94 - samples/sec: 6825.29 - lr: 0.100000 - momentum: 0.000000\n",
      "2024-12-23 17:46:21,887 epoch 7 - iter 140/141 - loss 0.41202987 - time (sec): 14.36 - samples/sec: 6795.50 - lr: 0.100000 - momentum: 0.000000\n",
      "2024-12-23 17:46:21,906 ----------------------------------------------------------------------------------------------------\n",
      "2024-12-23 17:46:21,907 EPOCH 7 done: loss 0.4120 - lr: 0.100000\n"
     ]
    },
    {
     "name": "stderr",
     "output_type": "stream",
     "text": [
      "100%|██████████| 9/9 [00:02<00:00,  3.59it/s]\n"
     ]
    },
    {
     "name": "stdout",
     "output_type": "stream",
     "text": [
      "2024-12-23 17:46:24,501 DEV : loss 0.2476404756307602 - f1-score (micro avg)  0.9158\n",
      "2024-12-23 17:46:24,535  - 0 epochs without improvement\n",
      "2024-12-23 17:46:24,536 saving best model\n",
      "2024-12-23 17:46:28,125 ----------------------------------------------------------------------------------------------------\n",
      "2024-12-23 17:46:29,751 epoch 8 - iter 14/141 - loss 0.40655721 - time (sec): 1.62 - samples/sec: 6087.14 - lr: 0.100000 - momentum: 0.000000\n",
      "2024-12-23 17:46:31,141 epoch 8 - iter 28/141 - loss 0.39204352 - time (sec): 3.01 - samples/sec: 6516.82 - lr: 0.100000 - momentum: 0.000000\n",
      "2024-12-23 17:46:32,643 epoch 8 - iter 42/141 - loss 0.40607916 - time (sec): 4.52 - samples/sec: 6628.25 - lr: 0.100000 - momentum: 0.000000\n",
      "2024-12-23 17:46:33,985 epoch 8 - iter 56/141 - loss 0.40161696 - time (sec): 5.86 - samples/sec: 6775.07 - lr: 0.100000 - momentum: 0.000000\n",
      "2024-12-23 17:46:35,449 epoch 8 - iter 70/141 - loss 0.40183221 - time (sec): 7.32 - samples/sec: 6781.75 - lr: 0.100000 - momentum: 0.000000\n",
      "2024-12-23 17:46:36,869 epoch 8 - iter 84/141 - loss 0.39993774 - time (sec): 8.74 - samples/sec: 6832.69 - lr: 0.100000 - momentum: 0.000000\n",
      "2024-12-23 17:46:38,272 epoch 8 - iter 98/141 - loss 0.40124230 - time (sec): 10.15 - samples/sec: 6879.88 - lr: 0.100000 - momentum: 0.000000\n",
      "2024-12-23 17:46:39,676 epoch 8 - iter 112/141 - loss 0.40225111 - time (sec): 11.55 - samples/sec: 6846.41 - lr: 0.100000 - momentum: 0.000000\n",
      "2024-12-23 17:46:40,979 epoch 8 - iter 126/141 - loss 0.40146461 - time (sec): 12.85 - samples/sec: 6875.99 - lr: 0.100000 - momentum: 0.000000\n",
      "2024-12-23 17:46:42,258 epoch 8 - iter 140/141 - loss 0.40165036 - time (sec): 14.13 - samples/sec: 6903.68 - lr: 0.100000 - momentum: 0.000000\n",
      "2024-12-23 17:46:42,286 ----------------------------------------------------------------------------------------------------\n",
      "2024-12-23 17:46:42,287 EPOCH 8 done: loss 0.4016 - lr: 0.100000\n"
     ]
    },
    {
     "name": "stderr",
     "output_type": "stream",
     "text": [
      "100%|██████████| 9/9 [00:02<00:00,  3.56it/s]"
     ]
    },
    {
     "name": "stdout",
     "output_type": "stream",
     "text": [
      "2024-12-23 17:46:44,902 DEV : loss 0.25064119696617126 - f1-score (micro avg)  0.915\n",
      "2024-12-23 17:46:44,935  - 1 epochs without improvement\n",
      "2024-12-23 17:46:44,936 ----------------------------------------------------------------------------------------------------\n"
     ]
    },
    {
     "name": "stderr",
     "output_type": "stream",
     "text": [
      "\n"
     ]
    },
    {
     "name": "stdout",
     "output_type": "stream",
     "text": [
      "2024-12-23 17:46:46,578 epoch 9 - iter 14/141 - loss 0.39957216 - time (sec): 1.64 - samples/sec: 6150.14 - lr: 0.100000 - momentum: 0.000000\n",
      "2024-12-23 17:46:47,967 epoch 9 - iter 28/141 - loss 0.39606068 - time (sec): 3.03 - samples/sec: 6563.13 - lr: 0.100000 - momentum: 0.000000\n",
      "2024-12-23 17:46:49,317 epoch 9 - iter 42/141 - loss 0.38768207 - time (sec): 4.38 - samples/sec: 6775.05 - lr: 0.100000 - momentum: 0.000000\n",
      "2024-12-23 17:46:50,713 epoch 9 - iter 56/141 - loss 0.38878585 - time (sec): 5.78 - samples/sec: 6833.49 - lr: 0.100000 - momentum: 0.000000\n",
      "2024-12-23 17:46:52,259 epoch 9 - iter 70/141 - loss 0.38550735 - time (sec): 7.32 - samples/sec: 6731.51 - lr: 0.100000 - momentum: 0.000000\n",
      "2024-12-23 17:46:53,708 epoch 9 - iter 84/141 - loss 0.38703482 - time (sec): 8.77 - samples/sec: 6732.68 - lr: 0.100000 - momentum: 0.000000\n",
      "2024-12-23 17:46:55,003 epoch 9 - iter 98/141 - loss 0.38726934 - time (sec): 10.07 - samples/sec: 6806.23 - lr: 0.100000 - momentum: 0.000000\n",
      "2024-12-23 17:46:56,308 epoch 9 - iter 112/141 - loss 0.38759931 - time (sec): 11.37 - samples/sec: 6882.56 - lr: 0.100000 - momentum: 0.000000\n",
      "2024-12-23 17:46:57,727 epoch 9 - iter 126/141 - loss 0.38761346 - time (sec): 12.79 - samples/sec: 6871.06 - lr: 0.100000 - momentum: 0.000000\n",
      "2024-12-23 17:46:59,110 epoch 9 - iter 140/141 - loss 0.38623669 - time (sec): 14.17 - samples/sec: 6884.29 - lr: 0.100000 - momentum: 0.000000\n",
      "2024-12-23 17:46:59,129 ----------------------------------------------------------------------------------------------------\n",
      "2024-12-23 17:46:59,130 EPOCH 9 done: loss 0.3862 - lr: 0.100000\n"
     ]
    },
    {
     "name": "stderr",
     "output_type": "stream",
     "text": [
      "100%|██████████| 9/9 [00:02<00:00,  3.50it/s]"
     ]
    },
    {
     "name": "stdout",
     "output_type": "stream",
     "text": [
      "2024-12-23 17:47:01,782 DEV : loss 0.23922356963157654 - f1-score (micro avg)  0.919\n",
      "2024-12-23 17:47:01,811  - 0 epochs without improvement\n",
      "2024-12-23 17:47:01,813 saving best model\n"
     ]
    },
    {
     "name": "stderr",
     "output_type": "stream",
     "text": [
      "\n"
     ]
    },
    {
     "name": "stdout",
     "output_type": "stream",
     "text": [
      "2024-12-23 17:47:11,935 ----------------------------------------------------------------------------------------------------\n",
      "2024-12-23 17:47:13,502 epoch 10 - iter 14/141 - loss 0.37406661 - time (sec): 1.57 - samples/sec: 6111.14 - lr: 0.100000 - momentum: 0.000000\n",
      "2024-12-23 17:47:14,897 epoch 10 - iter 28/141 - loss 0.37542815 - time (sec): 2.96 - samples/sec: 6481.82 - lr: 0.100000 - momentum: 0.000000\n",
      "2024-12-23 17:47:16,358 epoch 10 - iter 42/141 - loss 0.38295606 - time (sec): 4.42 - samples/sec: 6610.31 - lr: 0.100000 - momentum: 0.000000\n",
      "2024-12-23 17:47:17,912 epoch 10 - iter 56/141 - loss 0.38401225 - time (sec): 5.98 - samples/sec: 6584.79 - lr: 0.100000 - momentum: 0.000000\n",
      "2024-12-23 17:47:19,290 epoch 10 - iter 70/141 - loss 0.38349817 - time (sec): 7.35 - samples/sec: 6703.10 - lr: 0.100000 - momentum: 0.000000\n",
      "2024-12-23 17:47:20,570 epoch 10 - iter 84/141 - loss 0.38242289 - time (sec): 8.63 - samples/sec: 6780.84 - lr: 0.100000 - momentum: 0.000000\n",
      "2024-12-23 17:47:21,924 epoch 10 - iter 98/141 - loss 0.38135416 - time (sec): 9.99 - samples/sec: 6813.38 - lr: 0.100000 - momentum: 0.000000\n",
      "2024-12-23 17:47:23,297 epoch 10 - iter 112/141 - loss 0.38141846 - time (sec): 11.36 - samples/sec: 6857.32 - lr: 0.100000 - momentum: 0.000000\n",
      "2024-12-23 17:47:24,793 epoch 10 - iter 126/141 - loss 0.38081718 - time (sec): 12.86 - samples/sec: 6852.09 - lr: 0.100000 - momentum: 0.000000\n",
      "2024-12-23 17:47:26,099 epoch 10 - iter 140/141 - loss 0.38082081 - time (sec): 14.16 - samples/sec: 6887.36 - lr: 0.100000 - momentum: 0.000000\n",
      "2024-12-23 17:47:26,139 ----------------------------------------------------------------------------------------------------\n",
      "2024-12-23 17:47:26,139 EPOCH 10 done: loss 0.3809 - lr: 0.100000\n"
     ]
    },
    {
     "name": "stderr",
     "output_type": "stream",
     "text": [
      "100%|██████████| 9/9 [00:02<00:00,  3.47it/s]"
     ]
    },
    {
     "name": "stdout",
     "output_type": "stream",
     "text": [
      "2024-12-23 17:47:28,817 DEV : loss 0.23374545574188232 - f1-score (micro avg)  0.9226\n",
      "2024-12-23 17:47:28,848  - 0 epochs without improvement\n",
      "2024-12-23 17:47:28,849 saving best model\n"
     ]
    },
    {
     "name": "stderr",
     "output_type": "stream",
     "text": [
      "\n"
     ]
    },
    {
     "name": "stdout",
     "output_type": "stream",
     "text": [
      "2024-12-23 17:47:32,784 ----------------------------------------------------------------------------------------------------\n",
      "2024-12-23 17:47:34,274 epoch 11 - iter 14/141 - loss 0.35462550 - time (sec): 1.49 - samples/sec: 6595.31 - lr: 0.100000 - momentum: 0.000000\n",
      "2024-12-23 17:47:35,542 epoch 11 - iter 28/141 - loss 0.36266354 - time (sec): 2.76 - samples/sec: 7059.30 - lr: 0.100000 - momentum: 0.000000\n",
      "2024-12-23 17:47:36,995 epoch 11 - iter 42/141 - loss 0.37068042 - time (sec): 4.21 - samples/sec: 6927.44 - lr: 0.100000 - momentum: 0.000000\n",
      "2024-12-23 17:47:38,318 epoch 11 - iter 56/141 - loss 0.37411611 - time (sec): 5.53 - samples/sec: 7026.82 - lr: 0.100000 - momentum: 0.000000\n",
      "2024-12-23 17:47:39,578 epoch 11 - iter 70/141 - loss 0.37363076 - time (sec): 6.79 - samples/sec: 7134.50 - lr: 0.100000 - momentum: 0.000000\n",
      "2024-12-23 17:47:40,962 epoch 11 - iter 84/141 - loss 0.37215313 - time (sec): 8.18 - samples/sec: 7135.43 - lr: 0.100000 - momentum: 0.000000\n",
      "2024-12-23 17:47:42,317 epoch 11 - iter 98/141 - loss 0.37532626 - time (sec): 9.53 - samples/sec: 7141.84 - lr: 0.100000 - momentum: 0.000000\n",
      "2024-12-23 17:47:43,615 epoch 11 - iter 112/141 - loss 0.37442277 - time (sec): 10.83 - samples/sec: 7178.41 - lr: 0.100000 - momentum: 0.000000\n",
      "2024-12-23 17:47:45,040 epoch 11 - iter 126/141 - loss 0.37463140 - time (sec): 12.25 - samples/sec: 7154.86 - lr: 0.100000 - momentum: 0.000000\n",
      "2024-12-23 17:47:46,485 epoch 11 - iter 140/141 - loss 0.37366952 - time (sec): 13.70 - samples/sec: 7123.51 - lr: 0.100000 - momentum: 0.000000\n",
      "2024-12-23 17:47:46,500 ----------------------------------------------------------------------------------------------------\n",
      "2024-12-23 17:47:46,501 EPOCH 11 done: loss 0.3737 - lr: 0.100000\n"
     ]
    },
    {
     "name": "stderr",
     "output_type": "stream",
     "text": [
      "100%|██████████| 9/9 [00:02<00:00,  3.55it/s]"
     ]
    },
    {
     "name": "stdout",
     "output_type": "stream",
     "text": [
      "2024-12-23 17:47:49,119 DEV : loss 0.2306569516658783 - f1-score (micro avg)  0.9207\n",
      "2024-12-23 17:47:49,150  - 1 epochs without improvement\n",
      "2024-12-23 17:47:49,152 ----------------------------------------------------------------------------------------------------\n"
     ]
    },
    {
     "name": "stderr",
     "output_type": "stream",
     "text": [
      "\n"
     ]
    },
    {
     "name": "stdout",
     "output_type": "stream",
     "text": [
      "2024-12-23 17:47:50,612 epoch 12 - iter 14/141 - loss 0.38204694 - time (sec): 1.46 - samples/sec: 6520.20 - lr: 0.100000 - momentum: 0.000000\n",
      "2024-12-23 17:47:52,089 epoch 12 - iter 28/141 - loss 0.36839764 - time (sec): 2.94 - samples/sec: 6427.00 - lr: 0.100000 - momentum: 0.000000\n",
      "2024-12-23 17:47:53,496 epoch 12 - iter 42/141 - loss 0.36216445 - time (sec): 4.34 - samples/sec: 6548.32 - lr: 0.100000 - momentum: 0.000000\n",
      "2024-12-23 17:47:54,985 epoch 12 - iter 56/141 - loss 0.35619139 - time (sec): 5.83 - samples/sec: 6531.57 - lr: 0.100000 - momentum: 0.000000\n",
      "2024-12-23 17:47:56,456 epoch 12 - iter 70/141 - loss 0.36100537 - time (sec): 7.30 - samples/sec: 6580.32 - lr: 0.100000 - momentum: 0.000000\n",
      "2024-12-23 17:47:57,968 epoch 12 - iter 84/141 - loss 0.36124589 - time (sec): 8.82 - samples/sec: 6627.10 - lr: 0.100000 - momentum: 0.000000\n",
      "2024-12-23 17:47:59,484 epoch 12 - iter 98/141 - loss 0.36286577 - time (sec): 10.33 - samples/sec: 6608.01 - lr: 0.100000 - momentum: 0.000000\n",
      "2024-12-23 17:48:00,919 epoch 12 - iter 112/141 - loss 0.36468881 - time (sec): 11.77 - samples/sec: 6632.05 - lr: 0.100000 - momentum: 0.000000\n",
      "2024-12-23 17:48:02,534 epoch 12 - iter 126/141 - loss 0.36547647 - time (sec): 13.38 - samples/sec: 6584.48 - lr: 0.100000 - momentum: 0.000000\n",
      "2024-12-23 17:48:03,793 epoch 12 - iter 140/141 - loss 0.36519567 - time (sec): 14.64 - samples/sec: 6663.02 - lr: 0.100000 - momentum: 0.000000\n",
      "2024-12-23 17:48:03,823 ----------------------------------------------------------------------------------------------------\n",
      "2024-12-23 17:48:03,824 EPOCH 12 done: loss 0.3653 - lr: 0.100000\n"
     ]
    },
    {
     "name": "stderr",
     "output_type": "stream",
     "text": [
      "100%|██████████| 9/9 [00:02<00:00,  3.41it/s]"
     ]
    },
    {
     "name": "stdout",
     "output_type": "stream",
     "text": [
      "2024-12-23 17:48:06,554 DEV : loss 0.23186567425727844 - f1-score (micro avg)  0.9213\n",
      "2024-12-23 17:48:06,586  - 2 epochs without improvement\n",
      "2024-12-23 17:48:06,587 ----------------------------------------------------------------------------------------------------\n"
     ]
    },
    {
     "name": "stderr",
     "output_type": "stream",
     "text": [
      "\n"
     ]
    },
    {
     "name": "stdout",
     "output_type": "stream",
     "text": [
      "2024-12-23 17:48:08,150 epoch 13 - iter 14/141 - loss 0.37476620 - time (sec): 1.56 - samples/sec: 6407.94 - lr: 0.100000 - momentum: 0.000000\n",
      "2024-12-23 17:48:09,634 epoch 13 - iter 28/141 - loss 0.36082361 - time (sec): 3.05 - samples/sec: 6577.85 - lr: 0.100000 - momentum: 0.000000\n",
      "2024-12-23 17:48:11,153 epoch 13 - iter 42/141 - loss 0.36189848 - time (sec): 4.56 - samples/sec: 6588.31 - lr: 0.100000 - momentum: 0.000000\n",
      "2024-12-23 17:48:12,549 epoch 13 - iter 56/141 - loss 0.36175953 - time (sec): 5.96 - samples/sec: 6659.96 - lr: 0.100000 - momentum: 0.000000\n",
      "2024-12-23 17:48:14,050 epoch 13 - iter 70/141 - loss 0.35827669 - time (sec): 7.46 - samples/sec: 6669.64 - lr: 0.100000 - momentum: 0.000000\n",
      "2024-12-23 17:48:15,660 epoch 13 - iter 84/141 - loss 0.35797108 - time (sec): 9.07 - samples/sec: 6597.98 - lr: 0.100000 - momentum: 0.000000\n",
      "2024-12-23 17:48:17,102 epoch 13 - iter 98/141 - loss 0.35837729 - time (sec): 10.51 - samples/sec: 6587.32 - lr: 0.100000 - momentum: 0.000000\n",
      "2024-12-23 17:48:18,576 epoch 13 - iter 112/141 - loss 0.35743913 - time (sec): 11.99 - samples/sec: 6571.91 - lr: 0.100000 - momentum: 0.000000\n",
      "2024-12-23 17:48:20,094 epoch 13 - iter 126/141 - loss 0.35810225 - time (sec): 13.51 - samples/sec: 6532.10 - lr: 0.100000 - momentum: 0.000000\n",
      "2024-12-23 17:48:21,567 epoch 13 - iter 140/141 - loss 0.35748202 - time (sec): 14.98 - samples/sec: 6513.95 - lr: 0.100000 - momentum: 0.000000\n",
      "2024-12-23 17:48:21,597 ----------------------------------------------------------------------------------------------------\n",
      "2024-12-23 17:48:21,598 EPOCH 13 done: loss 0.3574 - lr: 0.100000\n"
     ]
    },
    {
     "name": "stderr",
     "output_type": "stream",
     "text": [
      "100%|██████████| 9/9 [00:02<00:00,  3.20it/s]"
     ]
    },
    {
     "name": "stdout",
     "output_type": "stream",
     "text": [
      "2024-12-23 17:48:24,501 DEV : loss 0.23382042348384857 - f1-score (micro avg)  0.922\n",
      "2024-12-23 17:48:24,532  - 3 epochs without improvement\n",
      "2024-12-23 17:48:24,533 ----------------------------------------------------------------------------------------------------\n"
     ]
    },
    {
     "name": "stderr",
     "output_type": "stream",
     "text": [
      "\n"
     ]
    },
    {
     "name": "stdout",
     "output_type": "stream",
     "text": [
      "2024-12-23 17:48:26,117 epoch 14 - iter 14/141 - loss 0.35248503 - time (sec): 1.58 - samples/sec: 6389.49 - lr: 0.100000 - momentum: 0.000000\n",
      "2024-12-23 17:48:27,612 epoch 14 - iter 28/141 - loss 0.35804532 - time (sec): 3.08 - samples/sec: 6549.54 - lr: 0.100000 - momentum: 0.000000\n",
      "2024-12-23 17:48:29,084 epoch 14 - iter 42/141 - loss 0.35683281 - time (sec): 4.55 - samples/sec: 6599.99 - lr: 0.100000 - momentum: 0.000000\n",
      "2024-12-23 17:48:30,559 epoch 14 - iter 56/141 - loss 0.35669300 - time (sec): 6.03 - samples/sec: 6626.29 - lr: 0.100000 - momentum: 0.000000\n",
      "2024-12-23 17:48:31,797 epoch 14 - iter 70/141 - loss 0.35345772 - time (sec): 7.26 - samples/sec: 6785.86 - lr: 0.100000 - momentum: 0.000000\n",
      "2024-12-23 17:48:33,263 epoch 14 - iter 84/141 - loss 0.35567471 - time (sec): 8.73 - samples/sec: 6727.72 - lr: 0.100000 - momentum: 0.000000\n",
      "2024-12-23 17:48:34,709 epoch 14 - iter 98/141 - loss 0.35524264 - time (sec): 10.18 - samples/sec: 6739.04 - lr: 0.100000 - momentum: 0.000000\n",
      "2024-12-23 17:48:36,271 epoch 14 - iter 112/141 - loss 0.35452050 - time (sec): 11.74 - samples/sec: 6670.11 - lr: 0.100000 - momentum: 0.000000\n",
      "2024-12-23 17:48:37,598 epoch 14 - iter 126/141 - loss 0.35399765 - time (sec): 13.06 - samples/sec: 6717.75 - lr: 0.100000 - momentum: 0.000000\n",
      "2024-12-23 17:48:39,057 epoch 14 - iter 140/141 - loss 0.35306775 - time (sec): 14.52 - samples/sec: 6718.57 - lr: 0.100000 - momentum: 0.000000\n",
      "2024-12-23 17:48:39,084 ----------------------------------------------------------------------------------------------------\n",
      "2024-12-23 17:48:39,085 EPOCH 14 done: loss 0.3530 - lr: 0.100000\n"
     ]
    },
    {
     "name": "stderr",
     "output_type": "stream",
     "text": [
      "100%|██████████| 9/9 [00:02<00:00,  3.51it/s]"
     ]
    },
    {
     "name": "stdout",
     "output_type": "stream",
     "text": [
      "2024-12-23 17:48:41,733 DEV : loss 0.2351861149072647 - f1-score (micro avg)  0.9212\n",
      "2024-12-23 17:48:41,766  - 4 epochs without improvement (above 'patience')-> annealing learning_rate to [0.05]\n",
      "2024-12-23 17:48:41,768 ----------------------------------------------------------------------------------------------------\n"
     ]
    },
    {
     "name": "stderr",
     "output_type": "stream",
     "text": [
      "\n"
     ]
    },
    {
     "name": "stdout",
     "output_type": "stream",
     "text": [
      "2024-12-23 17:48:43,320 epoch 15 - iter 14/141 - loss 0.34374337 - time (sec): 1.55 - samples/sec: 6259.67 - lr: 0.050000 - momentum: 0.000000\n",
      "2024-12-23 17:48:44,550 epoch 15 - iter 28/141 - loss 0.34684624 - time (sec): 2.78 - samples/sec: 6857.04 - lr: 0.050000 - momentum: 0.000000\n",
      "2024-12-23 17:48:46,000 epoch 15 - iter 42/141 - loss 0.34268175 - time (sec): 4.23 - samples/sec: 6887.84 - lr: 0.050000 - momentum: 0.000000\n",
      "2024-12-23 17:48:47,405 epoch 15 - iter 56/141 - loss 0.34322656 - time (sec): 5.64 - samples/sec: 6926.53 - lr: 0.050000 - momentum: 0.000000\n",
      "2024-12-23 17:48:48,835 epoch 15 - iter 70/141 - loss 0.33994582 - time (sec): 7.07 - samples/sec: 6875.06 - lr: 0.050000 - momentum: 0.000000\n",
      "2024-12-23 17:48:50,405 epoch 15 - iter 84/141 - loss 0.34016506 - time (sec): 8.64 - samples/sec: 6793.99 - lr: 0.050000 - momentum: 0.000000\n",
      "2024-12-23 17:48:51,811 epoch 15 - iter 98/141 - loss 0.33985224 - time (sec): 10.04 - samples/sec: 6822.00 - lr: 0.050000 - momentum: 0.000000\n",
      "2024-12-23 17:48:53,385 epoch 15 - iter 112/141 - loss 0.34054382 - time (sec): 11.62 - samples/sec: 6745.43 - lr: 0.050000 - momentum: 0.000000\n",
      "2024-12-23 17:48:54,700 epoch 15 - iter 126/141 - loss 0.33790465 - time (sec): 12.93 - samples/sec: 6801.59 - lr: 0.050000 - momentum: 0.000000\n",
      "2024-12-23 17:48:55,997 epoch 15 - iter 140/141 - loss 0.33964338 - time (sec): 14.23 - samples/sec: 6854.77 - lr: 0.050000 - momentum: 0.000000\n",
      "2024-12-23 17:48:56,029 ----------------------------------------------------------------------------------------------------\n",
      "2024-12-23 17:48:56,030 EPOCH 15 done: loss 0.3398 - lr: 0.050000\n"
     ]
    },
    {
     "name": "stderr",
     "output_type": "stream",
     "text": [
      "100%|██████████| 9/9 [00:03<00:00,  2.57it/s]"
     ]
    },
    {
     "name": "stdout",
     "output_type": "stream",
     "text": [
      "2024-12-23 17:48:59,614 DEV : loss 0.21591725945472717 - f1-score (micro avg)  0.9264\n",
      "2024-12-23 17:48:59,646  - 0 epochs without improvement\n",
      "2024-12-23 17:48:59,647 saving best model\n"
     ]
    },
    {
     "name": "stderr",
     "output_type": "stream",
     "text": [
      "\n"
     ]
    },
    {
     "name": "stdout",
     "output_type": "stream",
     "text": [
      "2024-12-23 17:49:02,398 ----------------------------------------------------------------------------------------------------\n",
      "2024-12-23 17:49:04,144 epoch 16 - iter 14/141 - loss 0.33532627 - time (sec): 1.75 - samples/sec: 5556.96 - lr: 0.050000 - momentum: 0.000000\n",
      "2024-12-23 17:49:05,497 epoch 16 - iter 28/141 - loss 0.33228545 - time (sec): 3.10 - samples/sec: 6262.53 - lr: 0.050000 - momentum: 0.000000\n",
      "2024-12-23 17:49:06,913 epoch 16 - iter 42/141 - loss 0.32358995 - time (sec): 4.51 - samples/sec: 6362.84 - lr: 0.050000 - momentum: 0.000000\n",
      "2024-12-23 17:49:08,218 epoch 16 - iter 56/141 - loss 0.32624398 - time (sec): 5.82 - samples/sec: 6545.25 - lr: 0.050000 - momentum: 0.000000\n",
      "2024-12-23 17:49:09,626 epoch 16 - iter 70/141 - loss 0.32512577 - time (sec): 7.23 - samples/sec: 6624.21 - lr: 0.050000 - momentum: 0.000000\n",
      "2024-12-23 17:49:11,047 epoch 16 - iter 84/141 - loss 0.32622090 - time (sec): 8.65 - samples/sec: 6706.20 - lr: 0.050000 - momentum: 0.000000\n",
      "2024-12-23 17:49:12,622 epoch 16 - iter 98/141 - loss 0.32978520 - time (sec): 10.22 - samples/sec: 6713.19 - lr: 0.050000 - momentum: 0.000000\n",
      "2024-12-23 17:49:13,884 epoch 16 - iter 112/141 - loss 0.33020329 - time (sec): 11.49 - samples/sec: 6776.39 - lr: 0.050000 - momentum: 0.000000\n",
      "2024-12-23 17:49:15,691 epoch 16 - iter 126/141 - loss 0.33193379 - time (sec): 13.29 - samples/sec: 6599.94 - lr: 0.050000 - momentum: 0.000000\n",
      "2024-12-23 17:49:17,432 epoch 16 - iter 140/141 - loss 0.33248415 - time (sec): 15.03 - samples/sec: 6487.04 - lr: 0.050000 - momentum: 0.000000\n",
      "2024-12-23 17:49:17,481 ----------------------------------------------------------------------------------------------------\n",
      "2024-12-23 17:49:17,482 EPOCH 16 done: loss 0.3324 - lr: 0.050000\n"
     ]
    },
    {
     "name": "stderr",
     "output_type": "stream",
     "text": [
      "100%|██████████| 9/9 [00:02<00:00,  3.32it/s]"
     ]
    },
    {
     "name": "stdout",
     "output_type": "stream",
     "text": [
      "2024-12-23 17:49:20,281 DEV : loss 0.2128651738166809 - f1-score (micro avg)  0.9294\n",
      "2024-12-23 17:49:20,315  - 0 epochs without improvement\n",
      "2024-12-23 17:49:20,317 saving best model\n"
     ]
    },
    {
     "name": "stderr",
     "output_type": "stream",
     "text": [
      "\n"
     ]
    },
    {
     "name": "stdout",
     "output_type": "stream",
     "text": [
      "2024-12-23 17:49:22,956 ----------------------------------------------------------------------------------------------------\n",
      "2024-12-23 17:49:24,677 epoch 17 - iter 14/141 - loss 0.33771055 - time (sec): 1.72 - samples/sec: 5633.53 - lr: 0.050000 - momentum: 0.000000\n",
      "2024-12-23 17:49:26,039 epoch 17 - iter 28/141 - loss 0.33835754 - time (sec): 3.08 - samples/sec: 6293.15 - lr: 0.050000 - momentum: 0.000000\n",
      "2024-12-23 17:49:27,502 epoch 17 - iter 42/141 - loss 0.33565797 - time (sec): 4.55 - samples/sec: 6415.48 - lr: 0.050000 - momentum: 0.000000\n",
      "2024-12-23 17:49:29,060 epoch 17 - iter 56/141 - loss 0.33525817 - time (sec): 6.10 - samples/sec: 6351.16 - lr: 0.050000 - momentum: 0.000000\n",
      "2024-12-23 17:49:30,643 epoch 17 - iter 70/141 - loss 0.33985293 - time (sec): 7.69 - samples/sec: 6329.05 - lr: 0.050000 - momentum: 0.000000\n",
      "2024-12-23 17:49:32,075 epoch 17 - iter 84/141 - loss 0.33490086 - time (sec): 9.12 - samples/sec: 6449.04 - lr: 0.050000 - momentum: 0.000000\n",
      "2024-12-23 17:49:33,408 epoch 17 - iter 98/141 - loss 0.33189263 - time (sec): 10.45 - samples/sec: 6525.74 - lr: 0.050000 - momentum: 0.000000\n",
      "2024-12-23 17:49:34,836 epoch 17 - iter 112/141 - loss 0.33102009 - time (sec): 11.88 - samples/sec: 6583.34 - lr: 0.050000 - momentum: 0.000000\n",
      "2024-12-23 17:49:36,113 epoch 17 - iter 126/141 - loss 0.33153333 - time (sec): 13.16 - samples/sec: 6657.06 - lr: 0.050000 - momentum: 0.000000\n",
      "2024-12-23 17:49:37,639 epoch 17 - iter 140/141 - loss 0.33121909 - time (sec): 14.68 - samples/sec: 6645.99 - lr: 0.050000 - momentum: 0.000000\n",
      "2024-12-23 17:49:37,658 ----------------------------------------------------------------------------------------------------\n",
      "2024-12-23 17:49:37,658 EPOCH 17 done: loss 0.3312 - lr: 0.050000\n"
     ]
    },
    {
     "name": "stderr",
     "output_type": "stream",
     "text": [
      "100%|██████████| 9/9 [00:02<00:00,  3.54it/s]"
     ]
    },
    {
     "name": "stdout",
     "output_type": "stream",
     "text": [
      "2024-12-23 17:49:40,289 DEV : loss 0.2148558646440506 - f1-score (micro avg)  0.9255\n",
      "2024-12-23 17:49:40,323  - 1 epochs without improvement\n",
      "2024-12-23 17:49:40,324 ----------------------------------------------------------------------------------------------------\n"
     ]
    },
    {
     "name": "stderr",
     "output_type": "stream",
     "text": [
      "\n"
     ]
    },
    {
     "name": "stdout",
     "output_type": "stream",
     "text": [
      "2024-12-23 17:49:41,761 epoch 18 - iter 14/141 - loss 0.32573281 - time (sec): 1.44 - samples/sec: 6439.39 - lr: 0.050000 - momentum: 0.000000\n",
      "2024-12-23 17:49:43,107 epoch 18 - iter 28/141 - loss 0.31803951 - time (sec): 2.78 - samples/sec: 6762.69 - lr: 0.050000 - momentum: 0.000000\n",
      "2024-12-23 17:49:44,547 epoch 18 - iter 42/141 - loss 0.32227581 - time (sec): 4.22 - samples/sec: 6781.50 - lr: 0.050000 - momentum: 0.000000\n",
      "2024-12-23 17:49:46,159 epoch 18 - iter 56/141 - loss 0.32433047 - time (sec): 5.83 - samples/sec: 6627.55 - lr: 0.050000 - momentum: 0.000000\n",
      "2024-12-23 17:49:47,754 epoch 18 - iter 70/141 - loss 0.32994300 - time (sec): 7.43 - samples/sec: 6551.99 - lr: 0.050000 - momentum: 0.000000\n",
      "2024-12-23 17:49:49,143 epoch 18 - iter 84/141 - loss 0.32974797 - time (sec): 8.82 - samples/sec: 6616.13 - lr: 0.050000 - momentum: 0.000000\n",
      "2024-12-23 17:49:50,593 epoch 18 - iter 98/141 - loss 0.32907868 - time (sec): 10.27 - samples/sec: 6665.38 - lr: 0.050000 - momentum: 0.000000\n",
      "2024-12-23 17:49:52,071 epoch 18 - iter 112/141 - loss 0.32912712 - time (sec): 11.75 - samples/sec: 6636.33 - lr: 0.050000 - momentum: 0.000000\n",
      "2024-12-23 17:49:53,504 epoch 18 - iter 126/141 - loss 0.32741575 - time (sec): 13.18 - samples/sec: 6651.85 - lr: 0.050000 - momentum: 0.000000\n",
      "2024-12-23 17:49:54,923 epoch 18 - iter 140/141 - loss 0.32695559 - time (sec): 14.60 - samples/sec: 6683.87 - lr: 0.050000 - momentum: 0.000000\n",
      "2024-12-23 17:49:54,949 ----------------------------------------------------------------------------------------------------\n",
      "2024-12-23 17:49:54,950 EPOCH 18 done: loss 0.3271 - lr: 0.050000\n"
     ]
    },
    {
     "name": "stderr",
     "output_type": "stream",
     "text": [
      "100%|██████████| 9/9 [00:02<00:00,  3.53it/s]"
     ]
    },
    {
     "name": "stdout",
     "output_type": "stream",
     "text": [
      "2024-12-23 17:49:57,583 DEV : loss 0.21245606243610382 - f1-score (micro avg)  0.927\n",
      "2024-12-23 17:49:57,617  - 2 epochs without improvement\n",
      "2024-12-23 17:49:57,618 ----------------------------------------------------------------------------------------------------\n"
     ]
    },
    {
     "name": "stderr",
     "output_type": "stream",
     "text": [
      "\n"
     ]
    },
    {
     "name": "stdout",
     "output_type": "stream",
     "text": [
      "2024-12-23 17:49:59,150 epoch 19 - iter 14/141 - loss 0.32638490 - time (sec): 1.53 - samples/sec: 6149.07 - lr: 0.050000 - momentum: 0.000000\n",
      "2024-12-23 17:50:00,412 epoch 19 - iter 28/141 - loss 0.32013995 - time (sec): 2.79 - samples/sec: 6803.02 - lr: 0.050000 - momentum: 0.000000\n",
      "2024-12-23 17:50:01,787 epoch 19 - iter 42/141 - loss 0.31693494 - time (sec): 4.17 - samples/sec: 6856.51 - lr: 0.050000 - momentum: 0.000000\n",
      "2024-12-23 17:50:03,169 epoch 19 - iter 56/141 - loss 0.31950071 - time (sec): 5.55 - samples/sec: 6902.78 - lr: 0.050000 - momentum: 0.000000\n",
      "2024-12-23 17:50:04,636 epoch 19 - iter 70/141 - loss 0.32520939 - time (sec): 7.02 - samples/sec: 6830.78 - lr: 0.050000 - momentum: 0.000000\n",
      "2024-12-23 17:50:05,967 epoch 19 - iter 84/141 - loss 0.32528618 - time (sec): 8.35 - samples/sec: 6908.90 - lr: 0.050000 - momentum: 0.000000\n",
      "2024-12-23 17:50:07,528 epoch 19 - iter 98/141 - loss 0.32462726 - time (sec): 9.91 - samples/sec: 6860.82 - lr: 0.050000 - momentum: 0.000000\n",
      "2024-12-23 17:50:08,984 epoch 19 - iter 112/141 - loss 0.32468486 - time (sec): 11.36 - samples/sec: 6789.54 - lr: 0.050000 - momentum: 0.000000\n",
      "2024-12-23 17:50:10,595 epoch 19 - iter 126/141 - loss 0.32553539 - time (sec): 12.98 - samples/sec: 6737.22 - lr: 0.050000 - momentum: 0.000000\n",
      "2024-12-23 17:50:12,087 epoch 19 - iter 140/141 - loss 0.32562761 - time (sec): 14.47 - samples/sec: 6743.34 - lr: 0.050000 - momentum: 0.000000\n",
      "2024-12-23 17:50:12,110 ----------------------------------------------------------------------------------------------------\n",
      "2024-12-23 17:50:12,110 EPOCH 19 done: loss 0.3256 - lr: 0.050000\n"
     ]
    },
    {
     "name": "stderr",
     "output_type": "stream",
     "text": [
      "100%|██████████| 9/9 [00:02<00:00,  3.59it/s]"
     ]
    },
    {
     "name": "stdout",
     "output_type": "stream",
     "text": [
      "2024-12-23 17:50:14,702 DEV : loss 0.2115742266178131 - f1-score (micro avg)  0.9273\n",
      "2024-12-23 17:50:14,736  - 3 epochs without improvement\n",
      "2024-12-23 17:50:14,737 ----------------------------------------------------------------------------------------------------\n"
     ]
    },
    {
     "name": "stderr",
     "output_type": "stream",
     "text": [
      "\n"
     ]
    },
    {
     "name": "stdout",
     "output_type": "stream",
     "text": [
      "2024-12-23 17:50:16,167 epoch 20 - iter 14/141 - loss 0.31944970 - time (sec): 1.43 - samples/sec: 6706.18 - lr: 0.050000 - momentum: 0.000000\n",
      "2024-12-23 17:50:17,534 epoch 20 - iter 28/141 - loss 0.32233545 - time (sec): 2.80 - samples/sec: 6931.34 - lr: 0.050000 - momentum: 0.000000\n",
      "2024-12-23 17:50:18,899 epoch 20 - iter 42/141 - loss 0.32487360 - time (sec): 4.16 - samples/sec: 7031.43 - lr: 0.050000 - momentum: 0.000000\n",
      "2024-12-23 17:50:20,212 epoch 20 - iter 56/141 - loss 0.32663676 - time (sec): 5.47 - samples/sec: 7061.74 - lr: 0.050000 - momentum: 0.000000\n",
      "2024-12-23 17:50:21,627 epoch 20 - iter 70/141 - loss 0.32462135 - time (sec): 6.89 - samples/sec: 7064.01 - lr: 0.050000 - momentum: 0.000000\n",
      "2024-12-23 17:50:22,982 epoch 20 - iter 84/141 - loss 0.32071992 - time (sec): 8.24 - samples/sec: 7099.00 - lr: 0.050000 - momentum: 0.000000\n",
      "2024-12-23 17:50:24,352 epoch 20 - iter 98/141 - loss 0.31750307 - time (sec): 9.61 - samples/sec: 7089.00 - lr: 0.050000 - momentum: 0.000000\n",
      "2024-12-23 17:50:25,631 epoch 20 - iter 112/141 - loss 0.32054354 - time (sec): 10.89 - samples/sec: 7124.30 - lr: 0.050000 - momentum: 0.000000\n",
      "2024-12-23 17:50:27,118 epoch 20 - iter 126/141 - loss 0.32030000 - time (sec): 12.38 - samples/sec: 7059.45 - lr: 0.050000 - momentum: 0.000000\n",
      "2024-12-23 17:50:28,607 epoch 20 - iter 140/141 - loss 0.32233456 - time (sec): 13.87 - samples/sec: 7033.24 - lr: 0.050000 - momentum: 0.000000\n",
      "2024-12-23 17:50:28,638 ----------------------------------------------------------------------------------------------------\n",
      "2024-12-23 17:50:28,639 EPOCH 20 done: loss 0.3223 - lr: 0.050000\n"
     ]
    },
    {
     "name": "stderr",
     "output_type": "stream",
     "text": [
      "100%|██████████| 9/9 [00:02<00:00,  3.61it/s]"
     ]
    },
    {
     "name": "stdout",
     "output_type": "stream",
     "text": [
      "2024-12-23 17:50:31,223 DEV : loss 0.21029561758041382 - f1-score (micro avg)  0.929\n",
      "2024-12-23 17:50:31,257  - 4 epochs without improvement (above 'patience')-> annealing learning_rate to [0.025]\n"
     ]
    },
    {
     "name": "stderr",
     "output_type": "stream",
     "text": [
      "\n"
     ]
    },
    {
     "name": "stdout",
     "output_type": "stream",
     "text": [
      "2024-12-23 17:50:33,727 ----------------------------------------------------------------------------------------------------\n",
      "2024-12-23 17:50:33,729 Loading model from best epoch ...\n",
      "2024-12-23 17:50:39,336 SequenceTagger predicts: Dictionary with 19 tags: NOUN, PROPN, PUNCT, VERB, ADP, PRON, ADJ, NUM, DET, CCONJ, ADV, AUX, SCONJ, PART, SYM, X, INTJ, <START>, <STOP>\n"
     ]
    },
    {
     "name": "stderr",
     "output_type": "stream",
     "text": [
      "100%|██████████| 9/9 [00:02<00:00,  4.40it/s]\n"
     ]
    },
    {
     "name": "stdout",
     "output_type": "stream",
     "text": [
      "2024-12-23 17:50:42,367 \n",
      "Results:\n",
      "- F-score (micro) 0.9345\n",
      "- F-score (macro) 0.8735\n",
      "- Accuracy 0.9345\n",
      "\n",
      "By class:\n",
      "              precision    recall  f1-score   support\n",
      "\n",
      "        NOUN     0.9009    0.9117    0.9063      2514\n",
      "       PROPN     0.9213    0.9366    0.9289      2162\n",
      "       PUNCT     0.9982    1.0000    0.9991      1623\n",
      "        VERB     0.9502    0.9404    0.9453      1258\n",
      "         ADP     0.9555    0.9434    0.9494      1114\n",
      "        PRON     0.9490    0.9829    0.9657       644\n",
      "         ADJ     0.8444    0.7787    0.8102       488\n",
      "         NUM     0.9841    0.9661    0.9750       384\n",
      "       CCONJ     0.9836    0.9917    0.9876       362\n",
      "         ADV     0.8452    0.8208    0.8328       346\n",
      "         DET     0.9740    0.8876    0.9288       338\n",
      "         AUX     0.9620    0.9956    0.9785       229\n",
      "       SCONJ     0.8168    0.8505    0.8333       194\n",
      "        PART     0.9053    0.9663    0.9348        89\n",
      "         SYM     1.0000    1.0000    1.0000         6\n",
      "           X     0.0000    0.0000    0.0000         5\n",
      "\n",
      "    accuracy                         0.9345     11756\n",
      "   macro avg     0.8744    0.8733    0.8735     11756\n",
      "weighted avg     0.9341    0.9345    0.9341     11756\n",
      "\n",
      "2024-12-23 17:50:42,368 ----------------------------------------------------------------------------------------------------\n"
     ]
    },
    {
     "data": {
      "text/plain": [
       "{'test_score': 0.9345015311330385}"
      ]
     },
     "execution_count": 10,
     "metadata": {},
     "output_type": "execute_result"
    }
   ],
   "source": [
    "trainer.train('resources/taggers/stacked-upos',\n",
    "              learning_rate=0.1,\n",
    "              mini_batch_size=32,\n",
    "              max_epochs=20)"
   ]
  },
  {
   "cell_type": "markdown",
   "metadata": {},
   "source": [
    "# Inference"
   ]
  },
  {
   "cell_type": "code",
   "execution_count": 16,
   "metadata": {},
   "outputs": [
    {
     "name": "stdout",
     "output_type": "stream",
     "text": [
      "2024-12-23 18:28:52,569 SequenceTagger predicts: Dictionary with 19 tags: NOUN, PROPN, PUNCT, VERB, ADP, PRON, ADJ, NUM, DET, CCONJ, ADV, AUX, SCONJ, PART, SYM, X, INTJ, <START>, <STOP>\n",
      "Sentence[8]: \"gamis pria dewasa premium / jubah pakistan polos\" → [\"gamis\"/NOUN, \"pria\"/NOUN, \"dewasa\"/ADJ, \"premium\"/ADJ, \"/\"/PUNCT, \"jubah\"/NOUN, \"pakistan\"/PROPN, \"polos\"/VERB]\n"
     ]
    }
   ],
   "source": [
    "from flair.data import Sentence\n",
    "text = 'Gamis Pria Dewasa Premium / Jubah Pakistan Polos'.lower()\n",
    "sentence = Sentence(text)\n",
    "tag_pos = SequenceTagger.load('resources/taggers/stacked-upos/best-model.pt')\n",
    "tag_pos.predict(sentence)\n",
    "print(sentence.to_tagged_string())"
   ]
  },
  {
   "cell_type": "code",
   "execution_count": 17,
   "metadata": {},
   "outputs": [
    {
     "name": "stdout",
     "output_type": "stream",
     "text": [
      "gamis (NOUN)\n",
      "pria (NOUN)\n",
      "dewasa (ADJ)\n",
      "premium (ADJ)\n",
      "/ (PUNCT)\n",
      "jubah (NOUN)\n",
      "pakistan (PROPN)\n",
      "polos (VERB)\n"
     ]
    }
   ],
   "source": [
    "for token in sentence:\n",
    "    print(f\"{token.text} ({token.get_label('upos').value})\")"
   ]
  },
  {
   "cell_type": "markdown",
   "metadata": {},
   "source": [
    "# 2ND FINE-TUNING"
   ]
  },
  {
   "cell_type": "code",
   "execution_count": 18,
   "metadata": {},
   "outputs": [
    {
     "name": "stdout",
     "output_type": "stream",
     "text": [
      "2024-12-23 19:44:25,284 Reading data from C:\\Users\\User\\.flair\\datasets\\ud_english\n",
      "2024-12-23 19:44:25,287 Train: C:\\Users\\User\\.flair\\datasets\\ud_english\\en_ewt-ud-train.conllu\n",
      "2024-12-23 19:44:25,288 Dev: C:\\Users\\User\\.flair\\datasets\\ud_english\\en_ewt-ud-dev.conllu\n",
      "2024-12-23 19:44:25,289 Test: C:\\Users\\User\\.flair\\datasets\\ud_english\\en_ewt-ud-test.conllu\n"
     ]
    },
    {
     "data": {
      "text/plain": [
       "<flair.datasets.treebanks.UD_ENGLISH at 0x15089bfb700>"
      ]
     },
     "execution_count": 18,
     "metadata": {},
     "output_type": "execute_result"
    }
   ],
   "source": [
    "corpus_en = UD_ENGLISH()\n",
    "corpus_en"
   ]
  },
  {
   "cell_type": "code",
   "execution_count": 19,
   "metadata": {},
   "outputs": [
    {
     "name": "stdout",
     "output_type": "stream",
     "text": [
      "2024-12-23 19:44:42,292 Computing label dictionary. Progress:\n"
     ]
    },
    {
     "name": "stderr",
     "output_type": "stream",
     "text": [
      "0it [00:00, ?it/s]\n",
      "12544it [00:00, 32186.76it/s]"
     ]
    },
    {
     "name": "stdout",
     "output_type": "stream",
     "text": [
      "2024-12-23 19:44:42,689 Dictionary created for label 'upos' with 17 values: NOUN (seen 34755 times), PUNCT (seen 23596 times), VERB (seen 22577 times), PRON (seen 18677 times), ADP (seen 17739 times), DET (seen 16299 times), ADJ (seen 13186 times), AUX (seen 12815 times), PROPN (seen 12618 times), ADV (seen 10117 times), CCONJ (seen 6687 times), PART (seen 5748 times), NUM (seen 4127 times), SCONJ (seen 3822 times), SYM (seen 722 times), INTJ (seen 695 times), X (seen 399 times)\n",
      "Dictionary with 17 tags: NOUN, PUNCT, VERB, PRON, ADP, DET, ADJ, AUX, PROPN, ADV, CCONJ, PART, NUM, SCONJ, SYM, INTJ, X\n"
     ]
    },
    {
     "name": "stderr",
     "output_type": "stream",
     "text": [
      "\n"
     ]
    }
   ],
   "source": [
    "label_dict = corpus_en.make_label_dictionary(label_type=label_type)\n",
    "print(label_dict)"
   ]
  },
  {
   "cell_type": "code",
   "execution_count": 21,
   "metadata": {},
   "outputs": [
    {
     "name": "stdout",
     "output_type": "stream",
     "text": [
      "2024-12-23 19:45:25,893 SequenceTagger predicts: Dictionary with 19 tags: NOUN, PROPN, PUNCT, VERB, ADP, PRON, ADJ, NUM, DET, CCONJ, ADV, AUX, SCONJ, PART, SYM, X, INTJ, <START>, <STOP>\n"
     ]
    }
   ],
   "source": [
    "model_en = SequenceTagger.load(\"resources/taggers/stacked-upos/best-model.pt\")"
   ]
  },
  {
   "cell_type": "code",
   "execution_count": 22,
   "metadata": {},
   "outputs": [],
   "source": [
    "trainer = ModelTrainer(model_en, corpus_en)"
   ]
  },
  {
   "cell_type": "code",
   "execution_count": 23,
   "metadata": {},
   "outputs": [
    {
     "name": "stdout",
     "output_type": "stream",
     "text": [
      "2024-12-23 19:46:01,695 ----------------------------------------------------------------------------------------------------\n",
      "2024-12-23 19:46:01,698 Model: \"SequenceTagger(\n",
      "  (embeddings): StackedEmbeddings(\n",
      "    (list_embedding_0): WordEmbeddings(\n",
      "      '0-C:\\Users\\User\\.flair\\embeddings\\id-crawl-fasttext-300d-1M'\n",
      "      (embedding): Embedding(1000000, 300)\n",
      "    )\n",
      "    (list_embedding_1): WordEmbeddings(\n",
      "      '1-C:\\Users\\User\\.flair\\embeddings\\id-wiki-fasttext-300d-1M'\n",
      "      (embedding): Embedding(300686, 300)\n",
      "    )\n",
      "  )\n",
      "  (word_dropout): WordDropout(p=0.05)\n",
      "  (locked_dropout): LockedDropout(p=0.5)\n",
      "  (embedding2nn): Linear(in_features=600, out_features=600, bias=True)\n",
      "  (rnn): LSTM(600, 256, batch_first=True, bidirectional=True)\n",
      "  (linear): Linear(in_features=512, out_features=19, bias=True)\n",
      "  (loss_function): ViterbiLoss()\n",
      "  (crf): CRF()\n",
      ")\"\n",
      "2024-12-23 19:46:01,699 ----------------------------------------------------------------------------------------------------\n",
      "2024-12-23 19:46:01,700 Corpus: 12544 train + 2001 dev + 2077 test sentences\n",
      "2024-12-23 19:46:01,700 ----------------------------------------------------------------------------------------------------\n",
      "2024-12-23 19:46:01,701 Train:  12544 sentences\n",
      "2024-12-23 19:46:01,701         (train_with_dev=False, train_with_test=False)\n",
      "2024-12-23 19:46:01,702 ----------------------------------------------------------------------------------------------------\n",
      "2024-12-23 19:46:01,703 Training Params:\n",
      "2024-12-23 19:46:01,703  - learning_rate: \"0.1\" \n",
      "2024-12-23 19:46:01,704  - mini_batch_size: \"32\"\n",
      "2024-12-23 19:46:01,705  - max_epochs: \"20\"\n",
      "2024-12-23 19:46:01,705  - shuffle: \"True\"\n",
      "2024-12-23 19:46:01,706 ----------------------------------------------------------------------------------------------------\n",
      "2024-12-23 19:46:01,707 Plugins:\n",
      "2024-12-23 19:46:01,708  - AnnealOnPlateau | patience: '3', anneal_factor: '0.5', min_learning_rate: '0.0001'\n",
      "2024-12-23 19:46:01,709 ----------------------------------------------------------------------------------------------------\n",
      "2024-12-23 19:46:01,709 Final evaluation on model from best epoch (best-model.pt)\n",
      "2024-12-23 19:46:01,710  - metric: \"('micro avg', 'f1-score')\"\n",
      "2024-12-23 19:46:01,710 ----------------------------------------------------------------------------------------------------\n",
      "2024-12-23 19:46:01,711 Computation:\n",
      "2024-12-23 19:46:01,711  - compute on device: cuda:0\n",
      "2024-12-23 19:46:01,712  - embedding storage: cpu\n",
      "2024-12-23 19:46:01,713 ----------------------------------------------------------------------------------------------------\n",
      "2024-12-23 19:46:01,713 Model training base path: \"resources\\taggers\\stacked-upos-en\"\n",
      "2024-12-23 19:46:01,714 ----------------------------------------------------------------------------------------------------\n",
      "2024-12-23 19:46:01,714 ----------------------------------------------------------------------------------------------------\n"
     ]
    },
    {
     "name": "stderr",
     "output_type": "stream",
     "text": [
      "c:\\Users\\User\\Documents\\Code\\env\\lib\\site-packages\\flair\\trainers\\trainer.py:545: FutureWarning: `torch.cuda.amp.GradScaler(args...)` is deprecated. Please use `torch.amp.GradScaler('cuda', args...)` instead.\n",
      "  scaler = torch.cuda.amp.GradScaler(enabled=use_amp and flair.device.type != \"cpu\")\n"
     ]
    },
    {
     "name": "stdout",
     "output_type": "stream",
     "text": [
      "2024-12-23 19:46:06,610 epoch 1 - iter 39/392 - loss 1.46320343 - time (sec): 4.89 - samples/sec: 4081.58 - lr: 0.100000 - momentum: 0.000000\n",
      "2024-12-23 19:46:10,642 epoch 1 - iter 78/392 - loss 1.15293279 - time (sec): 8.93 - samples/sec: 4557.85 - lr: 0.100000 - momentum: 0.000000\n",
      "2024-12-23 19:46:14,554 epoch 1 - iter 117/392 - loss 1.01049847 - time (sec): 12.84 - samples/sec: 4743.12 - lr: 0.100000 - momentum: 0.000000\n",
      "2024-12-23 19:46:18,407 epoch 1 - iter 156/392 - loss 0.92108113 - time (sec): 16.69 - samples/sec: 4872.94 - lr: 0.100000 - momentum: 0.000000\n",
      "2024-12-23 19:46:22,406 epoch 1 - iter 195/392 - loss 0.85505916 - time (sec): 20.69 - samples/sec: 4952.84 - lr: 0.100000 - momentum: 0.000000\n",
      "2024-12-23 19:46:25,996 epoch 1 - iter 234/392 - loss 0.80659812 - time (sec): 24.28 - samples/sec: 5036.56 - lr: 0.100000 - momentum: 0.000000\n",
      "2024-12-23 19:46:29,670 epoch 1 - iter 273/392 - loss 0.76753997 - time (sec): 27.95 - samples/sec: 5103.35 - lr: 0.100000 - momentum: 0.000000\n",
      "2024-12-23 19:46:33,336 epoch 1 - iter 312/392 - loss 0.73735499 - time (sec): 31.62 - samples/sec: 5161.61 - lr: 0.100000 - momentum: 0.000000\n",
      "2024-12-23 19:46:36,703 epoch 1 - iter 351/392 - loss 0.71318991 - time (sec): 34.99 - samples/sec: 5239.27 - lr: 0.100000 - momentum: 0.000000\n",
      "2024-12-23 19:46:39,987 epoch 1 - iter 390/392 - loss 0.69256727 - time (sec): 38.27 - samples/sec: 5316.00 - lr: 0.100000 - momentum: 0.000000\n",
      "2024-12-23 19:46:40,179 ----------------------------------------------------------------------------------------------------\n",
      "2024-12-23 19:46:40,180 EPOCH 1 done: loss 0.6916 - lr: 0.100000\n"
     ]
    },
    {
     "name": "stderr",
     "output_type": "stream",
     "text": [
      "100%|██████████| 32/32 [00:05<00:00,  6.18it/s]\n"
     ]
    },
    {
     "name": "stdout",
     "output_type": "stream",
     "text": [
      "2024-12-23 19:46:45,551 DEV : loss 0.33533135056495667 - f1-score (micro avg)  0.8832\n",
      "2024-12-23 19:46:45,627  - 0 epochs without improvement\n",
      "2024-12-23 19:46:45,629 saving best model\n",
      "2024-12-23 19:46:52,147 ----------------------------------------------------------------------------------------------------\n",
      "2024-12-23 19:46:55,424 epoch 2 - iter 39/392 - loss 0.46618061 - time (sec): 3.28 - samples/sec: 6177.67 - lr: 0.100000 - momentum: 0.000000\n",
      "2024-12-23 19:46:59,557 epoch 2 - iter 78/392 - loss 0.47221987 - time (sec): 7.41 - samples/sec: 5508.02 - lr: 0.100000 - momentum: 0.000000\n",
      "2024-12-23 19:47:02,759 epoch 2 - iter 117/392 - loss 0.46488370 - time (sec): 10.61 - samples/sec: 5770.63 - lr: 0.100000 - momentum: 0.000000\n",
      "2024-12-23 19:47:05,849 epoch 2 - iter 156/392 - loss 0.46128302 - time (sec): 13.70 - samples/sec: 5888.17 - lr: 0.100000 - momentum: 0.000000\n",
      "2024-12-23 19:47:09,057 epoch 2 - iter 195/392 - loss 0.46067942 - time (sec): 16.91 - samples/sec: 5998.60 - lr: 0.100000 - momentum: 0.000000\n",
      "2024-12-23 19:47:12,098 epoch 2 - iter 234/392 - loss 0.45942676 - time (sec): 19.95 - samples/sec: 6068.98 - lr: 0.100000 - momentum: 0.000000\n",
      "2024-12-23 19:47:15,268 epoch 2 - iter 273/392 - loss 0.45613504 - time (sec): 23.12 - samples/sec: 6132.72 - lr: 0.100000 - momentum: 0.000000\n",
      "2024-12-23 19:47:18,657 epoch 2 - iter 312/392 - loss 0.45494985 - time (sec): 26.51 - samples/sec: 6132.51 - lr: 0.100000 - momentum: 0.000000\n",
      "2024-12-23 19:47:21,960 epoch 2 - iter 351/392 - loss 0.45161477 - time (sec): 29.81 - samples/sec: 6145.38 - lr: 0.100000 - momentum: 0.000000\n",
      "2024-12-23 19:47:24,979 epoch 2 - iter 390/392 - loss 0.44914578 - time (sec): 32.83 - samples/sec: 6196.30 - lr: 0.100000 - momentum: 0.000000\n",
      "2024-12-23 19:47:25,203 ----------------------------------------------------------------------------------------------------\n",
      "2024-12-23 19:47:25,204 EPOCH 2 done: loss 0.4488 - lr: 0.100000\n"
     ]
    },
    {
     "name": "stderr",
     "output_type": "stream",
     "text": [
      "100%|██████████| 32/32 [00:05<00:00,  5.66it/s]\n"
     ]
    },
    {
     "name": "stdout",
     "output_type": "stream",
     "text": [
      "2024-12-23 19:47:31,006 DEV : loss 0.285505473613739 - f1-score (micro avg)  0.9001\n",
      "2024-12-23 19:47:31,091  - 0 epochs without improvement\n",
      "2024-12-23 19:47:31,093 saving best model\n",
      "2024-12-23 19:47:33,948 ----------------------------------------------------------------------------------------------------\n",
      "2024-12-23 19:47:37,201 epoch 3 - iter 39/392 - loss 0.41394008 - time (sec): 3.25 - samples/sec: 6057.43 - lr: 0.100000 - momentum: 0.000000\n",
      "2024-12-23 19:47:40,311 epoch 3 - iter 78/392 - loss 0.41039617 - time (sec): 6.36 - samples/sec: 6231.78 - lr: 0.100000 - momentum: 0.000000\n",
      "2024-12-23 19:47:43,517 epoch 3 - iter 117/392 - loss 0.40831447 - time (sec): 9.57 - samples/sec: 6262.81 - lr: 0.100000 - momentum: 0.000000\n",
      "2024-12-23 19:47:46,613 epoch 3 - iter 156/392 - loss 0.41117260 - time (sec): 12.66 - samples/sec: 6322.03 - lr: 0.100000 - momentum: 0.000000\n",
      "2024-12-23 19:47:49,527 epoch 3 - iter 195/392 - loss 0.40865650 - time (sec): 15.58 - samples/sec: 6404.85 - lr: 0.100000 - momentum: 0.000000\n",
      "2024-12-23 19:47:52,674 epoch 3 - iter 234/392 - loss 0.40983395 - time (sec): 18.72 - samples/sec: 6444.22 - lr: 0.100000 - momentum: 0.000000\n",
      "2024-12-23 19:47:55,670 epoch 3 - iter 273/392 - loss 0.40800546 - time (sec): 21.72 - samples/sec: 6488.84 - lr: 0.100000 - momentum: 0.000000\n",
      "2024-12-23 19:47:58,855 epoch 3 - iter 312/392 - loss 0.40517407 - time (sec): 24.90 - samples/sec: 6489.74 - lr: 0.100000 - momentum: 0.000000\n",
      "2024-12-23 19:48:02,264 epoch 3 - iter 351/392 - loss 0.40196160 - time (sec): 28.31 - samples/sec: 6456.23 - lr: 0.100000 - momentum: 0.000000\n",
      "2024-12-23 19:48:05,436 epoch 3 - iter 390/392 - loss 0.39934018 - time (sec): 31.49 - samples/sec: 6464.50 - lr: 0.100000 - momentum: 0.000000\n",
      "2024-12-23 19:48:05,607 ----------------------------------------------------------------------------------------------------\n",
      "2024-12-23 19:48:05,608 EPOCH 3 done: loss 0.3993 - lr: 0.100000\n"
     ]
    },
    {
     "name": "stderr",
     "output_type": "stream",
     "text": [
      "100%|██████████| 32/32 [00:05<00:00,  5.72it/s]\n"
     ]
    },
    {
     "name": "stdout",
     "output_type": "stream",
     "text": [
      "2024-12-23 19:48:11,342 DEV : loss 0.254961222410202 - f1-score (micro avg)  0.909\n",
      "2024-12-23 19:48:11,418  - 0 epochs without improvement\n",
      "2024-12-23 19:48:11,420 saving best model\n",
      "2024-12-23 19:48:14,067 ----------------------------------------------------------------------------------------------------\n",
      "2024-12-23 19:48:17,445 epoch 4 - iter 39/392 - loss 0.38021702 - time (sec): 3.38 - samples/sec: 6035.33 - lr: 0.100000 - momentum: 0.000000\n",
      "2024-12-23 19:48:20,737 epoch 4 - iter 78/392 - loss 0.37587676 - time (sec): 6.67 - samples/sec: 6009.54 - lr: 0.100000 - momentum: 0.000000\n",
      "2024-12-23 19:48:23,873 epoch 4 - iter 117/392 - loss 0.37761784 - time (sec): 9.80 - samples/sec: 6106.07 - lr: 0.100000 - momentum: 0.000000\n",
      "2024-12-23 19:48:27,055 epoch 4 - iter 156/392 - loss 0.37871712 - time (sec): 12.99 - samples/sec: 6219.23 - lr: 0.100000 - momentum: 0.000000\n",
      "2024-12-23 19:48:30,246 epoch 4 - iter 195/392 - loss 0.37752870 - time (sec): 16.18 - samples/sec: 6260.23 - lr: 0.100000 - momentum: 0.000000\n",
      "2024-12-23 19:48:33,423 epoch 4 - iter 234/392 - loss 0.37664522 - time (sec): 19.35 - samples/sec: 6278.72 - lr: 0.100000 - momentum: 0.000000\n",
      "2024-12-23 19:48:36,759 epoch 4 - iter 273/392 - loss 0.37453911 - time (sec): 22.69 - samples/sec: 6274.78 - lr: 0.100000 - momentum: 0.000000\n",
      "2024-12-23 19:48:39,812 epoch 4 - iter 312/392 - loss 0.37266261 - time (sec): 25.74 - samples/sec: 6315.19 - lr: 0.100000 - momentum: 0.000000\n",
      "2024-12-23 19:48:43,020 epoch 4 - iter 351/392 - loss 0.37113964 - time (sec): 28.95 - samples/sec: 6319.47 - lr: 0.100000 - momentum: 0.000000\n",
      "2024-12-23 19:48:46,227 epoch 4 - iter 390/392 - loss 0.36953351 - time (sec): 32.16 - samples/sec: 6330.11 - lr: 0.100000 - momentum: 0.000000\n",
      "2024-12-23 19:48:46,388 ----------------------------------------------------------------------------------------------------\n",
      "2024-12-23 19:48:46,389 EPOCH 4 done: loss 0.3696 - lr: 0.100000\n"
     ]
    },
    {
     "name": "stderr",
     "output_type": "stream",
     "text": [
      "100%|██████████| 32/32 [00:12<00:00,  2.53it/s]\n"
     ]
    },
    {
     "name": "stdout",
     "output_type": "stream",
     "text": [
      "2024-12-23 19:48:59,171 DEV : loss 0.23860427737236023 - f1-score (micro avg)  0.9157\n",
      "2024-12-23 19:48:59,250  - 0 epochs without improvement\n",
      "2024-12-23 19:48:59,251 saving best model\n",
      "2024-12-23 19:49:01,842 ----------------------------------------------------------------------------------------------------\n",
      "2024-12-23 19:49:05,200 epoch 5 - iter 39/392 - loss 0.35392332 - time (sec): 3.36 - samples/sec: 6129.30 - lr: 0.100000 - momentum: 0.000000\n",
      "2024-12-23 19:49:08,511 epoch 5 - iter 78/392 - loss 0.35255218 - time (sec): 6.67 - samples/sec: 6216.91 - lr: 0.100000 - momentum: 0.000000\n",
      "2024-12-23 19:49:11,699 epoch 5 - iter 117/392 - loss 0.35496300 - time (sec): 9.86 - samples/sec: 6248.67 - lr: 0.100000 - momentum: 0.000000\n",
      "2024-12-23 19:49:14,857 epoch 5 - iter 156/392 - loss 0.35574477 - time (sec): 13.01 - samples/sec: 6374.55 - lr: 0.100000 - momentum: 0.000000\n",
      "2024-12-23 19:49:18,007 epoch 5 - iter 195/392 - loss 0.35587443 - time (sec): 16.16 - samples/sec: 6368.36 - lr: 0.100000 - momentum: 0.000000\n",
      "2024-12-23 19:49:21,430 epoch 5 - iter 234/392 - loss 0.35524809 - time (sec): 19.59 - samples/sec: 6300.41 - lr: 0.100000 - momentum: 0.000000\n",
      "2024-12-23 19:49:24,644 epoch 5 - iter 273/392 - loss 0.35475536 - time (sec): 22.80 - samples/sec: 6310.04 - lr: 0.100000 - momentum: 0.000000\n",
      "2024-12-23 19:49:28,077 epoch 5 - iter 312/392 - loss 0.35410361 - time (sec): 26.23 - samples/sec: 6247.64 - lr: 0.100000 - momentum: 0.000000\n",
      "2024-12-23 19:49:31,261 epoch 5 - iter 351/392 - loss 0.35260851 - time (sec): 29.42 - samples/sec: 6252.66 - lr: 0.100000 - momentum: 0.000000\n",
      "2024-12-23 19:49:34,404 epoch 5 - iter 390/392 - loss 0.35132274 - time (sec): 32.56 - samples/sec: 6250.19 - lr: 0.100000 - momentum: 0.000000\n",
      "2024-12-23 19:49:34,580 ----------------------------------------------------------------------------------------------------\n",
      "2024-12-23 19:49:34,581 EPOCH 5 done: loss 0.3511 - lr: 0.100000\n"
     ]
    },
    {
     "name": "stderr",
     "output_type": "stream",
     "text": [
      "100%|██████████| 32/32 [00:05<00:00,  5.67it/s]\n"
     ]
    },
    {
     "name": "stdout",
     "output_type": "stream",
     "text": [
      "2024-12-23 19:49:40,375 DEV : loss 0.22116278111934662 - f1-score (micro avg)  0.9222\n",
      "2024-12-23 19:49:40,449  - 0 epochs without improvement\n",
      "2024-12-23 19:49:40,450 saving best model\n",
      "2024-12-23 19:49:43,064 ----------------------------------------------------------------------------------------------------\n",
      "2024-12-23 19:49:46,595 epoch 6 - iter 39/392 - loss 0.33361001 - time (sec): 3.53 - samples/sec: 5787.68 - lr: 0.100000 - momentum: 0.000000\n",
      "2024-12-23 19:49:49,777 epoch 6 - iter 78/392 - loss 0.33734236 - time (sec): 6.71 - samples/sec: 6045.62 - lr: 0.100000 - momentum: 0.000000\n",
      "2024-12-23 19:49:52,957 epoch 6 - iter 117/392 - loss 0.33446382 - time (sec): 9.89 - samples/sec: 6096.48 - lr: 0.100000 - momentum: 0.000000\n",
      "2024-12-23 19:49:56,232 epoch 6 - iter 156/392 - loss 0.33620377 - time (sec): 13.17 - samples/sec: 6106.31 - lr: 0.100000 - momentum: 0.000000\n",
      "2024-12-23 19:49:59,507 epoch 6 - iter 195/392 - loss 0.33644892 - time (sec): 16.44 - samples/sec: 6137.10 - lr: 0.100000 - momentum: 0.000000\n",
      "2024-12-23 19:50:02,763 epoch 6 - iter 234/392 - loss 0.33780053 - time (sec): 19.70 - samples/sec: 6140.62 - lr: 0.100000 - momentum: 0.000000\n",
      "2024-12-23 19:50:06,038 epoch 6 - iter 273/392 - loss 0.33829097 - time (sec): 22.97 - samples/sec: 6182.81 - lr: 0.100000 - momentum: 0.000000\n",
      "2024-12-23 19:50:09,258 epoch 6 - iter 312/392 - loss 0.33723061 - time (sec): 26.19 - samples/sec: 6209.22 - lr: 0.100000 - momentum: 0.000000\n",
      "2024-12-23 19:50:12,491 epoch 6 - iter 351/392 - loss 0.33632531 - time (sec): 29.43 - samples/sec: 6220.88 - lr: 0.100000 - momentum: 0.000000\n",
      "2024-12-23 19:50:15,871 epoch 6 - iter 390/392 - loss 0.33385488 - time (sec): 32.81 - samples/sec: 6202.20 - lr: 0.100000 - momentum: 0.000000\n",
      "2024-12-23 19:50:16,058 ----------------------------------------------------------------------------------------------------\n",
      "2024-12-23 19:50:16,059 EPOCH 6 done: loss 0.3338 - lr: 0.100000\n"
     ]
    },
    {
     "name": "stderr",
     "output_type": "stream",
     "text": [
      "100%|██████████| 32/32 [00:05<00:00,  5.74it/s]\n"
     ]
    },
    {
     "name": "stdout",
     "output_type": "stream",
     "text": [
      "2024-12-23 19:50:21,779 DEV : loss 0.2162395715713501 - f1-score (micro avg)  0.9226\n",
      "2024-12-23 19:50:21,859  - 0 epochs without improvement\n",
      "2024-12-23 19:50:21,861 saving best model\n",
      "2024-12-23 19:50:33,030 ----------------------------------------------------------------------------------------------------\n",
      "2024-12-23 19:50:36,551 epoch 7 - iter 39/392 - loss 0.32293471 - time (sec): 3.52 - samples/sec: 5709.51 - lr: 0.100000 - momentum: 0.000000\n",
      "2024-12-23 19:50:39,884 epoch 7 - iter 78/392 - loss 0.32453812 - time (sec): 6.85 - samples/sec: 6063.21 - lr: 0.100000 - momentum: 0.000000\n",
      "2024-12-23 19:50:43,125 epoch 7 - iter 117/392 - loss 0.32185073 - time (sec): 10.09 - samples/sec: 6162.80 - lr: 0.100000 - momentum: 0.000000\n",
      "2024-12-23 19:50:46,435 epoch 7 - iter 156/392 - loss 0.32325525 - time (sec): 13.40 - samples/sec: 6145.62 - lr: 0.100000 - momentum: 0.000000\n",
      "2024-12-23 19:50:49,656 epoch 7 - iter 195/392 - loss 0.32110196 - time (sec): 16.62 - samples/sec: 6171.12 - lr: 0.100000 - momentum: 0.000000\n",
      "2024-12-23 19:50:52,637 epoch 7 - iter 234/392 - loss 0.32120946 - time (sec): 19.61 - samples/sec: 6236.86 - lr: 0.100000 - momentum: 0.000000\n",
      "2024-12-23 19:50:55,819 epoch 7 - iter 273/392 - loss 0.32151156 - time (sec): 22.79 - samples/sec: 6263.70 - lr: 0.100000 - momentum: 0.000000\n",
      "2024-12-23 19:50:59,045 epoch 7 - iter 312/392 - loss 0.32243614 - time (sec): 26.01 - samples/sec: 6244.85 - lr: 0.100000 - momentum: 0.000000\n",
      "2024-12-23 19:51:02,385 epoch 7 - iter 351/392 - loss 0.32047421 - time (sec): 29.35 - samples/sec: 6232.97 - lr: 0.100000 - momentum: 0.000000\n",
      "2024-12-23 19:51:05,869 epoch 7 - iter 390/392 - loss 0.31884757 - time (sec): 32.84 - samples/sec: 6196.35 - lr: 0.100000 - momentum: 0.000000\n",
      "2024-12-23 19:51:06,029 ----------------------------------------------------------------------------------------------------\n",
      "2024-12-23 19:51:06,030 EPOCH 7 done: loss 0.3190 - lr: 0.100000\n"
     ]
    },
    {
     "name": "stderr",
     "output_type": "stream",
     "text": [
      "100%|██████████| 32/32 [00:05<00:00,  5.83it/s]\n"
     ]
    },
    {
     "name": "stdout",
     "output_type": "stream",
     "text": [
      "2024-12-23 19:51:11,669 DEV : loss 0.20971828699111938 - f1-score (micro avg)  0.9257\n",
      "2024-12-23 19:51:11,743  - 0 epochs without improvement\n",
      "2024-12-23 19:51:11,744 saving best model\n",
      "2024-12-23 19:51:15,262 ----------------------------------------------------------------------------------------------------\n",
      "2024-12-23 19:51:18,562 epoch 8 - iter 39/392 - loss 0.31236809 - time (sec): 3.30 - samples/sec: 5925.18 - lr: 0.100000 - momentum: 0.000000\n",
      "2024-12-23 19:51:21,794 epoch 8 - iter 78/392 - loss 0.31102906 - time (sec): 6.53 - samples/sec: 6158.17 - lr: 0.100000 - momentum: 0.000000\n",
      "2024-12-23 19:51:24,999 epoch 8 - iter 117/392 - loss 0.31053609 - time (sec): 9.74 - samples/sec: 6175.49 - lr: 0.100000 - momentum: 0.000000\n",
      "2024-12-23 19:51:28,216 epoch 8 - iter 156/392 - loss 0.31045949 - time (sec): 12.95 - samples/sec: 6220.33 - lr: 0.100000 - momentum: 0.000000\n",
      "2024-12-23 19:51:31,591 epoch 8 - iter 195/392 - loss 0.31079964 - time (sec): 16.33 - samples/sec: 6197.45 - lr: 0.100000 - momentum: 0.000000\n",
      "2024-12-23 19:51:34,907 epoch 8 - iter 234/392 - loss 0.30954493 - time (sec): 19.64 - samples/sec: 6163.60 - lr: 0.100000 - momentum: 0.000000\n",
      "2024-12-23 19:51:38,225 epoch 8 - iter 273/392 - loss 0.30857883 - time (sec): 22.96 - samples/sec: 6177.84 - lr: 0.100000 - momentum: 0.000000\n",
      "2024-12-23 19:51:41,438 epoch 8 - iter 312/392 - loss 0.30744312 - time (sec): 26.17 - samples/sec: 6211.42 - lr: 0.100000 - momentum: 0.000000\n",
      "2024-12-23 19:51:44,556 epoch 8 - iter 351/392 - loss 0.30707122 - time (sec): 29.29 - samples/sec: 6242.63 - lr: 0.100000 - momentum: 0.000000\n",
      "2024-12-23 19:51:47,556 epoch 8 - iter 390/392 - loss 0.30749214 - time (sec): 32.29 - samples/sec: 6299.39 - lr: 0.100000 - momentum: 0.000000\n",
      "2024-12-23 19:51:47,744 ----------------------------------------------------------------------------------------------------\n",
      "2024-12-23 19:51:47,745 EPOCH 8 done: loss 0.3073 - lr: 0.100000\n"
     ]
    },
    {
     "name": "stderr",
     "output_type": "stream",
     "text": [
      "100%|██████████| 32/32 [00:05<00:00,  5.81it/s]\n"
     ]
    },
    {
     "name": "stdout",
     "output_type": "stream",
     "text": [
      "2024-12-23 19:51:53,398 DEV : loss 0.20606669783592224 - f1-score (micro avg)  0.9279\n",
      "2024-12-23 19:51:53,470  - 0 epochs without improvement\n",
      "2024-12-23 19:51:53,473 saving best model\n",
      "2024-12-23 19:51:55,969 ----------------------------------------------------------------------------------------------------\n",
      "2024-12-23 19:51:59,088 epoch 9 - iter 39/392 - loss 0.29778160 - time (sec): 3.12 - samples/sec: 6504.68 - lr: 0.100000 - momentum: 0.000000\n",
      "2024-12-23 19:52:02,260 epoch 9 - iter 78/392 - loss 0.30326131 - time (sec): 6.29 - samples/sec: 6398.85 - lr: 0.100000 - momentum: 0.000000\n",
      "2024-12-23 19:52:05,237 epoch 9 - iter 117/392 - loss 0.30030043 - time (sec): 9.27 - samples/sec: 6491.10 - lr: 0.100000 - momentum: 0.000000\n",
      "2024-12-23 19:52:08,241 epoch 9 - iter 156/392 - loss 0.30175444 - time (sec): 12.27 - samples/sec: 6540.85 - lr: 0.100000 - momentum: 0.000000\n",
      "2024-12-23 19:52:11,416 epoch 9 - iter 195/392 - loss 0.30278968 - time (sec): 15.45 - samples/sec: 6524.37 - lr: 0.100000 - momentum: 0.000000\n",
      "2024-12-23 19:52:14,658 epoch 9 - iter 234/392 - loss 0.30232246 - time (sec): 18.69 - samples/sec: 6466.22 - lr: 0.100000 - momentum: 0.000000\n",
      "2024-12-23 19:52:17,765 epoch 9 - iter 273/392 - loss 0.30214237 - time (sec): 21.80 - samples/sec: 6504.40 - lr: 0.100000 - momentum: 0.000000\n",
      "2024-12-23 19:52:20,944 epoch 9 - iter 312/392 - loss 0.30277994 - time (sec): 24.97 - samples/sec: 6504.89 - lr: 0.100000 - momentum: 0.000000\n",
      "2024-12-23 19:52:24,165 epoch 9 - iter 351/392 - loss 0.30290098 - time (sec): 28.20 - samples/sec: 6505.74 - lr: 0.100000 - momentum: 0.000000\n",
      "2024-12-23 19:52:27,191 epoch 9 - iter 390/392 - loss 0.30181721 - time (sec): 31.22 - samples/sec: 6521.35 - lr: 0.100000 - momentum: 0.000000\n",
      "2024-12-23 19:52:27,335 ----------------------------------------------------------------------------------------------------\n",
      "2024-12-23 19:52:27,336 EPOCH 9 done: loss 0.3019 - lr: 0.100000\n"
     ]
    },
    {
     "name": "stderr",
     "output_type": "stream",
     "text": [
      "100%|██████████| 32/32 [00:05<00:00,  5.76it/s]\n"
     ]
    },
    {
     "name": "stdout",
     "output_type": "stream",
     "text": [
      "2024-12-23 19:52:33,041 DEV : loss 0.2039080411195755 - f1-score (micro avg)  0.9275\n",
      "2024-12-23 19:52:33,113  - 1 epochs without improvement\n",
      "2024-12-23 19:52:33,114 ----------------------------------------------------------------------------------------------------\n",
      "2024-12-23 19:52:36,262 epoch 10 - iter 39/392 - loss 0.29567223 - time (sec): 3.15 - samples/sec: 6461.88 - lr: 0.100000 - momentum: 0.000000\n",
      "2024-12-23 19:52:39,400 epoch 10 - iter 78/392 - loss 0.29572922 - time (sec): 6.29 - samples/sec: 6391.19 - lr: 0.100000 - momentum: 0.000000\n",
      "2024-12-23 19:52:42,505 epoch 10 - iter 117/392 - loss 0.29481776 - time (sec): 9.39 - samples/sec: 6432.12 - lr: 0.100000 - momentum: 0.000000\n",
      "2024-12-23 19:52:45,734 epoch 10 - iter 156/392 - loss 0.29684474 - time (sec): 12.62 - samples/sec: 6360.58 - lr: 0.100000 - momentum: 0.000000\n",
      "2024-12-23 19:52:49,076 epoch 10 - iter 195/392 - loss 0.29654756 - time (sec): 15.96 - samples/sec: 6346.56 - lr: 0.100000 - momentum: 0.000000\n",
      "2024-12-23 19:52:52,214 epoch 10 - iter 234/392 - loss 0.29611905 - time (sec): 19.10 - samples/sec: 6352.14 - lr: 0.100000 - momentum: 0.000000\n",
      "2024-12-23 19:52:55,412 epoch 10 - iter 273/392 - loss 0.29715776 - time (sec): 22.30 - samples/sec: 6350.31 - lr: 0.100000 - momentum: 0.000000\n",
      "2024-12-23 19:52:58,575 epoch 10 - iter 312/392 - loss 0.29675716 - time (sec): 25.46 - samples/sec: 6373.73 - lr: 0.100000 - momentum: 0.000000\n",
      "2024-12-23 19:53:01,719 epoch 10 - iter 351/392 - loss 0.29491074 - time (sec): 28.60 - samples/sec: 6393.58 - lr: 0.100000 - momentum: 0.000000\n",
      "2024-12-23 19:53:05,222 epoch 10 - iter 390/392 - loss 0.29499806 - time (sec): 32.11 - samples/sec: 6341.75 - lr: 0.100000 - momentum: 0.000000\n",
      "2024-12-23 19:53:05,387 ----------------------------------------------------------------------------------------------------\n",
      "2024-12-23 19:53:05,387 EPOCH 10 done: loss 0.2949 - lr: 0.100000\n"
     ]
    },
    {
     "name": "stderr",
     "output_type": "stream",
     "text": [
      "100%|██████████| 32/32 [00:05<00:00,  5.71it/s]\n"
     ]
    },
    {
     "name": "stdout",
     "output_type": "stream",
     "text": [
      "2024-12-23 19:53:11,144 DEV : loss 0.19409359991550446 - f1-score (micro avg)  0.9322\n",
      "2024-12-23 19:53:11,223  - 0 epochs without improvement\n",
      "2024-12-23 19:53:11,224 saving best model\n",
      "2024-12-23 19:53:13,951 ----------------------------------------------------------------------------------------------------\n",
      "2024-12-23 19:53:17,358 epoch 11 - iter 39/392 - loss 0.28886068 - time (sec): 3.41 - samples/sec: 6071.67 - lr: 0.100000 - momentum: 0.000000\n",
      "2024-12-23 19:53:20,550 epoch 11 - iter 78/392 - loss 0.28170338 - time (sec): 6.60 - samples/sec: 6262.69 - lr: 0.100000 - momentum: 0.000000\n",
      "2024-12-23 19:53:23,759 epoch 11 - iter 117/392 - loss 0.28094168 - time (sec): 9.81 - samples/sec: 6272.71 - lr: 0.100000 - momentum: 0.000000\n",
      "2024-12-23 19:53:26,898 epoch 11 - iter 156/392 - loss 0.28366355 - time (sec): 12.95 - samples/sec: 6329.83 - lr: 0.100000 - momentum: 0.000000\n",
      "2024-12-23 19:53:29,845 epoch 11 - iter 195/392 - loss 0.28376055 - time (sec): 15.89 - samples/sec: 6376.97 - lr: 0.100000 - momentum: 0.000000\n",
      "2024-12-23 19:53:33,048 epoch 11 - iter 234/392 - loss 0.28402246 - time (sec): 19.10 - samples/sec: 6380.87 - lr: 0.100000 - momentum: 0.000000\n",
      "2024-12-23 19:53:36,500 epoch 11 - iter 273/392 - loss 0.28503823 - time (sec): 22.55 - samples/sec: 6317.83 - lr: 0.100000 - momentum: 0.000000\n",
      "2024-12-23 19:53:39,813 epoch 11 - iter 312/392 - loss 0.28436252 - time (sec): 25.86 - samples/sec: 6276.47 - lr: 0.100000 - momentum: 0.000000\n",
      "2024-12-23 19:53:43,076 epoch 11 - iter 351/392 - loss 0.28561580 - time (sec): 29.12 - samples/sec: 6265.80 - lr: 0.100000 - momentum: 0.000000\n",
      "2024-12-23 19:53:46,532 epoch 11 - iter 390/392 - loss 0.28602394 - time (sec): 32.58 - samples/sec: 6245.90 - lr: 0.100000 - momentum: 0.000000\n",
      "2024-12-23 19:53:46,717 ----------------------------------------------------------------------------------------------------\n",
      "2024-12-23 19:53:46,718 EPOCH 11 done: loss 0.2861 - lr: 0.100000\n"
     ]
    },
    {
     "name": "stderr",
     "output_type": "stream",
     "text": [
      "100%|██████████| 32/32 [00:05<00:00,  5.63it/s]\n"
     ]
    },
    {
     "name": "stdout",
     "output_type": "stream",
     "text": [
      "2024-12-23 19:53:52,555 DEV : loss 0.1906507909297943 - f1-score (micro avg)  0.9335\n",
      "2024-12-23 19:53:52,627  - 0 epochs without improvement\n",
      "2024-12-23 19:53:52,628 saving best model\n",
      "2024-12-23 19:53:55,157 ----------------------------------------------------------------------------------------------------\n",
      "2024-12-23 19:53:58,504 epoch 12 - iter 39/392 - loss 0.27479031 - time (sec): 3.34 - samples/sec: 6180.91 - lr: 0.100000 - momentum: 0.000000\n",
      "2024-12-23 19:54:01,878 epoch 12 - iter 78/392 - loss 0.28070590 - time (sec): 6.72 - samples/sec: 6083.10 - lr: 0.100000 - momentum: 0.000000\n",
      "2024-12-23 19:54:05,294 epoch 12 - iter 117/392 - loss 0.28150503 - time (sec): 10.14 - samples/sec: 6068.79 - lr: 0.100000 - momentum: 0.000000\n",
      "2024-12-23 19:54:08,534 epoch 12 - iter 156/392 - loss 0.28279206 - time (sec): 13.37 - samples/sec: 6141.47 - lr: 0.100000 - momentum: 0.000000\n",
      "2024-12-23 19:54:11,783 epoch 12 - iter 195/392 - loss 0.28074330 - time (sec): 16.62 - samples/sec: 6154.56 - lr: 0.100000 - momentum: 0.000000\n",
      "2024-12-23 19:54:15,071 epoch 12 - iter 234/392 - loss 0.28084311 - time (sec): 19.91 - samples/sec: 6178.02 - lr: 0.100000 - momentum: 0.000000\n",
      "2024-12-23 19:54:18,149 epoch 12 - iter 273/392 - loss 0.27975059 - time (sec): 22.99 - samples/sec: 6212.67 - lr: 0.100000 - momentum: 0.000000\n",
      "2024-12-23 19:54:21,325 epoch 12 - iter 312/392 - loss 0.28059789 - time (sec): 26.17 - samples/sec: 6219.80 - lr: 0.100000 - momentum: 0.000000\n",
      "2024-12-23 19:54:24,486 epoch 12 - iter 351/392 - loss 0.28082370 - time (sec): 29.33 - samples/sec: 6244.73 - lr: 0.100000 - momentum: 0.000000\n",
      "2024-12-23 19:54:27,731 epoch 12 - iter 390/392 - loss 0.28077839 - time (sec): 32.57 - samples/sec: 6245.09 - lr: 0.100000 - momentum: 0.000000\n",
      "2024-12-23 19:54:27,996 ----------------------------------------------------------------------------------------------------\n",
      "2024-12-23 19:54:27,997 EPOCH 12 done: loss 0.2808 - lr: 0.100000\n"
     ]
    },
    {
     "name": "stderr",
     "output_type": "stream",
     "text": [
      "100%|██████████| 32/32 [00:05<00:00,  5.75it/s]\n"
     ]
    },
    {
     "name": "stdout",
     "output_type": "stream",
     "text": [
      "2024-12-23 19:54:33,715 DEV : loss 0.18519853055477142 - f1-score (micro avg)  0.934\n",
      "2024-12-23 19:54:33,793  - 0 epochs without improvement\n",
      "2024-12-23 19:54:33,796 saving best model\n",
      "2024-12-23 19:54:36,419 ----------------------------------------------------------------------------------------------------\n",
      "2024-12-23 19:54:39,557 epoch 13 - iter 39/392 - loss 0.27368343 - time (sec): 3.14 - samples/sec: 6356.92 - lr: 0.100000 - momentum: 0.000000\n",
      "2024-12-23 19:54:42,677 epoch 13 - iter 78/392 - loss 0.27290929 - time (sec): 6.26 - samples/sec: 6413.38 - lr: 0.100000 - momentum: 0.000000\n",
      "2024-12-23 19:54:45,689 epoch 13 - iter 117/392 - loss 0.27273682 - time (sec): 9.27 - samples/sec: 6493.82 - lr: 0.100000 - momentum: 0.000000\n",
      "2024-12-23 19:54:48,992 epoch 13 - iter 156/392 - loss 0.27424522 - time (sec): 12.57 - samples/sec: 6407.62 - lr: 0.100000 - momentum: 0.000000\n",
      "2024-12-23 19:54:52,295 epoch 13 - iter 195/392 - loss 0.27237195 - time (sec): 15.87 - samples/sec: 6364.55 - lr: 0.100000 - momentum: 0.000000\n",
      "2024-12-23 19:54:55,488 epoch 13 - iter 234/392 - loss 0.27414258 - time (sec): 19.07 - samples/sec: 6367.71 - lr: 0.100000 - momentum: 0.000000\n",
      "2024-12-23 19:54:58,692 epoch 13 - iter 273/392 - loss 0.27455420 - time (sec): 22.27 - samples/sec: 6355.87 - lr: 0.100000 - momentum: 0.000000\n",
      "2024-12-23 19:55:01,895 epoch 13 - iter 312/392 - loss 0.27549869 - time (sec): 25.48 - samples/sec: 6350.48 - lr: 0.100000 - momentum: 0.000000\n",
      "2024-12-23 19:55:04,998 epoch 13 - iter 351/392 - loss 0.27505134 - time (sec): 28.58 - samples/sec: 6390.35 - lr: 0.100000 - momentum: 0.000000\n",
      "2024-12-23 19:55:08,095 epoch 13 - iter 390/392 - loss 0.27542852 - time (sec): 31.67 - samples/sec: 6424.40 - lr: 0.100000 - momentum: 0.000000\n",
      "2024-12-23 19:55:08,259 ----------------------------------------------------------------------------------------------------\n",
      "2024-12-23 19:55:08,260 EPOCH 13 done: loss 0.2752 - lr: 0.100000\n"
     ]
    },
    {
     "name": "stderr",
     "output_type": "stream",
     "text": [
      "100%|██████████| 32/32 [00:05<00:00,  5.87it/s]\n"
     ]
    },
    {
     "name": "stdout",
     "output_type": "stream",
     "text": [
      "2024-12-23 19:55:13,855 DEV : loss 0.1898343414068222 - f1-score (micro avg)  0.9347\n",
      "2024-12-23 19:55:13,932  - 0 epochs without improvement\n",
      "2024-12-23 19:55:13,933 saving best model\n",
      "2024-12-23 19:55:16,454 ----------------------------------------------------------------------------------------------------\n",
      "2024-12-23 19:55:19,613 epoch 14 - iter 39/392 - loss 0.27678521 - time (sec): 3.16 - samples/sec: 6355.96 - lr: 0.100000 - momentum: 0.000000\n",
      "2024-12-23 19:55:22,876 epoch 14 - iter 78/392 - loss 0.27589582 - time (sec): 6.42 - samples/sec: 6375.73 - lr: 0.100000 - momentum: 0.000000\n",
      "2024-12-23 19:55:25,890 epoch 14 - iter 117/392 - loss 0.27117743 - time (sec): 9.44 - samples/sec: 6423.75 - lr: 0.100000 - momentum: 0.000000\n",
      "2024-12-23 19:55:29,003 epoch 14 - iter 156/392 - loss 0.27100392 - time (sec): 12.55 - samples/sec: 6456.31 - lr: 0.100000 - momentum: 0.000000\n",
      "2024-12-23 19:55:32,179 epoch 14 - iter 195/392 - loss 0.27250116 - time (sec): 15.72 - samples/sec: 6447.09 - lr: 0.100000 - momentum: 0.000000\n",
      "2024-12-23 19:55:35,354 epoch 14 - iter 234/392 - loss 0.27468597 - time (sec): 18.90 - samples/sec: 6458.04 - lr: 0.100000 - momentum: 0.000000\n",
      "2024-12-23 19:55:38,668 epoch 14 - iter 273/392 - loss 0.27371644 - time (sec): 22.21 - samples/sec: 6419.39 - lr: 0.100000 - momentum: 0.000000\n",
      "2024-12-23 19:55:42,026 epoch 14 - iter 312/392 - loss 0.27416904 - time (sec): 25.57 - samples/sec: 6372.45 - lr: 0.100000 - momentum: 0.000000\n",
      "2024-12-23 19:55:45,120 epoch 14 - iter 351/392 - loss 0.27368357 - time (sec): 28.66 - samples/sec: 6375.60 - lr: 0.100000 - momentum: 0.000000\n",
      "2024-12-23 19:55:48,461 epoch 14 - iter 390/392 - loss 0.27366169 - time (sec): 32.01 - samples/sec: 6355.08 - lr: 0.100000 - momentum: 0.000000\n",
      "2024-12-23 19:55:48,624 ----------------------------------------------------------------------------------------------------\n",
      "2024-12-23 19:55:48,625 EPOCH 14 done: loss 0.2737 - lr: 0.100000\n"
     ]
    },
    {
     "name": "stderr",
     "output_type": "stream",
     "text": [
      "100%|██████████| 32/32 [00:05<00:00,  5.77it/s]\n"
     ]
    },
    {
     "name": "stdout",
     "output_type": "stream",
     "text": [
      "2024-12-23 19:55:54,320 DEV : loss 0.18009719252586365 - f1-score (micro avg)  0.9379\n",
      "2024-12-23 19:55:54,396  - 0 epochs without improvement\n",
      "2024-12-23 19:55:54,397 saving best model\n",
      "2024-12-23 19:56:04,782 ----------------------------------------------------------------------------------------------------\n",
      "2024-12-23 19:56:08,091 epoch 15 - iter 39/392 - loss 0.25333667 - time (sec): 3.31 - samples/sec: 6076.44 - lr: 0.100000 - momentum: 0.000000\n",
      "2024-12-23 19:56:11,361 epoch 15 - iter 78/392 - loss 0.26230294 - time (sec): 6.58 - samples/sec: 6179.34 - lr: 0.100000 - momentum: 0.000000\n",
      "2024-12-23 19:56:14,521 epoch 15 - iter 117/392 - loss 0.26772160 - time (sec): 9.74 - samples/sec: 6253.89 - lr: 0.100000 - momentum: 0.000000\n",
      "2024-12-23 19:56:17,608 epoch 15 - iter 156/392 - loss 0.26584780 - time (sec): 12.83 - samples/sec: 6320.53 - lr: 0.100000 - momentum: 0.000000\n",
      "2024-12-23 19:56:20,836 epoch 15 - iter 195/392 - loss 0.26832465 - time (sec): 16.05 - samples/sec: 6298.11 - lr: 0.100000 - momentum: 0.000000\n",
      "2024-12-23 19:56:23,953 epoch 15 - iter 234/392 - loss 0.26810515 - time (sec): 19.17 - samples/sec: 6334.85 - lr: 0.100000 - momentum: 0.000000\n",
      "2024-12-23 19:56:27,166 epoch 15 - iter 273/392 - loss 0.26649593 - time (sec): 22.38 - samples/sec: 6363.78 - lr: 0.100000 - momentum: 0.000000\n",
      "2024-12-23 19:56:30,260 epoch 15 - iter 312/392 - loss 0.26663096 - time (sec): 25.48 - samples/sec: 6388.69 - lr: 0.100000 - momentum: 0.000000\n",
      "2024-12-23 19:56:33,510 epoch 15 - iter 351/392 - loss 0.26668336 - time (sec): 28.73 - samples/sec: 6360.42 - lr: 0.100000 - momentum: 0.000000\n",
      "2024-12-23 19:56:36,874 epoch 15 - iter 390/392 - loss 0.26686933 - time (sec): 32.09 - samples/sec: 6340.98 - lr: 0.100000 - momentum: 0.000000\n",
      "2024-12-23 19:56:37,032 ----------------------------------------------------------------------------------------------------\n",
      "2024-12-23 19:56:37,033 EPOCH 15 done: loss 0.2669 - lr: 0.100000\n"
     ]
    },
    {
     "name": "stderr",
     "output_type": "stream",
     "text": [
      "100%|██████████| 32/32 [00:05<00:00,  5.59it/s]\n"
     ]
    },
    {
     "name": "stdout",
     "output_type": "stream",
     "text": [
      "2024-12-23 19:56:42,927 DEV : loss 0.17876018583774567 - f1-score (micro avg)  0.937\n",
      "2024-12-23 19:56:43,001  - 1 epochs without improvement\n",
      "2024-12-23 19:56:43,002 ----------------------------------------------------------------------------------------------------\n",
      "2024-12-23 19:56:46,333 epoch 16 - iter 39/392 - loss 0.25941995 - time (sec): 3.33 - samples/sec: 6178.11 - lr: 0.100000 - momentum: 0.000000\n",
      "2024-12-23 19:56:49,333 epoch 16 - iter 78/392 - loss 0.26068452 - time (sec): 6.33 - samples/sec: 6408.45 - lr: 0.100000 - momentum: 0.000000\n",
      "2024-12-23 19:56:52,563 epoch 16 - iter 117/392 - loss 0.25919626 - time (sec): 9.56 - samples/sec: 6354.06 - lr: 0.100000 - momentum: 0.000000\n",
      "2024-12-23 19:56:55,708 epoch 16 - iter 156/392 - loss 0.26110809 - time (sec): 12.70 - samples/sec: 6404.14 - lr: 0.100000 - momentum: 0.000000\n",
      "2024-12-23 19:56:59,140 epoch 16 - iter 195/392 - loss 0.26249135 - time (sec): 16.14 - samples/sec: 6333.92 - lr: 0.100000 - momentum: 0.000000\n",
      "2024-12-23 19:57:02,423 epoch 16 - iter 234/392 - loss 0.26260283 - time (sec): 19.42 - samples/sec: 6324.85 - lr: 0.100000 - momentum: 0.000000\n",
      "2024-12-23 19:57:05,501 epoch 16 - iter 273/392 - loss 0.26166633 - time (sec): 22.50 - samples/sec: 6348.50 - lr: 0.100000 - momentum: 0.000000\n",
      "2024-12-23 19:57:08,673 epoch 16 - iter 312/392 - loss 0.26277401 - time (sec): 25.67 - samples/sec: 6325.22 - lr: 0.100000 - momentum: 0.000000\n",
      "2024-12-23 19:57:11,926 epoch 16 - iter 351/392 - loss 0.26199520 - time (sec): 28.92 - samples/sec: 6333.05 - lr: 0.100000 - momentum: 0.000000\n",
      "2024-12-23 19:57:15,073 epoch 16 - iter 390/392 - loss 0.26273704 - time (sec): 32.07 - samples/sec: 6349.45 - lr: 0.100000 - momentum: 0.000000\n",
      "2024-12-23 19:57:15,236 ----------------------------------------------------------------------------------------------------\n",
      "2024-12-23 19:57:15,237 EPOCH 16 done: loss 0.2628 - lr: 0.100000\n"
     ]
    },
    {
     "name": "stderr",
     "output_type": "stream",
     "text": [
      "100%|██████████| 32/32 [00:05<00:00,  5.62it/s]\n"
     ]
    },
    {
     "name": "stdout",
     "output_type": "stream",
     "text": [
      "2024-12-23 19:57:21,077 DEV : loss 0.17664431035518646 - f1-score (micro avg)  0.9376\n",
      "2024-12-23 19:57:21,152  - 2 epochs without improvement\n",
      "2024-12-23 19:57:21,153 ----------------------------------------------------------------------------------------------------\n",
      "2024-12-23 19:57:24,124 epoch 17 - iter 39/392 - loss 0.25448029 - time (sec): 2.97 - samples/sec: 6770.18 - lr: 0.100000 - momentum: 0.000000\n",
      "2024-12-23 19:57:27,520 epoch 17 - iter 78/392 - loss 0.25449905 - time (sec): 6.37 - samples/sec: 6495.07 - lr: 0.100000 - momentum: 0.000000\n",
      "2024-12-23 19:57:30,794 epoch 17 - iter 117/392 - loss 0.25305177 - time (sec): 9.64 - samples/sec: 6440.16 - lr: 0.100000 - momentum: 0.000000\n",
      "2024-12-23 19:57:33,889 epoch 17 - iter 156/392 - loss 0.25554102 - time (sec): 12.74 - samples/sec: 6474.92 - lr: 0.100000 - momentum: 0.000000\n",
      "2024-12-23 19:57:37,437 epoch 17 - iter 195/392 - loss 0.25688425 - time (sec): 16.28 - samples/sec: 6300.23 - lr: 0.100000 - momentum: 0.000000\n",
      "2024-12-23 19:57:40,973 epoch 17 - iter 234/392 - loss 0.25569841 - time (sec): 19.82 - samples/sec: 6181.96 - lr: 0.100000 - momentum: 0.000000\n",
      "2024-12-23 19:57:44,209 epoch 17 - iter 273/392 - loss 0.25634954 - time (sec): 23.05 - samples/sec: 6184.07 - lr: 0.100000 - momentum: 0.000000\n",
      "2024-12-23 19:57:47,514 epoch 17 - iter 312/392 - loss 0.25697020 - time (sec): 26.36 - samples/sec: 6176.48 - lr: 0.100000 - momentum: 0.000000\n",
      "2024-12-23 19:57:50,742 epoch 17 - iter 351/392 - loss 0.25674281 - time (sec): 29.59 - samples/sec: 6195.81 - lr: 0.100000 - momentum: 0.000000\n",
      "2024-12-23 19:57:53,993 epoch 17 - iter 390/392 - loss 0.25850040 - time (sec): 32.84 - samples/sec: 6198.67 - lr: 0.100000 - momentum: 0.000000\n",
      "2024-12-23 19:57:54,159 ----------------------------------------------------------------------------------------------------\n",
      "2024-12-23 19:57:54,160 EPOCH 17 done: loss 0.2584 - lr: 0.100000\n"
     ]
    },
    {
     "name": "stderr",
     "output_type": "stream",
     "text": [
      "100%|██████████| 32/32 [00:05<00:00,  5.55it/s]\n"
     ]
    },
    {
     "name": "stdout",
     "output_type": "stream",
     "text": [
      "2024-12-23 19:58:00,075 DEV : loss 0.1730543076992035 - f1-score (micro avg)  0.9394\n",
      "2024-12-23 19:58:00,150  - 0 epochs without improvement\n",
      "2024-12-23 19:58:00,151 saving best model\n",
      "2024-12-23 19:58:03,924 ----------------------------------------------------------------------------------------------------\n",
      "2024-12-23 19:58:07,218 epoch 18 - iter 39/392 - loss 0.24934264 - time (sec): 3.29 - samples/sec: 6116.61 - lr: 0.100000 - momentum: 0.000000\n",
      "2024-12-23 19:58:10,486 epoch 18 - iter 78/392 - loss 0.25614789 - time (sec): 6.56 - samples/sec: 6212.28 - lr: 0.100000 - momentum: 0.000000\n",
      "2024-12-23 19:58:13,673 epoch 18 - iter 117/392 - loss 0.25601889 - time (sec): 9.75 - samples/sec: 6272.37 - lr: 0.100000 - momentum: 0.000000\n",
      "2024-12-23 19:58:16,839 epoch 18 - iter 156/392 - loss 0.25316020 - time (sec): 12.91 - samples/sec: 6355.39 - lr: 0.100000 - momentum: 0.000000\n",
      "2024-12-23 19:58:19,974 epoch 18 - iter 195/392 - loss 0.25271520 - time (sec): 16.05 - samples/sec: 6401.71 - lr: 0.100000 - momentum: 0.000000\n",
      "2024-12-23 19:58:23,034 epoch 18 - iter 234/392 - loss 0.25269434 - time (sec): 19.11 - samples/sec: 6423.61 - lr: 0.100000 - momentum: 0.000000\n",
      "2024-12-23 19:58:26,081 epoch 18 - iter 273/392 - loss 0.25467792 - time (sec): 22.16 - samples/sec: 6450.95 - lr: 0.100000 - momentum: 0.000000\n",
      "2024-12-23 19:58:29,034 epoch 18 - iter 312/392 - loss 0.25483200 - time (sec): 25.11 - samples/sec: 6480.14 - lr: 0.100000 - momentum: 0.000000\n",
      "2024-12-23 19:58:32,286 epoch 18 - iter 351/392 - loss 0.25556170 - time (sec): 28.36 - samples/sec: 6486.01 - lr: 0.100000 - momentum: 0.000000\n",
      "2024-12-23 19:58:35,316 epoch 18 - iter 390/392 - loss 0.25602778 - time (sec): 31.39 - samples/sec: 6486.82 - lr: 0.100000 - momentum: 0.000000\n",
      "2024-12-23 19:58:35,466 ----------------------------------------------------------------------------------------------------\n",
      "2024-12-23 19:58:35,467 EPOCH 18 done: loss 0.2560 - lr: 0.100000\n"
     ]
    },
    {
     "name": "stderr",
     "output_type": "stream",
     "text": [
      "100%|██████████| 32/32 [00:05<00:00,  5.54it/s]\n"
     ]
    },
    {
     "name": "stdout",
     "output_type": "stream",
     "text": [
      "2024-12-23 19:58:41,388 DEV : loss 0.17315025627613068 - f1-score (micro avg)  0.9394\n",
      "2024-12-23 19:58:41,466  - 1 epochs without improvement\n",
      "2024-12-23 19:58:41,468 ----------------------------------------------------------------------------------------------------\n",
      "2024-12-23 19:58:44,806 epoch 19 - iter 39/392 - loss 0.25078310 - time (sec): 3.34 - samples/sec: 6210.39 - lr: 0.100000 - momentum: 0.000000\n",
      "2024-12-23 19:58:47,965 epoch 19 - iter 78/392 - loss 0.25451906 - time (sec): 6.50 - samples/sec: 6236.06 - lr: 0.100000 - momentum: 0.000000\n",
      "2024-12-23 19:58:51,248 epoch 19 - iter 117/392 - loss 0.25514699 - time (sec): 9.78 - samples/sec: 6273.22 - lr: 0.100000 - momentum: 0.000000\n",
      "2024-12-23 19:58:54,461 epoch 19 - iter 156/392 - loss 0.25481205 - time (sec): 12.99 - samples/sec: 6327.81 - lr: 0.100000 - momentum: 0.000000\n",
      "2024-12-23 19:58:57,613 epoch 19 - iter 195/392 - loss 0.25390118 - time (sec): 16.14 - samples/sec: 6336.93 - lr: 0.100000 - momentum: 0.000000\n",
      "2024-12-23 19:59:00,736 epoch 19 - iter 234/392 - loss 0.25447720 - time (sec): 19.27 - samples/sec: 6350.40 - lr: 0.100000 - momentum: 0.000000\n",
      "2024-12-23 19:59:03,960 epoch 19 - iter 273/392 - loss 0.25461729 - time (sec): 22.49 - samples/sec: 6349.32 - lr: 0.100000 - momentum: 0.000000\n",
      "2024-12-23 19:59:07,023 epoch 19 - iter 312/392 - loss 0.25433042 - time (sec): 25.55 - samples/sec: 6370.42 - lr: 0.100000 - momentum: 0.000000\n",
      "2024-12-23 19:59:10,211 epoch 19 - iter 351/392 - loss 0.25343900 - time (sec): 28.74 - samples/sec: 6365.96 - lr: 0.100000 - momentum: 0.000000\n",
      "2024-12-23 19:59:13,293 epoch 19 - iter 390/392 - loss 0.25336175 - time (sec): 31.82 - samples/sec: 6391.59 - lr: 0.100000 - momentum: 0.000000\n",
      "2024-12-23 19:59:13,511 ----------------------------------------------------------------------------------------------------\n",
      "2024-12-23 19:59:13,511 EPOCH 19 done: loss 0.2533 - lr: 0.100000\n"
     ]
    },
    {
     "name": "stderr",
     "output_type": "stream",
     "text": [
      "100%|██████████| 32/32 [00:05<00:00,  5.59it/s]\n"
     ]
    },
    {
     "name": "stdout",
     "output_type": "stream",
     "text": [
      "2024-12-23 19:59:19,384 DEV : loss 0.17343628406524658 - f1-score (micro avg)  0.939\n",
      "2024-12-23 19:59:19,463  - 2 epochs without improvement\n",
      "2024-12-23 19:59:19,464 ----------------------------------------------------------------------------------------------------\n",
      "2024-12-23 19:59:22,788 epoch 20 - iter 39/392 - loss 0.24194206 - time (sec): 3.32 - samples/sec: 6065.77 - lr: 0.100000 - momentum: 0.000000\n",
      "2024-12-23 19:59:25,852 epoch 20 - iter 78/392 - loss 0.24166598 - time (sec): 6.39 - samples/sec: 6297.32 - lr: 0.100000 - momentum: 0.000000\n",
      "2024-12-23 19:59:33,600 epoch 20 - iter 117/392 - loss 0.24486228 - time (sec): 14.14 - samples/sec: 4328.29 - lr: 0.100000 - momentum: 0.000000\n",
      "2024-12-23 19:59:36,416 epoch 20 - iter 156/392 - loss 0.24629523 - time (sec): 16.95 - samples/sec: 4749.62 - lr: 0.100000 - momentum: 0.000000\n",
      "2024-12-23 19:59:39,609 epoch 20 - iter 195/392 - loss 0.24554180 - time (sec): 20.14 - samples/sec: 5027.78 - lr: 0.100000 - momentum: 0.000000\n",
      "2024-12-23 19:59:42,861 epoch 20 - iter 234/392 - loss 0.24530676 - time (sec): 23.40 - samples/sec: 5192.22 - lr: 0.100000 - momentum: 0.000000\n",
      "2024-12-23 19:59:46,131 epoch 20 - iter 273/392 - loss 0.24607747 - time (sec): 26.67 - samples/sec: 5325.98 - lr: 0.100000 - momentum: 0.000000\n",
      "2024-12-23 19:59:49,485 epoch 20 - iter 312/392 - loss 0.24733497 - time (sec): 30.02 - samples/sec: 5421.45 - lr: 0.100000 - momentum: 0.000000\n",
      "2024-12-23 19:59:52,713 epoch 20 - iter 351/392 - loss 0.24675515 - time (sec): 33.25 - samples/sec: 5514.82 - lr: 0.100000 - momentum: 0.000000\n",
      "2024-12-23 19:59:55,823 epoch 20 - iter 390/392 - loss 0.24722446 - time (sec): 36.36 - samples/sec: 5601.60 - lr: 0.100000 - momentum: 0.000000\n",
      "2024-12-23 19:59:55,981 ----------------------------------------------------------------------------------------------------\n",
      "2024-12-23 19:59:55,982 EPOCH 20 done: loss 0.2474 - lr: 0.100000\n"
     ]
    },
    {
     "name": "stderr",
     "output_type": "stream",
     "text": [
      "100%|██████████| 32/32 [00:05<00:00,  5.62it/s]\n"
     ]
    },
    {
     "name": "stdout",
     "output_type": "stream",
     "text": [
      "2024-12-23 20:00:01,828 DEV : loss 0.1658647358417511 - f1-score (micro avg)  0.9444\n",
      "2024-12-23 20:00:01,901  - 0 epochs without improvement\n",
      "2024-12-23 20:00:01,902 saving best model\n",
      "2024-12-23 20:00:07,138 ----------------------------------------------------------------------------------------------------\n",
      "2024-12-23 20:00:07,140 Loading model from best epoch ...\n",
      "2024-12-23 20:00:15,977 SequenceTagger predicts: Dictionary with 19 tags: NOUN, PROPN, PUNCT, VERB, ADP, PRON, ADJ, NUM, DET, CCONJ, ADV, AUX, SCONJ, PART, SYM, X, INTJ, <START>, <STOP>\n"
     ]
    },
    {
     "name": "stderr",
     "output_type": "stream",
     "text": [
      "100%|██████████| 33/33 [00:04<00:00,  6.76it/s]\n"
     ]
    },
    {
     "name": "stdout",
     "output_type": "stream",
     "text": [
      "2024-12-23 20:00:22,109 \n",
      "Results:\n",
      "- F-score (micro) 0.9409\n",
      "- F-score (macro) 0.871\n",
      "- Accuracy 0.9409\n",
      "\n",
      "By class:\n",
      "              precision    recall  f1-score   support\n",
      "\n",
      "        NOUN     0.9122    0.9149    0.9135      4123\n",
      "       PUNCT     0.9755    0.9890    0.9822      3096\n",
      "        VERB     0.9441    0.9539    0.9490      2605\n",
      "        PRON     0.9807    0.9866    0.9837      2165\n",
      "       PROPN     0.8654    0.8613    0.8634      2076\n",
      "         ADP     0.9449    0.9709    0.9577      2030\n",
      "         DET     0.9722    0.9947    0.9833      1896\n",
      "         ADJ     0.9124    0.8829    0.8975      1794\n",
      "         AUX     0.9763    0.9857    0.9810      1543\n",
      "         ADV     0.9235    0.8977    0.9104      1183\n",
      "       CCONJ     0.9919    0.9932    0.9925       736\n",
      "        PART     0.9327    0.9615    0.9469       649\n",
      "         NUM     0.9738    0.8911    0.9306       542\n",
      "       SCONJ     0.9078    0.8464    0.8760       384\n",
      "        INTJ     0.9340    0.8182    0.8722       121\n",
      "         SYM     0.7941    0.7431    0.7678       109\n",
      "           X     0.0000    0.0000    0.0000        42\n",
      "\n",
      "    accuracy                         0.9409     25094\n",
      "   macro avg     0.8789    0.8642    0.8710     25094\n",
      "weighted avg     0.9392    0.9409    0.9399     25094\n",
      "\n",
      "2024-12-23 20:00:22,110 ----------------------------------------------------------------------------------------------------\n"
     ]
    },
    {
     "data": {
      "text/plain": [
       "{'test_score': 0.9408623575356659}"
      ]
     },
     "execution_count": 23,
     "metadata": {},
     "output_type": "execute_result"
    }
   ],
   "source": [
    "trainer.train('resources/taggers/stacked-upos-en',\n",
    "              learning_rate=0.1,\n",
    "              mini_batch_size=32,\n",
    "              max_epochs=20)"
   ]
  },
  {
   "cell_type": "code",
   "execution_count": 24,
   "metadata": {},
   "outputs": [
    {
     "name": "stdout",
     "output_type": "stream",
     "text": [
      "2024-12-23 20:13:12,324 SequenceTagger predicts: Dictionary with 19 tags: NOUN, PROPN, PUNCT, VERB, ADP, PRON, ADJ, NUM, DET, CCONJ, ADV, AUX, SCONJ, PART, SYM, X, INTJ, <START>, <STOP>\n",
      "Sentence[18]: \"gamis pria dewasa premium / jubah pakistan polos | premium adult men's robe / plain pakistani robe\" → [\"gamis\"/ADJ, \"pria\"/NOUN, \"dewasa\"/NOUN, \"premium\"/NOUN, \"/\"/SYM, \"jubah\"/NOUN, \"pakistan\"/ADJ, \"polos\"/NOUN, \"|\"/PUNCT, \"premium\"/ADJ, \"adult\"/ADJ, \"men\"/NOUN, \"'s\"/PART, \"robe\"/VERB, \"/\"/SYM, \"plain\"/ADJ, \"pakistani\"/ADJ, \"robe\"/NOUN]\n"
     ]
    }
   ],
   "source": [
    "from flair.data import Sentence\n",
    "text = \"Gamis Pria Dewasa Premium / Jubah Pakistan Polos | Premium Adult Men's Robe / Plain Pakistani Robe\".lower()\n",
    "sentence = Sentence(text)\n",
    "tag_pos = SequenceTagger.load('resources/taggers/stacked-upos-en/best-model.pt')\n",
    "tag_pos.predict(sentence)\n",
    "print(sentence.to_tagged_string())"
   ]
  },
  {
   "cell_type": "code",
   "execution_count": 25,
   "metadata": {},
   "outputs": [
    {
     "name": "stdout",
     "output_type": "stream",
     "text": [
      "gamis (ADJ)\n",
      "pria (NOUN)\n",
      "dewasa (NOUN)\n",
      "premium (NOUN)\n",
      "/ (SYM)\n",
      "jubah (NOUN)\n",
      "pakistan (ADJ)\n",
      "polos (NOUN)\n",
      "| (PUNCT)\n",
      "premium (ADJ)\n",
      "adult (ADJ)\n",
      "men (NOUN)\n",
      "'s (PART)\n",
      "robe (VERB)\n",
      "/ (SYM)\n",
      "plain (ADJ)\n",
      "pakistani (ADJ)\n",
      "robe (NOUN)\n"
     ]
    }
   ],
   "source": [
    "for token in sentence:\n",
    "    print(f\"{token.text} ({token.get_label('upos').value})\")"
   ]
  }
 ],
 "metadata": {
  "kernelspec": {
   "display_name": "env",
   "language": "python",
   "name": "python3"
  },
  "language_info": {
   "codemirror_mode": {
    "name": "ipython",
    "version": 3
   },
   "file_extension": ".py",
   "mimetype": "text/x-python",
   "name": "python",
   "nbconvert_exporter": "python",
   "pygments_lexer": "ipython3",
   "version": "3.10.5"
  }
 },
 "nbformat": 4,
 "nbformat_minor": 2
}
